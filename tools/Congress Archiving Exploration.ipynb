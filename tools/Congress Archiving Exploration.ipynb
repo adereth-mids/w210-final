{
 "cells": [
  {
   "cell_type": "code",
   "execution_count": 1,
   "metadata": {},
   "outputs": [],
   "source": [
    "from bs4 import BeautifulSoup\n",
    "from requests import get\n",
    "import datetime\n",
    "import os"
   ]
  },
  {
   "cell_type": "code",
   "execution_count": 33,
   "metadata": {},
   "outputs": [
    {
     "data": {
      "text/plain": [
       "datetime.datetime(2018, 6, 25, 0, 0)"
      ]
     },
     "execution_count": 33,
     "metadata": {},
     "output_type": "execute_result"
    }
   ],
   "source": [
    "d = datetime.datetime(2018, 6, 25)\n",
    "d"
   ]
  },
  {
   "cell_type": "code",
   "execution_count": 26,
   "metadata": {},
   "outputs": [
    {
     "data": {
      "text/plain": [
       "'https://www.congress.gov/congressional-record/2019/4/9/senate-section'"
      ]
     },
     "execution_count": 26,
     "metadata": {},
     "output_type": "execute_result"
    }
   ],
   "source": [
    "def congressional_record_url_for_date(date, chamber):\n",
    "    return (\"https://www.congress.gov/congressional-record/%d/%d/%d/%s-section\" % \n",
    "            (date.year, date.month, date.day, chamber))\n",
    "\n",
    "congressional_record_url_for_date(d, \"senate\")"
   ]
  },
  {
   "cell_type": "code",
   "execution_count": 27,
   "metadata": {},
   "outputs": [
    {
     "data": {
      "text/plain": [
       "['https://www.congress.gov/congressional-record/2019/04/09/senate-section/article/S2297-1',\n",
       " 'https://www.congress.gov/congressional-record/2019/04/09/senate-section/article/S2297-2',\n",
       " 'https://www.congress.gov/congressional-record/2019/04/09/senate-section/article/S2297-3']"
      ]
     },
     "execution_count": 27,
     "metadata": {},
     "output_type": "execute_result"
    }
   ],
   "source": [
    "def extract_article_urls(congressional_record_url):\n",
    "    response = get(congressional_record_url)\n",
    "    if response.status_code != 200:\n",
    "        return []\n",
    "    soup = BeautifulSoup(response.text, 'html.parser')\n",
    "    if len(soup.select(\".item_table\")) == 0:\n",
    "        return []\n",
    "    return [\"https://www.congress.gov\" + a.get('href') for a \n",
    "            in soup.select(\".item_table\")[0](\"a\") \n",
    "             if (\"article\" in a.get('href'))]\n",
    "\n",
    "sample_article_urls = extract_article_urls(congressional_record_url_for_date(d, \"senate\"))\n",
    "sample_article_urls[0:3]"
   ]
  },
  {
   "cell_type": "code",
   "execution_count": 31,
   "metadata": {},
   "outputs": [
    {
     "data": {
      "text/plain": [
       "\"\\n\\n[Page S2323]\\nFrom the Congressional Record Online through the Government Publishing Office [www.gpo.gov]\\n\\n\\n\\n\\n\\n             TRIBUTE TO LIEUTENANT COMMANDER STEVEN DAVIES\\n\\n  Mrs. HYDE-SMITH. Madam President, I am pleased to commend LCDR Steven \\nDavies for his dedication to duty and service as a U.S. Coast Guard \\ncongressional fellow on my staff. Steve was recently selected to serve \\nas executive officer of USCGC Thetis and will soon depart to fulfill \\nthat important responsibility.\\n  A native of Lebanon, PA, Steve was commissioned after his graduation \\nfrom the U.S. Coast Guard Academy, where he earned a bachelor of \\nscience degree in management, served as vice president of his class, \\nand captained the men's soccer team. He is in the process of earning a \\nmaster's degree.\\n  Steve has served in a broad range of assignments during his Coast \\nGuard career. He has served overseas in Kuwait and deployed with Patrol \\nForces Southwest Asia in support of Operations Iraqi and Enduring \\nFreedom, conducted national security missions on five ships in the \\nArabian Gulf. In addition to deployments overseas, he has served in \\nvital roles in support of U.S. security interests. As commanding \\nofficer of USCGC Sailfish, he led search and rescue operations and \\nvarious law enforcement missions in the Port of New York and New \\nJersey. As Commanding Officer of USCGC Kathleen Moore, Steve led a 26-\\nperson crew that interdicted $18 million of cocaine and nearly 700 \\nundocumented migrants attempting to reach the United States.\\n  Most recently, Steve served as the congressional fellow on my staff \\nand, prior to that, for the Honorable Senator Thad Cochran of \\nMississippi. Steve's operational experience in the Gulf of Mexico, \\nSouthwest Asia, and the Arabian Gulf, in addition to his technical \\nexpertise in counterdrug and migrant interdictions, search and rescue \\noperations, and law enforcement missions, have been pivotal in helping \\nto shape Department of Homeland Security and U.S. Coast Guard \\nappropriations for fiscal years 2018 and 2019.\\n  As a congressional fellow, he has served the State of Mississippi, \\nthe Coast Guard, and our Nation admirably. My staff and I have enjoyed \\nthe benefit of Steve's counsel and have truly enjoyed working with him. \\nSteve's leadership has brought great credit to the Coast Guard, and I \\nappreciate and commend his commitment to continue to serve our nation.\\n  It is a pleasure to recognize and thank LCDR Steve Davies for his \\nservice to this country. My staff and I extend our gratitude to Steve \\nand wish him ``Fair winds and following seas'' as he continues his \\njourney in the U.S. Coast Guard.\\n\\n                          ____________________\\n\\n\\n\\n\""
      ]
     },
     "execution_count": 31,
     "metadata": {},
     "output_type": "execute_result"
    }
   ],
   "source": [
    "def extract_text_from_article_url(article_url):\n",
    "    response = get(article_url)\n",
    "    soup = BeautifulSoup(response.text, 'html.parser')\n",
    "    return soup.select(\".txt-box\")[0].text\n",
    "\n",
    "extract_text_from_article_url(sample_article_urls[20])"
   ]
  },
  {
   "cell_type": "code",
   "execution_count": 23,
   "metadata": {},
   "outputs": [],
   "source": [
    "destination_dir = \"/home/madereth/Projects/w210-final/data/raw/congress\"\n",
    "\n",
    "def archive_articles(date, chamber):\n",
    "    path = \"%s/%s/%d/%d/%d/\" % (destination_dir, chamber, date.year, date.month, date.day)\n",
    "    if not os.path.exists(path):\n",
    "        os.makedirs(path)\n",
    "        for i, u in enumerate(extract_article_urls(congressional_record_url_for_date(date, chamber))):\n",
    "            with open(path + \"{:03d}\".format(i), 'w') as f:\n",
    "                f.write(extract_text_from_article_url(u))\n"
   ]
  },
  {
   "cell_type": "code",
   "execution_count": 113,
   "metadata": {},
   "outputs": [],
   "source": []
  },
  {
   "cell_type": "code",
   "execution_count": 35,
   "metadata": {},
   "outputs": [
    {
     "data": {
      "application/vnd.jupyter.widget-view+json": {
       "model_id": "fd371f00513740e5be6a47c128610130",
       "version_major": 2,
       "version_minor": 0
      },
      "text/plain": [
       "HBox(children=(IntProgress(value=0, description='Day', max=365, style=ProgressStyle(description_width='initial…"
      ]
     },
     "metadata": {},
     "output_type": "display_data"
    },
    {
     "ename": "IndexError",
     "evalue": "list index out of range",
     "output_type": "error",
     "traceback": [
      "\u001b[0;31m---------------------------------------------------------------------------\u001b[0m",
      "\u001b[0;31mIndexError\u001b[0m                                Traceback (most recent call last)",
      "\u001b[0;32m<ipython-input-35-d2f5dd3f1468>\u001b[0m in \u001b[0;36m<module>\u001b[0;34m\u001b[0m\n\u001b[1;32m      2\u001b[0m \u001b[0;32mfrom\u001b[0m \u001b[0mtime\u001b[0m \u001b[0;32mimport\u001b[0m \u001b[0msleep\u001b[0m\u001b[0;34m\u001b[0m\u001b[0;34m\u001b[0m\u001b[0m\n\u001b[1;32m      3\u001b[0m \u001b[0;32mfor\u001b[0m \u001b[0mi\u001b[0m \u001b[0;32min\u001b[0m \u001b[0mtqdm_notebook\u001b[0m\u001b[0;34m(\u001b[0m\u001b[0mrange\u001b[0m\u001b[0;34m(\u001b[0m\u001b[0;36m365\u001b[0m\u001b[0;34m)\u001b[0m\u001b[0;34m,\u001b[0m \u001b[0mdesc\u001b[0m\u001b[0;34m=\u001b[0m\u001b[0;34m'Day'\u001b[0m\u001b[0;34m)\u001b[0m\u001b[0;34m:\u001b[0m\u001b[0;34m\u001b[0m\u001b[0;34m\u001b[0m\u001b[0m\n\u001b[0;32m----> 4\u001b[0;31m     \u001b[0marchive_articles\u001b[0m\u001b[0;34m(\u001b[0m\u001b[0md\u001b[0m \u001b[0;34m+\u001b[0m \u001b[0mdatetime\u001b[0m\u001b[0;34m.\u001b[0m\u001b[0mtimedelta\u001b[0m\u001b[0;34m(\u001b[0m\u001b[0mdays\u001b[0m\u001b[0;34m=\u001b[0m\u001b[0;34m(\u001b[0m\u001b[0;34m-\u001b[0m\u001b[0;36m1\u001b[0m \u001b[0;34m*\u001b[0m \u001b[0mi\u001b[0m\u001b[0;34m)\u001b[0m\u001b[0;34m)\u001b[0m\u001b[0;34m,\u001b[0m \u001b[0;34m\"senate\"\u001b[0m\u001b[0;34m)\u001b[0m\u001b[0;34m\u001b[0m\u001b[0;34m\u001b[0m\u001b[0m\n\u001b[0m",
      "\u001b[0;32m<ipython-input-23-0b4744eda51e>\u001b[0m in \u001b[0;36marchive_articles\u001b[0;34m(date, chamber)\u001b[0m\n\u001b[1;32m      7\u001b[0m         \u001b[0;32mfor\u001b[0m \u001b[0mi\u001b[0m\u001b[0;34m,\u001b[0m \u001b[0mu\u001b[0m \u001b[0;32min\u001b[0m \u001b[0menumerate\u001b[0m\u001b[0;34m(\u001b[0m\u001b[0mextract_article_urls\u001b[0m\u001b[0;34m(\u001b[0m\u001b[0mcongressional_record_url_for_date\u001b[0m\u001b[0;34m(\u001b[0m\u001b[0mdate\u001b[0m\u001b[0;34m,\u001b[0m \u001b[0mchamber\u001b[0m\u001b[0;34m)\u001b[0m\u001b[0;34m)\u001b[0m\u001b[0;34m)\u001b[0m\u001b[0;34m:\u001b[0m\u001b[0;34m\u001b[0m\u001b[0;34m\u001b[0m\u001b[0m\n\u001b[1;32m      8\u001b[0m             \u001b[0;32mwith\u001b[0m \u001b[0mopen\u001b[0m\u001b[0;34m(\u001b[0m\u001b[0mpath\u001b[0m \u001b[0;34m+\u001b[0m \u001b[0;34m\"{:03d}\"\u001b[0m\u001b[0;34m.\u001b[0m\u001b[0mformat\u001b[0m\u001b[0;34m(\u001b[0m\u001b[0mi\u001b[0m\u001b[0;34m)\u001b[0m\u001b[0;34m,\u001b[0m \u001b[0;34m'w'\u001b[0m\u001b[0;34m)\u001b[0m \u001b[0;32mas\u001b[0m \u001b[0mf\u001b[0m\u001b[0;34m:\u001b[0m\u001b[0;34m\u001b[0m\u001b[0;34m\u001b[0m\u001b[0m\n\u001b[0;32m----> 9\u001b[0;31m                 \u001b[0mf\u001b[0m\u001b[0;34m.\u001b[0m\u001b[0mwrite\u001b[0m\u001b[0;34m(\u001b[0m\u001b[0mextract_text_from_article_url\u001b[0m\u001b[0;34m(\u001b[0m\u001b[0mu\u001b[0m\u001b[0;34m)\u001b[0m\u001b[0;34m)\u001b[0m\u001b[0;34m\u001b[0m\u001b[0;34m\u001b[0m\u001b[0m\n\u001b[0m",
      "\u001b[0;32m<ipython-input-31-235eb4a1af55>\u001b[0m in \u001b[0;36mextract_text_from_article_url\u001b[0;34m(article_url)\u001b[0m\n\u001b[1;32m      2\u001b[0m     \u001b[0mresponse\u001b[0m \u001b[0;34m=\u001b[0m \u001b[0mget\u001b[0m\u001b[0;34m(\u001b[0m\u001b[0marticle_url\u001b[0m\u001b[0;34m)\u001b[0m\u001b[0;34m\u001b[0m\u001b[0;34m\u001b[0m\u001b[0m\n\u001b[1;32m      3\u001b[0m     \u001b[0msoup\u001b[0m \u001b[0;34m=\u001b[0m \u001b[0mBeautifulSoup\u001b[0m\u001b[0;34m(\u001b[0m\u001b[0mresponse\u001b[0m\u001b[0;34m.\u001b[0m\u001b[0mtext\u001b[0m\u001b[0;34m,\u001b[0m \u001b[0;34m'html.parser'\u001b[0m\u001b[0;34m)\u001b[0m\u001b[0;34m\u001b[0m\u001b[0;34m\u001b[0m\u001b[0m\n\u001b[0;32m----> 4\u001b[0;31m     \u001b[0;32mreturn\u001b[0m \u001b[0msoup\u001b[0m\u001b[0;34m.\u001b[0m\u001b[0mselect\u001b[0m\u001b[0;34m(\u001b[0m\u001b[0;34m\".txt-box\"\u001b[0m\u001b[0;34m)\u001b[0m\u001b[0;34m[\u001b[0m\u001b[0;36m0\u001b[0m\u001b[0;34m]\u001b[0m\u001b[0;34m.\u001b[0m\u001b[0mtext\u001b[0m\u001b[0;34m\u001b[0m\u001b[0;34m\u001b[0m\u001b[0m\n\u001b[0m\u001b[1;32m      5\u001b[0m \u001b[0;34m\u001b[0m\u001b[0m\n\u001b[1;32m      6\u001b[0m \u001b[0mextract_text_from_article_url\u001b[0m\u001b[0;34m(\u001b[0m\u001b[0msample_article_urls\u001b[0m\u001b[0;34m[\u001b[0m\u001b[0;36m20\u001b[0m\u001b[0;34m]\u001b[0m\u001b[0;34m)\u001b[0m\u001b[0;34m\u001b[0m\u001b[0;34m\u001b[0m\u001b[0m\n",
      "\u001b[0;31mIndexError\u001b[0m: list index out of range"
     ]
    }
   ],
   "source": [
    "from tqdm import tqdm_notebook\n",
    "from time import sleep\n",
    "for i in tqdm_notebook(range(365), desc='Day'):\n",
    "    archive_articles(d + datetime.timedelta(days=(-1 * i)), \"senate\")"
   ]
  },
  {
   "cell_type": "code",
   "execution_count": 37,
   "metadata": {},
   "outputs": [
    {
     "ename": "KeyboardInterrupt",
     "evalue": "",
     "output_type": "error",
     "traceback": [
      "\u001b[0;31m---------------------------------------------------------------------------\u001b[0m",
      "\u001b[0;31mTypeError\u001b[0m                                 Traceback (most recent call last)",
      "\u001b[0;32m~/anaconda3/envs/congress/lib/python3.6/site-packages/urllib3/connectionpool.py\u001b[0m in \u001b[0;36m_make_request\u001b[0;34m(self, conn, method, url, timeout, chunked, **httplib_request_kw)\u001b[0m\n\u001b[1;32m    376\u001b[0m             \u001b[0;32mtry\u001b[0m\u001b[0;34m:\u001b[0m  \u001b[0;31m# Python 2.7, use buffering of HTTP responses\u001b[0m\u001b[0;34m\u001b[0m\u001b[0;34m\u001b[0m\u001b[0m\n\u001b[0;32m--> 377\u001b[0;31m                 \u001b[0mhttplib_response\u001b[0m \u001b[0;34m=\u001b[0m \u001b[0mconn\u001b[0m\u001b[0;34m.\u001b[0m\u001b[0mgetresponse\u001b[0m\u001b[0;34m(\u001b[0m\u001b[0mbuffering\u001b[0m\u001b[0;34m=\u001b[0m\u001b[0;32mTrue\u001b[0m\u001b[0;34m)\u001b[0m\u001b[0;34m\u001b[0m\u001b[0;34m\u001b[0m\u001b[0m\n\u001b[0m\u001b[1;32m    378\u001b[0m             \u001b[0;32mexcept\u001b[0m \u001b[0mTypeError\u001b[0m\u001b[0;34m:\u001b[0m  \u001b[0;31m# Python 3\u001b[0m\u001b[0;34m\u001b[0m\u001b[0;34m\u001b[0m\u001b[0m\n",
      "\u001b[0;31mTypeError\u001b[0m: getresponse() got an unexpected keyword argument 'buffering'",
      "\nDuring handling of the above exception, another exception occurred:\n",
      "\u001b[0;31mKeyboardInterrupt\u001b[0m                         Traceback (most recent call last)",
      "\u001b[0;32m<ipython-input-37-054a35878112>\u001b[0m in \u001b[0;36m<module>\u001b[0;34m\u001b[0m\n\u001b[1;32m      1\u001b[0m text_for_date = [extract_text_from_article_url(u) for u \n\u001b[0;32m----> 2\u001b[0;31m                  in extract_article_urls(congressional_record_url_for_date(d, \"senate\"))]\n\u001b[0m",
      "\u001b[0;32m<ipython-input-37-054a35878112>\u001b[0m in \u001b[0;36m<listcomp>\u001b[0;34m(.0)\u001b[0m\n\u001b[0;32m----> 1\u001b[0;31m text_for_date = [extract_text_from_article_url(u) for u \n\u001b[0m\u001b[1;32m      2\u001b[0m                  in extract_article_urls(congressional_record_url_for_date(d, \"senate\"))]\n",
      "\u001b[0;32m<ipython-input-31-235eb4a1af55>\u001b[0m in \u001b[0;36mextract_text_from_article_url\u001b[0;34m(article_url)\u001b[0m\n\u001b[1;32m      1\u001b[0m \u001b[0;32mdef\u001b[0m \u001b[0mextract_text_from_article_url\u001b[0m\u001b[0;34m(\u001b[0m\u001b[0marticle_url\u001b[0m\u001b[0;34m)\u001b[0m\u001b[0;34m:\u001b[0m\u001b[0;34m\u001b[0m\u001b[0;34m\u001b[0m\u001b[0m\n\u001b[0;32m----> 2\u001b[0;31m     \u001b[0mresponse\u001b[0m \u001b[0;34m=\u001b[0m \u001b[0mget\u001b[0m\u001b[0;34m(\u001b[0m\u001b[0marticle_url\u001b[0m\u001b[0;34m)\u001b[0m\u001b[0;34m\u001b[0m\u001b[0;34m\u001b[0m\u001b[0m\n\u001b[0m\u001b[1;32m      3\u001b[0m     \u001b[0msoup\u001b[0m \u001b[0;34m=\u001b[0m \u001b[0mBeautifulSoup\u001b[0m\u001b[0;34m(\u001b[0m\u001b[0mresponse\u001b[0m\u001b[0;34m.\u001b[0m\u001b[0mtext\u001b[0m\u001b[0;34m,\u001b[0m \u001b[0;34m'html.parser'\u001b[0m\u001b[0;34m)\u001b[0m\u001b[0;34m\u001b[0m\u001b[0;34m\u001b[0m\u001b[0m\n\u001b[1;32m      4\u001b[0m     \u001b[0;32mreturn\u001b[0m \u001b[0msoup\u001b[0m\u001b[0;34m.\u001b[0m\u001b[0mselect\u001b[0m\u001b[0;34m(\u001b[0m\u001b[0;34m\".txt-box\"\u001b[0m\u001b[0;34m)\u001b[0m\u001b[0;34m[\u001b[0m\u001b[0;36m0\u001b[0m\u001b[0;34m]\u001b[0m\u001b[0;34m.\u001b[0m\u001b[0mtext\u001b[0m\u001b[0;34m\u001b[0m\u001b[0;34m\u001b[0m\u001b[0m\n\u001b[1;32m      5\u001b[0m \u001b[0;34m\u001b[0m\u001b[0m\n",
      "\u001b[0;32m~/anaconda3/envs/congress/lib/python3.6/site-packages/requests/api.py\u001b[0m in \u001b[0;36mget\u001b[0;34m(url, params, **kwargs)\u001b[0m\n\u001b[1;32m     73\u001b[0m \u001b[0;34m\u001b[0m\u001b[0m\n\u001b[1;32m     74\u001b[0m     \u001b[0mkwargs\u001b[0m\u001b[0;34m.\u001b[0m\u001b[0msetdefault\u001b[0m\u001b[0;34m(\u001b[0m\u001b[0;34m'allow_redirects'\u001b[0m\u001b[0;34m,\u001b[0m \u001b[0;32mTrue\u001b[0m\u001b[0;34m)\u001b[0m\u001b[0;34m\u001b[0m\u001b[0;34m\u001b[0m\u001b[0m\n\u001b[0;32m---> 75\u001b[0;31m     \u001b[0;32mreturn\u001b[0m \u001b[0mrequest\u001b[0m\u001b[0;34m(\u001b[0m\u001b[0;34m'get'\u001b[0m\u001b[0;34m,\u001b[0m \u001b[0murl\u001b[0m\u001b[0;34m,\u001b[0m \u001b[0mparams\u001b[0m\u001b[0;34m=\u001b[0m\u001b[0mparams\u001b[0m\u001b[0;34m,\u001b[0m \u001b[0;34m**\u001b[0m\u001b[0mkwargs\u001b[0m\u001b[0;34m)\u001b[0m\u001b[0;34m\u001b[0m\u001b[0;34m\u001b[0m\u001b[0m\n\u001b[0m\u001b[1;32m     76\u001b[0m \u001b[0;34m\u001b[0m\u001b[0m\n\u001b[1;32m     77\u001b[0m \u001b[0;34m\u001b[0m\u001b[0m\n",
      "\u001b[0;32m~/anaconda3/envs/congress/lib/python3.6/site-packages/requests/api.py\u001b[0m in \u001b[0;36mrequest\u001b[0;34m(method, url, **kwargs)\u001b[0m\n\u001b[1;32m     58\u001b[0m     \u001b[0;31m# cases, and look like a memory leak in others.\u001b[0m\u001b[0;34m\u001b[0m\u001b[0;34m\u001b[0m\u001b[0;34m\u001b[0m\u001b[0m\n\u001b[1;32m     59\u001b[0m     \u001b[0;32mwith\u001b[0m \u001b[0msessions\u001b[0m\u001b[0;34m.\u001b[0m\u001b[0mSession\u001b[0m\u001b[0;34m(\u001b[0m\u001b[0;34m)\u001b[0m \u001b[0;32mas\u001b[0m \u001b[0msession\u001b[0m\u001b[0;34m:\u001b[0m\u001b[0;34m\u001b[0m\u001b[0;34m\u001b[0m\u001b[0m\n\u001b[0;32m---> 60\u001b[0;31m         \u001b[0;32mreturn\u001b[0m \u001b[0msession\u001b[0m\u001b[0;34m.\u001b[0m\u001b[0mrequest\u001b[0m\u001b[0;34m(\u001b[0m\u001b[0mmethod\u001b[0m\u001b[0;34m=\u001b[0m\u001b[0mmethod\u001b[0m\u001b[0;34m,\u001b[0m \u001b[0murl\u001b[0m\u001b[0;34m=\u001b[0m\u001b[0murl\u001b[0m\u001b[0;34m,\u001b[0m \u001b[0;34m**\u001b[0m\u001b[0mkwargs\u001b[0m\u001b[0;34m)\u001b[0m\u001b[0;34m\u001b[0m\u001b[0;34m\u001b[0m\u001b[0m\n\u001b[0m\u001b[1;32m     61\u001b[0m \u001b[0;34m\u001b[0m\u001b[0m\n\u001b[1;32m     62\u001b[0m \u001b[0;34m\u001b[0m\u001b[0m\n",
      "\u001b[0;32m~/anaconda3/envs/congress/lib/python3.6/site-packages/requests/sessions.py\u001b[0m in \u001b[0;36mrequest\u001b[0;34m(self, method, url, params, data, headers, cookies, files, auth, timeout, allow_redirects, proxies, hooks, stream, verify, cert, json)\u001b[0m\n\u001b[1;32m    531\u001b[0m         }\n\u001b[1;32m    532\u001b[0m         \u001b[0msend_kwargs\u001b[0m\u001b[0;34m.\u001b[0m\u001b[0mupdate\u001b[0m\u001b[0;34m(\u001b[0m\u001b[0msettings\u001b[0m\u001b[0;34m)\u001b[0m\u001b[0;34m\u001b[0m\u001b[0;34m\u001b[0m\u001b[0m\n\u001b[0;32m--> 533\u001b[0;31m         \u001b[0mresp\u001b[0m \u001b[0;34m=\u001b[0m \u001b[0mself\u001b[0m\u001b[0;34m.\u001b[0m\u001b[0msend\u001b[0m\u001b[0;34m(\u001b[0m\u001b[0mprep\u001b[0m\u001b[0;34m,\u001b[0m \u001b[0;34m**\u001b[0m\u001b[0msend_kwargs\u001b[0m\u001b[0;34m)\u001b[0m\u001b[0;34m\u001b[0m\u001b[0;34m\u001b[0m\u001b[0m\n\u001b[0m\u001b[1;32m    534\u001b[0m \u001b[0;34m\u001b[0m\u001b[0m\n\u001b[1;32m    535\u001b[0m         \u001b[0;32mreturn\u001b[0m \u001b[0mresp\u001b[0m\u001b[0;34m\u001b[0m\u001b[0;34m\u001b[0m\u001b[0m\n",
      "\u001b[0;32m~/anaconda3/envs/congress/lib/python3.6/site-packages/requests/sessions.py\u001b[0m in \u001b[0;36msend\u001b[0;34m(self, request, **kwargs)\u001b[0m\n\u001b[1;32m    644\u001b[0m \u001b[0;34m\u001b[0m\u001b[0m\n\u001b[1;32m    645\u001b[0m         \u001b[0;31m# Send the request\u001b[0m\u001b[0;34m\u001b[0m\u001b[0;34m\u001b[0m\u001b[0;34m\u001b[0m\u001b[0m\n\u001b[0;32m--> 646\u001b[0;31m         \u001b[0mr\u001b[0m \u001b[0;34m=\u001b[0m \u001b[0madapter\u001b[0m\u001b[0;34m.\u001b[0m\u001b[0msend\u001b[0m\u001b[0;34m(\u001b[0m\u001b[0mrequest\u001b[0m\u001b[0;34m,\u001b[0m \u001b[0;34m**\u001b[0m\u001b[0mkwargs\u001b[0m\u001b[0;34m)\u001b[0m\u001b[0;34m\u001b[0m\u001b[0;34m\u001b[0m\u001b[0m\n\u001b[0m\u001b[1;32m    647\u001b[0m \u001b[0;34m\u001b[0m\u001b[0m\n\u001b[1;32m    648\u001b[0m         \u001b[0;31m# Total elapsed time of the request (approximately)\u001b[0m\u001b[0;34m\u001b[0m\u001b[0;34m\u001b[0m\u001b[0;34m\u001b[0m\u001b[0m\n",
      "\u001b[0;32m~/anaconda3/envs/congress/lib/python3.6/site-packages/requests/adapters.py\u001b[0m in \u001b[0;36msend\u001b[0;34m(self, request, stream, timeout, verify, cert, proxies)\u001b[0m\n\u001b[1;32m    447\u001b[0m                     \u001b[0mdecode_content\u001b[0m\u001b[0;34m=\u001b[0m\u001b[0;32mFalse\u001b[0m\u001b[0;34m,\u001b[0m\u001b[0;34m\u001b[0m\u001b[0;34m\u001b[0m\u001b[0m\n\u001b[1;32m    448\u001b[0m                     \u001b[0mretries\u001b[0m\u001b[0;34m=\u001b[0m\u001b[0mself\u001b[0m\u001b[0;34m.\u001b[0m\u001b[0mmax_retries\u001b[0m\u001b[0;34m,\u001b[0m\u001b[0;34m\u001b[0m\u001b[0;34m\u001b[0m\u001b[0m\n\u001b[0;32m--> 449\u001b[0;31m                     \u001b[0mtimeout\u001b[0m\u001b[0;34m=\u001b[0m\u001b[0mtimeout\u001b[0m\u001b[0;34m\u001b[0m\u001b[0;34m\u001b[0m\u001b[0m\n\u001b[0m\u001b[1;32m    450\u001b[0m                 )\n\u001b[1;32m    451\u001b[0m \u001b[0;34m\u001b[0m\u001b[0m\n",
      "\u001b[0;32m~/anaconda3/envs/congress/lib/python3.6/site-packages/urllib3/connectionpool.py\u001b[0m in \u001b[0;36murlopen\u001b[0;34m(self, method, url, body, headers, retries, redirect, assert_same_host, timeout, pool_timeout, release_conn, chunked, body_pos, **response_kw)\u001b[0m\n\u001b[1;32m    598\u001b[0m                                                   \u001b[0mtimeout\u001b[0m\u001b[0;34m=\u001b[0m\u001b[0mtimeout_obj\u001b[0m\u001b[0;34m,\u001b[0m\u001b[0;34m\u001b[0m\u001b[0;34m\u001b[0m\u001b[0m\n\u001b[1;32m    599\u001b[0m                                                   \u001b[0mbody\u001b[0m\u001b[0;34m=\u001b[0m\u001b[0mbody\u001b[0m\u001b[0;34m,\u001b[0m \u001b[0mheaders\u001b[0m\u001b[0;34m=\u001b[0m\u001b[0mheaders\u001b[0m\u001b[0;34m,\u001b[0m\u001b[0;34m\u001b[0m\u001b[0;34m\u001b[0m\u001b[0m\n\u001b[0;32m--> 600\u001b[0;31m                                                   chunked=chunked)\n\u001b[0m\u001b[1;32m    601\u001b[0m \u001b[0;34m\u001b[0m\u001b[0m\n\u001b[1;32m    602\u001b[0m             \u001b[0;31m# If we're going to release the connection in ``finally:``, then\u001b[0m\u001b[0;34m\u001b[0m\u001b[0;34m\u001b[0m\u001b[0;34m\u001b[0m\u001b[0m\n",
      "\u001b[0;32m~/anaconda3/envs/congress/lib/python3.6/site-packages/urllib3/connectionpool.py\u001b[0m in \u001b[0;36m_make_request\u001b[0;34m(self, conn, method, url, timeout, chunked, **httplib_request_kw)\u001b[0m\n\u001b[1;32m    378\u001b[0m             \u001b[0;32mexcept\u001b[0m \u001b[0mTypeError\u001b[0m\u001b[0;34m:\u001b[0m  \u001b[0;31m# Python 3\u001b[0m\u001b[0;34m\u001b[0m\u001b[0;34m\u001b[0m\u001b[0m\n\u001b[1;32m    379\u001b[0m                 \u001b[0;32mtry\u001b[0m\u001b[0;34m:\u001b[0m\u001b[0;34m\u001b[0m\u001b[0;34m\u001b[0m\u001b[0m\n\u001b[0;32m--> 380\u001b[0;31m                     \u001b[0mhttplib_response\u001b[0m \u001b[0;34m=\u001b[0m \u001b[0mconn\u001b[0m\u001b[0;34m.\u001b[0m\u001b[0mgetresponse\u001b[0m\u001b[0;34m(\u001b[0m\u001b[0;34m)\u001b[0m\u001b[0;34m\u001b[0m\u001b[0;34m\u001b[0m\u001b[0m\n\u001b[0m\u001b[1;32m    381\u001b[0m                 \u001b[0;32mexcept\u001b[0m \u001b[0mException\u001b[0m \u001b[0;32mas\u001b[0m \u001b[0me\u001b[0m\u001b[0;34m:\u001b[0m\u001b[0;34m\u001b[0m\u001b[0;34m\u001b[0m\u001b[0m\n\u001b[1;32m    382\u001b[0m                     \u001b[0;31m# Remove the TypeError from the exception chain in Python 3;\u001b[0m\u001b[0;34m\u001b[0m\u001b[0;34m\u001b[0m\u001b[0;34m\u001b[0m\u001b[0m\n",
      "\u001b[0;32m~/anaconda3/envs/congress/lib/python3.6/http/client.py\u001b[0m in \u001b[0;36mgetresponse\u001b[0;34m(self)\u001b[0m\n\u001b[1;32m   1344\u001b[0m         \u001b[0;32mtry\u001b[0m\u001b[0;34m:\u001b[0m\u001b[0;34m\u001b[0m\u001b[0;34m\u001b[0m\u001b[0m\n\u001b[1;32m   1345\u001b[0m             \u001b[0;32mtry\u001b[0m\u001b[0;34m:\u001b[0m\u001b[0;34m\u001b[0m\u001b[0;34m\u001b[0m\u001b[0m\n\u001b[0;32m-> 1346\u001b[0;31m                 \u001b[0mresponse\u001b[0m\u001b[0;34m.\u001b[0m\u001b[0mbegin\u001b[0m\u001b[0;34m(\u001b[0m\u001b[0;34m)\u001b[0m\u001b[0;34m\u001b[0m\u001b[0;34m\u001b[0m\u001b[0m\n\u001b[0m\u001b[1;32m   1347\u001b[0m             \u001b[0;32mexcept\u001b[0m \u001b[0mConnectionError\u001b[0m\u001b[0;34m:\u001b[0m\u001b[0;34m\u001b[0m\u001b[0;34m\u001b[0m\u001b[0m\n\u001b[1;32m   1348\u001b[0m                 \u001b[0mself\u001b[0m\u001b[0;34m.\u001b[0m\u001b[0mclose\u001b[0m\u001b[0;34m(\u001b[0m\u001b[0;34m)\u001b[0m\u001b[0;34m\u001b[0m\u001b[0;34m\u001b[0m\u001b[0m\n",
      "\u001b[0;32m~/anaconda3/envs/congress/lib/python3.6/http/client.py\u001b[0m in \u001b[0;36mbegin\u001b[0;34m(self)\u001b[0m\n\u001b[1;32m    305\u001b[0m         \u001b[0;31m# read until we get a non-100 response\u001b[0m\u001b[0;34m\u001b[0m\u001b[0;34m\u001b[0m\u001b[0;34m\u001b[0m\u001b[0m\n\u001b[1;32m    306\u001b[0m         \u001b[0;32mwhile\u001b[0m \u001b[0;32mTrue\u001b[0m\u001b[0;34m:\u001b[0m\u001b[0;34m\u001b[0m\u001b[0;34m\u001b[0m\u001b[0m\n\u001b[0;32m--> 307\u001b[0;31m             \u001b[0mversion\u001b[0m\u001b[0;34m,\u001b[0m \u001b[0mstatus\u001b[0m\u001b[0;34m,\u001b[0m \u001b[0mreason\u001b[0m \u001b[0;34m=\u001b[0m \u001b[0mself\u001b[0m\u001b[0;34m.\u001b[0m\u001b[0m_read_status\u001b[0m\u001b[0;34m(\u001b[0m\u001b[0;34m)\u001b[0m\u001b[0;34m\u001b[0m\u001b[0;34m\u001b[0m\u001b[0m\n\u001b[0m\u001b[1;32m    308\u001b[0m             \u001b[0;32mif\u001b[0m \u001b[0mstatus\u001b[0m \u001b[0;34m!=\u001b[0m \u001b[0mCONTINUE\u001b[0m\u001b[0;34m:\u001b[0m\u001b[0;34m\u001b[0m\u001b[0;34m\u001b[0m\u001b[0m\n\u001b[1;32m    309\u001b[0m                 \u001b[0;32mbreak\u001b[0m\u001b[0;34m\u001b[0m\u001b[0;34m\u001b[0m\u001b[0m\n",
      "\u001b[0;32m~/anaconda3/envs/congress/lib/python3.6/http/client.py\u001b[0m in \u001b[0;36m_read_status\u001b[0;34m(self)\u001b[0m\n\u001b[1;32m    266\u001b[0m \u001b[0;34m\u001b[0m\u001b[0m\n\u001b[1;32m    267\u001b[0m     \u001b[0;32mdef\u001b[0m \u001b[0m_read_status\u001b[0m\u001b[0;34m(\u001b[0m\u001b[0mself\u001b[0m\u001b[0;34m)\u001b[0m\u001b[0;34m:\u001b[0m\u001b[0;34m\u001b[0m\u001b[0;34m\u001b[0m\u001b[0m\n\u001b[0;32m--> 268\u001b[0;31m         \u001b[0mline\u001b[0m \u001b[0;34m=\u001b[0m \u001b[0mstr\u001b[0m\u001b[0;34m(\u001b[0m\u001b[0mself\u001b[0m\u001b[0;34m.\u001b[0m\u001b[0mfp\u001b[0m\u001b[0;34m.\u001b[0m\u001b[0mreadline\u001b[0m\u001b[0;34m(\u001b[0m\u001b[0m_MAXLINE\u001b[0m \u001b[0;34m+\u001b[0m \u001b[0;36m1\u001b[0m\u001b[0;34m)\u001b[0m\u001b[0;34m,\u001b[0m \u001b[0;34m\"iso-8859-1\"\u001b[0m\u001b[0;34m)\u001b[0m\u001b[0;34m\u001b[0m\u001b[0;34m\u001b[0m\u001b[0m\n\u001b[0m\u001b[1;32m    269\u001b[0m         \u001b[0;32mif\u001b[0m \u001b[0mlen\u001b[0m\u001b[0;34m(\u001b[0m\u001b[0mline\u001b[0m\u001b[0;34m)\u001b[0m \u001b[0;34m>\u001b[0m \u001b[0m_MAXLINE\u001b[0m\u001b[0;34m:\u001b[0m\u001b[0;34m\u001b[0m\u001b[0;34m\u001b[0m\u001b[0m\n\u001b[1;32m    270\u001b[0m             \u001b[0;32mraise\u001b[0m \u001b[0mLineTooLong\u001b[0m\u001b[0;34m(\u001b[0m\u001b[0;34m\"status line\"\u001b[0m\u001b[0;34m)\u001b[0m\u001b[0;34m\u001b[0m\u001b[0;34m\u001b[0m\u001b[0m\n",
      "\u001b[0;32m~/anaconda3/envs/congress/lib/python3.6/socket.py\u001b[0m in \u001b[0;36mreadinto\u001b[0;34m(self, b)\u001b[0m\n\u001b[1;32m    584\u001b[0m         \u001b[0;32mwhile\u001b[0m \u001b[0;32mTrue\u001b[0m\u001b[0;34m:\u001b[0m\u001b[0;34m\u001b[0m\u001b[0;34m\u001b[0m\u001b[0m\n\u001b[1;32m    585\u001b[0m             \u001b[0;32mtry\u001b[0m\u001b[0;34m:\u001b[0m\u001b[0;34m\u001b[0m\u001b[0;34m\u001b[0m\u001b[0m\n\u001b[0;32m--> 586\u001b[0;31m                 \u001b[0;32mreturn\u001b[0m \u001b[0mself\u001b[0m\u001b[0;34m.\u001b[0m\u001b[0m_sock\u001b[0m\u001b[0;34m.\u001b[0m\u001b[0mrecv_into\u001b[0m\u001b[0;34m(\u001b[0m\u001b[0mb\u001b[0m\u001b[0;34m)\u001b[0m\u001b[0;34m\u001b[0m\u001b[0;34m\u001b[0m\u001b[0m\n\u001b[0m\u001b[1;32m    587\u001b[0m             \u001b[0;32mexcept\u001b[0m \u001b[0mtimeout\u001b[0m\u001b[0;34m:\u001b[0m\u001b[0;34m\u001b[0m\u001b[0;34m\u001b[0m\u001b[0m\n\u001b[1;32m    588\u001b[0m                 \u001b[0mself\u001b[0m\u001b[0;34m.\u001b[0m\u001b[0m_timeout_occurred\u001b[0m \u001b[0;34m=\u001b[0m \u001b[0;32mTrue\u001b[0m\u001b[0;34m\u001b[0m\u001b[0;34m\u001b[0m\u001b[0m\n",
      "\u001b[0;32m~/anaconda3/envs/congress/lib/python3.6/site-packages/urllib3/contrib/pyopenssl.py\u001b[0m in \u001b[0;36mrecv_into\u001b[0;34m(self, *args, **kwargs)\u001b[0m\n\u001b[1;32m    295\u001b[0m     \u001b[0;32mdef\u001b[0m \u001b[0mrecv_into\u001b[0m\u001b[0;34m(\u001b[0m\u001b[0mself\u001b[0m\u001b[0;34m,\u001b[0m \u001b[0;34m*\u001b[0m\u001b[0margs\u001b[0m\u001b[0;34m,\u001b[0m \u001b[0;34m**\u001b[0m\u001b[0mkwargs\u001b[0m\u001b[0;34m)\u001b[0m\u001b[0;34m:\u001b[0m\u001b[0;34m\u001b[0m\u001b[0;34m\u001b[0m\u001b[0m\n\u001b[1;32m    296\u001b[0m         \u001b[0;32mtry\u001b[0m\u001b[0;34m:\u001b[0m\u001b[0;34m\u001b[0m\u001b[0;34m\u001b[0m\u001b[0m\n\u001b[0;32m--> 297\u001b[0;31m             \u001b[0;32mreturn\u001b[0m \u001b[0mself\u001b[0m\u001b[0;34m.\u001b[0m\u001b[0mconnection\u001b[0m\u001b[0;34m.\u001b[0m\u001b[0mrecv_into\u001b[0m\u001b[0;34m(\u001b[0m\u001b[0;34m*\u001b[0m\u001b[0margs\u001b[0m\u001b[0;34m,\u001b[0m \u001b[0;34m**\u001b[0m\u001b[0mkwargs\u001b[0m\u001b[0;34m)\u001b[0m\u001b[0;34m\u001b[0m\u001b[0;34m\u001b[0m\u001b[0m\n\u001b[0m\u001b[1;32m    298\u001b[0m         \u001b[0;32mexcept\u001b[0m \u001b[0mOpenSSL\u001b[0m\u001b[0;34m.\u001b[0m\u001b[0mSSL\u001b[0m\u001b[0;34m.\u001b[0m\u001b[0mSysCallError\u001b[0m \u001b[0;32mas\u001b[0m \u001b[0me\u001b[0m\u001b[0;34m:\u001b[0m\u001b[0;34m\u001b[0m\u001b[0;34m\u001b[0m\u001b[0m\n\u001b[1;32m    299\u001b[0m             \u001b[0;32mif\u001b[0m \u001b[0mself\u001b[0m\u001b[0;34m.\u001b[0m\u001b[0msuppress_ragged_eofs\u001b[0m \u001b[0;32mand\u001b[0m \u001b[0me\u001b[0m\u001b[0;34m.\u001b[0m\u001b[0margs\u001b[0m \u001b[0;34m==\u001b[0m \u001b[0;34m(\u001b[0m\u001b[0;34m-\u001b[0m\u001b[0;36m1\u001b[0m\u001b[0;34m,\u001b[0m \u001b[0;34m'Unexpected EOF'\u001b[0m\u001b[0;34m)\u001b[0m\u001b[0;34m:\u001b[0m\u001b[0;34m\u001b[0m\u001b[0;34m\u001b[0m\u001b[0m\n",
      "\u001b[0;32m~/anaconda3/envs/congress/lib/python3.6/site-packages/OpenSSL/SSL.py\u001b[0m in \u001b[0;36mrecv_into\u001b[0;34m(self, buffer, nbytes, flags)\u001b[0m\n\u001b[1;32m   1819\u001b[0m             \u001b[0mresult\u001b[0m \u001b[0;34m=\u001b[0m \u001b[0m_lib\u001b[0m\u001b[0;34m.\u001b[0m\u001b[0mSSL_peek\u001b[0m\u001b[0;34m(\u001b[0m\u001b[0mself\u001b[0m\u001b[0;34m.\u001b[0m\u001b[0m_ssl\u001b[0m\u001b[0;34m,\u001b[0m \u001b[0mbuf\u001b[0m\u001b[0;34m,\u001b[0m \u001b[0mnbytes\u001b[0m\u001b[0;34m)\u001b[0m\u001b[0;34m\u001b[0m\u001b[0;34m\u001b[0m\u001b[0m\n\u001b[1;32m   1820\u001b[0m         \u001b[0;32melse\u001b[0m\u001b[0;34m:\u001b[0m\u001b[0;34m\u001b[0m\u001b[0;34m\u001b[0m\u001b[0m\n\u001b[0;32m-> 1821\u001b[0;31m             \u001b[0mresult\u001b[0m \u001b[0;34m=\u001b[0m \u001b[0m_lib\u001b[0m\u001b[0;34m.\u001b[0m\u001b[0mSSL_read\u001b[0m\u001b[0;34m(\u001b[0m\u001b[0mself\u001b[0m\u001b[0;34m.\u001b[0m\u001b[0m_ssl\u001b[0m\u001b[0;34m,\u001b[0m \u001b[0mbuf\u001b[0m\u001b[0;34m,\u001b[0m \u001b[0mnbytes\u001b[0m\u001b[0;34m)\u001b[0m\u001b[0;34m\u001b[0m\u001b[0;34m\u001b[0m\u001b[0m\n\u001b[0m\u001b[1;32m   1822\u001b[0m         \u001b[0mself\u001b[0m\u001b[0;34m.\u001b[0m\u001b[0m_raise_ssl_error\u001b[0m\u001b[0;34m(\u001b[0m\u001b[0mself\u001b[0m\u001b[0;34m.\u001b[0m\u001b[0m_ssl\u001b[0m\u001b[0;34m,\u001b[0m \u001b[0mresult\u001b[0m\u001b[0;34m)\u001b[0m\u001b[0;34m\u001b[0m\u001b[0;34m\u001b[0m\u001b[0m\n\u001b[1;32m   1823\u001b[0m \u001b[0;34m\u001b[0m\u001b[0m\n",
      "\u001b[0;31mKeyboardInterrupt\u001b[0m: "
     ]
    }
   ],
   "source": [
    "text_for_date = [extract_text_from_article_url(u) for u \n",
    "                 in extract_article_urls(congressional_record_url_for_date(d, \"senate\"))]"
   ]
  },
  {
   "cell_type": "code",
   "execution_count": 36,
   "metadata": {},
   "outputs": [
    {
     "ename": "NameError",
     "evalue": "name 'text_for_date' is not defined",
     "output_type": "error",
     "traceback": [
      "\u001b[0;31m---------------------------------------------------------------------------\u001b[0m",
      "\u001b[0;31mNameError\u001b[0m                                 Traceback (most recent call last)",
      "\u001b[0;32m<ipython-input-36-caba694ca7fe>\u001b[0m in \u001b[0;36m<module>\u001b[0;34m\u001b[0m\n\u001b[0;32m----> 1\u001b[0;31m \u001b[0mtext_for_date\u001b[0m\u001b[0;34m[\u001b[0m\u001b[0;34m-\u001b[0m\u001b[0;36m1\u001b[0m\u001b[0;34m]\u001b[0m\u001b[0;34m\u001b[0m\u001b[0;34m\u001b[0m\u001b[0m\n\u001b[0m",
      "\u001b[0;31mNameError\u001b[0m: name 'text_for_date' is not defined"
     ]
    }
   ],
   "source": [
    "text_for_date[-1]"
   ]
  },
  {
   "cell_type": "code",
   "execution_count": 75,
   "metadata": {},
   "outputs": [
    {
     "data": {
      "text/plain": [
       "\"\\n\\n[Page S1]\\nFrom the Congressional Record Online through the Government Publishing Office [www.gpo.gov]\\n\\n                                 prayer\\n\\n  The Chaplain, Dr. Barry C. Black, offered the following prayer:\\n  Let us pray.\\n  Eternal Lord God, our shelter from life's storms, as we begin the \\n111th Congress, we ask for Your guidance. Lead our Senators on a path \\nthat will bring blessings, as they seek to honor Your Name. Forgive \\nthem when they lean too heavily upon their wisdom, forgetting to look \\nto You, the author and finisher of destinies.\\n  Lord, thank You for the opportunity to serve You and country and to \\ndaily contribute to building a better world. As our Nation waits with \\nexpectancy during this transition time, help us to remember that Your \\nsovereignty is changeless. Remind us to have confidence in our future \\nbecause we know and depend on You.\\n  We pray in Your wonderful Name. Amen.\\n\\n                          ____________________\\n\\n\\n\\n\""
      ]
     },
     "execution_count": 75,
     "metadata": {},
     "output_type": "execute_result"
    }
   ],
   "source": [
    "extract_text_from_article_url('https://www.congress.gov/congressional-record/2009/01/06/senate-section/article/S1-2')"
   ]
  },
  {
   "cell_type": "code",
   "execution_count": 72,
   "metadata": {},
   "outputs": [
    {
     "data": {
      "text/plain": [
       "\"\\n\\n[Page S1]\\nFrom the Congressional Record Online through the Government Publishing Office [www.gpo.gov]\\n\\n                                 prayer\\n\\n  The Chaplain, Dr. Barry C. Black, offered the following prayer:\\n  Let us pray.\\n  Eternal Lord God, our shelter from life's storms, as we begin the \\n111th Congress, we ask for Your guidance. Lead our Senators on a path \\nthat will bring blessings, as they seek to honor Your Name. Forgive \\nthem when they lean too heavily upon their wisdom, forgetting to look \\nto You, the author and finisher of destinies.\\n  Lord, thank You for the opportunity to serve You and country and to \\ndaily contribute to building a better world. As our Nation waits with \\nexpectancy during this transition time, help us to remember that Your \\nsovereignty is changeless. Remind us to have confidence in our future \\nbecause we know and depend on You.\\n  We pray in Your wonderful Name. Amen.\\n\\n                          ____________________\\n\\n\\n\\n\""
      ]
     },
     "execution_count": 72,
     "metadata": {},
     "output_type": "execute_result"
    }
   ],
   "source": [
    "#s.select(\".txt-box\")[0]\n",
    "s.select(\".txt-box\")[0].text"
   ]
  },
  {
   "cell_type": "code",
   "execution_count": 85,
   "metadata": {},
   "outputs": [
    {
     "data": {
      "text/plain": [
       "['https://www.congress.gov/congressional-record/2009/02/03/senate-section/article/S1371-1',\n",
       " 'https://www.congress.gov/congressional-record/2009/02/03/senate-section/article/S1371-2',\n",
       " 'https://www.congress.gov/congressional-record/2009/02/03/senate-section/article/S1371-3',\n",
       " 'https://www.congress.gov/congressional-record/2009/02/03/senate-section/article/S1371-4',\n",
       " 'https://www.congress.gov/congressional-record/2009/02/03/senate-section/article/S1371-5',\n",
       " 'https://www.congress.gov/congressional-record/2009/02/03/senate-section/article/S1371-6',\n",
       " 'https://www.congress.gov/congressional-record/2009/02/03/senate-section/article/S1371-7',\n",
       " 'https://www.congress.gov/congressional-record/2009/02/03/senate-section/article/S1371-8',\n",
       " 'https://www.congress.gov/congressional-record/2009/02/03/senate-section/article/S1387-1',\n",
       " 'https://www.congress.gov/congressional-record/2009/02/03/senate-section/article/S1387-2',\n",
       " 'https://www.congress.gov/congressional-record/2009/02/03/senate-section/article/S1427-1',\n",
       " 'https://www.congress.gov/congressional-record/2009/02/03/senate-section/article/S1427-2',\n",
       " 'https://www.congress.gov/congressional-record/2009/02/03/senate-section/article/S1428-1',\n",
       " 'https://www.congress.gov/congressional-record/2009/02/03/senate-section/article/S1429-1',\n",
       " 'https://www.congress.gov/congressional-record/2009/02/03/senate-section/article/S1429-2',\n",
       " 'https://www.congress.gov/congressional-record/2009/02/03/senate-section/article/S1431-1',\n",
       " 'https://www.congress.gov/congressional-record/2009/02/03/senate-section/article/S1431-2',\n",
       " 'https://www.congress.gov/congressional-record/2009/02/03/senate-section/article/S1432-1',\n",
       " 'https://www.congress.gov/congressional-record/2009/02/03/senate-section/article/S1432-2',\n",
       " 'https://www.congress.gov/congressional-record/2009/02/03/senate-section/article/S1432-3',\n",
       " 'https://www.congress.gov/congressional-record/2009/02/03/senate-section/article/S1438-1',\n",
       " 'https://www.congress.gov/congressional-record/2009/02/03/senate-section/article/S1439-1',\n",
       " 'https://www.congress.gov/congressional-record/2009/02/03/senate-section/article/S1439-2',\n",
       " 'https://www.congress.gov/congressional-record/2009/02/03/senate-section/article/S1441-1',\n",
       " 'https://www.congress.gov/congressional-record/2009/02/03/senate-section/article/S1472-1',\n",
       " 'https://www.congress.gov/congressional-record/2009/02/03/senate-section/article/S1472-2',\n",
       " 'https://www.congress.gov/congressional-record/2009/02/03/senate-section/article/S1472-3',\n",
       " 'https://www.congress.gov/congressional-record/2009/02/03/senate-section/article/S1472-4',\n",
       " 'https://www.congress.gov/congressional-record/2009/02/03/senate-section/article/S1472-5',\n",
       " 'https://www.congress.gov/congressional-record/2009/02/03/senate-section/article/S1472-6',\n",
       " 'https://www.congress.gov/congressional-record/2009/02/03/senate-section/article/S1472-7']"
      ]
     },
     "execution_count": 85,
     "metadata": {},
     "output_type": "execute_result"
    }
   ],
   "source": [
    "extract_article_urls(congressional_record_url_for_date(d, \"senate\"))"
   ]
  },
  {
   "cell_type": "code",
   "execution_count": 50,
   "metadata": {},
   "outputs": [
    {
     "data": {
      "text/plain": [
       "'https://www.congress.gov/congressional-record/2009/1/6/foo-section'"
      ]
     },
     "execution_count": 50,
     "metadata": {},
     "output_type": "execute_result"
    }
   ],
   "source": [
    "\"https://www.congress.gov/congressional-record/%d/%d/%d/%s-section\" % (d.year, d.month, d.day, \"foo\")"
   ]
  },
  {
   "cell_type": "code",
   "execution_count": 13,
   "metadata": {},
   "outputs": [],
   "source": [
    "response = get(\"https://www.congress.gov/congressional-record/2009/1/6/senate-section\")"
   ]
  },
  {
   "cell_type": "code",
   "execution_count": 79,
   "metadata": {},
   "outputs": [
    {
     "data": {
      "text/plain": [
       "200"
      ]
     },
     "execution_count": 79,
     "metadata": {},
     "output_type": "execute_result"
    }
   ],
   "source": [
    "response.status_code"
   ]
  },
  {
   "cell_type": "code",
   "execution_count": 17,
   "metadata": {},
   "outputs": [],
   "source": [
    "soup = BeautifulSoup(response.text, 'html.parser')"
   ]
  },
  {
   "cell_type": "code",
   "execution_count": 19,
   "metadata": {},
   "outputs": [
    {
     "data": {
      "text/plain": [
       "[<a href=\"https://www.congress.gov\"><img alt=\"Congress.gov\" height=\"28\" src=\"/img/svg/congress-gov-logo.svg\" width=\"302\"/></a>,\n",
       " <a href=\"/advanced-search/legislation\">Advanced Searches</a>,\n",
       " <a href=\"/browse\">Browse</a>,\n",
       " <a href=\"/legislation?q=%7B%22congress%22%3A116%7D\">Legislation</a>,\n",
       " <a href=\"/congressional-record\">Congressional Record</a>,\n",
       " <a href=\"/committees\">Committees</a>,\n",
       " <a href=\"/members?q=%7B%22congress%22%3A116%7D\">Members</a>,\n",
       " <a href=\"/help/search-tools-overview\">Search Tools</a>,\n",
       " <a aria-controls=\"more-tertiary-links\" class=\"tertiary-more-toggle\" href=\"#\" id=\"tertiary-more-toggle\" role=\"button\">Support <i class=\"fa fa-caret-down\"></i></a>,\n",
       " <a href=\"/help/legislative-glossary\">Glossary</a>,\n",
       " <a href=\"/resources/\" target=\"_blank\">Resources</a>,\n",
       " <a href=\"/help\">Help</a>,\n",
       " <a href=\"/contact-us\">Contact</a>,\n",
       " <a aria-controls=\"legislation\" aria-expanded=\"true\" class=\"active\" href=\"#legislation\" id=\"legislation-tab\">Legislation</a>,\n",
       " <a aria-controls=\"legislation-text\" aria-expanded=\"false\" href=\"#legislation-text\" id=\"legislation-text-tab\">Legislation Text</a>,\n",
       " <a aria-controls=\"committee-reports\" aria-expanded=\"false\" href=\"#committee-reports\" id=\"committee-reports-tab\">Committee Reports</a>,\n",
       " <a aria-controls=\"congressional-record\" aria-expanded=\"false\" href=\"#congressional-record\" id=\"congressional-record-tab\">Congressional Record</a>,\n",
       " <a aria-controls=\"nominations\" aria-expanded=\"false\" href=\"#nominations\" id=\"nominations-tab\">Nominations</a>,\n",
       " <a aria-controls=\"house-communications\" aria-expanded=\"false\" href=\"#house-communications\" id=\"house-communications-tab\">House Communications</a>,\n",
       " <a aria-controls=\"senate-communications\" aria-expanded=\"false\" href=\"#senate-communications\" id=\"senate-communications-tab\">Senate Communications</a>,\n",
       " <a aria-controls=\"treaty-documents\" aria-expanded=\"false\" href=\"#treaty-documents\" id=\"treaty-documents-tab\">Treaty Documents</a>,\n",
       " <a href=\"/legislation/about\" target=\"_blank\">About Legislation</a>,\n",
       " <a href=\"/browse#browse_actions\">Browse Legislation by Actions</a>,\n",
       " <a href=\"/legislation/about-legislation-text\" target=\"_blank\">About Legislation Text</a>,\n",
       " <a href=\"/browse#browse_legislation\">Browse Legislation by Number</a>,\n",
       " <a href=\"/congressional-reports/about\" target=\"_blank\">About Committee Reports</a>,\n",
       " <a href=\"/browse#browse_committees\">Browse Committee Publications</a>,\n",
       " <a href=\"/congressional-record/about\" target=\"_blank\">About the Congressional Record</a>,\n",
       " <a href=\"/congressional-record/browse-by-date\">Browse By Date</a>,\n",
       " <a href=\"/congressional-record/congressional-record-index\">CR Index</a>,\n",
       " <a href=\"/browse#congressional_record\">CR Browse</a>,\n",
       " <a href=\"/nominations/about\" target=\"_blank\">About Nominations</a>,\n",
       " <a href=\"/browse#nominations_bynumber\">Browse Nominations</a>,\n",
       " <a href=\"/house-communications/about\" target=\"_blank\">About Communications to the House</a>,\n",
       " <a href=\"/browse#executive_communications\">Browse Communications to the House</a>,\n",
       " <a href=\"/senate-communications/about\" target=\"_blank\">About Communications to the Senate</a>,\n",
       " <a href=\"/browse#executive_communications\">Browse Communications to the Senate</a>,\n",
       " <a href=\"/treaties/about\" target=\"_blank\">About Treaty Documents</a>,\n",
       " <a href=\"/browse#browse_treaties\">Browse Treaty Documents</a>,\n",
       " <a aria-controls=\"basic-search-panel\" class=\"toggle-search basic-search-button\" href=\"#\" id=\"basic-search-button\" role=\"button\">Fewer Options <i class=\"fa fa-angle-up\"></i></a>,\n",
       " <a aria-controls=\"quick-search-panel\" class=\"toggle-search quick-search-button\" href=\"#\" id=\"quick-search-button\" role=\"button\">More Options <i class=\"fa fa-angle-down\"></i></a>,\n",
       " <a accesskey=\"5\" href=\"#print\">Print</a>,\n",
       " <a accesskey=\"6\" href=\"#subscribe\">Subscribe</a>,\n",
       " <a accesskey=\"7\" href=\"#share\">Share/Save</a>,\n",
       " <a accesskey=\"8\" href=\"#survey\">Give Feedback</a>,\n",
       " <a href=\"https://www.congress.gov/\">Home</a>,\n",
       " <a href=\"/congressional-record\">Congressional Record</a>,\n",
       " <a href=\"/congressional-record/2009/1/6\">January 06, 2009</a>,\n",
       " <a href=\"/congressional-record\">\n",
       " <h1>\n",
       " <strong>Congressional Record</strong><br/>\n",
       " <span>Proceedings, Debates of the U.S. Congress</span>\n",
       " </h1>\n",
       " </a>,\n",
       " <a href=\"https://www.congress.gov/congressional-record\">Most Recent Issue</a>,\n",
       " <a href=\"https://www.congress.gov/congressional-record/browse-by-date\">Browse By Date</a>,\n",
       " <a href=\"/congressional-record/congressional-record-index\">CR Index</a>,\n",
       " <a href=\"https://www.congress.gov/congressional-record/about\" target=\"_blank\">About</a>,\n",
       " <a class=\"external\" href=\"https://itunes.apple.com/us/app/the-congressional-record/id492077075\" target=\"_blank\">App for iPhone or iPad<span> External link</span></a>,\n",
       " <a href=\"/111/crec/2009/01/06/CREC-2009-01-06.pdf\" target=\"_blank\">Part 1</a>,\n",
       " <a href=\"/111/crec/2009/01/06/CREC-2009-01-06.pdf-bk2\" target=\"_blank\">Part 2</a>,\n",
       " <a href=\"#year-and-page-number\" id=\"tabs-issue-toggle\"></a>,\n",
       " <a href=\"/congressional-record/2009/01/06/daily-digest\">Daily Digest</a>,\n",
       " <a href=\"/congressional-record/2009/01/06/senate-section\">Senate</a>,\n",
       " <a href=\"/congressional-record/2009/01/06/house-section\">House of Representatives</a>,\n",
       " <a href=\"/congressional-record/2009/01/06/extensions-of-remarks-section\">Extensions of Remarks</a>,\n",
       " <a href=\"/111/crec/2009/01/06/CREC-2009-01-06-senate.pdf\" target=\"_blank\">Senate Section</a>,\n",
       " <a href=\"/congressional-record/2009/01/06/senate-section/article/S1-1\">Senate; Congressional Record Vol. 155, No. 1</a>,\n",
       " <a href=\"/111/crec/2009/01/06/CREC-2009-01-06-pt1-PgS1.pdf\" target=\"_blank\">PDF</a>,\n",
       " <a href=\"/congressional-record/volume-155/senate-section/page/S1\">S1</a>,\n",
       " <a href=\"/congressional-record/2009/01/06/senate-section/article/S1-2\">prayer; Congressional Record Vol. 155, No. 1</a>,\n",
       " <a href=\"/111/crec/2009/01/06/CREC-2009-01-06-pt1-PgS1-2.pdf\" target=\"_blank\">PDF</a>,\n",
       " <a href=\"/congressional-record/volume-155/senate-section/page/S1\">S1</a>,\n",
       " <a href=\"/congressional-record/2009/01/06/senate-section/article/S1-3\">PLEDGE OF ALLEGIANCE; Congressional Record Vol. 155, No. 1</a>,\n",
       " <a href=\"/111/crec/2009/01/06/CREC-2009-01-06-pt1-PgS1-3.pdf\" target=\"_blank\">PDF</a>,\n",
       " <a href=\"/congressional-record/volume-155/senate-section/page/S1\">S1</a>,\n",
       " <a href=\"/congressional-record/2009/01/06/senate-section/article/S1-4\">CERTIFICATES OF ELECTION AND CREDENTIALS; Congressional Record Vol. 155, No. 1</a>,\n",
       " <a href=\"/111/crec/2009/01/06/CREC-2009-01-06-pt1-PgS1-4.pdf\" target=\"_blank\">PDF</a>,\n",
       " <a href=\"/congressional-record/volume-155/senate-section/page/S1\">S1</a>,\n",
       " <a href=\"/congressional-record/2009/01/06/senate-section/article/S4-1\">ADMINISTRATION OF OATH OF OFFICE; Congressional Record Vol. 155, No. 1</a>,\n",
       " <a href=\"/111/crec/2009/01/06/CREC-2009-01-06-pt1-PgS4.pdf\" target=\"_blank\">PDF</a>,\n",
       " <a href=\"/congressional-record/volume-155/senate-section/page/S4\">S4</a>,\n",
       " <a href=\"/congressional-record/2009/01/06/senate-section/article/S4-2\">RECOGNITION OF THE MAJORITY LEADER; Congressional Record Vol. 155, No. 1</a>,\n",
       " <a href=\"/111/crec/2009/01/06/CREC-2009-01-06-pt1-PgS4-2.pdf\" target=\"_blank\">PDF</a>,\n",
       " <a href=\"/congressional-record/volume-155/senate-section/page/S4\">S4</a>,\n",
       " <a href=\"/congressional-record/2009/01/06/senate-section/article/S4-3\">QUORUM CALL; Congressional Record Vol. 155, No. 1</a>,\n",
       " <a href=\"/111/crec/2009/01/06/CREC-2009-01-06-pt1-PgS4-3.pdf\" target=\"_blank\">PDF</a>,\n",
       " <a href=\"/congressional-record/volume-155/senate-section/page/S4\">S4</a>,\n",
       " <a href=\"/congressional-record/2009/01/06/senate-section/article/S5-1\">LIST OF SENATORS BY STATES; Congressional Record Vol. 155, No. 1</a>,\n",
       " <a href=\"/111/crec/2009/01/06/CREC-2009-01-06-pt1-PgS5.pdf\" target=\"_blank\">PDF</a>,\n",
       " <a href=\"/congressional-record/volume-155/senate-section/page/S5\">S5</a>,\n",
       " <a href=\"/congressional-record/2009/01/06/senate-section/article/S5-2\">INFORMING THE PRESIDENT OF THE UNITED STATES THAT A QUORUM OF EACH HOUSE IS ASSEMBLED; Congressional Record Vol. 155, No. 1</a>,\n",
       " <a href=\"/111/crec/2009/01/06/CREC-2009-01-06-pt1-PgS5-2.pdf\" target=\"_blank\">PDF</a>,\n",
       " <a href=\"/congressional-record/volume-155/senate-section/page/S5\">S5</a>,\n",
       " <a href=\"/congressional-record/2009/01/06/senate-section/article/S5-3\">INFORMING THE HOUSE OF REPRESENTATIVES THAT A QUORUM OF THE SENATE IS ASSEMBLED; Congressional Record Vol. 155, No. 1</a>,\n",
       " <a href=\"/111/crec/2009/01/06/CREC-2009-01-06-pt1-PgS5-3.pdf\" target=\"_blank\">PDF</a>,\n",
       " <a href=\"/congressional-record/volume-155/senate-section/page/S5\">S5</a>,\n",
       " <a href=\"/congressional-record/2009/01/06/senate-section/article/S5-4\">SETTING THE DATE OF JANUARY 8, 2009, FOR THE COUNTING OF ELECTORAL VOTES; Congressional Record Vol. 155, No. 1</a>,\n",
       " <a href=\"/111/crec/2009/01/06/CREC-2009-01-06-pt1-PgS5-4.pdf\" target=\"_blank\">PDF</a>,\n",
       " <a href=\"/congressional-record/volume-155/senate-section/page/S5\">S5</a>,\n",
       " <a href=\"/congressional-record/2009/01/06/senate-section/article/S6-1\">EXTENDING THE LIFE OF THE JOINT CONGRESSIONAL COMMITTEE ON INAUGURAL CEREMONIES; Congressional Record Vol. 155, No. 1</a>,\n",
       " <a href=\"/111/crec/2009/01/06/CREC-2009-01-06-pt1-PgS6.pdf\" target=\"_blank\">PDF</a>,\n",
       " <a href=\"/congressional-record/volume-155/senate-section/page/S6\">S6</a>,\n",
       " <a href=\"/congressional-record/2009/01/06/senate-section/article/S6-2\">FIXING THE HOUR OF THE DAILY MEETING OF THE SENATE; Congressional Record Vol. 155, No. 1</a>,\n",
       " <a href=\"/111/crec/2009/01/06/CREC-2009-01-06-pt1-PgS6-2.pdf\" target=\"_blank\">PDF</a>,\n",
       " <a href=\"/congressional-record/volume-155/senate-section/page/S6\">S6</a>,\n",
       " <a href=\"/congressional-record/2009/01/06/senate-section/article/S6-3\">UNANIMOUS CONSENT AGREEMENT; Congressional Record Vol. 155, No. 1</a>,\n",
       " <a href=\"/111/crec/2009/01/06/CREC-2009-01-06-pt1-PgS6-3.pdf\" target=\"_blank\">PDF</a>,\n",
       " <a href=\"/congressional-record/volume-155/senate-section/page/S6\">S6</a>,\n",
       " <a href=\"/congressional-record/2009/01/06/senate-section/article/S6-4\">ORDER OF BUSINESS; Congressional Record Vol. 155, No. 1</a>,\n",
       " <a href=\"/111/crec/2009/01/06/CREC-2009-01-06-pt1-PgS6-4.pdf\" target=\"_blank\">PDF</a>,\n",
       " <a href=\"/congressional-record/volume-155/senate-section/page/S6\">S6</a>,\n",
       " <a href=\"/congressional-record/2009/01/06/senate-section/article/S7-1\">MORNING BUSINESS; Congressional Record Vol. 155, No. 1</a>,\n",
       " <a href=\"/111/crec/2009/01/06/CREC-2009-01-06-pt1-PgS7.pdf\" target=\"_blank\">PDF</a>,\n",
       " <a href=\"/congressional-record/volume-155/senate-section/page/S7\">S7</a>,\n",
       " <a href=\"/congressional-record/2009/01/06/senate-section/article/S7-2\">APPOINTMENTS; Congressional Record Vol. 155, No. 1</a>,\n",
       " <a href=\"/111/crec/2009/01/06/CREC-2009-01-06-pt1-PgS7-2.pdf\" target=\"_blank\">PDF</a>,\n",
       " <a href=\"/congressional-record/volume-155/senate-section/page/S7\">S7</a>,\n",
       " <a href=\"/congressional-record/2009/01/06/senate-section/article/S7-3\">WELCOMING THE 111TH CONGRESS; Congressional Record Vol. 155, No. 1</a>,\n",
       " <a href=\"/111/crec/2009/01/06/CREC-2009-01-06-pt1-PgS7-3.pdf\" target=\"_blank\">PDF</a>,\n",
       " <a href=\"/congressional-record/volume-155/senate-section/page/S7\">S7</a>,\n",
       " <a href=\"/congressional-record/2009/01/06/senate-section/article/S8-1\">EXECUTIVE COMMUNICATION; Congressional Record Vol. 155, No. 1</a>,\n",
       " <a href=\"/111/crec/2009/01/06/CREC-2009-01-06-pt1-PgS8.pdf\" target=\"_blank\">PDF</a>,\n",
       " <a href=\"/congressional-record/volume-155/senate-section/page/S8\">S8</a>,\n",
       " <a href=\"/congressional-record/2009/01/06/senate-section/article/S9-1\">TRIBUTE TO CLAIBORNE PELL; Congressional Record Vol. 155, No. 1</a>,\n",
       " <a href=\"/111/crec/2009/01/06/CREC-2009-01-06-pt1-PgS9.pdf\" target=\"_blank\">PDF</a>,\n",
       " <a href=\"/congressional-record/volume-155/senate-section/page/S9\">S9</a>,\n",
       " <a href=\"/congressional-record/2009/01/06/senate-section/article/S11-1\">FIFTY YEARS IN THE SENATE; Congressional Record Vol. 155, No. 1</a>,\n",
       " <a href=\"/111/crec/2009/01/06/CREC-2009-01-06-pt1-PgS11.pdf\" target=\"_blank\">PDF</a>,\n",
       " <a href=\"/congressional-record/volume-155/senate-section/page/S11\">S11</a>,\n",
       " <a href=\"/congressional-record/2009/01/06/senate-section/article/S12-1\">MINNESOTA SENATE RACE; Congressional Record Vol. 155, No. 1</a>,\n",
       " <a href=\"/111/crec/2009/01/06/CREC-2009-01-06-pt1-PgS12.pdf\" target=\"_blank\">PDF</a>,\n",
       " <a href=\"/congressional-record/volume-155/senate-section/page/S12\">S12</a>,\n",
       " <a href=\"/congressional-record/2009/01/06/senate-section/article/S12-2\">OPENING OF THE 111TH CONGRESS; Congressional Record Vol. 155, No. 1</a>,\n",
       " <a href=\"/111/crec/2009/01/06/CREC-2009-01-06-pt1-PgS12-2.pdf\" target=\"_blank\">PDF</a>,\n",
       " <a href=\"/congressional-record/volume-155/senate-section/page/S12\">S12</a>,\n",
       " <a href=\"/congressional-record/2009/01/06/senate-section/article/S14-1\">ERIC HOLDER CONFIRMATION HEARING; Congressional Record Vol. 155, No. 1</a>,\n",
       " <a href=\"/111/crec/2009/01/06/CREC-2009-01-06-pt1-PgS14.pdf\" target=\"_blank\">PDF</a>,\n",
       " <a href=\"/congressional-record/volume-155/senate-section/page/S14\">S14</a>,\n",
       " <a href=\"/congressional-record/2009/01/06/senate-section/article/S19-1\">SEC INVESTIGATION INTO PEQUOT CAPITAL MANAGEMENT TRADING; Congressional Record Vol. 155, No. 1</a>,\n",
       " <a href=\"/111/crec/2009/01/06/CREC-2009-01-06-pt1-PgS19.pdf\" target=\"_blank\">PDF</a>,\n",
       " <a href=\"/congressional-record/volume-155/senate-section/page/S19\">S19</a>,\n",
       " <a href=\"/congressional-record/2009/01/06/senate-section/article/S20-1\">ISRAEL AND GRIFFIN BELL; Congressional Record Vol. 155, No. 1</a>,\n",
       " <a href=\"/111/crec/2009/01/06/CREC-2009-01-06-pt1-PgS20.pdf\" target=\"_blank\">PDF</a>,\n",
       " <a href=\"/congressional-record/volume-155/senate-section/page/S20\">S20</a>,\n",
       " <a href=\"/congressional-record/2009/01/06/senate-section/article/S21-1\">TRIBUTE TO CLAIBORNE PELL; Congressional Record Vol. 155, No. 1</a>,\n",
       " <a href=\"/111/crec/2009/01/06/CREC-2009-01-06-pt1-PgS21.pdf\" target=\"_blank\">PDF</a>,\n",
       " <a href=\"/congressional-record/volume-155/senate-section/page/S21\">S21</a>,\n",
       " <a href=\"/congressional-record/2009/01/06/senate-section/article/S23-1\">GAZA RESOLUTION; Congressional Record Vol. 155, No. 1</a>,\n",
       " <a href=\"/111/crec/2009/01/06/CREC-2009-01-06-pt1-PgS23.pdf\" target=\"_blank\">PDF</a>,\n",
       " <a href=\"/congressional-record/volume-155/senate-section/page/S23\">S23</a>,\n",
       " <a href=\"/congressional-record/2009/01/06/senate-section/article/S25-1\">PAROCHIAL SPENDING; Congressional Record Vol. 155, No. 1</a>,\n",
       " <a href=\"/111/crec/2009/01/06/CREC-2009-01-06-pt1-PgS25.pdf\" target=\"_blank\">PDF</a>,\n",
       " <a href=\"/congressional-record/volume-155/senate-section/page/S25\">S25</a>,\n",
       " <a href=\"/congressional-record/2009/01/06/senate-section/article/S27-1\">ORDER OF PROCEDURE; Congressional Record Vol. 155, No. 1</a>,\n",
       " <a href=\"/111/crec/2009/01/06/CREC-2009-01-06-pt1-PgS27.pdf\" target=\"_blank\">PDF</a>,\n",
       " <a href=\"/congressional-record/volume-155/senate-section/page/S27\">S27</a>,\n",
       " <a href=\"/congressional-record/2009/01/06/senate-section/article/S27-2\">TRIBUTE TO CHARLES KIEFFER; Congressional Record Vol. 155, No. 1</a>,\n",
       " <a href=\"/111/crec/2009/01/06/CREC-2009-01-06-pt1-PgS27-2.pdf\" target=\"_blank\">PDF</a>,\n",
       " <a href=\"/congressional-record/volume-155/senate-section/page/S27\">S27</a>,\n",
       " <a href=\"/congressional-record/2009/01/06/senate-section/article/S28-1\">50TH ANNIVERSARY OF SENATOR BYRD'S SWEARING IN; Congressional Record Vol. 155, No. 1</a>,\n",
       " <a href=\"/111/crec/2009/01/06/CREC-2009-01-06-pt1-PgS28.pdf\" target=\"_blank\">PDF</a>,\n",
       " <a href=\"/congressional-record/volume-155/senate-section/page/S28\">S28</a>,\n",
       " <a href=\"/congressional-record/2009/01/06/senate-section/article/S28-2\">IDAHOANS SPEAK OUT ON HIGH ENERGY PRICES; Congressional Record Vol. 155, No. 1</a>,\n",
       " <a href=\"/111/crec/2009/01/06/CREC-2009-01-06-pt1-PgS28-2.pdf\" target=\"_blank\">PDF</a>,\n",
       " <a href=\"/congressional-record/volume-155/senate-section/page/S28\">S28</a>,\n",
       " <a href=\"/congressional-record/2009/01/06/senate-section/article/S30-1\">ADDITIONAL STATEMENTS; Congressional Record Vol. 155, No. 1</a>,\n",
       " <a href=\"/111/crec/2009/01/06/CREC-2009-01-06-pt1-PgS30.pdf\" target=\"_blank\">PDF</a>,\n",
       " <a href=\"/congressional-record/volume-155/senate-section/page/S30\">S30</a>,\n",
       " <a href=\"/congressional-record/2009/01/06/senate-section/article/S30-2\">TRIBUTE TO HARRIET CORNELL; Congressional Record Vol. 155, No. 1</a>,\n",
       " <a href=\"/111/crec/2009/01/06/CREC-2009-01-06-pt1-PgS30-2.pdf\" target=\"_blank\">PDF</a>,\n",
       " <a href=\"/congressional-record/volume-155/senate-section/page/S30\">S30</a>,\n",
       " <a href=\"/congressional-record/2009/01/06/senate-section/article/S30-3\">MESSAGE FROM THE HOUSE; Congressional Record Vol. 155, No. 1</a>,\n",
       " <a href=\"/111/crec/2009/01/06/CREC-2009-01-06-pt1-PgS30-3.pdf\" target=\"_blank\">PDF</a>,\n",
       " <a href=\"/congressional-record/volume-155/senate-section/page/S30\">S30</a>,\n",
       " <a href=\"/congressional-record/2009/01/06/senate-section/article/S31-1\">MEASURES REFERRED; Congressional Record Vol. 155, No. 1</a>,\n",
       " <a href=\"/111/crec/2009/01/06/CREC-2009-01-06-pt1-PgS31.pdf\" target=\"_blank\">PDF</a>,\n",
       " <a href=\"/congressional-record/volume-155/senate-section/page/S31\">S31</a>,\n",
       " <a href=\"/congressional-record/2009/01/06/senate-section/article/S31-2\">MEASURES READ THE FIRST TIME; Congressional Record Vol. 155, No. 1</a>,\n",
       " <a href=\"/111/crec/2009/01/06/CREC-2009-01-06-pt1-PgS31-2.pdf\" target=\"_blank\">PDF</a>,\n",
       " <a href=\"/congressional-record/volume-155/senate-section/page/S31\">S31</a>,\n",
       " <a href=\"/congressional-record/2009/01/06/senate-section/article/S31-3\">ENROLLED BILLS AND JOINT RESOLUTION PRESENTED; Congressional Record Vol. 155, No. 1</a>,\n",
       " <a href=\"/111/crec/2009/01/06/CREC-2009-01-06-pt1-PgS31-3.pdf\" target=\"_blank\">PDF</a>,\n",
       " <a href=\"/congressional-record/volume-155/senate-section/page/S31\">S31</a>,\n",
       " <a href=\"/congressional-record/2009/01/06/senate-section/article/S31-4\">EXECUTIVE AND OTHER COMMUNICATIONS; Congressional Record Vol. 155, No. 1</a>,\n",
       " <a href=\"/111/crec/2009/01/06/CREC-2009-01-06-pt1-PgS31-4.pdf\" target=\"_blank\">PDF</a>,\n",
       " <a href=\"/congressional-record/volume-155/senate-section/page/S31\">S31</a>,\n",
       " <a href=\"/congressional-record/2009/01/06/senate-section/article/S39-1\">INTRODUCTION OF BILLS AND JOINT RESOLUTIONS; Congressional Record Vol. 155, No. 1</a>,\n",
       " <a href=\"/111/crec/2009/01/06/CREC-2009-01-06-pt1-PgS39.pdf\" target=\"_blank\">PDF</a>,\n",
       " <a href=\"/congressional-record/volume-155/senate-section/page/S39\">S39</a>,\n",
       " <a href=\"/congressional-record/2009/01/06/senate-section/article/S43-1\">SUBMISSION OF CONCURRENT AND SENATE RESOLUTIONS; Congressional Record Vol. 155, No. 1</a>,\n",
       " <a href=\"/111/crec/2009/01/06/CREC-2009-01-06-pt1-PgS43.pdf\" target=\"_blank\">PDF</a>,\n",
       " <a href=\"/congressional-record/volume-155/senate-section/page/S43\">S43</a>,\n",
       " <a href=\"/congressional-record/2009/01/06/senate-section/article/S44-1\">STATEMENTS ON INTRODUCED BILLS AND JOINT RESOLUTIONS; Congressional Record Vol. 155, No. 1</a>,\n",
       " <a href=\"/111/crec/2009/01/06/CREC-2009-01-06-pt1-PgS44.pdf\" target=\"_blank\">PDF</a>,\n",
       " <a href=\"/congressional-record/volume-155/senate-section/page/S44\">S44</a>,\n",
       " <a href=\"/congressional-record/2009/01/06/senate-section/article/S147-1\">SUBMITTED RESOLUTIONS; Congressional Record Vol. 155, No. 1</a>,\n",
       " <a href=\"/111/crec/2009/01/06/CREC-2009-01-06-pt1-PgS147.pdf\" target=\"_blank\">PDF</a>,\n",
       " <a href=\"/congressional-record/volume-155/senate-section/page/S147\">S147</a>,\n",
       " <a href=\"/congressional-record/2009/01/06/senate-section/article/S147-2\">SENATE RESOLUTION 2--INFORMING THE HOUSE OF REPRESENTATIVES THAT A QUORUM OF THE SENATE IS ASSEMBLED; Congressional Record Vol. 155, No. 1</a>,\n",
       " <a href=\"/111/crec/2009/01/06/CREC-2009-01-06-pt1-PgS147-2.pdf\" target=\"_blank\">PDF</a>,\n",
       " <a href=\"/congressional-record/volume-155/senate-section/page/S147\">S147</a>,\n",
       " <a href=\"/congressional-record/2009/01/06/senate-section/article/S147-3\">SENATE RESOLUTION 3--FIXING THE HOUR OF DAILY MEETING OF THE SENATE; Congressional Record Vol. 155, No. 1</a>,\n",
       " <a href=\"/111/crec/2009/01/06/CREC-2009-01-06-pt1-PgS147-3.pdf\" target=\"_blank\">PDF</a>,\n",
       " <a href=\"/congressional-record/volume-155/senate-section/page/S147\">S147</a>,\n",
       " <a href=\"/congressional-record/2009/01/06/senate-section/article/S148-1\">SENATE RESOLUTION 4--EXPRESSING THE SENSE OF THE SENATE THAT THE\n",
       "    SUPREME COURT OF THE UNITED STATES ERRONEOUSLY DECIDED KENNEDY V.; Congressional Record Vol. 155, No. 1</a>,\n",
       " <a href=\"/111/crec/2009/01/06/CREC-2009-01-06-pt1-PgS148.pdf\" target=\"_blank\">PDF</a>,\n",
       " <a href=\"/congressional-record/volume-155/senate-section/page/S148\">S148</a>,\n",
       " <a href=\"/congressional-record/2009/01/06/senate-section/article/S148-2\">SENATE RESOLUTION 5--EXPRESSING THE SUPPORT FOR PRAYER AT SCHOOL BOARD MEETINGS; Congressional Record Vol. 155, No. 1</a>,\n",
       " <a href=\"/111/crec/2009/01/06/CREC-2009-01-06-pt1-PgS148-2.pdf\" target=\"_blank\">PDF</a>,\n",
       " <a href=\"/congressional-record/volume-155/senate-section/page/S148\">S148</a>,\n",
       " <a href=\"/congressional-record/2009/01/06/senate-section/article/S148-3\">SENATE RESOLUTION 6--EXPRESSING SOLIDARITY WITH ISRAEL IN ISRAEL'S DEFENSE AGAINST TERRORISM IN THE GAZA STRIP; Congressional Record Vol. 155, No. 1</a>,\n",
       " <a href=\"/111/crec/2009/01/06/CREC-2009-01-06-pt1-PgS148-3.pdf\" target=\"_blank\">PDF</a>,\n",
       " <a href=\"/congressional-record/volume-155/senate-section/page/S148\">S148</a>,\n",
       " <a href=\"/congressional-record/2009/01/06/senate-section/article/S149-1\">SENATE RESOLUTION 7--EXPRESSING THE SENSE OF THE SENATE REGARDING DESIGNATION OF THE MONTH OF NOVEMBER AS ``NATIONAL MILITARY FAMILY MONTH''; Congressional Record Vol. 155, No. 1</a>,\n",
       " <a href=\"/111/crec/2009/01/06/CREC-2009-01-06-pt1-PgS149.pdf\" target=\"_blank\">PDF</a>,\n",
       " <a href=\"/congressional-record/volume-155/senate-section/page/S149\">S149</a>,\n",
       " <a href=\"/congressional-record/2009/01/06/senate-section/article/S149-2\">SENATE RESOLUTION 8--RELATIVE TO THE DEATH OF THE HONORABLE CLAIBORNE DE BORDA PELL, FORMER UNITED STATES SENATOR FOR THE STATE OF RHODE ISLAND; Congressional Record Vol. 155, No. 1</a>,\n",
       " <a href=\"/111/crec/2009/01/06/CREC-2009-01-06-pt1-PgS149-2.pdf\" target=\"_blank\">PDF</a>,\n",
       " <a href=\"/congressional-record/volume-155/senate-section/page/S149\">S149</a>,\n",
       " <a href=\"/congressional-record/2009/01/06/senate-section/article/S150-1\">SENATE CONCURRENT RESOLUTION 1--TO PROVIDE FOR THE COUNTING ON JANUARY 8, 2009, OF THE ELECTORAL VOTES FOR PRESIDENT AND VICE PRESIDENT OF THE UNITED STATES; Congressional Record Vol. 155, No. 1</a>,\n",
       " <a href=\"/111/crec/2009/01/06/CREC-2009-01-06-pt1-PgS150.pdf\" target=\"_blank\">PDF</a>,\n",
       " <a href=\"/congressional-record/volume-155/senate-section/page/S150\">S150</a>,\n",
       " <a href=\"/congressional-record/2009/01/06/senate-section/article/S150-2\">SENATE CONCURRENT RESOLUTION 2--EXTENDING THE LIFE OF THE JOINT CONGRESSIONAL COMMITTEE ON INAUGURAL CEREMONIES; Congressional Record Vol. 155, No. 1</a>,\n",
       " <a href=\"/111/crec/2009/01/06/CREC-2009-01-06-pt1-PgS150-2.pdf\" target=\"_blank\">PDF</a>,\n",
       " <a href=\"/congressional-record/volume-155/senate-section/page/S150\">S150</a>,\n",
       " <a href=\"/congressional-record/2009/01/06/senate-section/article/S150-3\">NOTICES OF HEARINGS; Congressional Record Vol. 155, No. 1</a>,\n",
       " <a href=\"/111/crec/2009/01/06/CREC-2009-01-06-pt1-PgS150-3.pdf\" target=\"_blank\">PDF</a>,\n",
       " <a href=\"/congressional-record/volume-155/senate-section/page/S150\">S150</a>,\n",
       " <a href=\"/congressional-record/2009/01/06/senate-section/article/S150-4\">APPOINTMENT; Congressional Record Vol. 155, No. 1</a>,\n",
       " <a href=\"/111/crec/2009/01/06/CREC-2009-01-06-pt1-PgS150-4.pdf\" target=\"_blank\">PDF</a>,\n",
       " <a href=\"/congressional-record/volume-155/senate-section/page/S150\">S150</a>,\n",
       " <a href=\"/congressional-record/2009/01/06/senate-section/article/S150-5\">ENSURING COMPENSATION AND OTHER EMOLUMENTS ATTACHED TO THE OFFICE OF SECRETARY OF THE INTERIOR; Congressional Record Vol. 155, No. 1</a>,\n",
       " <a href=\"/111/crec/2009/01/06/CREC-2009-01-06-pt1-PgS150-5.pdf\" target=\"_blank\">PDF</a>,\n",
       " <a href=\"/congressional-record/volume-155/senate-section/page/S150\">S150</a>,\n",
       " <a href=\"/congressional-record/2009/01/06/senate-section/article/S151-1\">MEASURES READ THE FIRST TIME--S. 1, S. 2, S. 3, S. 4, S. 5, S. 6, S. 7, S. 8, S. 9, S. 10, S. 33, and S. 34; Congressional Record Vol. 155, No. 1</a>,\n",
       " <a href=\"/111/crec/2009/01/06/CREC-2009-01-06-pt1-PgS151.pdf\" target=\"_blank\">PDF</a>,\n",
       " <a href=\"/congressional-record/volume-155/senate-section/page/S151\">S151</a>,\n",
       " <a href=\"/congressional-record/2009/01/06/senate-section/article/S151-2\">CLAIBORNE DE BORDA PELL; Congressional Record Vol. 155, No. 1</a>,\n",
       " <a href=\"/111/crec/2009/01/06/CREC-2009-01-06-pt1-PgS151-2.pdf\" target=\"_blank\">PDF</a>,\n",
       " <a href=\"/congressional-record/volume-155/senate-section/page/S151\">S151</a>,\n",
       " <a href=\"/congressional-record/2009/01/06/senate-section/article/S152-1\">ORDERS FOR WEDNESDAY, JANUARY 7, 2009; Congressional Record Vol. 155, No. 1</a>,\n",
       " <a href=\"/111/crec/2009/01/06/CREC-2009-01-06-pt1-PgS152.pdf\" target=\"_blank\">PDF</a>,\n",
       " <a href=\"/congressional-record/volume-155/senate-section/page/S152\">S152</a>,\n",
       " <a href=\"/congressional-record/2009/01/06/senate-section/article/S152-2\">ADJOURNMENT UNTIL 11:30 A.M. TOMORROW; Congressional Record Vol. 155, No. 1</a>,\n",
       " <a href=\"/111/crec/2009/01/06/CREC-2009-01-06-pt1-PgS152-2.pdf\" target=\"_blank\">PDF</a>,\n",
       " <a href=\"/congressional-record/volume-155/senate-section/page/S152\">S152</a>,\n",
       " <a class=\"logo_congress\" href=\"https://www.congress.gov\"><span><img alt=\"Congress.gov\" src=\"https://www.congress.gov/img/svg/congress-gov-logo-no-color.svg\" width=\"212\"/></span></a>,\n",
       " <a href=\"https://www.congress.gov/legislation?q=%7B%22congress%22%3A116%7D\">Legislation</a>,\n",
       " <a href=\"https://www.congress.gov/congressional-record\">Congressional Record</a>,\n",
       " <a href=\"https://www.congress.gov/congressional-record/congressional-record-index\">Congressional Record Index</a>,\n",
       " <a href=\"https://www.congress.gov/members?q=%7B%22congress%22%3A116%7D\">Members</a>,\n",
       " <a href=\"https://www.congress.gov/committees\">Committees</a>,\n",
       " <a href=\"https://www.congress.gov/congressional-reports\">Committee Reports</a>,\n",
       " <a href=\"https://www.congress.gov/nominations\">Nominations</a>,\n",
       " <a href=\"https://www.congress.gov/treaties\">Treaty Documents</a>,\n",
       " <a href=\"/house-communications\">House Communications</a>,\n",
       " <a href=\"/senate-communications\">Senate Communications</a>,\n",
       " <a href=\"https://www.congress.gov/legislative-process\">Legislative Process</a>,\n",
       " <a href=\"https://www.congress.gov/about\">About Congress.gov</a>,\n",
       " <a href=\"https://www.congress.gov/help\">Help</a>,\n",
       " <a href=\"https://www.congress.gov/survey\">Feedback</a>,\n",
       " <a href=\"https://www.congress.gov/contact-us\">Contact Us</a>,\n",
       " <a href=\"https://www.congress.gov/help/legislative-glossary\">Glossary</a>,\n",
       " <a href=\"https://www.congress.gov/help/search-tools-overview\">Search Tools</a>,\n",
       " <a href=\"http://www.loc.gov/rr/askalib/ask-law.html\" target=\"_blank\">Ask a Law Librarian</a>,\n",
       " <a href=\"http://www.loc.gov/law/opportunities/seminar-orient.php\" target=\"_blank\">Webinars</a>,\n",
       " <a href=\"https://twitter.com/congressdotgov\" target=\"_blank\"><i class=\"icon twitter\"></i>Twitter</a>,\n",
       " <a href=\"https://www.youtube.com/playlist?list=PLpAGnumt6iV6j07liSyksxaQe_KmPbeow\" target=\"_blank\"><i class=\"icon youtube\"></i>YouTube</a>,\n",
       " <a href=\"https://www.congress.gov/video\"><i class=\"fa fa-video-camera\"></i> Video</a>,\n",
       " <a href=\"https://www.congress.gov/rss\">RSS &amp; Email Alerts</a>,\n",
       " <a href=\"http://blogs.loc.gov/law/\" target=\"_blank\">Blog – In Custodia Legis: Law Librarians of Congress</a>,\n",
       " <a href=\"/resources/\" target=\"_blank\">Congress.gov Resources</a>,\n",
       " <a href=\"https://crsreports.congress.gov/\" target=\"_blank\">CRS Reports</a>,\n",
       " <a href=\"http://uscode.house.gov/\" target=\"_blank\">U.S. Code</a>,\n",
       " <a href=\"https://www.govinfo.gov/\" target=\"_blank\">GPO govinfo</a>,\n",
       " <a href=\"http://www.loc.gov/law/\" target=\"_blank\">Law Library of Congress</a>,\n",
       " <a href=\"http://www.loc.gov/law/help/guide.php\" target=\"_blank\">Guide to Law Online</a>,\n",
       " <a href=\"http://www.loc.gov/law/find/educational-resources/\">Teacher Lesson Plans</a>,\n",
       " <a href=\"https://www.congress.gov/state-legislature-websites\" target=\"_blank\">State Legislature Websites</a>,\n",
       " <a href=\"https://www.congress.gov/about/data\">Bill Status Bulk Data</a>,\n",
       " <a href=\"https://www.congress.gov/roll-call-votes\">Roll Call Votes</a>,\n",
       " <a href=\"https://constitution.congress.gov\" target=\"_blank\">Constitution Annotated</a>,\n",
       " <a href=\"https://www.loc.gov/law/help/legal-reports.php\" target=\"_blank\">Law Library Reports</a>,\n",
       " <a href=\"http://www.house.gov/\" target=\"_blank\">House.gov</a>,\n",
       " <a href=\"http://clerk.house.gov/floorsummary/floor.aspx\" target=\"_blank\">Floor Activities</a>,\n",
       " <a href=\"http://www.house.gov/representatives/\" target=\"_blank\">Representatives</a>,\n",
       " <a href=\"http://www.house.gov/committees/\" target=\"_blank\">Committees</a>,\n",
       " <a href=\"https://www.congress.gov/committees/video\">Hearings (Video)</a>,\n",
       " <a href=\"http://docs.house.gov/floor/\" target=\"_blank\">Bills to Be Considered</a>,\n",
       " <a href=\"http://clerk.house.gov/member_info/leadership.aspx\" target=\"_blank\">Leadership</a>,\n",
       " <a href=\"http://history.house.gov/\" target=\"_blank\">History, Art &amp; Archives</a>,\n",
       " <a href=\"/resources/display/content/House+of+Representatives\" target=\"_blank\">More House Resources</a>,\n",
       " <a href=\"http://www.senate.gov/\" target=\"_blank\">Senate.gov</a>,\n",
       " <a href=\"http://www.senate.gov/legislative/LIS/floor_activity/floor_activity.htm\" target=\"_blank\">On the Senate Floor</a>,\n",
       " <a href=\"http://www.senate.gov/general/contact_information/senators_cfm.cfm\" target=\"_blank\">Senators</a>,\n",
       " <a href=\"http://www.senate.gov/pagelayout/committees/d_three_sections_with_teasers/committees_home.htm\" target=\"_blank\">Committees</a>,\n",
       " <a href=\"http://www.senate.gov/pagelayout/committees/b_three_sections_with_teasers/committee_hearings.htm\" target=\"_blank\">Hearings (Schedule)</a>,\n",
       " <a href=\"http://www.senate.gov/pagelayout/senators/a_three_sections_with_teasers/leadership.htm\" target=\"_blank\">Leadership</a>,\n",
       " <a href=\"http://www.senate.gov/pagelayout/reference/g_three_sections_with_teasers/reference_home.htm\" target=\"_blank\">History, Art &amp; Statistics</a>,\n",
       " <a href=\"/resources/display/content/Senate\" target=\"_blank\">More Senate Resources</a>,\n",
       " <a href=\"https://www.loc.gov/legal\">Legal</a>,\n",
       " <a href=\"https://www.congress.gov/accessibility\">Accessibility</a>,\n",
       " <a href=\"https://www.congress.gov/help\">Help</a>,\n",
       " <a href=\"https://www.congress.gov/contact-us\">Contact Us</a>,\n",
       " <a href=\"http://www.loc.gov/global/disclaim.html\" target=\"_blank\">External Link Disclaimer</a>,\n",
       " <a href=\"http://www.usa.gov/\" target=\"_blank\">USA.gov</a>,\n",
       " <a class=\"logo-loc\" href=\"http://www.loc.gov/\"><span><img alt=\"Library of Congress\" src=\"https://www.congress.gov/img/svg/loc-gov-logo.svg\" width=\"114\"/></span></a>,\n",
       " <a class=\"logo-copyright\" href=\"http://www.copyright.gov/\"><span><img alt=\"Copyright.gov\" src=\"https://www.congress.gov/img/svg/copyright-logo.svg\" width=\"167\"/></span></a>,\n",
       " <a href=\"#\" id=\"sticky-back-to-top\"><i></i><span>Back to top</span></a>]"
      ]
     },
     "execution_count": 19,
     "metadata": {},
     "output_type": "execute_result"
    }
   ],
   "source": [
    "soup.find_all('a')"
   ]
  },
  {
   "cell_type": "code",
   "execution_count": 26,
   "metadata": {},
   "outputs": [
    {
     "data": {
      "text/plain": [
       "[<a href=\"/congressional-record/2009/01/06/senate-section/article/S1-1\">Senate; Congressional Record Vol. 155, No. 1</a>,\n",
       " <a href=\"/111/crec/2009/01/06/CREC-2009-01-06-pt1-PgS1.pdf\" target=\"_blank\">PDF</a>,\n",
       " <a href=\"/congressional-record/volume-155/senate-section/page/S1\">S1</a>,\n",
       " <a href=\"/congressional-record/2009/01/06/senate-section/article/S1-2\">prayer; Congressional Record Vol. 155, No. 1</a>,\n",
       " <a href=\"/111/crec/2009/01/06/CREC-2009-01-06-pt1-PgS1-2.pdf\" target=\"_blank\">PDF</a>,\n",
       " <a href=\"/congressional-record/volume-155/senate-section/page/S1\">S1</a>,\n",
       " <a href=\"/congressional-record/2009/01/06/senate-section/article/S1-3\">PLEDGE OF ALLEGIANCE; Congressional Record Vol. 155, No. 1</a>,\n",
       " <a href=\"/111/crec/2009/01/06/CREC-2009-01-06-pt1-PgS1-3.pdf\" target=\"_blank\">PDF</a>,\n",
       " <a href=\"/congressional-record/volume-155/senate-section/page/S1\">S1</a>,\n",
       " <a href=\"/congressional-record/2009/01/06/senate-section/article/S1-4\">CERTIFICATES OF ELECTION AND CREDENTIALS; Congressional Record Vol. 155, No. 1</a>,\n",
       " <a href=\"/111/crec/2009/01/06/CREC-2009-01-06-pt1-PgS1-4.pdf\" target=\"_blank\">PDF</a>,\n",
       " <a href=\"/congressional-record/volume-155/senate-section/page/S1\">S1</a>,\n",
       " <a href=\"/congressional-record/2009/01/06/senate-section/article/S4-1\">ADMINISTRATION OF OATH OF OFFICE; Congressional Record Vol. 155, No. 1</a>,\n",
       " <a href=\"/111/crec/2009/01/06/CREC-2009-01-06-pt1-PgS4.pdf\" target=\"_blank\">PDF</a>,\n",
       " <a href=\"/congressional-record/volume-155/senate-section/page/S4\">S4</a>,\n",
       " <a href=\"/congressional-record/2009/01/06/senate-section/article/S4-2\">RECOGNITION OF THE MAJORITY LEADER; Congressional Record Vol. 155, No. 1</a>,\n",
       " <a href=\"/111/crec/2009/01/06/CREC-2009-01-06-pt1-PgS4-2.pdf\" target=\"_blank\">PDF</a>,\n",
       " <a href=\"/congressional-record/volume-155/senate-section/page/S4\">S4</a>,\n",
       " <a href=\"/congressional-record/2009/01/06/senate-section/article/S4-3\">QUORUM CALL; Congressional Record Vol. 155, No. 1</a>,\n",
       " <a href=\"/111/crec/2009/01/06/CREC-2009-01-06-pt1-PgS4-3.pdf\" target=\"_blank\">PDF</a>,\n",
       " <a href=\"/congressional-record/volume-155/senate-section/page/S4\">S4</a>,\n",
       " <a href=\"/congressional-record/2009/01/06/senate-section/article/S5-1\">LIST OF SENATORS BY STATES; Congressional Record Vol. 155, No. 1</a>,\n",
       " <a href=\"/111/crec/2009/01/06/CREC-2009-01-06-pt1-PgS5.pdf\" target=\"_blank\">PDF</a>,\n",
       " <a href=\"/congressional-record/volume-155/senate-section/page/S5\">S5</a>,\n",
       " <a href=\"/congressional-record/2009/01/06/senate-section/article/S5-2\">INFORMING THE PRESIDENT OF THE UNITED STATES THAT A QUORUM OF EACH HOUSE IS ASSEMBLED; Congressional Record Vol. 155, No. 1</a>,\n",
       " <a href=\"/111/crec/2009/01/06/CREC-2009-01-06-pt1-PgS5-2.pdf\" target=\"_blank\">PDF</a>,\n",
       " <a href=\"/congressional-record/volume-155/senate-section/page/S5\">S5</a>,\n",
       " <a href=\"/congressional-record/2009/01/06/senate-section/article/S5-3\">INFORMING THE HOUSE OF REPRESENTATIVES THAT A QUORUM OF THE SENATE IS ASSEMBLED; Congressional Record Vol. 155, No. 1</a>,\n",
       " <a href=\"/111/crec/2009/01/06/CREC-2009-01-06-pt1-PgS5-3.pdf\" target=\"_blank\">PDF</a>,\n",
       " <a href=\"/congressional-record/volume-155/senate-section/page/S5\">S5</a>,\n",
       " <a href=\"/congressional-record/2009/01/06/senate-section/article/S5-4\">SETTING THE DATE OF JANUARY 8, 2009, FOR THE COUNTING OF ELECTORAL VOTES; Congressional Record Vol. 155, No. 1</a>,\n",
       " <a href=\"/111/crec/2009/01/06/CREC-2009-01-06-pt1-PgS5-4.pdf\" target=\"_blank\">PDF</a>,\n",
       " <a href=\"/congressional-record/volume-155/senate-section/page/S5\">S5</a>,\n",
       " <a href=\"/congressional-record/2009/01/06/senate-section/article/S6-1\">EXTENDING THE LIFE OF THE JOINT CONGRESSIONAL COMMITTEE ON INAUGURAL CEREMONIES; Congressional Record Vol. 155, No. 1</a>,\n",
       " <a href=\"/111/crec/2009/01/06/CREC-2009-01-06-pt1-PgS6.pdf\" target=\"_blank\">PDF</a>,\n",
       " <a href=\"/congressional-record/volume-155/senate-section/page/S6\">S6</a>,\n",
       " <a href=\"/congressional-record/2009/01/06/senate-section/article/S6-2\">FIXING THE HOUR OF THE DAILY MEETING OF THE SENATE; Congressional Record Vol. 155, No. 1</a>,\n",
       " <a href=\"/111/crec/2009/01/06/CREC-2009-01-06-pt1-PgS6-2.pdf\" target=\"_blank\">PDF</a>,\n",
       " <a href=\"/congressional-record/volume-155/senate-section/page/S6\">S6</a>,\n",
       " <a href=\"/congressional-record/2009/01/06/senate-section/article/S6-3\">UNANIMOUS CONSENT AGREEMENT; Congressional Record Vol. 155, No. 1</a>,\n",
       " <a href=\"/111/crec/2009/01/06/CREC-2009-01-06-pt1-PgS6-3.pdf\" target=\"_blank\">PDF</a>,\n",
       " <a href=\"/congressional-record/volume-155/senate-section/page/S6\">S6</a>,\n",
       " <a href=\"/congressional-record/2009/01/06/senate-section/article/S6-4\">ORDER OF BUSINESS; Congressional Record Vol. 155, No. 1</a>,\n",
       " <a href=\"/111/crec/2009/01/06/CREC-2009-01-06-pt1-PgS6-4.pdf\" target=\"_blank\">PDF</a>,\n",
       " <a href=\"/congressional-record/volume-155/senate-section/page/S6\">S6</a>,\n",
       " <a href=\"/congressional-record/2009/01/06/senate-section/article/S7-1\">MORNING BUSINESS; Congressional Record Vol. 155, No. 1</a>,\n",
       " <a href=\"/111/crec/2009/01/06/CREC-2009-01-06-pt1-PgS7.pdf\" target=\"_blank\">PDF</a>,\n",
       " <a href=\"/congressional-record/volume-155/senate-section/page/S7\">S7</a>,\n",
       " <a href=\"/congressional-record/2009/01/06/senate-section/article/S7-2\">APPOINTMENTS; Congressional Record Vol. 155, No. 1</a>,\n",
       " <a href=\"/111/crec/2009/01/06/CREC-2009-01-06-pt1-PgS7-2.pdf\" target=\"_blank\">PDF</a>,\n",
       " <a href=\"/congressional-record/volume-155/senate-section/page/S7\">S7</a>,\n",
       " <a href=\"/congressional-record/2009/01/06/senate-section/article/S7-3\">WELCOMING THE 111TH CONGRESS; Congressional Record Vol. 155, No. 1</a>,\n",
       " <a href=\"/111/crec/2009/01/06/CREC-2009-01-06-pt1-PgS7-3.pdf\" target=\"_blank\">PDF</a>,\n",
       " <a href=\"/congressional-record/volume-155/senate-section/page/S7\">S7</a>,\n",
       " <a href=\"/congressional-record/2009/01/06/senate-section/article/S8-1\">EXECUTIVE COMMUNICATION; Congressional Record Vol. 155, No. 1</a>,\n",
       " <a href=\"/111/crec/2009/01/06/CREC-2009-01-06-pt1-PgS8.pdf\" target=\"_blank\">PDF</a>,\n",
       " <a href=\"/congressional-record/volume-155/senate-section/page/S8\">S8</a>,\n",
       " <a href=\"/congressional-record/2009/01/06/senate-section/article/S9-1\">TRIBUTE TO CLAIBORNE PELL; Congressional Record Vol. 155, No. 1</a>,\n",
       " <a href=\"/111/crec/2009/01/06/CREC-2009-01-06-pt1-PgS9.pdf\" target=\"_blank\">PDF</a>,\n",
       " <a href=\"/congressional-record/volume-155/senate-section/page/S9\">S9</a>,\n",
       " <a href=\"/congressional-record/2009/01/06/senate-section/article/S11-1\">FIFTY YEARS IN THE SENATE; Congressional Record Vol. 155, No. 1</a>,\n",
       " <a href=\"/111/crec/2009/01/06/CREC-2009-01-06-pt1-PgS11.pdf\" target=\"_blank\">PDF</a>,\n",
       " <a href=\"/congressional-record/volume-155/senate-section/page/S11\">S11</a>,\n",
       " <a href=\"/congressional-record/2009/01/06/senate-section/article/S12-1\">MINNESOTA SENATE RACE; Congressional Record Vol. 155, No. 1</a>,\n",
       " <a href=\"/111/crec/2009/01/06/CREC-2009-01-06-pt1-PgS12.pdf\" target=\"_blank\">PDF</a>,\n",
       " <a href=\"/congressional-record/volume-155/senate-section/page/S12\">S12</a>,\n",
       " <a href=\"/congressional-record/2009/01/06/senate-section/article/S12-2\">OPENING OF THE 111TH CONGRESS; Congressional Record Vol. 155, No. 1</a>,\n",
       " <a href=\"/111/crec/2009/01/06/CREC-2009-01-06-pt1-PgS12-2.pdf\" target=\"_blank\">PDF</a>,\n",
       " <a href=\"/congressional-record/volume-155/senate-section/page/S12\">S12</a>,\n",
       " <a href=\"/congressional-record/2009/01/06/senate-section/article/S14-1\">ERIC HOLDER CONFIRMATION HEARING; Congressional Record Vol. 155, No. 1</a>,\n",
       " <a href=\"/111/crec/2009/01/06/CREC-2009-01-06-pt1-PgS14.pdf\" target=\"_blank\">PDF</a>,\n",
       " <a href=\"/congressional-record/volume-155/senate-section/page/S14\">S14</a>,\n",
       " <a href=\"/congressional-record/2009/01/06/senate-section/article/S19-1\">SEC INVESTIGATION INTO PEQUOT CAPITAL MANAGEMENT TRADING; Congressional Record Vol. 155, No. 1</a>,\n",
       " <a href=\"/111/crec/2009/01/06/CREC-2009-01-06-pt1-PgS19.pdf\" target=\"_blank\">PDF</a>,\n",
       " <a href=\"/congressional-record/volume-155/senate-section/page/S19\">S19</a>,\n",
       " <a href=\"/congressional-record/2009/01/06/senate-section/article/S20-1\">ISRAEL AND GRIFFIN BELL; Congressional Record Vol. 155, No. 1</a>,\n",
       " <a href=\"/111/crec/2009/01/06/CREC-2009-01-06-pt1-PgS20.pdf\" target=\"_blank\">PDF</a>,\n",
       " <a href=\"/congressional-record/volume-155/senate-section/page/S20\">S20</a>,\n",
       " <a href=\"/congressional-record/2009/01/06/senate-section/article/S21-1\">TRIBUTE TO CLAIBORNE PELL; Congressional Record Vol. 155, No. 1</a>,\n",
       " <a href=\"/111/crec/2009/01/06/CREC-2009-01-06-pt1-PgS21.pdf\" target=\"_blank\">PDF</a>,\n",
       " <a href=\"/congressional-record/volume-155/senate-section/page/S21\">S21</a>,\n",
       " <a href=\"/congressional-record/2009/01/06/senate-section/article/S23-1\">GAZA RESOLUTION; Congressional Record Vol. 155, No. 1</a>,\n",
       " <a href=\"/111/crec/2009/01/06/CREC-2009-01-06-pt1-PgS23.pdf\" target=\"_blank\">PDF</a>,\n",
       " <a href=\"/congressional-record/volume-155/senate-section/page/S23\">S23</a>,\n",
       " <a href=\"/congressional-record/2009/01/06/senate-section/article/S25-1\">PAROCHIAL SPENDING; Congressional Record Vol. 155, No. 1</a>,\n",
       " <a href=\"/111/crec/2009/01/06/CREC-2009-01-06-pt1-PgS25.pdf\" target=\"_blank\">PDF</a>,\n",
       " <a href=\"/congressional-record/volume-155/senate-section/page/S25\">S25</a>,\n",
       " <a href=\"/congressional-record/2009/01/06/senate-section/article/S27-1\">ORDER OF PROCEDURE; Congressional Record Vol. 155, No. 1</a>,\n",
       " <a href=\"/111/crec/2009/01/06/CREC-2009-01-06-pt1-PgS27.pdf\" target=\"_blank\">PDF</a>,\n",
       " <a href=\"/congressional-record/volume-155/senate-section/page/S27\">S27</a>,\n",
       " <a href=\"/congressional-record/2009/01/06/senate-section/article/S27-2\">TRIBUTE TO CHARLES KIEFFER; Congressional Record Vol. 155, No. 1</a>,\n",
       " <a href=\"/111/crec/2009/01/06/CREC-2009-01-06-pt1-PgS27-2.pdf\" target=\"_blank\">PDF</a>,\n",
       " <a href=\"/congressional-record/volume-155/senate-section/page/S27\">S27</a>,\n",
       " <a href=\"/congressional-record/2009/01/06/senate-section/article/S28-1\">50TH ANNIVERSARY OF SENATOR BYRD'S SWEARING IN; Congressional Record Vol. 155, No. 1</a>,\n",
       " <a href=\"/111/crec/2009/01/06/CREC-2009-01-06-pt1-PgS28.pdf\" target=\"_blank\">PDF</a>,\n",
       " <a href=\"/congressional-record/volume-155/senate-section/page/S28\">S28</a>,\n",
       " <a href=\"/congressional-record/2009/01/06/senate-section/article/S28-2\">IDAHOANS SPEAK OUT ON HIGH ENERGY PRICES; Congressional Record Vol. 155, No. 1</a>,\n",
       " <a href=\"/111/crec/2009/01/06/CREC-2009-01-06-pt1-PgS28-2.pdf\" target=\"_blank\">PDF</a>,\n",
       " <a href=\"/congressional-record/volume-155/senate-section/page/S28\">S28</a>,\n",
       " <a href=\"/congressional-record/2009/01/06/senate-section/article/S30-1\">ADDITIONAL STATEMENTS; Congressional Record Vol. 155, No. 1</a>,\n",
       " <a href=\"/111/crec/2009/01/06/CREC-2009-01-06-pt1-PgS30.pdf\" target=\"_blank\">PDF</a>,\n",
       " <a href=\"/congressional-record/volume-155/senate-section/page/S30\">S30</a>,\n",
       " <a href=\"/congressional-record/2009/01/06/senate-section/article/S30-2\">TRIBUTE TO HARRIET CORNELL; Congressional Record Vol. 155, No. 1</a>,\n",
       " <a href=\"/111/crec/2009/01/06/CREC-2009-01-06-pt1-PgS30-2.pdf\" target=\"_blank\">PDF</a>,\n",
       " <a href=\"/congressional-record/volume-155/senate-section/page/S30\">S30</a>,\n",
       " <a href=\"/congressional-record/2009/01/06/senate-section/article/S30-3\">MESSAGE FROM THE HOUSE; Congressional Record Vol. 155, No. 1</a>,\n",
       " <a href=\"/111/crec/2009/01/06/CREC-2009-01-06-pt1-PgS30-3.pdf\" target=\"_blank\">PDF</a>,\n",
       " <a href=\"/congressional-record/volume-155/senate-section/page/S30\">S30</a>,\n",
       " <a href=\"/congressional-record/2009/01/06/senate-section/article/S31-1\">MEASURES REFERRED; Congressional Record Vol. 155, No. 1</a>,\n",
       " <a href=\"/111/crec/2009/01/06/CREC-2009-01-06-pt1-PgS31.pdf\" target=\"_blank\">PDF</a>,\n",
       " <a href=\"/congressional-record/volume-155/senate-section/page/S31\">S31</a>,\n",
       " <a href=\"/congressional-record/2009/01/06/senate-section/article/S31-2\">MEASURES READ THE FIRST TIME; Congressional Record Vol. 155, No. 1</a>,\n",
       " <a href=\"/111/crec/2009/01/06/CREC-2009-01-06-pt1-PgS31-2.pdf\" target=\"_blank\">PDF</a>,\n",
       " <a href=\"/congressional-record/volume-155/senate-section/page/S31\">S31</a>,\n",
       " <a href=\"/congressional-record/2009/01/06/senate-section/article/S31-3\">ENROLLED BILLS AND JOINT RESOLUTION PRESENTED; Congressional Record Vol. 155, No. 1</a>,\n",
       " <a href=\"/111/crec/2009/01/06/CREC-2009-01-06-pt1-PgS31-3.pdf\" target=\"_blank\">PDF</a>,\n",
       " <a href=\"/congressional-record/volume-155/senate-section/page/S31\">S31</a>,\n",
       " <a href=\"/congressional-record/2009/01/06/senate-section/article/S31-4\">EXECUTIVE AND OTHER COMMUNICATIONS; Congressional Record Vol. 155, No. 1</a>,\n",
       " <a href=\"/111/crec/2009/01/06/CREC-2009-01-06-pt1-PgS31-4.pdf\" target=\"_blank\">PDF</a>,\n",
       " <a href=\"/congressional-record/volume-155/senate-section/page/S31\">S31</a>,\n",
       " <a href=\"/congressional-record/2009/01/06/senate-section/article/S39-1\">INTRODUCTION OF BILLS AND JOINT RESOLUTIONS; Congressional Record Vol. 155, No. 1</a>,\n",
       " <a href=\"/111/crec/2009/01/06/CREC-2009-01-06-pt1-PgS39.pdf\" target=\"_blank\">PDF</a>,\n",
       " <a href=\"/congressional-record/volume-155/senate-section/page/S39\">S39</a>,\n",
       " <a href=\"/congressional-record/2009/01/06/senate-section/article/S43-1\">SUBMISSION OF CONCURRENT AND SENATE RESOLUTIONS; Congressional Record Vol. 155, No. 1</a>,\n",
       " <a href=\"/111/crec/2009/01/06/CREC-2009-01-06-pt1-PgS43.pdf\" target=\"_blank\">PDF</a>,\n",
       " <a href=\"/congressional-record/volume-155/senate-section/page/S43\">S43</a>,\n",
       " <a href=\"/congressional-record/2009/01/06/senate-section/article/S44-1\">STATEMENTS ON INTRODUCED BILLS AND JOINT RESOLUTIONS; Congressional Record Vol. 155, No. 1</a>,\n",
       " <a href=\"/111/crec/2009/01/06/CREC-2009-01-06-pt1-PgS44.pdf\" target=\"_blank\">PDF</a>,\n",
       " <a href=\"/congressional-record/volume-155/senate-section/page/S44\">S44</a>,\n",
       " <a href=\"/congressional-record/2009/01/06/senate-section/article/S147-1\">SUBMITTED RESOLUTIONS; Congressional Record Vol. 155, No. 1</a>,\n",
       " <a href=\"/111/crec/2009/01/06/CREC-2009-01-06-pt1-PgS147.pdf\" target=\"_blank\">PDF</a>,\n",
       " <a href=\"/congressional-record/volume-155/senate-section/page/S147\">S147</a>,\n",
       " <a href=\"/congressional-record/2009/01/06/senate-section/article/S147-2\">SENATE RESOLUTION 2--INFORMING THE HOUSE OF REPRESENTATIVES THAT A QUORUM OF THE SENATE IS ASSEMBLED; Congressional Record Vol. 155, No. 1</a>,\n",
       " <a href=\"/111/crec/2009/01/06/CREC-2009-01-06-pt1-PgS147-2.pdf\" target=\"_blank\">PDF</a>,\n",
       " <a href=\"/congressional-record/volume-155/senate-section/page/S147\">S147</a>,\n",
       " <a href=\"/congressional-record/2009/01/06/senate-section/article/S147-3\">SENATE RESOLUTION 3--FIXING THE HOUR OF DAILY MEETING OF THE SENATE; Congressional Record Vol. 155, No. 1</a>,\n",
       " <a href=\"/111/crec/2009/01/06/CREC-2009-01-06-pt1-PgS147-3.pdf\" target=\"_blank\">PDF</a>,\n",
       " <a href=\"/congressional-record/volume-155/senate-section/page/S147\">S147</a>,\n",
       " <a href=\"/congressional-record/2009/01/06/senate-section/article/S148-1\">SENATE RESOLUTION 4--EXPRESSING THE SENSE OF THE SENATE THAT THE\n",
       "    SUPREME COURT OF THE UNITED STATES ERRONEOUSLY DECIDED KENNEDY V.; Congressional Record Vol. 155, No. 1</a>,\n",
       " <a href=\"/111/crec/2009/01/06/CREC-2009-01-06-pt1-PgS148.pdf\" target=\"_blank\">PDF</a>,\n",
       " <a href=\"/congressional-record/volume-155/senate-section/page/S148\">S148</a>,\n",
       " <a href=\"/congressional-record/2009/01/06/senate-section/article/S148-2\">SENATE RESOLUTION 5--EXPRESSING THE SUPPORT FOR PRAYER AT SCHOOL BOARD MEETINGS; Congressional Record Vol. 155, No. 1</a>,\n",
       " <a href=\"/111/crec/2009/01/06/CREC-2009-01-06-pt1-PgS148-2.pdf\" target=\"_blank\">PDF</a>,\n",
       " <a href=\"/congressional-record/volume-155/senate-section/page/S148\">S148</a>,\n",
       " <a href=\"/congressional-record/2009/01/06/senate-section/article/S148-3\">SENATE RESOLUTION 6--EXPRESSING SOLIDARITY WITH ISRAEL IN ISRAEL'S DEFENSE AGAINST TERRORISM IN THE GAZA STRIP; Congressional Record Vol. 155, No. 1</a>,\n",
       " <a href=\"/111/crec/2009/01/06/CREC-2009-01-06-pt1-PgS148-3.pdf\" target=\"_blank\">PDF</a>,\n",
       " <a href=\"/congressional-record/volume-155/senate-section/page/S148\">S148</a>,\n",
       " <a href=\"/congressional-record/2009/01/06/senate-section/article/S149-1\">SENATE RESOLUTION 7--EXPRESSING THE SENSE OF THE SENATE REGARDING DESIGNATION OF THE MONTH OF NOVEMBER AS ``NATIONAL MILITARY FAMILY MONTH''; Congressional Record Vol. 155, No. 1</a>,\n",
       " <a href=\"/111/crec/2009/01/06/CREC-2009-01-06-pt1-PgS149.pdf\" target=\"_blank\">PDF</a>,\n",
       " <a href=\"/congressional-record/volume-155/senate-section/page/S149\">S149</a>,\n",
       " <a href=\"/congressional-record/2009/01/06/senate-section/article/S149-2\">SENATE RESOLUTION 8--RELATIVE TO THE DEATH OF THE HONORABLE CLAIBORNE DE BORDA PELL, FORMER UNITED STATES SENATOR FOR THE STATE OF RHODE ISLAND; Congressional Record Vol. 155, No. 1</a>,\n",
       " <a href=\"/111/crec/2009/01/06/CREC-2009-01-06-pt1-PgS149-2.pdf\" target=\"_blank\">PDF</a>,\n",
       " <a href=\"/congressional-record/volume-155/senate-section/page/S149\">S149</a>,\n",
       " <a href=\"/congressional-record/2009/01/06/senate-section/article/S150-1\">SENATE CONCURRENT RESOLUTION 1--TO PROVIDE FOR THE COUNTING ON JANUARY 8, 2009, OF THE ELECTORAL VOTES FOR PRESIDENT AND VICE PRESIDENT OF THE UNITED STATES; Congressional Record Vol. 155, No. 1</a>,\n",
       " <a href=\"/111/crec/2009/01/06/CREC-2009-01-06-pt1-PgS150.pdf\" target=\"_blank\">PDF</a>,\n",
       " <a href=\"/congressional-record/volume-155/senate-section/page/S150\">S150</a>,\n",
       " <a href=\"/congressional-record/2009/01/06/senate-section/article/S150-2\">SENATE CONCURRENT RESOLUTION 2--EXTENDING THE LIFE OF THE JOINT CONGRESSIONAL COMMITTEE ON INAUGURAL CEREMONIES; Congressional Record Vol. 155, No. 1</a>,\n",
       " <a href=\"/111/crec/2009/01/06/CREC-2009-01-06-pt1-PgS150-2.pdf\" target=\"_blank\">PDF</a>,\n",
       " <a href=\"/congressional-record/volume-155/senate-section/page/S150\">S150</a>,\n",
       " <a href=\"/congressional-record/2009/01/06/senate-section/article/S150-3\">NOTICES OF HEARINGS; Congressional Record Vol. 155, No. 1</a>,\n",
       " <a href=\"/111/crec/2009/01/06/CREC-2009-01-06-pt1-PgS150-3.pdf\" target=\"_blank\">PDF</a>,\n",
       " <a href=\"/congressional-record/volume-155/senate-section/page/S150\">S150</a>,\n",
       " <a href=\"/congressional-record/2009/01/06/senate-section/article/S150-4\">APPOINTMENT; Congressional Record Vol. 155, No. 1</a>,\n",
       " <a href=\"/111/crec/2009/01/06/CREC-2009-01-06-pt1-PgS150-4.pdf\" target=\"_blank\">PDF</a>,\n",
       " <a href=\"/congressional-record/volume-155/senate-section/page/S150\">S150</a>,\n",
       " <a href=\"/congressional-record/2009/01/06/senate-section/article/S150-5\">ENSURING COMPENSATION AND OTHER EMOLUMENTS ATTACHED TO THE OFFICE OF SECRETARY OF THE INTERIOR; Congressional Record Vol. 155, No. 1</a>,\n",
       " <a href=\"/111/crec/2009/01/06/CREC-2009-01-06-pt1-PgS150-5.pdf\" target=\"_blank\">PDF</a>,\n",
       " <a href=\"/congressional-record/volume-155/senate-section/page/S150\">S150</a>,\n",
       " <a href=\"/congressional-record/2009/01/06/senate-section/article/S151-1\">MEASURES READ THE FIRST TIME--S. 1, S. 2, S. 3, S. 4, S. 5, S. 6, S. 7, S. 8, S. 9, S. 10, S. 33, and S. 34; Congressional Record Vol. 155, No. 1</a>,\n",
       " <a href=\"/111/crec/2009/01/06/CREC-2009-01-06-pt1-PgS151.pdf\" target=\"_blank\">PDF</a>,\n",
       " <a href=\"/congressional-record/volume-155/senate-section/page/S151\">S151</a>,\n",
       " <a href=\"/congressional-record/2009/01/06/senate-section/article/S151-2\">CLAIBORNE DE BORDA PELL; Congressional Record Vol. 155, No. 1</a>,\n",
       " <a href=\"/111/crec/2009/01/06/CREC-2009-01-06-pt1-PgS151-2.pdf\" target=\"_blank\">PDF</a>,\n",
       " <a href=\"/congressional-record/volume-155/senate-section/page/S151\">S151</a>,\n",
       " <a href=\"/congressional-record/2009/01/06/senate-section/article/S152-1\">ORDERS FOR WEDNESDAY, JANUARY 7, 2009; Congressional Record Vol. 155, No. 1</a>,\n",
       " <a href=\"/111/crec/2009/01/06/CREC-2009-01-06-pt1-PgS152.pdf\" target=\"_blank\">PDF</a>,\n",
       " <a href=\"/congressional-record/volume-155/senate-section/page/S152\">S152</a>,\n",
       " <a href=\"/congressional-record/2009/01/06/senate-section/article/S152-2\">ADJOURNMENT UNTIL 11:30 A.M. TOMORROW; Congressional Record Vol. 155, No. 1</a>,\n",
       " <a href=\"/111/crec/2009/01/06/CREC-2009-01-06-pt1-PgS152-2.pdf\" target=\"_blank\">PDF</a>,\n",
       " <a href=\"/congressional-record/volume-155/senate-section/page/S152\">S152</a>]"
      ]
     },
     "execution_count": 26,
     "metadata": {},
     "output_type": "execute_result"
    }
   ],
   "source": [
    "soup(\"table\")[0](\"a\")"
   ]
  },
  {
   "cell_type": "raw",
   "metadata": {},
   "source": []
  }
 ],
 "metadata": {
  "kernelspec": {
   "display_name": "Python 3",
   "language": "python",
   "name": "python3"
  },
  "language_info": {
   "codemirror_mode": {
    "name": "ipython",
    "version": 3
   },
   "file_extension": ".py",
   "mimetype": "text/x-python",
   "name": "python",
   "nbconvert_exporter": "python",
   "pygments_lexer": "ipython3",
   "version": "3.7.3"
  }
 },
 "nbformat": 4,
 "nbformat_minor": 2
}
