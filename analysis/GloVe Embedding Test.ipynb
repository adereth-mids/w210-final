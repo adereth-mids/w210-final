{
 "cells": [
  {
   "cell_type": "code",
   "execution_count": 9,
   "metadata": {},
   "outputs": [],
   "source": [
    "import numpy as np"
   ]
  },
  {
   "cell_type": "code",
   "execution_count": 10,
   "metadata": {},
   "outputs": [],
   "source": [
    "def parse_glove_file(file_path, ndim):\n",
    "    # Count lines to pre-allocate memory\n",
    "    line_count = 0\n",
    "    with open(file_path, 'r') as f:\n",
    "        for line in f:\n",
    "            line_count += 1\n",
    "    print(\"Found {:,} words.\".format(line_count))\n",
    "    \n",
    "    # Pre-allocate vectors as a contiguous array\n",
    "    W = np.zeros((line_count, ndim), dtype=np.float32)\n",
    "    words = []\n",
    "\n",
    "    print(\"Parsing vectors... \", end=\"\")\n",
    "    with open(file_path, 'r') as f:\n",
    "        for i, line in enumerate(f):\n",
    "            word, numbers = line.split(maxsplit=1)\n",
    "            words.append(word)\n",
    "            W[i] = np.fromstring(numbers, dtype=np.float32, sep=\" \")\n",
    "    \n",
    "    print(\"Done! (W.shape = {:s})\".format(str(W.shape)))\n",
    "    return words, W\n",
    "\n",
    "def find_nn_cos(v, Wv, k=10):\n",
    "    cos_similarity = np.dot(Wv, v) / (np.linalg.norm(v) * np.linalg.norm(Wv, axis=1))\n",
    "    nns = np.argsort(cos_similarity)[-k:]\n",
    "    return (nns, cos_similarity[nns])\n",
    "\n",
    "def analogy(vA, vB, vC, Wv, k=5):\n",
    "    return find_nn_cos(vB - vA + vC, Wv, k)\n",
    "\n",
    "class Glove:\n",
    "    \n",
    "    def __init__(self, file_path, ndim):\n",
    "        self.words, W = parse_glove_file(file_path, ndim)\n",
    "        self.W = W / np.linalg.norm(W, axis=1)[:,None]\n",
    "        self.word_index = {}\n",
    "        for i, word in enumerate(self.words):\n",
    "            self.word_index[word] = i\n",
    "            \n",
    "    def vector(self, word):\n",
    "        return self.W[self.word_index[word]]\n",
    "    \n",
    "    def analogy(self, a, b, c, k=5):\n",
    "        return [self.words[i] for i in analogy(self.vector(a), self.vector(b), self.vector(c), self.W, k)[0]]\n"
   ]
  },
  {
   "cell_type": "code",
   "execution_count": 12,
   "metadata": {},
   "outputs": [
    {
     "name": "stdout",
     "output_type": "stream",
     "text": [
      "Found 100,001 words.\n",
      "Parsing vectors... Done! (W.shape = (100001, 200))\n"
     ]
    }
   ],
   "source": [
    "glove = Glove(\"/home/madereth/Projects/w210-final/data/glove/vectors.txt\", 200)"
   ]
  },
  {
   "cell_type": "code",
   "execution_count": 14,
   "metadata": {},
   "outputs": [
    {
     "data": {
      "text/plain": [
       "['prince', 'luther', 'mary', 'queen', 'king']"
      ]
     },
     "execution_count": 14,
     "metadata": {},
     "output_type": "execute_result"
    }
   ],
   "source": [
    "glove.analogy(\"he\", \"she\", \"king\")"
   ]
  },
  {
   "cell_type": "code",
   "execution_count": 16,
   "metadata": {},
   "outputs": [
    {
     "data": {
      "text/plain": [
       "['bush', 'clintons', 'rodham', 'hillary', 'clinton']"
      ]
     },
     "execution_count": 16,
     "metadata": {},
     "output_type": "execute_result"
    }
   ],
   "source": [
    "glove.analogy(\"he\", \"she\", \"clinton\")"
   ]
  },
  {
   "cell_type": "code",
   "execution_count": 18,
   "metadata": {},
   "outputs": [
    {
     "data": {
      "text/plain": [
       "['aides', 'bushs', 'clintons', 'bush', 'clinton']"
      ]
     },
     "execution_count": 18,
     "metadata": {},
     "output_type": "execute_result"
    }
   ],
   "source": [
    "glove.analogy(\"democrat\", \"republican\", \"clinton\")"
   ]
  },
  {
   "cell_type": "code",
   "execution_count": 21,
   "metadata": {},
   "outputs": [
    {
     "data": {
      "text/plain": [
       "['budget', 'spending', 'income', 'taxes', 'tax']"
      ]
     },
     "execution_count": 21,
     "metadata": {},
     "output_type": "execute_result"
    }
   ],
   "source": [
    "glove.analogy(\"democrat\", \"republican\", \"tax\")"
   ]
  },
  {
   "cell_type": "code",
   "execution_count": 23,
   "metadata": {},
   "outputs": [
    {
     "data": {
      "text/plain": [
       "['deficit', 'budgets', 'spending', 'fiscal', 'budget']"
      ]
     },
     "execution_count": 23,
     "metadata": {},
     "output_type": "execute_result"
    }
   ],
   "source": [
    "glove.analogy(\"democrat\", \"republican\", \"budget\")"
   ]
  },
  {
   "cell_type": "code",
   "execution_count": 25,
   "metadata": {},
   "outputs": [
    {
     "data": {
      "text/plain": [
       "['mrs', 'chairwoman', 'pres', 'vice', 'president']"
      ]
     },
     "execution_count": 25,
     "metadata": {},
     "output_type": "execute_result"
    }
   ],
   "source": [
    "glove.analogy(\"he\", \"she\", \"president\")"
   ]
  },
  {
   "cell_type": "code",
   "execution_count": 27,
   "metadata": {},
   "outputs": [
    {
     "data": {
      "text/plain": [
       "['administration', 'nixon', 'ronald', 'reagans', 'reagan']"
      ]
     },
     "execution_count": 27,
     "metadata": {},
     "output_type": "execute_result"
    }
   ],
   "source": [
    "glove.analogy(\"republican\", \"democrat\", \"reagan\")"
   ]
  },
  {
   "cell_type": "code",
   "execution_count": 35,
   "metadata": {},
   "outputs": [
    {
     "data": {
      "text/plain": [
       "['legislature', 'committee', 'lawmakers', 'congressional', 'congress']"
      ]
     },
     "execution_count": 35,
     "metadata": {},
     "output_type": "execute_result"
    }
   ],
   "source": [
    "glove.analogy(\"president\", \"executive\", \"congress\")"
   ]
  }
 ],
 "metadata": {
  "kernelspec": {
   "display_name": "Python 3",
   "language": "python",
   "name": "python3"
  },
  "language_info": {
   "codemirror_mode": {
    "name": "ipython",
    "version": 3
   },
   "file_extension": ".py",
   "mimetype": "text/x-python",
   "name": "python",
   "nbconvert_exporter": "python",
   "pygments_lexer": "ipython3",
   "version": "3.7.3"
  }
 },
 "nbformat": 4,
 "nbformat_minor": 2
}
