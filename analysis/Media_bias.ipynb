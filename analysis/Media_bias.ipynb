{
 "cells": [
  {
   "cell_type": "code",
   "execution_count": 1,
   "metadata": {},
   "outputs": [],
   "source": [
    "# imports\n",
    "import re\n",
    "import ast\n",
    "import time\n",
    "import numpy as np\n",
    "import pandas as pd\n",
    "import seaborn as sns\n",
    "import matplotlib.pyplot as plt"
   ]
  },
  {
   "cell_type": "code",
   "execution_count": 2,
   "metadata": {},
   "outputs": [],
   "source": [
    "from googlesearch import search\n",
    "#from google import google as g\n",
    "from textblob import TextBlob\n",
    "import texttable as tt\n",
    "from time import sleep"
   ]
  },
  {
   "cell_type": "code",
   "execution_count": 3,
   "metadata": {},
   "outputs": [],
   "source": [
    "filepath = 'C:/Users/asheshchoudhury/Desktop/Capstone/allArticles.txt'"
   ]
  },
  {
   "cell_type": "code",
   "execution_count": 4,
   "metadata": {},
   "outputs": [
    {
     "name": "stderr",
     "output_type": "stream",
     "text": [
      "C:\\Users\\asheshchoudhury\\Anaconda3\\lib\\site-packages\\matplotlib\\axes\\_axes.py:6521: MatplotlibDeprecationWarning: \n",
      "The 'normed' kwarg was deprecated in Matplotlib 2.1 and will be removed in 3.1. Use 'density' instead.\n",
      "  alternative=\"'density'\", removal=\"3.1\")\n"
     ]
    },
    {
     "data": {
      "image/png": "[encoded data removed]",
      "text/plain": [
       "<Figure size 720x432 with 1 Axes>"
      ]
     },
     "metadata": {
      "needs_background": "light"
     },
     "output_type": "display_data"
    }
   ],
   "source": [
    "# Plot histogram of Polarity \n",
    "tb_sentiment_polarity_list = []\n",
    "with open(filepath) as fp:\n",
    "    for cnt, line in enumerate(fp):\n",
    "        tb = TextBlob(line)\n",
    "        #print(tb.sentiment)\n",
    "        tb_sentiment_polarity_list.append(tb.sentiment.polarity)\n",
    "        if cnt > 10:\n",
    "            break\n",
    "    plt.figure(figsize=(10,6))\n",
    "    plt.hist(tb_sentiment_polarity_list,normed=True, bins=5)\n",
    "    plt.xlabel('Polarity')\n",
    "    plt.ylabel('Count')\n",
    "    plt.title('Histogram of polarity')\n",
    "    plt.show();"
   ]
  },
  {
   "cell_type": "code",
   "execution_count": 5,
   "metadata": {},
   "outputs": [
    {
     "name": "stdout",
     "output_type": "stream",
     "text": [
      "Sentences with very -ve polarity:\n",
      "When it rains, one is just miserable and huddles in some doorway.\n",
      "Sentences with very +ve polarity:\n",
      "Antonio Ruberti, the white-haired educator-statesman who has been Magnificent Rector of Rome State, a position equivalent to president, since 1976, warns that the university is threatened by licealizzazione.\n",
      "Sentences with very +ve polarity:\n",
      "Her claim might seem a pleasant bit of hyperbole.\n",
      "Sentences with very +ve polarity:\n",
      "And a successful experiment to breed dogs to guard livestock has populated Hampshire's lawns with stray dogs that nuzzle students wherever they rest.\n",
      "Sentences with very +ve polarity:\n",
      "Advertising; National Enquirer: 'America at Its Best!'\n",
      "Sentences with very -ve polarity:\n",
      "''Were they saying she's retarded?\n",
      "Sentences with very +ve polarity:\n",
      "John M. Wilson was best man for his brother.\n"
     ]
    }
   ],
   "source": [
    "# Read the file(partially) and print some sentences with positive polarity and some with negative polarity \n",
    "with open(filepath) as fp:\n",
    "    for cnt, line in enumerate(fp):\n",
    "        tb = TextBlob(line)\n",
    "        #print(tb.sentiment)\n",
    "        #print(len(tb.sentences))\n",
    "        for item in tb.sentences:\n",
    "            # 0.7 is a random high number\n",
    "            if item.sentiment.polarity > 0.7:\n",
    "                print(\"Sentences with very +ve polarity:\")\n",
    "                print (item.replace('\\n', ' '))\n",
    "            if item.sentiment.polarity < -0.7:\n",
    "                print(\"Sentences with very -ve polarity:\")\n",
    "                print (item.replace('\\n', ' '))\n",
    "        if cnt > 10:\n",
    "            break"
   ]
  },
  {
   "cell_type": "code",
   "execution_count": 6,
   "metadata": {},
   "outputs": [
    {
     "name": "stderr",
     "output_type": "stream",
     "text": [
      "C:\\Users\\asheshchoudhury\\Anaconda3\\lib\\site-packages\\matplotlib\\axes\\_axes.py:6521: MatplotlibDeprecationWarning: \n",
      "The 'normed' kwarg was deprecated in Matplotlib 2.1 and will be removed in 3.1. Use 'density' instead.\n",
      "  alternative=\"'density'\", removal=\"3.1\")\n"
     ]
    },
    {
     "data": {
      "image/png": "[encoded data removed]",
      "text/plain": [
       "<Figure size 720x432 with 1 Axes>"
      ]
     },
     "metadata": {
      "needs_background": "light"
     },
     "output_type": "display_data"
    }
   ],
   "source": [
    "# Plot histogram of subjectivity\n",
    "tb_sentiment_subjectivity_list = []\n",
    "with open(filepath) as fp:\n",
    "    for cnt, line in enumerate(fp):\n",
    "        tb = TextBlob(line)\n",
    "        #print(tb.sentiment)\n",
    "        tb_sentiment_subjectivity_list.append(tb.sentiment.subjectivity)\n",
    "        if cnt > 10:\n",
    "            break\n",
    "    plt.figure(figsize=(10,6))\n",
    "    plt.hist(tb_sentiment_subjectivity_list,normed=True, bins=5)\n",
    "    plt.xlabel('Subjectivity')\n",
    "    plt.ylabel('Count')\n",
    "    plt.title('Histogram of Subjectivity')\n",
    "    plt.show();"
   ]
  },
  {
   "cell_type": "code",
   "execution_count": 11,
   "metadata": {},
   "outputs": [],
   "source": [
    "# Read the file(partially) and print some sentences with positive Subjectivity and some with negative Subjectivity \n",
    "with open(filepath) as fp:\n",
    "    for cnt, line in enumerate(fp):\n",
    "        tb = TextBlob(line)\n",
    "        #print(tb.sentiment)\n",
    "        #print(len(tb.sentences))\n",
    "        #for item in tb.sentences:\n",
    "            # 0.7 is a random high number\n",
    "            #if item.sentiment.subjectivity > 0.67:\n",
    "                #print(\"Sentences with very +ve Subjectivity:\")\n",
    "                #print (item.replace('\\n', ' '))\n",
    "            #if 0.33 < item.sentiment.subjectivity < 0.67:\n",
    "                #print(\"Sentences with Medium Subjectivity:\")\n",
    "                #print (item.replace('\\n', ' '))\n",
    "            #if item.sentiment.subjectivity < 0.33:\n",
    "                #print(\"Sentences with very low Subjectivity:\")\n",
    "                #print (item.replace('\\n', ' '))\n",
    "        if cnt > 10:\n",
    "            break"
   ]
  },
  {
   "cell_type": "code",
   "execution_count": 8,
   "metadata": {},
   "outputs": [
    {
     "name": "stdout",
     "output_type": "stream",
     "text": [
      "Statement about Trump with >0.5 polarity : 136\n",
      "Statement with >0.5 polarity : 6214\n",
      "Statement % for Trump with >0.5 polarity : 2.2\n",
      "Statement about Trump between 0 and 0.5 polarity : 1732\n",
      "Statement between 0 and 0.5 polarity : 86528\n",
      "Statement % for Trump between 0 and 0.5 polarity : 2.0\n",
      "Statement about Trump with <0.0 polarity : 730\n",
      "Statement with <0.0 polarity : 45895\n",
      "Statement % for Trump with <0.0 polarity : 1.6\n"
     ]
    }
   ],
   "source": [
    "# Find polarity % for Trump\n",
    "total_positive_count,total_neutral_count,total_negative_count = 0,0,0\n",
    "count_p_total,count_n_total,count_neg_total = 0,0,0\n",
    "\n",
    "with open(filepath) as fp:\n",
    "    for cnt, line in enumerate(fp):\n",
    "        tb = TextBlob(line)\n",
    "        for item in tb.sentences:\n",
    "            if item.sentiment.polarity > 0.5:\n",
    "                count_p_total = count_p_total + 1 \n",
    "                count_p = tb.words.count('trump',case_sensitive=False)\n",
    "                total_positive_count = total_positive_count + count_p\n",
    "            if 0.0 < item.sentiment.polarity < 0.5:\n",
    "                count_n_total = count_n_total + 1 \n",
    "                count_n = tb.words.count('trump',case_sensitive=False)\n",
    "                total_neutral_count = total_neutral_count + count_n\n",
    "            if item.sentiment.polarity < 0.0:\n",
    "                count_neg_total = count_neg_total + 1 \n",
    "                count_neg = tb.words.count('trump',case_sensitive=False)\n",
    "                total_negative_count = total_negative_count + count_neg\n",
    "        if cnt > 10000:\n",
    "            break\n",
    "print(\"Statement about Trump with >0.5 polarity :\",  total_positive_count)\n",
    "print(\"Statement with >0.5 polarity :\",  count_p_total)\n",
    "print(\"Statement % for Trump with >0.5 polarity :\",  round(100*total_positive_count/count_p_total,1))\n",
    "print(\"Statement about Trump between 0 and 0.5 polarity :\" ,total_neutral_count)\n",
    "print(\"Statement between 0 and 0.5 polarity :\" ,count_n_total)\n",
    "print(\"Statement % for Trump between 0 and 0.5 polarity :\",  round(100*total_neutral_count/count_n_total,1))\n",
    "print(\"Statement about Trump with <0.0 polarity :\" ,total_negative_count)\n",
    "print(\"Statement with <0.0 polarity :\" ,count_neg_total)\n",
    "print(\"Statement % for Trump with <0.0 polarity :\",  round(100*total_negative_count/count_neg_total,1))"
   ]
  },
  {
   "cell_type": "code",
   "execution_count": 9,
   "metadata": {},
   "outputs": [
    {
     "name": "stdout",
     "output_type": "stream",
     "text": [
      "Statement about Trump with >0.67 subjectivity : 484\n",
      "Statement with >0.67 subjectivity : 24088\n",
      "Statement % for Trump with >0.67 subjectivity : 2.0\n",
      "Statement about Trump between 0.33 and 0.67 subjectivity : 1706\n",
      "Statement between 0.33 and 0.67 subjectivity : 87302\n",
      "Statement % for Trump between 0.33 and 0.67 subjectivity : 2.0\n",
      "Statement about Trump with <0.33 subjectivity : 2269\n",
      "Statement with <0.33 subjectivity : 131783\n",
      "Statement % for Trump with <0.33 subjectivity : 1.7\n"
     ]
    }
   ],
   "source": [
    "# Find Subjectivity % for Trump\n",
    "total_positive_count,total_neutral_count,total_negative_count = 0,0,0\n",
    "count_p_total,count_n_total,count_neg_total = 0,0,0\n",
    "\n",
    "with open(filepath) as fp:\n",
    "    for cnt, line in enumerate(fp):\n",
    "        tb = TextBlob(line)\n",
    "        for item in tb.sentences:\n",
    "            if item.sentiment.subjectivity > 0.67:\n",
    "                count_p_total = count_p_total + 1 \n",
    "                count_p = tb.words.count('trump',case_sensitive=False)\n",
    "                total_positive_count = total_positive_count + count_p\n",
    "            if 0.33 < item.sentiment.subjectivity < 0.67:\n",
    "                count_n_total = count_n_total + 1 \n",
    "                count_n = tb.words.count('trump',case_sensitive=False)\n",
    "                total_neutral_count = total_neutral_count + count_n\n",
    "            if item.sentiment.subjectivity < 0.33:\n",
    "                count_neg_total = count_neg_total + 1 \n",
    "                count_neg = tb.words.count('trump',case_sensitive=False)\n",
    "                total_negative_count = total_negative_count + count_neg\n",
    "        if cnt > 10000:\n",
    "            break\n",
    "print(\"Statement about Trump with >0.67 subjectivity :\",  total_positive_count)\n",
    "print(\"Statement with >0.67 subjectivity :\",  count_p_total)\n",
    "print(\"Statement % for Trump with >0.67 subjectivity :\",  round(100*total_positive_count/count_p_total,1))\n",
    "print(\"Statement about Trump between 0.33 and 0.67 subjectivity :\" ,total_neutral_count)\n",
    "print(\"Statement between 0.33 and 0.67 subjectivity :\" ,count_n_total)\n",
    "print(\"Statement % for Trump between 0.33 and 0.67 subjectivity :\",  round(100*total_neutral_count/count_n_total,1))\n",
    "print(\"Statement about Trump with <0.33 subjectivity :\" ,total_negative_count)\n",
    "print(\"Statement with <0.33 subjectivity :\" ,count_neg_total)\n",
    "print(\"Statement % for Trump with <0.33 subjectivity :\",  round(100*total_negative_count/count_neg_total,1))"
   ]
  },
  {
   "cell_type": "code",
   "execution_count": null,
   "metadata": {},
   "outputs": [],
   "source": []
  }
 ],
 "metadata": {
  "kernelspec": {
   "display_name": "Python 3",
   "language": "python",
   "name": "python3"
  },
  "language_info": {
   "codemirror_mode": {
    "name": "ipython",
    "version": 3
   },
   "file_extension": ".py",
   "mimetype": "text/x-python",
   "name": "python",
   "nbconvert_exporter": "python",
   "pygments_lexer": "ipython3",
   "version": "3.7.1"
  }
 },
 "nbformat": 4,
 "nbformat_minor": 2
}
