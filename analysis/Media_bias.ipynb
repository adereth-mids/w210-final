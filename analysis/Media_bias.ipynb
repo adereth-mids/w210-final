{
 "cells": [
  {
   "cell_type": "code",
   "execution_count": 66,
   "metadata": {},
   "outputs": [],
   "source": [
    "# imports\n",
    "import re\n",
    "import ast\n",
    "import time\n",
    "import numpy as np\n",
    "import pandas as pd\n",
    "import seaborn as sns\n",
    "import networkx as nx\n",
    "import matplotlib.pyplot as plt"
   ]
  },
  {
   "cell_type": "code",
   "execution_count": 67,
   "metadata": {},
   "outputs": [],
   "source": [
    "from googlesearch import search\n",
    "#from google import google\n",
    "from textblob import TextBlob\n",
    "import texttable as tt\n",
    "from time import sleep"
   ]
  },
  {
   "cell_type": "code",
   "execution_count": 78,
   "metadata": {},
   "outputs": [
    {
     "name": "stdout",
     "output_type": "stream",
     "text": [
      "0\n"
     ]
    },
    {
     "ename": "ZeroDivisionError",
     "evalue": "division by zero",
     "output_type": "error",
     "traceback": [
      "\u001b[1;31m---------------------------------------------------------------------------\u001b[0m",
      "\u001b[1;31mZeroDivisionError\u001b[0m                         Traceback (most recent call last)",
      "\u001b[1;32m<ipython-input-78-af204538e3f3>\u001b[0m in \u001b[0;36m<module>\u001b[1;34m\u001b[0m\n\u001b[0;32m     27\u001b[0m     \u001b[0mtab\u001b[0m\u001b[1;33m.\u001b[0m\u001b[0madd_row\u001b[0m\u001b[1;33m(\u001b[0m\u001b[0mrow\u001b[0m\u001b[1;33m)\u001b[0m\u001b[1;33m\u001b[0m\u001b[1;33m\u001b[0m\u001b[0m\n\u001b[0;32m     28\u001b[0m \u001b[1;33m\u001b[0m\u001b[0m\n\u001b[1;32m---> 29\u001b[1;33m \u001b[0mavg_subjectivity\u001b[0m \u001b[1;33m=\u001b[0m \u001b[1;33m(\u001b[0m\u001b[0msum\u001b[0m\u001b[1;33m(\u001b[0m\u001b[0msubjectivity_list\u001b[0m\u001b[1;33m)\u001b[0m \u001b[1;33m/\u001b[0m \u001b[0mlen\u001b[0m\u001b[1;33m(\u001b[0m\u001b[0msubjectivity_list\u001b[0m\u001b[1;33m)\u001b[0m\u001b[1;33m)\u001b[0m\u001b[1;33m\u001b[0m\u001b[1;33m\u001b[0m\u001b[0m\n\u001b[0m\u001b[0;32m     30\u001b[0m \u001b[0mavg_polarity\u001b[0m \u001b[1;33m=\u001b[0m \u001b[1;33m(\u001b[0m\u001b[0msum\u001b[0m\u001b[1;33m(\u001b[0m\u001b[0mpolarity_list\u001b[0m\u001b[1;33m)\u001b[0m \u001b[1;33m/\u001b[0m \u001b[0mlen\u001b[0m\u001b[1;33m(\u001b[0m\u001b[0mpolarity_list\u001b[0m\u001b[1;33m)\u001b[0m\u001b[1;33m)\u001b[0m\u001b[1;33m\u001b[0m\u001b[1;33m\u001b[0m\u001b[0m\n\u001b[0;32m     31\u001b[0m \u001b[1;33m\u001b[0m\u001b[0m\n",
      "\u001b[1;31mZeroDivisionError\u001b[0m: division by zero"
     ]
    }
   ],
   "source": [
    "site = \"cnn\"\n",
    "who = \"Trump\"\n",
    "search_results_list = []\n",
    "num = []\n",
    "subjectivity_list = []\n",
    "polarity_list = []\n",
    "number = 1\n",
    "search_results = search(\"inurl:\" + site + \"intext\" + who, tld=\"com\", num=10, stop=10, pause=2) \n",
    "for result in search_results:\n",
    "    search_results = result.description\n",
    "    search_results_list.append(search_results)\n",
    "    analysis = TextBlob(search_results)\n",
    "    subjectivity = analysis.sentiment.subjectivity\n",
    "    subjectivity_list.append(subjectivity)\n",
    "    polarity = analysis.sentiment.subjectivity\n",
    "    polarity_list.append(polarity)\n",
    "    number = number + 1\n",
    "    num.append(number)\n",
    "\n",
    "print(len(subjectivity_list))\n",
    "    \n",
    "tab = tt.Texttable()\n",
    "headings = ['Number','Results','Subjectivity', 'Polarity']\n",
    "tab.header(headings)\n",
    "\n",
    "for row in zip(num, search_results_list, subjectivity_list, polarity_list):\n",
    "    tab.add_row(row)\n",
    "\n",
    "avg_subjectivity = (sum(subjectivity_list) / len(subjectivity_list))\n",
    "avg_polarity = (sum(polarity_list) / len(polarity_list))\n",
    "\n",
    "table = tab.draw()\n",
    "print (site)\n",
    "print (search)\n",
    "print (table)\n",
    "print (site + \" average subjectivity: \" + str(avg_subjectivity))\n",
    "print (site + \" average polarity: \" + str(avg_polarity))\n"
   ]
  },
  {
   "cell_type": "code",
   "execution_count": 63,
   "metadata": {},
   "outputs": [
    {
     "ename": "TypeError",
     "evalue": "'str' object is not callable",
     "output_type": "error",
     "traceback": [
      "\u001b[1;31m---------------------------------------------------------------------------\u001b[0m",
      "\u001b[1;31mTypeError\u001b[0m                                 Traceback (most recent call last)",
      "\u001b[1;32m<ipython-input-63-40aa204d247d>\u001b[0m in \u001b[0;36m<module>\u001b[1;34m\u001b[0m\n\u001b[0;32m     42\u001b[0m \u001b[1;33m\u001b[0m\u001b[0m\n\u001b[0;32m     43\u001b[0m \u001b[1;33m\u001b[0m\u001b[0m\n\u001b[1;32m---> 44\u001b[1;33m \u001b[0msearch\u001b[0m\u001b[1;33m(\u001b[0m\u001b[1;34m\"newyorker\"\u001b[0m\u001b[1;33m,\u001b[0m \u001b[1;34m\"trump\"\u001b[0m\u001b[1;33m)\u001b[0m\u001b[1;33m\u001b[0m\u001b[1;33m\u001b[0m\u001b[0m\n\u001b[0m\u001b[0;32m     45\u001b[0m \u001b[0msleep\u001b[0m\u001b[1;33m(\u001b[0m\u001b[1;36m10\u001b[0m\u001b[1;33m)\u001b[0m\u001b[1;33m\u001b[0m\u001b[1;33m\u001b[0m\u001b[0m\n\u001b[0;32m     46\u001b[0m \u001b[0msearch\u001b[0m\u001b[1;33m(\u001b[0m\u001b[1;34m\"npr\"\u001b[0m\u001b[1;33m,\u001b[0m \u001b[1;34m\"trump\"\u001b[0m\u001b[1;33m)\u001b[0m\u001b[1;33m\u001b[0m\u001b[1;33m\u001b[0m\u001b[0m\n",
      "\u001b[1;32m<ipython-input-63-40aa204d247d>\u001b[0m in \u001b[0;36msearch\u001b[1;34m(site, search)\u001b[0m\n\u001b[0;32m      4\u001b[0m     \u001b[0mnum_page\u001b[0m \u001b[1;33m=\u001b[0m \u001b[1;36m3\u001b[0m\u001b[1;33m\u001b[0m\u001b[1;33m\u001b[0m\u001b[0m\n\u001b[0;32m      5\u001b[0m     \u001b[1;31m#search_results = google.search(\"inurl:\" + site + \" intext:\" + search, 3)\u001b[0m\u001b[1;33m\u001b[0m\u001b[1;33m\u001b[0m\u001b[1;33m\u001b[0m\u001b[0m\n\u001b[1;32m----> 6\u001b[1;33m     \u001b[0msearch_results\u001b[0m \u001b[1;33m=\u001b[0m \u001b[0msearch\u001b[0m\u001b[1;33m(\u001b[0m\u001b[1;34m\"inurl:\"\u001b[0m \u001b[1;33m+\u001b[0m \u001b[0msite\u001b[0m \u001b[1;33m+\u001b[0m \u001b[1;34m\"intext\"\u001b[0m \u001b[1;33m+\u001b[0m \u001b[0msearch\u001b[0m\u001b[1;33m,\u001b[0m \u001b[0mtld\u001b[0m\u001b[1;33m=\u001b[0m\u001b[1;34m\"com\"\u001b[0m\u001b[1;33m,\u001b[0m \u001b[0mnum\u001b[0m\u001b[1;33m=\u001b[0m\u001b[1;36m10\u001b[0m\u001b[1;33m,\u001b[0m \u001b[0mstop\u001b[0m\u001b[1;33m=\u001b[0m\u001b[1;36m10\u001b[0m\u001b[1;33m,\u001b[0m \u001b[0mpause\u001b[0m\u001b[1;33m=\u001b[0m\u001b[1;36m2\u001b[0m\u001b[1;33m)\u001b[0m\u001b[1;33m\u001b[0m\u001b[1;33m\u001b[0m\u001b[0m\n\u001b[0m\u001b[0;32m      7\u001b[0m     \u001b[0msearch_results_list\u001b[0m \u001b[1;33m=\u001b[0m \u001b[1;33m[\u001b[0m\u001b[1;33m]\u001b[0m\u001b[1;33m\u001b[0m\u001b[1;33m\u001b[0m\u001b[0m\n\u001b[0;32m      8\u001b[0m     \u001b[0msubjectivity_list\u001b[0m \u001b[1;33m=\u001b[0m \u001b[1;33m[\u001b[0m\u001b[1;33m]\u001b[0m\u001b[1;33m\u001b[0m\u001b[1;33m\u001b[0m\u001b[0m\n",
      "\u001b[1;31mTypeError\u001b[0m: 'str' object is not callable"
     ]
    }
   ],
   "source": [
    "def search(site, search):\n",
    "    site = site\n",
    "    search = search\n",
    "    num_page = 3\n",
    "    #search_results = google.search(\"inurl:\" + site + \" intext:\" + search, 3)\n",
    "    search_results = search(\"inurl:\" + site + \"intext\" + search, tld=\"com\", num=10, stop=10, pause=2)\n",
    "    search_results_list = []\n",
    "    subjectivity_list = []\n",
    "    polarity_list = []\n",
    "    num = []\n",
    "    number = 1\n",
    "\n",
    "    for result in search_results:\n",
    "        search_results = result.description\n",
    "        search_results_list.append(search_results)\n",
    "\n",
    "        analysis = TextBlob(search_results)\n",
    "        subjectivity = analysis.sentiment.subjectivity\n",
    "        subjectivity_list.append(subjectivity)\n",
    "        polarity = analysis.sentiment.subjectivity\n",
    "        polarity_list.append(polarity)\n",
    "        number = number + 1\n",
    "        num.append(number)\n",
    "        sleep(5)\n",
    "\n",
    "    tab = tt.Texttable()\n",
    "    headings = ['Number','Results','Subjectivity', 'Polarity']\n",
    "    tab.header(headings)\n",
    "\n",
    "    for row in zip(num, search_results_list, subjectivity_list, polarity_list):\n",
    "        tab.add_row(row)\n",
    "\n",
    "    avg_subjectivity = (sum(subjectivity_list) / len(subjectivity_list))\n",
    "    avg_polarity = (sum(polarity_list) / len(polarity_list))\n",
    "\n",
    "    table = tab.draw()\n",
    "    print (site)\n",
    "    print (search)\n",
    "    print (table)\n",
    "    print (site + \" average subjectivity: \" + str(avg_subjectivity))\n",
    "    print (site + \" average polarity: \" + str(avg_polarity))\n",
    "\n",
    "\n",
    "search(\"newyorker\", \"trump\")\n",
    "sleep(10)\n",
    "search(\"npr\", \"trump\")\n",
    "sleep(10)\n",
    "search(\"cnn\", \"trump\")\n",
    "sleep(10)\n",
    "search(\"foxnews\", \"trump\")\n",
    "sleep(10)\n",
    "search(\"drudgereport\", \"trump\")\n",
    "sleep(10)\n",
    "search(\"breitbart\", \"trump\")\n",
    "sleep(10)"
   ]
  },
  {
   "cell_type": "code",
   "execution_count": null,
   "metadata": {},
   "outputs": [],
   "source": []
  },
  {
   "cell_type": "code",
   "execution_count": null,
   "metadata": {},
   "outputs": [],
   "source": []
  }
 ],
 "metadata": {
  "kernelspec": {
   "display_name": "Python 3",
   "language": "python",
   "name": "python3"
  },
  "language_info": {
   "codemirror_mode": {
    "name": "ipython",
    "version": 3
   },
   "file_extension": ".py",
   "mimetype": "text/x-python",
   "name": "python",
   "nbconvert_exporter": "python",
   "pygments_lexer": "ipython3",
   "version": "3.7.1"
  }
 },
 "nbformat": 4,
 "nbformat_minor": 2
}
