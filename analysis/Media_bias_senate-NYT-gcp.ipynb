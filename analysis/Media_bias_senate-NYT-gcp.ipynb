{
 "cells": [
  {
   "cell_type": "code",
   "execution_count": 1,
   "metadata": {},
   "outputs": [],
   "source": [
    "# imports\n",
    "import os, sys\n",
    "import re\n",
    "import ast\n",
    "import datetime\n",
    "import time\n",
    "import numpy as np\n",
    "import pandas as pd\n",
    "import seaborn as sns\n",
    "import matplotlib.pyplot as plt\n"
   ]
  },
  {
   "cell_type": "code",
   "execution_count": 2,
   "metadata": {},
   "outputs": [
    {
     "name": "stderr",
     "output_type": "stream",
     "text": [
      "Using TensorFlow backend.\n",
      "[nltk_data] Downloading package stopwords to\n",
      "[nltk_data]     /home/asheshchoudhury/nltk_data...\n",
      "[nltk_data]   Package stopwords is already up-to-date!\n"
     ]
    }
   ],
   "source": [
    "import csv \n",
    "import numpy as np \n",
    "import pandas as pd\n",
    "import matplotlib.pyplot as plt\n",
    "import tensorflow as tf\n",
    "import seaborn as sns\n",
    "from keras.preprocessing.text import Tokenizer\n",
    "from keras.preprocessing.sequence import pad_sequences\n",
    "from keras.models import Sequential\n",
    "from keras.layers import Dense, Embedding, LSTM, SpatialDropout1D\n",
    "from sklearn.model_selection import train_test_split\n",
    "from keras.utils.np_utils import to_categorical\n",
    "from keras.utils import to_categorical\n",
    "from keras.callbacks import EarlyStopping\n",
    "from keras.layers import Dropout\n",
    "import re\n",
    "import nltk\n",
    "nltk.download('stopwords')\n",
    "from nltk.corpus import stopwords\n",
    "from nltk import word_tokenize\n",
    "STOPWORDS = set(stopwords.words('english'))\n",
    "import plotly.graph_objs as go\n",
    "from IPython.core.interactiveshell import InteractiveShell\n",
    "import plotly.figure_factory as ff\n",
    "InteractiveShell.ast_node_interactivity = 'all'\n",
    "from plotly.offline import iplot\n"
   ]
  },
  {
   "cell_type": "code",
   "execution_count": 3,
   "metadata": {},
   "outputs": [],
   "source": [
    "#from googlesearch import search\n",
    "#from google import google as g\n",
    "#from textblob import TextBlob\n",
    "#import texttable as tt\n",
    "from time import sleep"
   ]
  },
  {
   "cell_type": "code",
   "execution_count": 4,
   "metadata": {},
   "outputs": [
    {
     "name": "stdout",
     "output_type": "stream",
     "text": [
      "List of Parties before filtering\n"
     ]
    },
    {
     "data": {
      "text/plain": [
       "array(['Republican', 'Democratic', 'Independent Democrat', 'Independent'],\n",
       "      dtype=object)"
      ]
     },
     "execution_count": 4,
     "metadata": {},
     "output_type": "execute_result"
    },
    {
     "name": "stdout",
     "output_type": "stream",
     "text": [
      "List of Parties after filtering\n"
     ]
    },
    {
     "data": {
      "text/plain": [
       "array(['Republican', 'Democratic'], dtype=object)"
      ]
     },
     "execution_count": 4,
     "metadata": {},
     "output_type": "execute_result"
    },
    {
     "data": {
      "text/plain": [
       "count    546549.000000\n",
       "mean       1922.050253\n",
       "std        4364.634689\n",
       "min           3.000000\n",
       "25%          86.000000\n",
       "50%         254.000000\n",
       "75%        1881.000000\n",
       "max      956247.000000\n",
       "Name: statement_length, dtype: float64"
      ]
     },
     "execution_count": 4,
     "metadata": {},
     "output_type": "execute_result"
    },
    {
     "data": {
      "text/plain": [
       "count    281651.000000\n",
       "mean        441.393853\n",
       "std         437.109037\n",
       "min          86.000000\n",
       "25%         134.000000\n",
       "50%         245.000000\n",
       "75%         597.000000\n",
       "max        1881.000000\n",
       "Name: statement_length, dtype: float64"
      ]
     },
     "execution_count": 4,
     "metadata": {},
     "output_type": "execute_result"
    },
    {
     "data": {
      "text/plain": [
       "count    2.816510e+05\n",
       "mean     2.004185e+07\n",
       "std      6.601025e+04\n",
       "min      1.995010e+07\n",
       "25%      1.999022e+07\n",
       "50%      2.003093e+07\n",
       "75%      2.009051e+07\n",
       "max      2.019102e+07\n",
       "Name: date, dtype: float64"
      ]
     },
     "execution_count": 4,
     "metadata": {},
     "output_type": "execute_result"
    },
    {
     "data": {
      "text/plain": [
       "281651"
      ]
     },
     "execution_count": 4,
     "metadata": {},
     "output_type": "execute_result"
    }
   ],
   "source": [
    "# Start timer to get total time for running all code\n",
    "t0 = datetime.datetime.now()\n",
    "#Train\n",
    "#df=pd.read_csv(\"C:/Users/asheshchoudhury/Desktop/Capstone-new/w210-final/data/ExtractedTweets.csv\")\n",
    "#df=pd.read_csv('/home/asheshchoudhury/ExtractedTweets.csv')\n",
    "#df=pd.read_csv('/home/asheshchoudhury/senate-labeled-v2.csv')\n",
    "mylist = []\n",
    "\n",
    "for chunk in  pd.read_csv('/home/asheshchoudhury/senate-labeled-v2.csv', chunksize=20):\n",
    "    mylist.append(chunk)\n",
    "\n",
    "df = pd.concat(mylist, axis= 0)\n",
    "del mylist\n",
    "\n",
    "#Check all political parties\n",
    "print('List of Parties before filtering')\n",
    "df['party'].unique()\n",
    "#take only D and R\n",
    "df = df.loc[(df['party'] == 'Republican') | (df['party'] == 'Democratic')]\n",
    "print('List of Parties after filtering')\n",
    "df['party'].unique()\n",
    "#Add statement lenght as 1 or 2 large oulier can cause abort the program\n",
    "df['statement_length'] = df['statement'].str.len()\n",
    "df['statement_length'].describe()\n",
    "#Take reasonable(>25 percentile, <75 percentile) statement length , else huge statment lengt will crash the system\n",
    "statement_lenght_75_percentile = 1881\n",
    "statement_lenght_25_percentile = 86\n",
    "df = df.loc[(df['statement_length'] <= statement_lenght_75_percentile)]\n",
    "df = df.loc[(df['statement_length'] >= statement_lenght_25_percentile)]\n",
    "df['statement_length'].describe()\n",
    "df['date'].describe()\n",
    "#input_percentage_date = 0.1\n",
    "#no_of_input = int(len(df)*input_percentage_date)\n",
    "#df=df[:no_of_input]\n",
    "#Sneak peak\n",
    "#df.head()\n",
    "len(df)\n",
    "\n"
   ]
  },
  {
   "cell_type": "code",
   "execution_count": 5,
   "metadata": {},
   "outputs": [],
   "source": [
    "#EDA\n",
    "df_1995_2001 = df.loc[(df['date'] <= 20010101)]\n",
    "df_2001_2005 = df.loc[(df['date'] >= 20010101) & (df['date'] <= 20050101)]\n",
    "df_2005_2009 = df.loc[(df['date'] >= 20050101) & (df['date'] <= 20090101)]\n",
    "df_2009_2013 = df.loc[(df['date'] >= 20090101) & (df['date'] <= 20130101)]\n",
    "df_2013_2017 = df.loc[(df['date'] >= 20130101) & (df['date'] <= 20170101)]\n",
    "df_2017_2019 = df.loc[(df['date'] >= 20170101)]\n",
    "                           "
   ]
  },
  {
   "cell_type": "code",
   "execution_count": 6,
   "metadata": {},
   "outputs": [
    {
     "name": "stdout",
     "output_type": "stream",
     "text": [
      "Total no. of statements in original input senate dataset : 281651\n",
      "Total no. of Republican statements in original input senate dataset : 145760\n",
      "Total no. of Democratic statements in original input senate dataset: 135891\n",
      "% of Republican statements in original input senate dataset : 51.75\n"
     ]
    }
   ],
   "source": [
    "print('Total no. of statements in original input senate dataset :', len(df))\n",
    "print('Total no. of Republican statements in original input senate dataset :' ,len(df.loc[(df['party'] == 'Republican')]))\n",
    "print('Total no. of Democratic statements in original input senate dataset:' ,len(df.loc[(df['party'] == 'Democratic')]))\n",
    "print('% of Republican statements in original input senate dataset :', \"%.2f\" %(len(df.loc[(df['party'] == 'Republican')])/len(df)*100))"
   ]
  },
  {
   "cell_type": "code",
   "execution_count": 7,
   "metadata": {},
   "outputs": [
    {
     "data": {
      "text/plain": [
       "[59263, 27670, 24393, 11823, 13053, 9559]"
      ]
     },
     "execution_count": 7,
     "metadata": {},
     "output_type": "execute_result"
    },
    {
     "data": {
      "text/plain": [
       "[39506, 31139, 24649, 23872, 12835, 3914]"
      ]
     },
     "execution_count": 7,
     "metadata": {},
     "output_type": "execute_result"
    }
   ],
   "source": [
    "\n",
    "no_of_republican_statements = [len(df_1995_2001.loc[(df_1995_2001['party'] == 'Republican')]),len(df_2001_2005.loc[(df_2001_2005['party'] == 'Republican')]),len(df_2005_2009.loc[(df_2005_2009['party'] == 'Republican')]),len(df_2009_2013.loc[(df_2009_2013['party'] == 'Republican')]),len(df_2013_2017.loc[(df_2013_2017['party'] == 'Republican')]),len(df_2017_2019.loc[(df_2017_2019['party'] == 'Republican')])]\n",
    "no_of_democrat_statements = [len(df_1995_2001.loc[(df_1995_2001['party'] == 'Democratic')]),len(df_2001_2005.loc[(df_2001_2005['party'] == 'Democratic')]),len(df_2005_2009.loc[(df_2005_2009['party'] == 'Democratic')]),len(df_2009_2013.loc[(df_2009_2013['party'] == 'Democratic')]),len(df_2013_2017.loc[(df_2013_2017['party'] == 'Democratic')]),len(df_2017_2019.loc[(df_2017_2019['party'] == 'Democratic')])]\n",
    "\n",
    "no_of_republican_statements\n",
    "no_of_democrat_statements\n",
    "\n"
   ]
  },
  {
   "cell_type": "code",
   "execution_count": 8,
   "metadata": {},
   "outputs": [
    {
     "data": {
      "text/plain": [
       "<Figure size 1800x720 with 0 Axes>"
      ]
     },
     "execution_count": 8,
     "metadata": {},
     "output_type": "execute_result"
    },
    {
     "data": {
      "text/plain": [
       "Text(0, 0.5, 'No. of Statements')"
      ]
     },
     "execution_count": 8,
     "metadata": {},
     "output_type": "execute_result"
    },
    {
     "data": {
      "text/plain": [
       "[<matplotlib.axis.XTick at 0x7f140870da58>,\n",
       " <matplotlib.axis.XTick at 0x7f14086fed68>,\n",
       " <matplotlib.axis.XTick at 0x7f14086fecf8>,\n",
       " <matplotlib.axis.XTick at 0x7f140e465e80>,\n",
       " <matplotlib.axis.XTick at 0x7f140e453320>,\n",
       " <matplotlib.axis.XTick at 0x7f140e453828>]"
      ]
     },
     "execution_count": 8,
     "metadata": {},
     "output_type": "execute_result"
    },
    {
     "data": {
      "text/plain": [
       "[Text(0, 0, '1995-2001'),\n",
       " Text(0, 0, '2001-05'),\n",
       " Text(0, 0, '2005-09'),\n",
       " Text(0, 0, '2009-13'),\n",
       " Text(0, 0, '2013-17'),\n",
       " Text(0, 0, '2017-19')]"
      ]
     },
     "execution_count": 8,
     "metadata": {},
     "output_type": "execute_result"
    },
    {
     "data": {
      "text/plain": [
       "<matplotlib.legend.Legend at 0x7f140e453a58>"
      ]
     },
     "execution_count": 8,
     "metadata": {},
     "output_type": "execute_result"
    },
    {
     "data": {
      "image/png": "[encoded data removed]",
      "text/plain": [
       "<Figure size 1800x1080 with 1 Axes>"
      ]
     },
     "metadata": {
      "needs_background": "light"
     },
     "output_type": "display_data"
    },
    {
     "data": {
      "text/plain": [
       "<Figure size 1800x720 with 0 Axes>"
      ]
     },
     "metadata": {},
     "output_type": "display_data"
    }
   ],
   "source": [
    "N = 6\n",
    "width = 0.4\n",
    "ind = np.arange(N)  # the x locations for the groups\n",
    "\n",
    "fig = plt.figure(figsize = (25, 15))\n",
    "plt.figure(figsize = (25, 10))\n",
    "plt.rcParams.update({'font.size': 22})\n",
    "ax = fig.add_subplot(111)\n",
    "\n",
    "\n",
    "yvals = no_of_republican_statements\n",
    "rects1 = ax.bar(ind, yvals, width, color='r')\n",
    "zvals = no_of_democrat_statements\n",
    "rects2 = ax.bar(ind+width, zvals, width, color='b')\n",
    "\n",
    "\n",
    "ax.set_ylabel('No. of Statements')\n",
    "ax.set_xticks(ind+width)\n",
    "ax.set_xticklabels( ('1995-2001', '2001-05', '2005-09', '2009-13','2013-17','2017-19') )\n",
    "ax.legend( (rects1[0], rects2[0]), ('No. of Republican statements ', 'No. of Democratic statements') )\n",
    "\n",
    "def autolabel(rects):\n",
    "    for rect in rects:\n",
    "        h = rect.get_height()\n",
    "        ax.text(rect.get_x()+rect.get_width()/2, 1.01*h, '%d'%int(h),\n",
    "                ha='center', va='bottom')\n",
    "\n",
    "autolabel(rects1)\n",
    "autolabel(rects2)\n",
    "\n",
    "\n",
    "plt.show()"
   ]
  },
  {
   "cell_type": "code",
   "execution_count": 9,
   "metadata": {},
   "outputs": [],
   "source": [
    "input_data_percentage = 0.1\n",
    "n = int(len(df)*input_data_percentage/12)"
   ]
  },
  {
   "cell_type": "code",
   "execution_count": 10,
   "metadata": {},
   "outputs": [
    {
     "name": "stdout",
     "output_type": "stream",
     "text": [
      "Total no. of statements in balanced input senate dataset : 28164\n",
      "Total no. of Republican statements in balanced input senate dataset : 14082\n",
      "Total no. of Democratic statements in balanced input senate dataset: 14082\n",
      "% of Republican statements in balanced input senate dataset : 50.00\n"
     ]
    }
   ],
   "source": [
    "df_1995_2001_R = df_1995_2001.loc[(df_1995_2001['party'] == 'Republican')][:39506]\n",
    "df_1995_2001_D = df_1995_2001.loc[(df_1995_2001['party'] == 'Democratic')]\n",
    "df_2001_2005_R = df_2001_2005.loc[(df_2001_2005['party'] == 'Republican')]\n",
    "df_2001_2005_D = df_2001_2005.loc[(df_2001_2005['party'] == 'Democratic')][:27670]\n",
    "df_2005_2009_R = df_2005_2009.loc[(df_2005_2009['party'] == 'Republican')]\n",
    "df_2005_2009_D = df_2005_2009.loc[(df_2005_2009['party'] == 'Democratic')][:24393]\n",
    "df_2009_2013_R = df_2009_2013.loc[(df_2009_2013['party'] == 'Republican')]\n",
    "df_2009_2013_D = df_2009_2013.loc[(df_2009_2013['party'] == 'Democratic')][:11823]\n",
    "df_2013_2017_R = df_2013_2017.loc[(df_2013_2017['party'] == 'Republican')][:12835]\n",
    "df_2013_2017_D = df_2013_2017.loc[(df_2013_2017['party'] == 'Democratic')]\n",
    "df_2017_2019_R = df_2017_2019.loc[(df_2017_2019['party'] == 'Republican')][:3914]\n",
    "df_2017_2019_D = df_2017_2019.loc[(df_2017_2019['party'] == 'Democratic')]\n",
    "\n",
    "df = pd.concat([df_1995_2001_R[:n],df_1995_2001_D[:n],df_2001_2005_R[:n],df_2001_2005_D[:n],df_2005_2009_R[:n],df_2005_2009_D[:n]])\n",
    "df = pd.concat([df,df_2009_2013_R[:n],df_2009_2013_D[:n],df_2013_2017_R[:n],df_2013_2017_D[:n],df_2017_2019_R[:n],df_2017_2019_D[:n]])\n",
    "print('Total no. of statements in balanced input senate dataset :' ,len(df))\n",
    "print('Total no. of Republican statements in balanced input senate dataset :' ,len(df.loc[(df['party'] == 'Republican')]))\n",
    "print('Total no. of Democratic statements in balanced input senate dataset:' ,len(df.loc[(df['party'] == 'Democratic')]))\n",
    "print('% of Republican statements in balanced input senate dataset :', \"%.2f\" %(len(df.loc[(df['party'] == 'Republican')])/len(df)*100))\n"
   ]
  },
  {
   "cell_type": "code",
   "execution_count": 11,
   "metadata": {},
   "outputs": [
    {
     "name": "stdout",
     "output_type": "stream",
     "text": [
      "Found 27589 unique tokens.\n",
      "Found 27589 unique tokens.\n"
     ]
    },
    {
     "data": {
      "text/html": [
       "<div>\n",
       "<style scoped>\n",
       "    .dataframe tbody tr th:only-of-type {\n",
       "        vertical-align: middle;\n",
       "    }\n",
       "\n",
       "    .dataframe tbody tr th {\n",
       "        vertical-align: top;\n",
       "    }\n",
       "\n",
       "    .dataframe thead th {\n",
       "        text-align: right;\n",
       "    }\n",
       "</style>\n",
       "<table border=\"1\" class=\"dataframe\">\n",
       "  <thead>\n",
       "    <tr style=\"text-align: right;\">\n",
       "      <th></th>\n",
       "      <th>date</th>\n",
       "      <th>party</th>\n",
       "      <th>statement</th>\n",
       "      <th>statement_length</th>\n",
       "      <th>Party_numeric D=0 R=1</th>\n",
       "    </tr>\n",
       "  </thead>\n",
       "  <tbody>\n",
       "    <tr>\n",
       "      <th>2</th>\n",
       "      <td>19950104</td>\n",
       "      <td>Republican</td>\n",
       "      <td>Mr. President I send a resolution to the desk....</td>\n",
       "      <td>257</td>\n",
       "      <td>1</td>\n",
       "    </tr>\n",
       "    <tr>\n",
       "      <th>5</th>\n",
       "      <td>19950104</td>\n",
       "      <td>Republican</td>\n",
       "      <td>Mr. President I ask unanimous consent that the...</td>\n",
       "      <td>411</td>\n",
       "      <td>1</td>\n",
       "    </tr>\n",
       "    <tr>\n",
       "      <th>29</th>\n",
       "      <td>19950104</td>\n",
       "      <td>Republican</td>\n",
       "      <td>Mr. President I have been pleased to listen to...</td>\n",
       "      <td>1094</td>\n",
       "      <td>1</td>\n",
       "    </tr>\n",
       "    <tr>\n",
       "      <th>32</th>\n",
       "      <td>19950104</td>\n",
       "      <td>Republican</td>\n",
       "      <td>Reserving the right to object Mr. President. J...</td>\n",
       "      <td>323</td>\n",
       "      <td>1</td>\n",
       "    </tr>\n",
       "    <tr>\n",
       "      <th>33</th>\n",
       "      <td>19950104</td>\n",
       "      <td>Republican</td>\n",
       "      <td>And when all time is used or yielded back is t...</td>\n",
       "      <td>139</td>\n",
       "      <td>1</td>\n",
       "    </tr>\n",
       "  </tbody>\n",
       "</table>\n",
       "</div>"
      ],
      "text/plain": [
       "        date       party                                          statement  \\\n",
       "2   19950104  Republican  Mr. President I send a resolution to the desk....   \n",
       "5   19950104  Republican  Mr. President I ask unanimous consent that the...   \n",
       "29  19950104  Republican  Mr. President I have been pleased to listen to...   \n",
       "32  19950104  Republican  Reserving the right to object Mr. President. J...   \n",
       "33  19950104  Republican  And when all time is used or yielded back is t...   \n",
       "\n",
       "    statement_length  Party_numeric D=0 R=1  \n",
       "2                257                      1  \n",
       "5                411                      1  \n",
       "29              1094                      1  \n",
       "32               323                      1  \n",
       "33               139                      1  "
      ]
     },
     "execution_count": 11,
     "metadata": {},
     "output_type": "execute_result"
    }
   ],
   "source": [
    "# The maximum number of words to be used. (most frequent)\n",
    "MAX_NB_WORDS = 10000\n",
    "# Max number of words in each complaint.\n",
    "MAX_SEQUENCE_LENGTH = 250\n",
    "# This is fixed.\n",
    "EMBEDDING_DIM = 100\n",
    "\n",
    "tokenizer = Tokenizer(num_words=MAX_NB_WORDS, filters='!\"#$%&()*+,-./:;<=>?@[\\]^_`{|}~', lower=True)\n",
    "tokenizer.fit_on_texts(df['statement'])\n",
    "word_index = tokenizer.word_index\n",
    "#len(word_index)\n",
    "print('Found %s unique tokens.'% len(word_index))\n",
    "print('Found {} unique tokens.' .format(len(word_index)))\n",
    "#X = tokenizer.texts_to_sequences(df['Speech text'])\n",
    "#X = pad_sequences(X, maxlen=MAX_SEQUENCE_LENGTH)\n",
    "#print('Shape of data tensor:', X.shape)\n",
    "df['Party_numeric D=0 R=1'] = np.where(df['party'] ==\"Democratic\", 0, 1)\n",
    "df.head()\n",
    "\n",
    "#X_train, X_test, Y_train, Y_test = train_test_split(X,Y, test_size = 0.20, random_state = 42)\n",
    "#print(X_train.shape,Y_train.shape)\n",
    "#print(X_test.shape,Y_test.shape)"
   ]
  },
  {
   "cell_type": "code",
   "execution_count": 12,
   "metadata": {},
   "outputs": [],
   "source": [
    "def remove_special_characters(text, remove_digits=False):\n",
    "    # Remove special characters from text\n",
    "    pattern = r'[^a-zA-z0-9\\s]' if not remove_digits else r'[^a-zA-z\\s]'\n",
    "    text = re.sub(pattern, '', text)\n",
    "    return text"
   ]
  },
  {
   "cell_type": "code",
   "execution_count": 13,
   "metadata": {},
   "outputs": [],
   "source": [
    "#import spacy\n",
    "#nlp = spacy.load('en_core_web_md', parse=True, tag=True, entity=True)\n",
    "\n",
    "\n",
    "#def lemmatize_text(text):\n",
    "    # Get base form for word variants (i.e. running ==> run, cats ==> cat, etc.)\n",
    "#    text = nlp(text)\n",
    "#    text = ' '.join([word.lemma_ if word.lemma_ != '-PRON-' else word.text for word in text])\n",
    "#    return text"
   ]
  },
  {
   "cell_type": "code",
   "execution_count": 14,
   "metadata": {},
   "outputs": [],
   "source": [
    "import nltk\n",
    "from nltk.tokenize.toktok import ToktokTokenizer\n",
    "\n",
    "tokenizer1 = ToktokTokenizer()\n",
    "tokenizer = Tokenizer(num_words=MAX_NB_WORDS, filters='!\"#$%&()*+,-./:;<=>?@[\\]^_`{|}~', lower=True)\n",
    "\n",
    "# Remove words 'no' and 'not' from stopword list as these may change meaning of words/phrases\n",
    "stopword_list = nltk.corpus.stopwords.words('english')\n",
    "for word in ['no', 'not', 'he', 'she', 'his', 'her', 'hers']:\n",
    "    stopword_list.remove(word)\n",
    "\n",
    "# Add characters not captured in special character removal to stop list\n",
    "stopword_list += ['[', ']', \"\\\\\",'mr','mrs','president']                     \n",
    "\n",
    "def remove_stopwords(text, is_lower_case=False):\n",
    "    tokens = tokenizer1.tokenize(text)\n",
    "    tokens = [token.strip() for token in tokens]\n",
    "    if is_lower_case:\n",
    "        filtered_tokens = [token for token in tokens if token not in stopword_list]\n",
    "    else:\n",
    "        filtered_tokens = [token for token in tokens if token.lower() not in stopword_list]\n",
    "    filtered_text = ' '.join(filtered_tokens)    \n",
    "    return filtered_text"
   ]
  },
  {
   "cell_type": "code",
   "execution_count": 15,
   "metadata": {},
   "outputs": [
    {
     "data": {
      "text/html": [
       "<div>\n",
       "<style scoped>\n",
       "    .dataframe tbody tr th:only-of-type {\n",
       "        vertical-align: middle;\n",
       "    }\n",
       "\n",
       "    .dataframe tbody tr th {\n",
       "        vertical-align: top;\n",
       "    }\n",
       "\n",
       "    .dataframe thead th {\n",
       "        text-align: right;\n",
       "    }\n",
       "</style>\n",
       "<table border=\"1\" class=\"dataframe\">\n",
       "  <thead>\n",
       "    <tr style=\"text-align: right;\">\n",
       "      <th></th>\n",
       "      <th>date</th>\n",
       "      <th>party</th>\n",
       "      <th>statement</th>\n",
       "      <th>statement_length</th>\n",
       "      <th>Party_numeric D=0 R=1</th>\n",
       "      <th>clean_statement</th>\n",
       "    </tr>\n",
       "  </thead>\n",
       "  <tbody>\n",
       "    <tr>\n",
       "      <th>2</th>\n",
       "      <td>19950104</td>\n",
       "      <td>Republican</td>\n",
       "      <td>Mr. President I send a resolution to the desk....</td>\n",
       "      <td>257</td>\n",
       "      <td>1</td>\n",
       "      <td>[send, resolution, desk, vice, clerk, report, ...</td>\n",
       "    </tr>\n",
       "    <tr>\n",
       "      <th>5</th>\n",
       "      <td>19950104</td>\n",
       "      <td>Republican</td>\n",
       "      <td>Mr. President I ask unanimous consent that the...</td>\n",
       "      <td>411</td>\n",
       "      <td>1</td>\n",
       "      <td>[ask, unanimous, consent, text, bill, printed,...</td>\n",
       "    </tr>\n",
       "    <tr>\n",
       "      <th>29</th>\n",
       "      <td>19950104</td>\n",
       "      <td>Republican</td>\n",
       "      <td>Mr. President I have been pleased to listen to...</td>\n",
       "      <td>1094</td>\n",
       "      <td>1</td>\n",
       "      <td>[pleased, listen, statement, distinguished, se...</td>\n",
       "    </tr>\n",
       "    <tr>\n",
       "      <th>32</th>\n",
       "      <td>19950104</td>\n",
       "      <td>Republican</td>\n",
       "      <td>Reserving the right to object Mr. President. J...</td>\n",
       "      <td>323</td>\n",
       "      <td>1</td>\n",
       "      <td>[reserving, right, object, clarification, prev...</td>\n",
       "    </tr>\n",
       "    <tr>\n",
       "      <th>33</th>\n",
       "      <td>19950104</td>\n",
       "      <td>Republican</td>\n",
       "      <td>And when all time is used or yielded back is t...</td>\n",
       "      <td>139</td>\n",
       "      <td>1</td>\n",
       "      <td>[time, used, yielded, back, next, order, busin...</td>\n",
       "    </tr>\n",
       "  </tbody>\n",
       "</table>\n",
       "</div>"
      ],
      "text/plain": [
       "        date       party                                          statement  \\\n",
       "2   19950104  Republican  Mr. President I send a resolution to the desk....   \n",
       "5   19950104  Republican  Mr. President I ask unanimous consent that the...   \n",
       "29  19950104  Republican  Mr. President I have been pleased to listen to...   \n",
       "32  19950104  Republican  Reserving the right to object Mr. President. J...   \n",
       "33  19950104  Republican  And when all time is used or yielded back is t...   \n",
       "\n",
       "    statement_length  Party_numeric D=0 R=1  \\\n",
       "2                257                      1   \n",
       "5                411                      1   \n",
       "29              1094                      1   \n",
       "32               323                      1   \n",
       "33               139                      1   \n",
       "\n",
       "                                      clean_statement  \n",
       "2   [send, resolution, desk, vice, clerk, report, ...  \n",
       "5   [ask, unanimous, consent, text, bill, printed,...  \n",
       "29  [pleased, listen, statement, distinguished, se...  \n",
       "32  [reserving, right, object, clarification, prev...  \n",
       "33  [time, used, yielded, back, next, order, busin...  "
      ]
     },
     "execution_count": 15,
     "metadata": {},
     "output_type": "execute_result"
    }
   ],
   "source": [
    "import unicodedata\n",
    "\n",
    "clean_text = []\n",
    "\n",
    "for text in df['statement']:\n",
    "    # Remove accent characters => Expand Contractions => Remove special characters => Lammatize Text => Remove Stop Words\n",
    "    no_accent_chars = unicodedata.normalize('NFKD', text).encode('ascii', 'ignore').decode('utf-8', 'ignore')\n",
    "    #expanded_text = expand_contractions(no_accent_chars)\n",
    "    expanded_text = no_accent_chars \n",
    "    no_special_chars = remove_special_characters(expanded_text, remove_digits=False)\n",
    "    #lem_text = lemmatize_text(no_special_chars)\n",
    "    #filtered_text = remove_stopwords(lem_text)\n",
    "    filtered_text = remove_stopwords(no_special_chars)\n",
    "    \n",
    "    # Make all text lowercase\n",
    "    lowercase_text = filtered_text.lower()\n",
    "    \n",
    "    # Split text into list of words\n",
    "    words = lowercase_text.split()\n",
    "    clean_text.append(words)\n",
    "\n",
    "# Add cleaned text to dataframe\n",
    "df['clean_statement'] = clean_text\n",
    "df.head()"
   ]
  },
  {
   "cell_type": "code",
   "execution_count": 16,
   "metadata": {},
   "outputs": [],
   "source": [
    "# Set variables for dependent and independent variables\n",
    "target = df['Party_numeric D=0 R=1']\n",
    "data = df['clean_statement'].values"
   ]
  },
  {
   "cell_type": "code",
   "execution_count": 17,
   "metadata": {},
   "outputs": [
    {
     "name": "stdout",
     "output_type": "stream",
     "text": [
      "Maximum Sample Word Count: 220\n"
     ]
    }
   ],
   "source": [
    "# Create Bigrams as Certain terms may come up that make more sense together than independently \n",
    "#import gensim\n",
    "#from gensim.models import phrases\n",
    "#from gensim.models.phrases import Phrases\n",
    "\n",
    "# Identify and create bigrams\n",
    "#bigrams = phrases.Phrases(data)\n",
    "#bigrams = data\n",
    "\n",
    "bigrams_data = []\n",
    "\n",
    "\n",
    "for i in range(len(data)):\n",
    "#    bigrams_data.append(bigrams[data[i]])\n",
    "    bigrams_data.append([data[i]])\n",
    "    \n",
    "bigrams_data = np.array(bigrams_data)\n",
    "\n",
    "# Get word count for longest sample after stop words removed and bigrams created\n",
    "max_len = 0\n",
    "for bigram in bigrams_data:\n",
    "    tumpa = 0\n",
    "    for bigram1 in bigram:\n",
    "        for bigram2 in bigram1:\n",
    "            tumpa = tumpa + 1\n",
    "        \n",
    "        max_len = tumpa if tumpa > max_len else max_len\n",
    "#print(max_len)\n",
    " \n",
    "print('Maximum Sample Word Count: {}' .format(max_len))\n",
    "#print('Sample:\\n' ' '.join([bigram for bigram in bigrams_data[0]]))"
   ]
  },
  {
   "cell_type": "code",
   "execution_count": 18,
   "metadata": {},
   "outputs": [
    {
     "name": "stdout",
     "output_type": "stream",
     "text": [
      "Total Words in Vocabulary:1105930\n"
     ]
    }
   ],
   "source": [
    "# Create variable to hold set of all unique words in sample corpus\n",
    "#total_vocabulary = set(word for text in bigrams_data for word in text)\n",
    "total_vocabulary =[]\n",
    "for bigram in bigrams_data:\n",
    "    for bigram1 in bigram:\n",
    "        for bigram2 in bigram1:\n",
    "            total_vocabulary.append(bigram2)\n",
    "#len(total_vocabulary)\n",
    "\n",
    "print('Total Words in Vocabulary:{}' .format(len(total_vocabulary)))"
   ]
  },
  {
   "cell_type": "code",
   "execution_count": 19,
   "metadata": {},
   "outputs": [
    {
     "name": "stdout",
     "output_type": "stream",
     "text": [
      "Total Words in Embedding Index: 10001\n"
     ]
    }
   ],
   "source": [
    "#!wget http://nlp.stanford.edu/data/glove.6B.zip\n",
    "#!unzip glove*.zip\n",
    "# Create dictionary of vectors from GloVe based on total vocabulary\n",
    "embeddings_index = {}\n",
    "word_count = 0\n",
    "f = open('/home/asheshchoudhury/glove.6B.50d.txt', encoding='utf8')\n",
    "for line in f:\n",
    "    values = line.split()\n",
    "    word = values[0]\n",
    "    if word in total_vocabulary:\n",
    "        if word_count > MAX_NB_WORDS:\n",
    "            break\n",
    "        elif word_count <= MAX_NB_WORDS:\n",
    "            #print(word_count)\n",
    "            word_count = word_count + 1\n",
    "            coefs = np.asarray(values[1:], dtype='float32')\n",
    "            embeddings_index[word] = coefs\n",
    "f.close()\n",
    "\n",
    "print('Total Words in Embedding Index: {}' .format(len(embeddings_index)))"
   ]
  },
  {
   "cell_type": "code",
   "execution_count": 20,
   "metadata": {},
   "outputs": [],
   "source": [
    "class W2vVectorizer(object):\n",
    "    # Assign GloVe vector to each word in vocabulary, or zero vector to words/bigrams not found\n",
    "    def __init__(self, w2v):\n",
    "        # takes in a dictionary of words and vectors as input\n",
    "        self.w2v = w2v\n",
    "        if len(w2v) == 0:\n",
    "            self.dimensions = 0\n",
    "        else:\n",
    "            self.dimensions = len(w2v[next(iter(embeddings_index))])\n",
    "    \n",
    "    # Following required to allow for implementation of a fit method\n",
    "    # Cannot be used in SKLearn Pipeline otherwise \n",
    "    def fit(self, X, y):\n",
    "        return self\n",
    "            \n",
    "    def transform(self, X):\n",
    "        return np.array([\n",
    "            np.mean([self.w2v[w] for w in words if w in self.w2v]\n",
    "                   or [np.zeros(self.dimensions)], axis=0) for words in X])"
   ]
  },
  {
   "cell_type": "code",
   "execution_count": 21,
   "metadata": {},
   "outputs": [],
   "source": [
    "from sklearn.ensemble import RandomForestClassifier\n",
    "from sklearn.svm import SVC\n",
    "from sklearn.linear_model import LogisticRegression\n",
    "from sklearn.pipeline import Pipeline\n",
    "from sklearn.model_selection import cross_val_score\n",
    "from sklearn.naive_bayes import GaussianNB\n",
    "\n",
    "\n",
    "rf  = Pipeline([(\"Word2Vec Vectorizer\", W2vVectorizer(embeddings_index)),\n",
    "                (\"Random Forest\", RandomForestClassifier(n_estimators=100, verbose=True, n_jobs=-1))])\n",
    "svc = Pipeline([(\"Word2Vec Vectorizer\", W2vVectorizer(embeddings_index)),\n",
    "                ('Support Vector Machine', SVC(gamma='scale'))])\n",
    "#lr  = Pipeline([(\"Word2Vec Vectorizer\", W2vVectorizer(embeddings_index)),\n",
    "#                ('Logistic Regression', LogisticRegression(n_jobs=-1))])\n",
    "nb =  Pipeline([(\"Word2Vec Vectorizer\", W2vVectorizer(embeddings_index)),\n",
    "                ('Naive Bayse', GaussianNB())])"
   ]
  },
  {
   "cell_type": "code",
   "execution_count": 22,
   "metadata": {},
   "outputs": [],
   "source": [
    "models = [('Random Forest', rf),\n",
    "          (\"Support Vector Machine\", svc),\n",
    "#          (\"Logistic Regression\", lr)]\n",
    "          (\"Naive Bayes\", nb)]\n"
   ]
  },
  {
   "cell_type": "code",
   "execution_count": 23,
   "metadata": {},
   "outputs": [
    {
     "name": "stderr",
     "output_type": "stream",
     "text": [
      "[Parallel(n_jobs=-1)]: Using backend LokyBackend with 10 concurrent workers.\n",
      "[Parallel(n_jobs=-1)]: Done  30 tasks      | elapsed:    1.5s\n",
      "[Parallel(n_jobs=-1)]: Done 100 out of 100 | elapsed:    2.2s finished\n",
      "[Parallel(n_jobs=10)]: Using backend ThreadingBackend with 10 concurrent workers.\n",
      "[Parallel(n_jobs=10)]: Done  30 tasks      | elapsed:    0.0s\n",
      "[Parallel(n_jobs=10)]: Done 100 out of 100 | elapsed:    0.1s finished\n",
      "[Parallel(n_jobs=-1)]: Using backend LokyBackend with 10 concurrent workers.\n",
      "[Parallel(n_jobs=-1)]: Done  30 tasks      | elapsed:    1.5s\n",
      "[Parallel(n_jobs=-1)]: Done 100 out of 100 | elapsed:    2.3s finished\n",
      "[Parallel(n_jobs=10)]: Using backend ThreadingBackend with 10 concurrent workers.\n",
      "[Parallel(n_jobs=10)]: Done  30 tasks      | elapsed:    0.0s\n",
      "[Parallel(n_jobs=10)]: Done 100 out of 100 | elapsed:    0.1s finished\n"
     ]
    },
    {
     "data": {
      "text/plain": [
       "[('Random Forest', 0.43896463570515554),\n",
       " ('Support Vector Machine', 0.4234838801306633),\n",
       " ('Naive Bayes', 0.4164181224257918)]"
      ]
     },
     "execution_count": 23,
     "metadata": {},
     "output_type": "execute_result"
    }
   ],
   "source": [
    "# Use 2 cross-validations to gauge performance\n",
    "scores = [(name, cross_val_score(model, data, target, cv=2).mean()) for name, model in models]\n",
    "scores"
   ]
  },
  {
   "cell_type": "code",
   "execution_count": 24,
   "metadata": {},
   "outputs": [],
   "source": [
    "from keras.preprocessing.sequence import pad_sequences\n",
    "from keras.layers import Input, Dense, LSTM, Embedding, GRU\n",
    "from keras.layers import Dropout, Activation, Bidirectional, GlobalMaxPool1D, Conv1D, MaxPooling1D, Flatten\n",
    "from keras.models import Model, Sequential, load_model\n",
    "from keras.metrics import categorical_crossentropy\n",
    "from keras.preprocessing import text\n",
    "from keras.callbacks import ModelCheckpoint, EarlyStopping\n",
    "from keras.optimizers import Adam, RMSprop"
   ]
  },
  {
   "cell_type": "code",
   "execution_count": 25,
   "metadata": {},
   "outputs": [
    {
     "name": "stdout",
     "output_type": "stream",
     "text": [
      "Total Words in Vocabulary: 33610\n"
     ]
    }
   ],
   "source": [
    "# Convert each sample's list of bigrams into a string\n",
    "bigrams_joined = []\n",
    "\n",
    "for a in bigrams_data:\n",
    "    for b in a:\n",
    "        bigrams_joined.append(' '.join(b))\n",
    "\n",
    "# Remove underscore from filters and no need to convert to lowercase\n",
    "tokenizer = text.Tokenizer(filters='!\"#%&()*+,./:;<=>?@[\\\\]^`{|}~\\t\\n', lower=False)\n",
    "tokenizer.fit_on_texts(bigrams_joined)\n",
    "sequences = tokenizer.texts_to_sequences(bigrams_joined)\n",
    "\n",
    "word_index = tokenizer.word_index\n",
    "print('Total Words in Vocabulary: {}' .format(len(word_index)))"
   ]
  },
  {
   "cell_type": "code",
   "execution_count": 26,
   "metadata": {},
   "outputs": [
    {
     "data": {
      "text/html": [
       "<div>\n",
       "<style scoped>\n",
       "    .dataframe tbody tr th:only-of-type {\n",
       "        vertical-align: middle;\n",
       "    }\n",
       "\n",
       "    .dataframe tbody tr th {\n",
       "        vertical-align: top;\n",
       "    }\n",
       "\n",
       "    .dataframe thead th {\n",
       "        text-align: right;\n",
       "    }\n",
       "</style>\n",
       "<table border=\"1\" class=\"dataframe\">\n",
       "  <thead>\n",
       "    <tr style=\"text-align: right;\">\n",
       "      <th></th>\n",
       "      <th>0</th>\n",
       "      <th>1</th>\n",
       "      <th>2</th>\n",
       "      <th>3</th>\n",
       "      <th>4</th>\n",
       "      <th>5</th>\n",
       "      <th>6</th>\n",
       "      <th>7</th>\n",
       "      <th>8</th>\n",
       "      <th>9</th>\n",
       "      <th>...</th>\n",
       "      <th>212</th>\n",
       "      <th>213</th>\n",
       "      <th>214</th>\n",
       "      <th>215</th>\n",
       "      <th>216</th>\n",
       "      <th>217</th>\n",
       "      <th>218</th>\n",
       "      <th>219</th>\n",
       "      <th>bigrams</th>\n",
       "      <th>text</th>\n",
       "    </tr>\n",
       "  </thead>\n",
       "  <tbody>\n",
       "    <tr>\n",
       "      <th>0</th>\n",
       "      <td>274</td>\n",
       "      <td>62</td>\n",
       "      <td>172</td>\n",
       "      <td>722</td>\n",
       "      <td>183</td>\n",
       "      <td>203</td>\n",
       "      <td>596</td>\n",
       "      <td>191</td>\n",
       "      <td>183</td>\n",
       "      <td>158</td>\n",
       "      <td>...</td>\n",
       "      <td>0</td>\n",
       "      <td>0</td>\n",
       "      <td>0</td>\n",
       "      <td>0</td>\n",
       "      <td>0</td>\n",
       "      <td>0</td>\n",
       "      <td>0</td>\n",
       "      <td>0</td>\n",
       "      <td>[send, resolution, desk, vice, clerk, report, ...</td>\n",
       "      <td>[send, resolution, desk, vice, clerk, report, ...</td>\n",
       "    </tr>\n",
       "    <tr>\n",
       "      <th>1</th>\n",
       "      <td>2</td>\n",
       "      <td>5</td>\n",
       "      <td>3</td>\n",
       "      <td>257</td>\n",
       "      <td>11</td>\n",
       "      <td>38</td>\n",
       "      <td>23</td>\n",
       "      <td>2</td>\n",
       "      <td>5</td>\n",
       "      <td>3</td>\n",
       "      <td>...</td>\n",
       "      <td>0</td>\n",
       "      <td>0</td>\n",
       "      <td>0</td>\n",
       "      <td>0</td>\n",
       "      <td>0</td>\n",
       "      <td>0</td>\n",
       "      <td>0</td>\n",
       "      <td>0</td>\n",
       "      <td>[ask, unanimous, consent, text, bill, printed,...</td>\n",
       "      <td>[ask, unanimous, consent, text, bill, printed,...</td>\n",
       "    </tr>\n",
       "    <tr>\n",
       "      <th>2</th>\n",
       "      <td>560</td>\n",
       "      <td>1306</td>\n",
       "      <td>273</td>\n",
       "      <td>125</td>\n",
       "      <td>1</td>\n",
       "      <td>586</td>\n",
       "      <td>2972</td>\n",
       "      <td>583</td>\n",
       "      <td>14</td>\n",
       "      <td>406</td>\n",
       "      <td>...</td>\n",
       "      <td>0</td>\n",
       "      <td>0</td>\n",
       "      <td>0</td>\n",
       "      <td>0</td>\n",
       "      <td>0</td>\n",
       "      <td>0</td>\n",
       "      <td>0</td>\n",
       "      <td>0</td>\n",
       "      <td>[pleased, listen, statement, distinguished, se...</td>\n",
       "      <td>[pleased, listen, statement, distinguished, se...</td>\n",
       "    </tr>\n",
       "    <tr>\n",
       "      <th>3</th>\n",
       "      <td>499</td>\n",
       "      <td>61</td>\n",
       "      <td>171</td>\n",
       "      <td>1975</td>\n",
       "      <td>205</td>\n",
       "      <td>1558</td>\n",
       "      <td>170</td>\n",
       "      <td>10</td>\n",
       "      <td>170</td>\n",
       "      <td>97</td>\n",
       "      <td>...</td>\n",
       "      <td>0</td>\n",
       "      <td>0</td>\n",
       "      <td>0</td>\n",
       "      <td>0</td>\n",
       "      <td>0</td>\n",
       "      <td>0</td>\n",
       "      <td>0</td>\n",
       "      <td>0</td>\n",
       "      <td>[reserving, right, object, clarification, prev...</td>\n",
       "      <td>[reserving, right, object, clarification, prev...</td>\n",
       "    </tr>\n",
       "    <tr>\n",
       "      <th>4</th>\n",
       "      <td>10</td>\n",
       "      <td>310</td>\n",
       "      <td>1458</td>\n",
       "      <td>88</td>\n",
       "      <td>145</td>\n",
       "      <td>13</td>\n",
       "      <td>35</td>\n",
       "      <td>273</td>\n",
       "      <td>1</td>\n",
       "      <td>713</td>\n",
       "      <td>...</td>\n",
       "      <td>0</td>\n",
       "      <td>0</td>\n",
       "      <td>0</td>\n",
       "      <td>0</td>\n",
       "      <td>0</td>\n",
       "      <td>0</td>\n",
       "      <td>0</td>\n",
       "      <td>0</td>\n",
       "      <td>[time, used, yielded, back, next, order, busin...</td>\n",
       "      <td>[time, used, yielded, back, next, order, busin...</td>\n",
       "    </tr>\n",
       "  </tbody>\n",
       "</table>\n",
       "<p>5 rows × 222 columns</p>\n",
       "</div>"
      ],
      "text/plain": [
       "     0     1     2     3    4     5     6    7    8    9  ...  212  213  214  \\\n",
       "0  274    62   172   722  183   203   596  191  183  158  ...    0    0    0   \n",
       "1    2     5     3   257   11    38    23    2    5    3  ...    0    0    0   \n",
       "2  560  1306   273   125    1   586  2972  583   14  406  ...    0    0    0   \n",
       "3  499    61   171  1975  205  1558   170   10  170   97  ...    0    0    0   \n",
       "4   10   310  1458    88  145    13    35  273    1  713  ...    0    0    0   \n",
       "\n",
       "   215  216  217  218  219                                            bigrams  \\\n",
       "0    0    0    0    0    0  [send, resolution, desk, vice, clerk, report, ...   \n",
       "1    0    0    0    0    0  [ask, unanimous, consent, text, bill, printed,...   \n",
       "2    0    0    0    0    0  [pleased, listen, statement, distinguished, se...   \n",
       "3    0    0    0    0    0  [reserving, right, object, clarification, prev...   \n",
       "4    0    0    0    0    0  [time, used, yielded, back, next, order, busin...   \n",
       "\n",
       "                                                text  \n",
       "0  [send, resolution, desk, vice, clerk, report, ...  \n",
       "1  [ask, unanimous, consent, text, bill, printed,...  \n",
       "2  [pleased, listen, statement, distinguished, se...  \n",
       "3  [reserving, right, object, clarification, prev...  \n",
       "4  [time, used, yielded, back, next, order, busin...  \n",
       "\n",
       "[5 rows x 222 columns]"
      ]
     },
     "execution_count": 26,
     "metadata": {},
     "output_type": "execute_result"
    }
   ],
   "source": [
    "X_t = pad_sequences(sequences, maxlen=max_len, padding='post')\n",
    "X_t_df = pd.DataFrame(X_t)\n",
    "X_t_df['bigrams'] = bigrams_data\n",
    "X_t_df['text'] = df.reset_index(drop=True)['clean_statement']\n",
    "X_t_df.head()"
   ]
  },
  {
   "cell_type": "code",
   "execution_count": 27,
   "metadata": {},
   "outputs": [],
   "source": [
    "# Set target variable\n",
    "y = pd.get_dummies(target).values"
   ]
  },
  {
   "cell_type": "code",
   "execution_count": 28,
   "metadata": {},
   "outputs": [],
   "source": [
    "#Train Test split\n",
    "from sklearn.model_selection import train_test_split\n",
    "\n",
    "X_train, X_test, y_train, y_test = train_test_split(X_t_df, y, test_size=.5)\n",
    "\n",
    "X_train_text = X_train[['text', 'bigrams']]\n",
    "X_train = X_train[X_train.columns[:-2]]\n",
    "\n",
    "X_test_text = X_test[['text', 'bigrams']]\n",
    "X_test = X_test[X_test.columns[:-2]]\n"
   ]
  },
  {
   "cell_type": "code",
   "execution_count": 29,
   "metadata": {},
   "outputs": [],
   "source": [
    "# Create matrix of random vectors which matches size of the word index\n",
    "embedding_matrix = np.random.random((len(word_index) + 1, 50))\n",
    "for word, i in word_index.items():\n",
    "    \n",
    "    # For each word found in the embedding index, assign the known vector\n",
    "    embedding_vector = embeddings_index.get(word)\n",
    "    \n",
    "    # Otherwise, keep the randomly assigned vector\n",
    "    if embedding_vector is not None:\n",
    "        embedding_matrix[i] = embedding_vector\n",
    "        \n",
    "embedding_layer = Embedding(len(word_index) + 1, \n",
    "                            100, weights = [embedding_matrix], \n",
    "                            input_length = max_len, trainable=True)"
   ]
  },
  {
   "cell_type": "code",
   "execution_count": 30,
   "metadata": {},
   "outputs": [],
   "source": [
    "# Start from Network Development Strategy Synopsis"
   ]
  },
  {
   "cell_type": "code",
   "execution_count": 31,
   "metadata": {},
   "outputs": [],
   "source": [
    "#CNN\n",
    "\n",
    "#def create_cnn_model(cdim=128, ksize=5, pool1=5, pool2=35, density=128, lr=.001, epochs=100, batch_size=128, validation_split=.3, patience=5, verbose=0):\n",
    "def create_cnn_model(cdim=128, ksize=5, pool1=5, pool2=35, density=128, lr=.001, epochs=1, batch_size=128, validation_split=.2, patience=5, verbose=0):\n",
    "    \n",
    "    # Start Timer\n",
    "    start = datetime.datetime.now()\n",
    "    #print('inside the loop-1')\n",
    "    \n",
    "    # Display Hyperparameter Settings\n",
    "    print('Convolution Dimensions\\tWindow Size\\tPool 1\\t\\tPool 2\\t\\tDensity')\n",
    "    print(cdim,ksize,pool1,pool2,density, sep ='\\t\\t\\t')\n",
    "    \n",
    "\n",
    "    \n",
    "    # Build Model\n",
    "    input_ = Input(shape=(max_len,), dtype='int32')\n",
    "    embedded_sequences = embedding_layer(input_)\n",
    "    #print('inside the loop-2')\n",
    "    \n",
    "    x = Conv1D(cdim, ksize, activation='relu')(embedded_sequences)\n",
    "    x = MaxPooling1D(pool1, padding='same')(x)\n",
    "    x = Conv1D(cdim, ksize, activation='relu')(x)\n",
    "    x = MaxPooling1D(pool1, padding='same')(x)\n",
    "    x = Conv1D(cdim, ksize, activation='relu')(x)\n",
    "    x = MaxPooling1D(pool2, padding='same')(x)\n",
    "    x = Flatten()(x)\n",
    "    x = Dense(density, activation='relu')(x)\n",
    "    #x = Dense(num_classes, activation='softmax')(x)\n",
    "    x = Dense(2, activation='softmax')(x)\n",
    "    #print('inside the loop-3')\n",
    "    model = Model(inputs=input_, outputs=x)\n",
    "    #print('inside the loop-4')\n",
    "    \n",
    "    # Compile Model\n",
    "    history = model.compile(loss='categorical_crossentropy', \n",
    "                            optimizer=Adam(lr=lr), \n",
    "                            metrics=['accuracy'])\n",
    "    #print('inside the loop-5')\n",
    "    # Create Checkpoints & Stopping Parameters\n",
    "    #checkpoints_path = f'models/cnn_best_{p1}_{p2}.hdf5'\n",
    "    #checkpoints_path = f'models/cnn_best_.hdf5'\n",
    "\n",
    "    #checkpoint = ModelCheckpoint(checkpoints_path, \n",
    "    #                             monitor='val_loss', \n",
    "    #                             verbose=verbose, \n",
    "    #                             save_best_only=True, \n",
    "    #                             mode='min')\n",
    "\n",
    "    #early_stopping = EarlyStopping(monitor='val_loss', \n",
    "    #                               mode='min', \n",
    "    #                               patience=patience)\n",
    "    \n",
    "    #callbacks = [checkpoint, early_stopping]\n",
    "    callbacks=[EarlyStopping(monitor='val_loss', patience=5, min_delta=0.001)]\n",
    "    #print('inside the loop-6')\n",
    "    \n",
    "    # Fit Model\n",
    "    history = model.fit(X_train, y_train, \n",
    "                        epochs=epochs, \n",
    "                        batch_size=batch_size, \n",
    "                        validation_split=validation_split, \n",
    "                        callbacks=callbacks, \n",
    "                        verbose=verbose)\n",
    "    #print('inside the loop-7')\n",
    "    # Evaluate Model\n",
    "    results = model.evaluate(X_test, y_test)\n",
    "    #print(results)\n",
    "    # End Timer\n",
    "    end = datetime.datetime.now()\n",
    "    time_taken = end - start\n",
    "    # Display Results\n",
    "    print('Time to Complete:', time_taken)\n",
    "    #print(f'Loss:\\t{results[0]:.2f}\\tAccuracy:\\t{results[1]:.4f}\\n')\n",
    "    #print('Loss:\\t' results[0]:.2f 'Accuracy:\\t' results[1]:.4f)\n",
    "    #print('Loss:{0.2f}\\t' .format(results[0]), 'Accuracy:{0.4f}\\t' .format(results[1]))\n",
    "    #print('Printing Loss')\n",
    "    print('Loss:' ,\"%.2f\" %(results[0]))\n",
    "    #print('Printing Accuracy')\n",
    "    print('Accuracy:',\"%.2f\" %(results[1]))\n",
    "\n",
    "\n",
    "\n",
    "    return model, history, results, time_taken\n"
   ]
  },
  {
   "cell_type": "code",
   "execution_count": 32,
   "metadata": {},
   "outputs": [
    {
     "name": "stdout",
     "output_type": "stream",
     "text": [
      "Time Elapsed: 0:03:56.823082\n",
      "Convolution Dimensions\tWindow Size\tPool 1\t\tPool 2\t\tDensity\n",
      "64\t\t\t1\t\t\t2\t\t\t40\t\t\t4\n",
      "WARNING:tensorflow:From /usr/local/lib/python3.5/dist-packages/tensorflow_core/python/ops/resource_variable_ops.py:1630: calling BaseResourceVariable.__init__ (from tensorflow.python.ops.resource_variable_ops) with constraint is deprecated and will be removed in a future version.\n",
      "Instructions for updating:\n",
      "If using Keras pass *_constraint arguments to layers.\n",
      "Convolution Dimensions\tWindow Size\tPool 1\t\tPool 2\t\tDensity\n",
      "64\t\t\t2\t\t\t2\t\t\t40\t\t\t4\n",
      "WARNING:tensorflow:From /usr/local/lib/python3.5/dist-packages/keras/backend/tensorflow_backend.py:4070: The name tf.nn.max_pool is deprecated. Please use tf.nn.max_pool2d instead.\n",
      "\n",
      "WARNING:tensorflow:From /usr/local/lib/python3.5/dist-packages/keras/backend/tensorflow_backend.py:422: The name tf.global_variables is deprecated. Please use tf.compat.v1.global_variables instead.\n",
      "\n",
      "14082/14082 [==============================] - 4s 279us/step\n",
      "Time to Complete: 0:00:20.260317\n",
      "Loss: 0.67\n",
      "Accuracy: 0.60\n",
      "0:00:20.260317\n",
      "Convolution Dimensions\tWindow Size\tPool 1\t\tPool 2\t\tDensity\n",
      "64\t\t\t3\t\t\t2\t\t\t40\t\t\t4\n",
      "14082/14082 [==============================] - 4s 294us/step\n",
      "Time to Complete: 0:00:18.655130\n",
      "Loss: 0.62\n",
      "Accuracy: 0.63\n",
      "0:00:18.655130\n",
      "Convolution Dimensions\tWindow Size\tPool 1\t\tPool 2\t\tDensity\n",
      "128\t\t\t1\t\t\t2\t\t\t40\t\t\t4\n",
      "14082/14082 [==============================] - 5s 341us/step\n",
      "Time to Complete: 0:00:20.471643\n",
      "Loss: 0.63\n",
      "Accuracy: 0.61\n",
      "0:00:20.471643\n",
      "Convolution Dimensions\tWindow Size\tPool 1\t\tPool 2\t\tDensity\n",
      "128\t\t\t2\t\t\t2\t\t\t40\t\t\t4\n",
      "14082/14082 [==============================] - 6s 392us/step\n",
      "Time to Complete: 0:00:22.505712\n",
      "Loss: 0.65\n",
      "Accuracy: 0.64\n",
      "0:00:22.505712\n",
      "Convolution Dimensions\tWindow Size\tPool 1\t\tPool 2\t\tDensity\n",
      "128\t\t\t3\t\t\t2\t\t\t40\t\t\t4\n",
      "14082/14082 [==============================] - 6s 432us/step\n",
      "Time to Complete: 0:00:24.974779\n",
      "Loss: 0.66\n",
      "Accuracy: 0.64\n",
      "0:00:24.974779\n",
      "Convolution Dimensions\tWindow Size\tPool 1\t\tPool 2\t\tDensity\n",
      "256\t\t\t1\t\t\t2\t\t\t40\t\t\t4\n",
      "14082/14082 [==============================] - 8s 573us/step\n",
      "Time to Complete: 0:00:30.718935\n",
      "Loss: 0.68\n",
      "Accuracy: 0.63\n",
      "0:00:30.718935\n",
      "Convolution Dimensions\tWindow Size\tPool 1\t\tPool 2\t\tDensity\n",
      "256\t\t\t2\t\t\t2\t\t\t40\t\t\t4\n",
      "14082/14082 [==============================] - 10s 698us/step\n",
      "Time to Complete: 0:00:36.465281\n",
      "Loss: 0.75\n",
      "Accuracy: 0.65\n",
      "0:00:36.465281\n",
      "Convolution Dimensions\tWindow Size\tPool 1\t\tPool 2\t\tDensity\n",
      "256\t\t\t3\t\t\t2\t\t\t40\t\t\t4\n",
      "14082/14082 [==============================] - 12s 861us/step\n",
      "Time to Complete: 0:00:42.263248\n",
      "Loss: 0.93\n",
      "Accuracy: 0.63\n",
      "0:00:42.263248\n",
      "Time Elapsed:0:07:35.401684\t\n",
      "Time to Find Best Model:0:03:38.578602\t\n"
     ]
    }
   ],
   "source": [
    "# Display total time elapsed since program started\n",
    "t1 = datetime.datetime.now()\n",
    "print('Time Elapsed: {}' .format(t1 - t0))\n",
    "\n",
    "# Hyperparameter grid\n",
    "#cdims = [8, 16]\n",
    "#ksizes = [3, 5, 7]\n",
    "#pools1 = [3, 5, 7]\n",
    "#pools2 = [5, 10]\n",
    "#densities = [4, 8]\n",
    "# Hyperparameter grid\n",
    "cdims = [64,128,256]\n",
    "ksizes = [1,2,3]\n",
    "pools1 = [2]\n",
    "pools2 = [40]\n",
    "densities = [4]\n",
    "\n",
    "\n",
    "# Create dictionary for tracking CNN results and hyperparameters\n",
    "cnn_results = {'Convolution Dimensions': [], \n",
    "               'Window Size': [], \n",
    "               'Pool 1': [], \n",
    "               'Pool 2': [], \n",
    "               'Density': [], \n",
    "               'Time': [], \n",
    "               'Loss': [], \n",
    "               'Accuracy': []}\n",
    "\n",
    "for cdim in cdims:\n",
    "    for ksize in ksizes:\n",
    "        for pool1 in pools1:\n",
    "            for pool2 in pools2:\n",
    "                for density in densities:\n",
    "                    \n",
    "                    try:\n",
    "                        #print('Before calling cnn')\n",
    "                        cnn_model, cnn_history, cnn_eval, cnn_time = create_cnn_model(cdim=cdim, \n",
    "                                                                                      ksize=ksize, \n",
    "                                                                                      pool1=pool1, \n",
    "                                                                                      pool2=pool2, \n",
    "                                                                                      density=density)\n",
    "                        #print('After calling cnn')\n",
    "                        cnn_results['Convolution Dimensions'].append(cdim)\n",
    "                        cnn_results['Window Size'].append(ksize)\n",
    "                        cnn_results['Pool 1'].append(pool1)\n",
    "                        cnn_results['Pool 2'].append(pool2)\n",
    "                        cnn_results['Density'].append(density)\n",
    "                        cnn_results['Loss'].append(cnn_eval[0])\n",
    "                        cnn_results['Accuracy'].append(cnn_eval[1])\n",
    "                        print(cnn_time)\n",
    "                        cnn_results['Time'].append(cnn_time)\n",
    "                        #print('CNN results should follow')\n",
    "                        #print(cnn_results)\n",
    "                    except:\n",
    "                        # If invalid hyperparameters, pass\n",
    "                        #print('?')\n",
    "                        pass\n",
    "                    \n",
    "t2 = datetime.datetime.now()\n",
    "print('Time Elapsed:{}\\t' .format(t2 - t0))\n",
    "print('Time to Find Best Model:{}\\t' .format(t2 - t1))"
   ]
  },
  {
   "cell_type": "code",
   "execution_count": 33,
   "metadata": {},
   "outputs": [
    {
     "name": "stdout",
     "output_type": "stream",
     "text": [
      "Convolution Dimensions\tWindow Size\tPool 1\t\tPool 2\t\tDensity\n",
      "256\t\t\t2\t\t\t2\t\t\t40\t\t\t4\n",
      "Train on 11265 samples, validate on 2817 samples\n",
      "Epoch 1/100\n",
      "11265/11265 [==============================] - 25s 2ms/step - loss: 0.5308 - accuracy: 0.7862 - val_loss: 0.6867 - val_accuracy: 0.6535\n",
      "Epoch 2/100\n",
      "11265/11265 [==============================] - 23s 2ms/step - loss: 0.4544 - accuracy: 0.8432 - val_loss: 0.8490 - val_accuracy: 0.6450\n",
      "Epoch 3/100\n",
      "11265/11265 [==============================] - 23s 2ms/step - loss: 0.4102 - accuracy: 0.8562 - val_loss: 1.2015 - val_accuracy: 0.6301\n",
      "Epoch 4/100\n",
      "11265/11265 [==============================] - 23s 2ms/step - loss: 0.3847 - accuracy: 0.8637 - val_loss: 0.9778 - val_accuracy: 0.6475\n",
      "Epoch 5/100\n",
      "11265/11265 [==============================] - 23s 2ms/step - loss: 0.3511 - accuracy: 0.8778 - val_loss: 1.1820 - val_accuracy: 0.6493\n",
      "Epoch 6/100\n",
      "11265/11265 [==============================] - 23s 2ms/step - loss: 0.3332 - accuracy: 0.8821 - val_loss: 0.9444 - val_accuracy: 0.6486\n",
      "14082/14082 [==============================] - 10s 733us/step\n",
      "Time to Complete: 0:02:33.326601\n",
      "Loss: 0.95\n",
      "Accuracy: 0.64\n",
      "Time Elapsed: 0:10:08.756891\n",
      "Time to Train Best Model: 0:02:33.355207\n"
     ]
    }
   ],
   "source": [
    "# Train Best CNN Model\n",
    "# Create dataframe from results dictionary\n",
    "cnn_results_df = pd.DataFrame.from_dict(cnn_results)\n",
    "\n",
    "# Get row values associated with highest accuracy\n",
    "best_cnn_model = cnn_results_df[cnn_results_df['Accuracy'] == cnn_results_df['Accuracy'].max()]\n",
    "\n",
    "# Save hyperparameters to variables\n",
    "cdim = best_cnn_model['Convolution Dimensions'].values[0]\n",
    "ksize = int(best_cnn_model['Window Size'].values[0])\n",
    "pool1 = int(best_cnn_model['Pool 1'].values[0])\n",
    "pool2 = int(best_cnn_model['Pool 2'].values[0])\n",
    "density = int(best_cnn_model['Density'].values[0])\n",
    "\n",
    "# Rebuild & retrain model with \n",
    "cnn_model, cnn_history, cnn_eval, cnn_time = create_cnn_model(cdim=cdim, \n",
    "                                                              ksize=ksize, \n",
    "                                                              pool1=pool1, \n",
    "                                                              pool2=pool2, \n",
    "                                                              density=density,\n",
    "                                                              lr=.001, \n",
    "                                                              epochs=100, \n",
    "                                                              patience=20, \n",
    "                                                              verbose=1)\n",
    "\n",
    "t3 = datetime.datetime.now()\n",
    "print('Time Elapsed:', (t3 - t0))\n",
    "print('Time to Train Best Model:', (t3 - t2))\n"
   ]
  },
  {
   "cell_type": "code",
   "execution_count": 34,
   "metadata": {},
   "outputs": [],
   "source": [
    "from tensorflow.core.protobuf import rewriter_config_pb2\n",
    "\n",
    "config_proto = tf.ConfigProto(log_device_placement=False, allow_soft_placement=True)\n",
    "\n",
    "off = rewriter_config_pb2.RewriterConfig.OFF\n",
    "\n",
    "config_proto.graph_options.rewrite_options.arithmetic_optimization = off\n",
    "\n",
    "session = tf.Session(config=config_proto)\n",
    "\n",
    "\n"
   ]
  },
  {
   "cell_type": "code",
   "execution_count": 35,
   "metadata": {},
   "outputs": [],
   "source": [
    "# RNN\n",
    "#def create_rnn_model(rnn_type='gru', units=50, drop=.5, density=50, lr=.001, epochs=100, batch_size=128, validation_split=.3, patience=5, verbose=0):\n",
    "def create_rnn_model(rnn_type='gru', units=50, drop=.5, density=50, lr=.001, epochs=1, batch_size=128, validation_split=.2, patience=20, verbose=0):\n",
    "    \n",
    "    # Start Timer\n",
    "    start = datetime.datetime.now()\n",
    "    \n",
    "    \n",
    "    # Display Hyperparameter Settings\n",
    "    model_type = 'GRU' if rnn_type == 'gru' else 'LSTM'\n",
    "    print('Model Type\\tUnits\\tDropout Rate\\tDensity')\n",
    "    print(rnn_type,units,drop,density, sep ='\\t\\t\\t')\n",
    "    \n",
    "    \n",
    "#    tf.logging.set_verbosity(tf.logging.ERROR)\n",
    "    \n",
    "    \n",
    "    # Build Model\n",
    "    input_ = Input(shape=(max_len,), dtype='int32')\n",
    "    embedded_sequences = embedding_layer(input_)\n",
    "    \n",
    "    if rnn_type == 'gru':\n",
    "        x = Bidirectional(GRU(units, return_sequences=True))(embedded_sequences)\n",
    "    else:\n",
    "        x = Bidirectional(LSTM(units, return_sequences=True))(embedded_sequences)\n",
    "        \n",
    "    x = GlobalMaxPool1D()(x)\n",
    "    x = Dropout(drop)(x)\n",
    "    x = Dense(density, activation='relu')(x)\n",
    "    x = Dropout(drop)(x)\n",
    "    #x = Dense(num_classes, activation='softmax')(x)\n",
    "    x = Dense(2, activation='softmax')(x)\n",
    "    \n",
    "    model = Model(inputs=input_, outputs=x)\n",
    "    \n",
    "    \n",
    "    # Compile Model\n",
    "    model.compile(loss='categorical_crossentropy', \n",
    "                  optimizer=Adam(lr=lr), \n",
    "                  metrics=['accuracy'])\n",
    "    \n",
    "    \n",
    "    # Create Checkpoints & Stopping Parameters\n",
    "    #checkpoints_path = f'models/rnn_best_{p1}_{p2}.hdf5'\n",
    "#    checkpoints_path = f'models/rnn_best_.hdf'\n",
    "#    checkpoint = ModelCheckpoint(checkpoints_path, \n",
    "#                                 monitor='val_loss', \n",
    "#                                 verbose=verbose, \n",
    "#                                 save_best_only=True, \n",
    "#                                 mode='min')\n",
    "    \n",
    "#    early_stopping = EarlyStopping(monitor='val_loss', \n",
    "#                                   mode='min', \n",
    "#                                   patience=patience)\n",
    "    \n",
    "#    callbacks = [checkpoint, early_stopping]\n",
    "    callbacks=[EarlyStopping(monitor='val_loss', patience=5, min_delta=0.001)]\n",
    "    \n",
    "    \n",
    "    # Fit Model\n",
    "    history = model.fit(X_train, y_train, \n",
    "                        epochs=epochs, \n",
    "                        batch_size=batch_size, \n",
    "                        validation_split=validation_split, \n",
    "                        callbacks=callbacks, \n",
    "                        verbose=verbose)\n",
    "    \n",
    "    # Evaluate Model\n",
    "    results = model.evaluate(X_test, y_test)\n",
    "    \n",
    "    # End Timer\n",
    "    end = datetime.datetime.now()\n",
    "    \n",
    "    # Display Results\n",
    "    print('Time to Complete:', end - start)\n",
    "    print('Loss:' ,\"%.2f\" %(results[0]))\n",
    "    print('Accuracy:' , \"%.2f\" %(results[1]))\n",
    "    \n",
    "    return model, history, results, end-start\n"
   ]
  },
  {
   "cell_type": "code",
   "execution_count": 36,
   "metadata": {
    "scrolled": true
   },
   "outputs": [
    {
     "name": "stdout",
     "output_type": "stream",
     "text": [
      "Model Type\tUnits\tDropout Rate\tDensity\n",
      "lstm\t\t\t50\t\t\t0.25\t\t\t100\n",
      "14082/14082 [==============================] - 42s 3ms/step\n",
      "Time to Complete: 0:02:29.747927\n",
      "Loss: 0.82\n",
      "Accuracy: 0.65\n",
      "Model Type\tUnits\tDropout Rate\tDensity\n",
      "lstm\t\t\t50\t\t\t0.5\t\t\t100\n",
      "14082/14082 [==============================] - 45s 3ms/step\n",
      "Time to Complete: 0:02:32.155474\n",
      "Loss: 0.82\n",
      "Accuracy: 0.66\n",
      "Model Type\tUnits\tDropout Rate\tDensity\n",
      "lstm\t\t\t100\t\t\t0.25\t\t\t100\n",
      "14082/14082 [==============================] - 62s 4ms/step\n",
      "Time to Complete: 0:03:29.071293\n",
      "Loss: 0.86\n",
      "Accuracy: 0.65\n",
      "Model Type\tUnits\tDropout Rate\tDensity\n",
      "lstm\t\t\t100\t\t\t0.5\t\t\t100\n",
      "14082/14082 [==============================] - 61s 4ms/step\n",
      "Time to Complete: 0:03:27.251796\n",
      "Loss: 0.93\n",
      "Accuracy: 0.65\n",
      "Model Type\tUnits\tDropout Rate\tDensity\n",
      "gru\t\t\t50\t\t\t0.25\t\t\t100\n",
      "14082/14082 [==============================] - 46s 3ms/step\n",
      "Time to Complete: 0:03:03.239434\n",
      "Loss: 0.86\n",
      "Accuracy: 0.65\n",
      "Model Type\tUnits\tDropout Rate\tDensity\n",
      "gru\t\t\t50\t\t\t0.5\t\t\t100\n",
      "14082/14082 [==============================] - 48s 3ms/step\n",
      "Time to Complete: 0:03:10.808198\n",
      "Loss: 0.90\n",
      "Accuracy: 0.65\n",
      "Model Type\tUnits\tDropout Rate\tDensity\n",
      "gru\t\t\t100\t\t\t0.25\t\t\t100\n",
      "14082/14082 [==============================] - 72s 5ms/step\n",
      "Time to Complete: 0:04:28.279556\n",
      "Loss: 0.97\n",
      "Accuracy: 0.64\n",
      "Model Type\tUnits\tDropout Rate\tDensity\n",
      "gru\t\t\t100\t\t\t0.5\t\t\t100\n",
      "14082/14082 [==============================] - 71s 5ms/step\n",
      "Time to Complete: 0:04:33.665604\n",
      "Loss: 0.93\n",
      "Accuracy: 0.65\n",
      "Time Elapsed: 0:37:23.065012\n",
      "Time to Find Best Model: 0:27:14.308121\n"
     ]
    }
   ],
   "source": [
    "#RNN grid search\n",
    "rnn_types = ['lstm','gru']\n",
    "units = [50,100]\n",
    "drops = [.25,.5]\n",
    "densities = [100]\n",
    "\n",
    "#units = [5, 10]\n",
    "#drops = [.25, .5]\n",
    "#densities = [10, 15]\n",
    "\n",
    "rnn_results = {'Model Type': [], 'Units': [], 'Dropout Rate': [], 'Density': [], 'Time': [], 'Loss': [], 'Accuracy': []}\n",
    "\n",
    "for rnn_type in rnn_types:\n",
    "    for unit in units:\n",
    "        for drop in drops:\n",
    "            for density in densities:\n",
    "                rnn_model, rnn_history, rnn_eval, rnn_time = create_rnn_model(rnn_type=rnn_type, \n",
    "                                                                              units=unit, \n",
    "                                                                              drop=drop, \n",
    "                                                                              density=density)\n",
    "                rnn_results['Model Type'].append(rnn_type)\n",
    "                rnn_results['Units'].append(unit)\n",
    "                rnn_results['Dropout Rate'].append(drop)\n",
    "                rnn_results['Density'].append(density)\n",
    "                rnn_results['Loss'].append(rnn_eval[0])\n",
    "                rnn_results['Accuracy'].append(rnn_eval[1])\n",
    "                rnn_results['Time'].append(rnn_time)\n",
    "                #print('RNN results should follow')\n",
    "                #print(rnn_results)\n",
    "                \n",
    "t4 = datetime.datetime.now()\n",
    "print('Time Elapsed:', (t4 - t0))\n",
    "print('Time to Find Best Model:', (t4 - t3))"
   ]
  },
  {
   "cell_type": "code",
   "execution_count": 37,
   "metadata": {},
   "outputs": [
    {
     "name": "stdout",
     "output_type": "stream",
     "text": [
      "Model Type\tUnits\tDropout Rate\tDensity\n",
      "lstm\t\t\t50\t\t\t0.5\t\t\t100\n",
      "Train on 11265 samples, validate on 2817 samples\n",
      "Epoch 1/100\n",
      "11265/11265 [==============================] - 107s 10ms/step - loss: 0.3757 - accuracy: 0.8220 - val_loss: 1.0962 - val_accuracy: 0.6496\n",
      "Epoch 2/100\n",
      "11265/11265 [==============================] - 108s 10ms/step - loss: 0.2523 - accuracy: 0.8652 - val_loss: 1.1233 - val_accuracy: 0.6539\n",
      "Epoch 3/100\n",
      "11265/11265 [==============================] - 104s 9ms/step - loss: 0.2273 - accuracy: 0.8764 - val_loss: 1.3752 - val_accuracy: 0.6468\n",
      "Epoch 4/100\n",
      "11265/11265 [==============================] - 107s 9ms/step - loss: 0.2208 - accuracy: 0.8787 - val_loss: 1.4294 - val_accuracy: 0.6539\n",
      "Epoch 5/100\n",
      "11265/11265 [==============================] - 104s 9ms/step - loss: 0.2255 - accuracy: 0.8794 - val_loss: 1.5735 - val_accuracy: 0.6500\n",
      "Epoch 6/100\n",
      "11265/11265 [==============================] - 108s 10ms/step - loss: 0.2081 - accuracy: 0.8840 - val_loss: 1.7927 - val_accuracy: 0.6535\n",
      "14082/14082 [==============================] - 45s 3ms/step\n",
      "Time to Complete: 0:11:27.454482\n",
      "Loss: 1.74\n",
      "Accuracy: 0.65\n",
      "Time Elapsed: 0:48:50.552028\n"
     ]
    }
   ],
   "source": [
    "#Train best RNN model \n",
    "rnn_results_df = pd.DataFrame.from_dict(rnn_results)\n",
    "\n",
    "best_rnn_model = rnn_results_df[rnn_results_df['Accuracy'] == rnn_results_df['Accuracy'].max()]\n",
    "\n",
    "rnn_type = best_rnn_model['Model Type'].values[0]\n",
    "units = int(best_rnn_model['Units'].values[0])\n",
    "drop = float(best_rnn_model['Dropout Rate'].values[0])\n",
    "density = int(best_rnn_model['Density'].values[0])\n",
    "\n",
    "rnn_model, rnn_history, rnn_eval, rnn_time = create_rnn_model(rnn_type=rnn_type, \n",
    "                                                              units=units, \n",
    "                                                              drop=drop, \n",
    "                                                              density=density, \n",
    "                                                              lr=.001, \n",
    "                                                              epochs=100, \n",
    "                                                              patience=20, \n",
    "                                                              verbose=1)\n",
    "\n",
    "t5 = datetime.datetime.now()\n",
    "print('Time Elapsed:', (t5 - t0))\n",
    "#print('Time to Train Best Model:', (t5 - t4))"
   ]
  },
  {
   "cell_type": "code",
   "execution_count": 38,
   "metadata": {},
   "outputs": [
    {
     "data": {
      "text/plain": [
       "<Figure size 1080x720 with 0 Axes>"
      ]
     },
     "execution_count": 38,
     "metadata": {},
     "output_type": "execute_result"
    },
    {
     "data": {
      "text/plain": [
       "<BarContainer object of 3 artists>"
      ]
     },
     "execution_count": 38,
     "metadata": {},
     "output_type": "execute_result"
    },
    {
     "data": {
      "text/plain": [
       "Text(Benchmark:Random Forest, 0.45896463570515555, '43.90%')"
      ]
     },
     "execution_count": 38,
     "metadata": {},
     "output_type": "execute_result"
    },
    {
     "data": {
      "text/plain": [
       "Text(CNN, 0.6628064107894898, '64.28%')"
      ]
     },
     "execution_count": 38,
     "metadata": {},
     "output_type": "execute_result"
    },
    {
     "data": {
      "text/plain": [
       "Text(RNN, 0.670830864906311, '65.08%')"
      ]
     },
     "execution_count": 38,
     "metadata": {},
     "output_type": "execute_result"
    },
    {
     "data": {
      "text/plain": [
       "Text(0, 0.5, 'Accuracy')"
      ]
     },
     "execution_count": 38,
     "metadata": {},
     "output_type": "execute_result"
    },
    {
     "data": {
      "text/plain": [
       "(0, 1)"
      ]
     },
     "execution_count": 38,
     "metadata": {},
     "output_type": "execute_result"
    },
    {
     "data": {
      "text/plain": [
       "([<matplotlib.axis.YTick at 0x7f12b3f01a58>,\n",
       "  <matplotlib.axis.YTick at 0x7f12b3f01390>,\n",
       "  <matplotlib.axis.YTick at 0x7f12b3f7d780>,\n",
       "  <matplotlib.axis.YTick at 0x7f12b3f13b38>,\n",
       "  <matplotlib.axis.YTick at 0x7f12b3f1c0b8>,\n",
       "  <matplotlib.axis.YTick at 0x7f12b3f1c518>],\n",
       " <a list of 6 Text yticklabel objects>)"
      ]
     },
     "execution_count": 38,
     "metadata": {},
     "output_type": "execute_result"
    },
    {
     "data": {
      "text/plain": [
       "Text(0.5, 1.0, 'Top Scores')"
      ]
     },
     "execution_count": 38,
     "metadata": {},
     "output_type": "execute_result"
    },
    {
     "data": {
      "image/png": "[encoded data removed]",
      "text/plain": [
       "<Figure size 1080x720 with 1 Axes>"
      ]
     },
     "metadata": {
      "needs_background": "light"
     },
     "output_type": "display_data"
    }
   ],
   "source": [
    "#Visualize results\n",
    "from operator import itemgetter\n",
    "best_benchmark = 'Benchmark:' + max(scores,key=itemgetter(1))[0]\n",
    "\n",
    "labels = [best_benchmark, 'CNN', 'RNN']\n",
    "acc = [max(scores,key=itemgetter(1))[1], cnn_eval[1], rnn_eval[1]]\n",
    "\n",
    "plt.figure(figsize = (15, 10))\n",
    "plt.bar(labels, acc)\n",
    "for i in range(3):\n",
    "    plt.text(labels[i], acc[i] + .02, (\"%.2f\" %(acc[i]*100)) +'%', ha='center')\n",
    "plt.ylabel('Accuracy')\n",
    "plt.ylim(0, 1)\n",
    "plt.yticks([i/10 for i in range(5, 11)], [i*10/100 for i in range(5, 11)])\n",
    "plt.title('Top Scores')\n",
    "plt.show()"
   ]
  },
  {
   "cell_type": "code",
   "execution_count": 39,
   "metadata": {},
   "outputs": [
    {
     "name": "stdout",
     "output_type": "stream",
     "text": [
      "Top Model Type: RNN\n",
      "Model: \"model_18\"\n",
      "_________________________________________________________________\n",
      "Layer (type)                 Output Shape              Param #   \n",
      "=================================================================\n",
      "input_19 (InputLayer)        (None, 220)               0         \n",
      "_________________________________________________________________\n",
      "embedding_1 (Embedding)      (None, 220, 100)          3361100   \n",
      "_________________________________________________________________\n",
      "bidirectional_9 (Bidirection (None, 220, 100)          60400     \n",
      "_________________________________________________________________\n",
      "global_max_pooling1d_9 (Glob (None, 100)               0         \n",
      "_________________________________________________________________\n",
      "dropout_17 (Dropout)         (None, 100)               0         \n",
      "_________________________________________________________________\n",
      "dense_35 (Dense)             (None, 100)               10100     \n",
      "_________________________________________________________________\n",
      "dropout_18 (Dropout)         (None, 100)               0         \n",
      "_________________________________________________________________\n",
      "dense_36 (Dense)             (None, 2)                 202       \n",
      "=================================================================\n",
      "Total params: 3,431,802\n",
      "Trainable params: 3,431,802\n",
      "Non-trainable params: 0\n",
      "_________________________________________________________________\n"
     ]
    }
   ],
   "source": [
    "# Inspect Top model performance \n",
    "top_models = {'rnn': rnn_model, 'cnn': cnn_model}\n",
    "histories = {'rnn_hist': rnn_history, 'cnn_hist': cnn_history}\n",
    "best = 'c' if cnn_eval[1] > rnn_eval[1] else 'r'\n",
    "best_model = top_models[best+'nn']\n",
    "best_model_hist = histories[best + 'nn_hist']\n",
    "print('Top Model Type:' ,best.upper()+'NN')\n",
    "best_model.summary()"
   ]
  },
  {
   "cell_type": "code",
   "execution_count": 40,
   "metadata": {},
   "outputs": [
    {
     "data": {
      "text/plain": [
       "<Figure size 1080x720 with 0 Axes>"
      ]
     },
     "execution_count": 40,
     "metadata": {},
     "output_type": "execute_result"
    },
    {
     "data": {
      "text/plain": [
       "[<matplotlib.lines.Line2D at 0x7f12b3f1c390>]"
      ]
     },
     "execution_count": 40,
     "metadata": {},
     "output_type": "execute_result"
    },
    {
     "data": {
      "text/plain": [
       "[<matplotlib.lines.Line2D at 0x7f12b3ec2d30>]"
      ]
     },
     "execution_count": 40,
     "metadata": {},
     "output_type": "execute_result"
    },
    {
     "data": {
      "text/plain": [
       "Text(0.5, 1.0, 'RNN Model Accuracy')"
      ]
     },
     "execution_count": 40,
     "metadata": {},
     "output_type": "execute_result"
    },
    {
     "data": {
      "text/plain": [
       "Text(0, 0.5, 'RNN Accuracy')"
      ]
     },
     "execution_count": 40,
     "metadata": {},
     "output_type": "execute_result"
    },
    {
     "data": {
      "text/plain": [
       "Text(0.5, 0, 'Epoch')"
      ]
     },
     "execution_count": 40,
     "metadata": {},
     "output_type": "execute_result"
    },
    {
     "data": {
      "text/plain": [
       "<matplotlib.legend.Legend at 0x7f12b3ec2e48>"
      ]
     },
     "execution_count": 40,
     "metadata": {},
     "output_type": "execute_result"
    },
    {
     "data": {
      "image/png": "[encoded data removed]",
      "text/plain": [
       "<Figure size 1080x720 with 1 Axes>"
      ]
     },
     "metadata": {
      "needs_background": "light"
     },
     "output_type": "display_data"
    },
    {
     "data": {
      "text/plain": [
       "<Figure size 1080x720 with 0 Axes>"
      ]
     },
     "execution_count": 40,
     "metadata": {},
     "output_type": "execute_result"
    },
    {
     "data": {
      "text/plain": [
       "[<matplotlib.lines.Line2D at 0x7f12b3e88080>]"
      ]
     },
     "execution_count": 40,
     "metadata": {},
     "output_type": "execute_result"
    },
    {
     "data": {
      "text/plain": [
       "[<matplotlib.lines.Line2D at 0x7f12b3e88208>]"
      ]
     },
     "execution_count": 40,
     "metadata": {},
     "output_type": "execute_result"
    },
    {
     "data": {
      "text/plain": [
       "Text(0.5, 1.0, 'RNN Model Loss / Error')"
      ]
     },
     "execution_count": 40,
     "metadata": {},
     "output_type": "execute_result"
    },
    {
     "data": {
      "text/plain": [
       "Text(0, 0.5, 'RNN Loss / Error')"
      ]
     },
     "execution_count": 40,
     "metadata": {},
     "output_type": "execute_result"
    },
    {
     "data": {
      "text/plain": [
       "Text(0.5, 0, 'Epoch')"
      ]
     },
     "execution_count": 40,
     "metadata": {},
     "output_type": "execute_result"
    },
    {
     "data": {
      "text/plain": [
       "<matplotlib.legend.Legend at 0x7f12b3ef9a20>"
      ]
     },
     "execution_count": 40,
     "metadata": {},
     "output_type": "execute_result"
    },
    {
     "data": {
      "image/png": "[encoded data removed]",
      "text/plain": [
       "<Figure size 1080x720 with 1 Axes>"
      ]
     },
     "metadata": {
      "needs_background": "light"
     },
     "output_type": "display_data"
    }
   ],
   "source": [
    "#Results history\n",
    "# Display history for accuracy\n",
    "plt.figure(figsize=(15, 10))\n",
    "plt.plot(best_model_hist.history['accuracy'])\n",
    "plt.plot(best_model_hist.history['val_accuracy'])\n",
    "plt.title(best.upper()+'NN Model Accuracy')\n",
    "plt.ylabel(best.upper() + 'NN Accuracy')\n",
    "plt.xlabel('Epoch')\n",
    "plt.legend(['Train', 'Validation'], loc='upper left')\n",
    "plt.show()\n",
    "\n",
    "# Display history for loss\n",
    "plt.figure(figsize=(15, 10))\n",
    "plt.plot(best_model_hist.history['loss'])\n",
    "plt.plot(best_model_hist.history['val_loss'])\n",
    "plt.title(best.upper() + 'NN Model Loss / Error')\n",
    "plt.ylabel(best.upper() + 'NN Loss / Error')\n",
    "plt.xlabel('Epoch')\n",
    "plt.legend(['Train', 'Validation'], loc='upper left')\n",
    "plt.show()"
   ]
  },
  {
   "cell_type": "code",
   "execution_count": 41,
   "metadata": {},
   "outputs": [],
   "source": [
    "#Confusion matrix and prediction\n",
    "from sklearn.metrics import confusion_matrix, f1_score\n",
    "import itertools\n",
    "\n",
    "def plot_confusion_matrix(cm, classes,\n",
    "                          normalize=False,\n",
    "                          title='Confusion matrix',\n",
    "                          cmap=plt.cm.Blues):\n",
    "    \"\"\"\n",
    "    This function prints and plots the confusion matrix.\n",
    "    Normalization can be applied by setting `normalize=True`.\n",
    "    \"\"\"\n",
    "    if normalize:\n",
    "        cm = cm.astype('float') / cm.sum(axis=1)[:, np.newaxis]\n",
    "        print(\"Normalized confusion matrix\")\n",
    "    else:\n",
    "        print('Confusion matrix, without normalization')\n",
    "\n",
    "    plt.figure(figsize=(10, 10))\n",
    "    plt.imshow(cm, interpolation='nearest', cmap=cmap)\n",
    "    plt.title(title)\n",
    "    plt.colorbar()\n",
    "    tick_marks = np.arange(len(classes))\n",
    "    plt.xticks(tick_marks, classes, rotation=45)\n",
    "    plt.yticks(tick_marks, classes)\n",
    "\n",
    "    fmt = '.2f' if normalize else 'd'\n",
    "    thresh = cm.max() / 2.\n",
    "    for i, j in itertools.product(range(cm.shape[0]), range(cm.shape[1])):\n",
    "        plt.text(j, i, format(cm[i, j], fmt),\n",
    "                 horizontalalignment=\"center\",\n",
    "                 color=\"red\" if cm[i, j] > thresh else \"blue\")\n",
    "\n",
    "    plt.tight_layout()\n",
    "    plt.ylabel('True label')\n",
    "    plt.xlabel('Predicted label')"
   ]
  },
  {
   "cell_type": "code",
   "execution_count": 42,
   "metadata": {},
   "outputs": [
    {
     "name": "stdout",
     "output_type": "stream",
     "text": [
      "Confusion matrix, without normalization\n",
      "F1 Score: 62.50\n"
     ]
    },
    {
     "data": {
      "image/png": "[encoded data removed]",
      "text/plain": [
       "<Figure size 720x720 with 2 Axes>"
      ]
     },
     "metadata": {
      "needs_background": "light"
     },
     "output_type": "display_data"
    }
   ],
   "source": [
    "preds = np.argmax(best_model.predict(X_test), axis=1)\n",
    "actual = np.argmax(y_test, axis=1)\n",
    "\n",
    "cm = confusion_matrix(actual, preds)\n",
    "\n",
    "#[1,0] = 0;[0,1] =1\n",
    "#check y and target to confirm this\n",
    "#(1,0) = Democrat\n",
    "#(0,1) = Republican\n",
    "#p1 = Repub. P2 = Democ\n",
    "\n",
    "cm_plot_labels = ['Republican','Democrat']\n",
    "\n",
    "plot_confusion_matrix(cm, cm_plot_labels, normalize=False, title=best.title() +'NN Confusion Matrix')\n",
    "\n",
    "print('F1 Score: ' \"%.2f\" %(f1_score(actual, preds)*100))"
   ]
  },
  {
   "cell_type": "code",
   "execution_count": 43,
   "metadata": {},
   "outputs": [
    {
     "data": {
      "text/html": [
       "<div>\n",
       "<style scoped>\n",
       "    .dataframe tbody tr th:only-of-type {\n",
       "        vertical-align: middle;\n",
       "    }\n",
       "\n",
       "    .dataframe tbody tr th {\n",
       "        vertical-align: top;\n",
       "    }\n",
       "\n",
       "    .dataframe thead th {\n",
       "        text-align: right;\n",
       "    }\n",
       "</style>\n",
       "<table border=\"1\" class=\"dataframe\">\n",
       "  <thead>\n",
       "    <tr style=\"text-align: right;\">\n",
       "      <th></th>\n",
       "      <th>Actual</th>\n",
       "      <th>Predictions</th>\n",
       "      <th>text</th>\n",
       "      <th>bigrams</th>\n",
       "      <th>Accuracy</th>\n",
       "    </tr>\n",
       "  </thead>\n",
       "  <tbody>\n",
       "    <tr>\n",
       "      <th>0</th>\n",
       "      <td>0</td>\n",
       "      <td>0</td>\n",
       "      <td>[madam, may, respond, thanking, senator, flori...</td>\n",
       "      <td>[madam, may, respond, thanking, senator, flori...</td>\n",
       "      <td>True</td>\n",
       "    </tr>\n",
       "    <tr>\n",
       "      <th>1</th>\n",
       "      <td>0</td>\n",
       "      <td>1</td>\n",
       "      <td>[madam, rise, today, continue, weekly, practic...</td>\n",
       "      <td>[madam, rise, today, continue, weekly, practic...</td>\n",
       "      <td>False</td>\n",
       "    </tr>\n",
       "    <tr>\n",
       "      <th>2</th>\n",
       "      <td>1</td>\n",
       "      <td>1</td>\n",
       "      <td>[ask, unanimous, consent, resolutions, agreed,...</td>\n",
       "      <td>[ask, unanimous, consent, resolutions, agreed,...</td>\n",
       "      <td>True</td>\n",
       "    </tr>\n",
       "    <tr>\n",
       "      <th>3</th>\n",
       "      <td>0</td>\n",
       "      <td>0</td>\n",
       "      <td>[madam, intend, offer, following, motion, hr, ...</td>\n",
       "      <td>[madam, intend, offer, following, motion, hr, ...</td>\n",
       "      <td>True</td>\n",
       "    </tr>\n",
       "    <tr>\n",
       "      <th>4</th>\n",
       "      <td>1</td>\n",
       "      <td>0</td>\n",
       "      <td>[today, wish, recognize, newark, oh, native, j...</td>\n",
       "      <td>[today, wish, recognize, newark, oh, native, j...</td>\n",
       "      <td>False</td>\n",
       "    </tr>\n",
       "  </tbody>\n",
       "</table>\n",
       "</div>"
      ],
      "text/plain": [
       "   Actual  Predictions                                               text  \\\n",
       "0       0            0  [madam, may, respond, thanking, senator, flori...   \n",
       "1       0            1  [madam, rise, today, continue, weekly, practic...   \n",
       "2       1            1  [ask, unanimous, consent, resolutions, agreed,...   \n",
       "3       0            0  [madam, intend, offer, following, motion, hr, ...   \n",
       "4       1            0  [today, wish, recognize, newark, oh, native, j...   \n",
       "\n",
       "                                             bigrams  Accuracy  \n",
       "0  [madam, may, respond, thanking, senator, flori...      True  \n",
       "1  [madam, rise, today, continue, weekly, practic...     False  \n",
       "2  [ask, unanimous, consent, resolutions, agreed,...      True  \n",
       "3  [madam, intend, offer, following, motion, hr, ...      True  \n",
       "4  [today, wish, recognize, newark, oh, native, j...     False  "
      ]
     },
     "execution_count": 43,
     "metadata": {},
     "output_type": "execute_result"
    }
   ],
   "source": [
    "# Save all predictions to dataframe\n",
    "preds_df = pd.DataFrame.from_dict({'Predictions': preds, 'Actual': actual})\n",
    "preds_df = preds_df.join(X_test_text.reset_index(drop=True))\n",
    "\n",
    "# Create column to indicate if the prediction matches the actual\n",
    "# 0 = Clinton; 1 = Trump\n",
    "preds_df['Accuracy'] = preds_df['Predictions'] == preds_df['Actual']\n",
    "preds_df.head()"
   ]
  },
  {
   "cell_type": "code",
   "execution_count": 49,
   "metadata": {},
   "outputs": [
    {
     "data": {
      "text/plain": [
       "1110344"
      ]
     },
     "execution_count": 49,
     "metadata": {},
     "output_type": "execute_result"
    },
    {
     "data": {
      "text/html": [
       "<div>\n",
       "<style scoped>\n",
       "    .dataframe tbody tr th:only-of-type {\n",
       "        vertical-align: middle;\n",
       "    }\n",
       "\n",
       "    .dataframe tbody tr th {\n",
       "        vertical-align: top;\n",
       "    }\n",
       "\n",
       "    .dataframe thead th {\n",
       "        text-align: right;\n",
       "    }\n",
       "</style>\n",
       "<table border=\"1\" class=\"dataframe\">\n",
       "  <thead>\n",
       "    <tr style=\"text-align: right;\">\n",
       "      <th></th>\n",
       "      <th>Date-YYYYMMDD</th>\n",
       "      <th>Catagory</th>\n",
       "      <th>content</th>\n",
       "    </tr>\n",
       "  </thead>\n",
       "  <tbody>\n",
       "    <tr>\n",
       "      <th>0</th>\n",
       "      <td>19941024</td>\n",
       "      <td>C</td>\n",
       "      <td>Fighting Laughing And Jiving  By JENNIFER DUNN...</td>\n",
       "    </tr>\n",
       "    <tr>\n",
       "      <th>1</th>\n",
       "      <td>19941025</td>\n",
       "      <td>D</td>\n",
       "      <td>Adia Services Inc.(ADIANNM) reports earnings f...</td>\n",
       "    </tr>\n",
       "    <tr>\n",
       "      <th>2</th>\n",
       "      <td>19941002</td>\n",
       "      <td>2</td>\n",
       "      <td>The Master of Dramatic Truth  By Stephen Holde...</td>\n",
       "    </tr>\n",
       "    <tr>\n",
       "      <th>3</th>\n",
       "      <td>19941025</td>\n",
       "      <td>D</td>\n",
       "      <td>Airborne Freight Corp.(ABFN) reports earnings ...</td>\n",
       "    </tr>\n",
       "    <tr>\n",
       "      <th>4</th>\n",
       "      <td>19941025</td>\n",
       "      <td>D</td>\n",
       "      <td>Allegheny Ludlum Corp.(ALSN) reports earnings ...</td>\n",
       "    </tr>\n",
       "  </tbody>\n",
       "</table>\n",
       "</div>"
      ],
      "text/plain": [
       "   Date-YYYYMMDD Catagory                                            content\n",
       "0       19941024        C  Fighting Laughing And Jiving  By JENNIFER DUNN...\n",
       "1       19941025        D  Adia Services Inc.(ADIANNM) reports earnings f...\n",
       "2       19941002        2  The Master of Dramatic Truth  By Stephen Holde...\n",
       "3       19941025        D  Airborne Freight Corp.(ABFN) reports earnings ...\n",
       "4       19941025        D  Allegheny Ludlum Corp.(ALSN) reports earnings ..."
      ]
     },
     "execution_count": 49,
     "metadata": {},
     "output_type": "execute_result"
    },
    {
     "data": {
      "text/html": [
       "<div>\n",
       "<style scoped>\n",
       "    .dataframe tbody tr th:only-of-type {\n",
       "        vertical-align: middle;\n",
       "    }\n",
       "\n",
       "    .dataframe tbody tr th {\n",
       "        vertical-align: top;\n",
       "    }\n",
       "\n",
       "    .dataframe thead th {\n",
       "        text-align: right;\n",
       "    }\n",
       "</style>\n",
       "<table border=\"1\" class=\"dataframe\">\n",
       "  <thead>\n",
       "    <tr style=\"text-align: right;\">\n",
       "      <th></th>\n",
       "      <th>Date-YYYYMMDD</th>\n",
       "      <th>Catagory</th>\n",
       "      <th>content</th>\n",
       "    </tr>\n",
       "  </thead>\n",
       "  <tbody>\n",
       "    <tr>\n",
       "      <th>1110339</th>\n",
       "      <td>20070619</td>\n",
       "      <td>C</td>\n",
       "      <td>Liberating Effects of Captive Conversation  By...</td>\n",
       "    </tr>\n",
       "    <tr>\n",
       "      <th>1110340</th>\n",
       "      <td>20070619</td>\n",
       "      <td>B</td>\n",
       "      <td>The City's New Motto: 'See You in Court'  By C...</td>\n",
       "    </tr>\n",
       "    <tr>\n",
       "      <th>1110341</th>\n",
       "      <td>20070619</td>\n",
       "      <td>C</td>\n",
       "      <td>Test Driving an Air Taxi: Quiet Quick but Not ...</td>\n",
       "    </tr>\n",
       "    <tr>\n",
       "      <th>1110342</th>\n",
       "      <td>20070619</td>\n",
       "      <td>D</td>\n",
       "      <td>A Staple of the News Media But Is Rodriguez a ...</td>\n",
       "    </tr>\n",
       "    <tr>\n",
       "      <th>1110343</th>\n",
       "      <td>20070619</td>\n",
       "      <td>A</td>\n",
       "      <td>Corrections: For the Record  Because of an edi...</td>\n",
       "    </tr>\n",
       "  </tbody>\n",
       "</table>\n",
       "</div>"
      ],
      "text/plain": [
       "         Date-YYYYMMDD Catagory  \\\n",
       "1110339       20070619        C   \n",
       "1110340       20070619        B   \n",
       "1110341       20070619        C   \n",
       "1110342       20070619        D   \n",
       "1110343       20070619        A   \n",
       "\n",
       "                                                   content  \n",
       "1110339  Liberating Effects of Captive Conversation  By...  \n",
       "1110340  The City's New Motto: 'See You in Court'  By C...  \n",
       "1110341  Test Driving an Air Taxi: Quiet Quick but Not ...  \n",
       "1110342  A Staple of the News Media But Is Rodriguez a ...  \n",
       "1110343  Corrections: For the Record  Because of an edi...  "
      ]
     },
     "execution_count": 49,
     "metadata": {},
     "output_type": "execute_result"
    },
    {
     "data": {
      "text/plain": [
       "count    1.110344e+06\n",
       "mean     4.252672e+03\n",
       "std      4.494076e+03\n",
       "min      3.000000e+00\n",
       "25%      1.321000e+03\n",
       "50%      3.525000e+03\n",
       "75%      6.098000e+03\n",
       "max      2.265840e+05\n",
       "Name: statement_length, dtype: float64"
      ]
     },
     "execution_count": 49,
     "metadata": {},
     "output_type": "execute_result"
    },
    {
     "data": {
      "text/plain": [
       "count    565546.000000\n",
       "mean       3552.451114\n",
       "std        1533.965748\n",
       "min        1318.000000\n",
       "25%        2018.000000\n",
       "50%        3571.000000\n",
       "75%        4949.000000\n",
       "max        6193.000000\n",
       "Name: statement_length, dtype: float64"
      ]
     },
     "execution_count": 49,
     "metadata": {},
     "output_type": "execute_result"
    },
    {
     "data": {
      "text/plain": [
       "565546"
      ]
     },
     "execution_count": 49,
     "metadata": {},
     "output_type": "execute_result"
    }
   ],
   "source": [
    "mylist = []\n",
    "for chunk in  pd.read_csv('/home/asheshchoudhury/nytsections.csv', sep = ',',lineterminator = '\\n',header=None, index_col=None,skiprows=700000,nrows = 1200000,chunksize=5000000):\n",
    "    mylist.append(chunk)\n",
    "\n",
    "allarticles_df = pd.concat(mylist, axis= 0)\n",
    "del mylist\n",
    "allarticles_df.columns = ['Date-YYYYMMDD', 'Catagory', 'content']\n",
    "len(allarticles_df)\n",
    "allarticles_df.head(5)\n",
    "allarticles_df.tail(5)\n",
    "allarticles_df['statement_length'] = allarticles_df['content'].str.len()\n",
    "allarticles_df['statement_length'].describe()\n",
    "#Take reasonable(>25 percentile, <75 percentile) statement length , else huge statment lengt will crash the system\n",
    "statement_lenght_75_percentile = 6193\n",
    "statement_lenght_25_percentile = 1318\n",
    "allarticles_df = allarticles_df.loc[(allarticles_df['statement_length'] <= statement_lenght_75_percentile)]\n",
    "allarticles_df = allarticles_df.loc[(allarticles_df['statement_length'] >= statement_lenght_25_percentile)]\n",
    "allarticles_df['statement_length'].describe()\n",
    "len(allarticles_df)"
   ]
  },
  {
   "cell_type": "code",
   "execution_count": 50,
   "metadata": {},
   "outputs": [],
   "source": [
    "# Take selected number of records to test\n",
    "no_of_records = len(allarticles_df)\n",
    "no_of_records = 400000\n"
   ]
  },
  {
   "cell_type": "code",
   "execution_count": 51,
   "metadata": {},
   "outputs": [],
   "source": [
    "test_df = allarticles_df.head(no_of_records)"
   ]
  },
  {
   "cell_type": "code",
   "execution_count": 52,
   "metadata": {},
   "outputs": [
    {
     "name": "stdout",
     "output_type": "stream",
     "text": [
      "Currently processing: 50000 of total 400000 records\n",
      "Currently processing: 100000 of total 400000 records\n",
      "Currently processing: 150000 of total 400000 records\n",
      "Currently processing: 200000 of total 400000 records\n",
      "Currently processing: 250000 of total 400000 records\n",
      "Currently processing: 300000 of total 400000 records\n",
      "Currently processing: 350000 of total 400000 records\n",
      "Currently processing: 400000 of total 400000 records\n"
     ]
    }
   ],
   "source": [
    "\n",
    "clean_text = []\n",
    "i = 0\n",
    "\n",
    "for text in test_df['content']:\n",
    "    i = i + 1\n",
    "    # Remove accent characters => Expand Contractions => Remove special characters => Lammatize Text => Remove Stop Words\n",
    "    no_accent_chars = unicodedata.normalize('NFKD', text).encode('ascii', 'ignore').decode('utf-8', 'ignore')\n",
    "    #expanded_text = expand_contractions(no_accent_chars)\n",
    "    expanded_text = no_accent_chars \n",
    "    no_special_chars = remove_special_characters(expanded_text, remove_digits=False)\n",
    "    #lem_text = lemmatize_text(no_special_chars)\n",
    "    #filtered_text = remove_stopwords(lem_text)\n",
    "    filtered_text = remove_stopwords(no_special_chars)\n",
    "    \n",
    "    # Make all text lowercase\n",
    "    lowercase_text = filtered_text.lower()\n",
    "    \n",
    "    # Split text into list of words\n",
    "    words = lowercase_text.split()\n",
    "    clean_text.append(words)\n",
    "    if (i%50000 == 0):\n",
    "        print('Currently processing: %s of total %s records' %(i,no_of_records))\n",
    "\n",
    "# Add cleaned text to dataframe\n",
    "test_df['clean_content'] = clean_text\n"
   ]
  },
  {
   "cell_type": "code",
   "execution_count": 53,
   "metadata": {},
   "outputs": [
    {
     "name": "stdout",
     "output_type": "stream",
     "text": [
      "Currently processing: 50000\n",
      "Currently processing: 100000\n",
      "Currently processing: 150000\n",
      "Currently processing: 200000\n",
      "Currently processing: 250000\n",
      "Currently processing: 300000\n",
      "Currently processing: 350000\n",
      "Currently processing: 400000\n"
     ]
    }
   ],
   "source": [
    "data = test_df['clean_content'].values\n",
    "bigrams_data = []\n",
    "\n",
    "j=0\n",
    "for i in range(len(data)):\n",
    "#    bigrams_data.append(bigrams[data[i]])\n",
    "    bigrams_data.append([data[i]])\n",
    "    j = j + 1\n",
    "    if (j%50000 == 0):\n",
    "        print('Currently processing: %s' %(j))\n",
    "    \n",
    "bigrams_data = np.array(bigrams_data)\n"
   ]
  },
  {
   "cell_type": "code",
   "execution_count": 54,
   "metadata": {},
   "outputs": [
    {
     "name": "stdout",
     "output_type": "stream",
     "text": [
      "Currently processing: 50000\n",
      "Currently processing: 100000\n",
      "Currently processing: 150000\n",
      "Currently processing: 200000\n",
      "Currently processing: 250000\n",
      "Currently processing: 300000\n",
      "Currently processing: 350000\n",
      "Currently processing: 400000\n",
      "Total Words in Vocabulary: 841671\n"
     ]
    }
   ],
   "source": [
    "bigrams_joined = []\n",
    "i = 0\n",
    "for a in bigrams_data:\n",
    "    for b in a:\n",
    "        i = i + 1\n",
    "        if (i%50000 == 0):\n",
    "            print('Currently processing: %s' %(i))\n",
    "        bigrams_joined.append(' '.join(b))\n",
    "\n",
    "# Remove underscore from filters and no need to convert to lowercase\n",
    "#tokenizer = text.Tokenizer(filters='!\"#%&()*+,./:;<=>?@[\\\\]^`{|}~\\t\\n', lower=False)\n",
    "tokenizer.fit_on_texts(bigrams_joined)\n",
    "sequences = tokenizer.texts_to_sequences(bigrams_joined)\n",
    "\n",
    "word_index = tokenizer.word_index\n",
    "print('Total Words in Vocabulary: {}' .format(len(word_index)))"
   ]
  },
  {
   "cell_type": "code",
   "execution_count": 55,
   "metadata": {},
   "outputs": [
    {
     "data": {
      "text/plain": [
       "400000"
      ]
     },
     "execution_count": 55,
     "metadata": {},
     "output_type": "execute_result"
    }
   ],
   "source": [
    "X_t = pad_sequences(sequences, maxlen=max_len, padding='post')\n",
    "X_t_df = pd.DataFrame(X_t)\n",
    "#X_t_df['bigrams'] = bigrams_data\n",
    "#X_t_df['text'] = df.reset_index(drop=True)['clean_tweet']\n",
    "len(X_t_df)"
   ]
  },
  {
   "cell_type": "code",
   "execution_count": 56,
   "metadata": {},
   "outputs": [
    {
     "data": {
      "text/html": [
       "<div>\n",
       "<style scoped>\n",
       "    .dataframe tbody tr th:only-of-type {\n",
       "        vertical-align: middle;\n",
       "    }\n",
       "\n",
       "    .dataframe tbody tr th {\n",
       "        vertical-align: top;\n",
       "    }\n",
       "\n",
       "    .dataframe thead th {\n",
       "        text-align: right;\n",
       "    }\n",
       "</style>\n",
       "<table border=\"1\" class=\"dataframe\">\n",
       "  <thead>\n",
       "    <tr style=\"text-align: right;\">\n",
       "      <th></th>\n",
       "      <th>0</th>\n",
       "      <th>1</th>\n",
       "      <th>2</th>\n",
       "      <th>3</th>\n",
       "      <th>4</th>\n",
       "      <th>5</th>\n",
       "      <th>6</th>\n",
       "      <th>7</th>\n",
       "      <th>8</th>\n",
       "      <th>9</th>\n",
       "      <th>...</th>\n",
       "      <th>210</th>\n",
       "      <th>211</th>\n",
       "      <th>212</th>\n",
       "      <th>213</th>\n",
       "      <th>214</th>\n",
       "      <th>215</th>\n",
       "      <th>216</th>\n",
       "      <th>217</th>\n",
       "      <th>218</th>\n",
       "      <th>219</th>\n",
       "    </tr>\n",
       "  </thead>\n",
       "  <tbody>\n",
       "    <tr>\n",
       "      <th>399995</th>\n",
       "      <td>12532</td>\n",
       "      <td>18514</td>\n",
       "      <td>4114</td>\n",
       "      <td>1822</td>\n",
       "      <td>204</td>\n",
       "      <td>2481</td>\n",
       "      <td>580</td>\n",
       "      <td>2481</td>\n",
       "      <td>580</td>\n",
       "      <td>869</td>\n",
       "      <td>...</td>\n",
       "      <td>81115</td>\n",
       "      <td>347046</td>\n",
       "      <td>2491</td>\n",
       "      <td>2481</td>\n",
       "      <td>580</td>\n",
       "      <td>204</td>\n",
       "      <td>233</td>\n",
       "      <td>204</td>\n",
       "      <td>233</td>\n",
       "      <td>0</td>\n",
       "    </tr>\n",
       "    <tr>\n",
       "      <th>399996</th>\n",
       "      <td>4314</td>\n",
       "      <td>12222</td>\n",
       "      <td>296215</td>\n",
       "      <td>1432</td>\n",
       "      <td>2057</td>\n",
       "      <td>2481</td>\n",
       "      <td>580</td>\n",
       "      <td>2481</td>\n",
       "      <td>580</td>\n",
       "      <td>869</td>\n",
       "      <td>...</td>\n",
       "      <td>0</td>\n",
       "      <td>0</td>\n",
       "      <td>0</td>\n",
       "      <td>0</td>\n",
       "      <td>0</td>\n",
       "      <td>0</td>\n",
       "      <td>0</td>\n",
       "      <td>0</td>\n",
       "      <td>0</td>\n",
       "      <td>0</td>\n",
       "    </tr>\n",
       "    <tr>\n",
       "      <th>399997</th>\n",
       "      <td>7334</td>\n",
       "      <td>15545</td>\n",
       "      <td>2269</td>\n",
       "      <td>8906</td>\n",
       "      <td>2481</td>\n",
       "      <td>580</td>\n",
       "      <td>2445</td>\n",
       "      <td>49910</td>\n",
       "      <td>9916</td>\n",
       "      <td>3401</td>\n",
       "      <td>...</td>\n",
       "      <td>0</td>\n",
       "      <td>0</td>\n",
       "      <td>0</td>\n",
       "      <td>0</td>\n",
       "      <td>0</td>\n",
       "      <td>0</td>\n",
       "      <td>0</td>\n",
       "      <td>0</td>\n",
       "      <td>0</td>\n",
       "      <td>0</td>\n",
       "    </tr>\n",
       "    <tr>\n",
       "      <th>399998</th>\n",
       "      <td>110591</td>\n",
       "      <td>1688</td>\n",
       "      <td>2219</td>\n",
       "      <td>3270</td>\n",
       "      <td>4026</td>\n",
       "      <td>26521</td>\n",
       "      <td>5169</td>\n",
       "      <td>3653</td>\n",
       "      <td>10427</td>\n",
       "      <td>2529</td>\n",
       "      <td>...</td>\n",
       "      <td>5</td>\n",
       "      <td>1381</td>\n",
       "      <td>7351</td>\n",
       "      <td>3482</td>\n",
       "      <td>223</td>\n",
       "      <td>17819</td>\n",
       "      <td>204</td>\n",
       "      <td>233</td>\n",
       "      <td>204</td>\n",
       "      <td>233</td>\n",
       "    </tr>\n",
       "    <tr>\n",
       "      <th>399999</th>\n",
       "      <td>989</td>\n",
       "      <td>2325</td>\n",
       "      <td>989</td>\n",
       "      <td>7207</td>\n",
       "      <td>2481</td>\n",
       "      <td>580</td>\n",
       "      <td>2481</td>\n",
       "      <td>580</td>\n",
       "      <td>869</td>\n",
       "      <td>452</td>\n",
       "      <td>...</td>\n",
       "      <td>0</td>\n",
       "      <td>0</td>\n",
       "      <td>0</td>\n",
       "      <td>0</td>\n",
       "      <td>0</td>\n",
       "      <td>0</td>\n",
       "      <td>0</td>\n",
       "      <td>0</td>\n",
       "      <td>0</td>\n",
       "      <td>0</td>\n",
       "    </tr>\n",
       "  </tbody>\n",
       "</table>\n",
       "<p>5 rows × 220 columns</p>\n",
       "</div>"
      ],
      "text/plain": [
       "           0      1       2     3     4      5     6      7      8     9    \\\n",
       "399995   12532  18514    4114  1822   204   2481   580   2481    580   869   \n",
       "399996    4314  12222  296215  1432  2057   2481   580   2481    580   869   \n",
       "399997    7334  15545    2269  8906  2481    580  2445  49910   9916  3401   \n",
       "399998  110591   1688    2219  3270  4026  26521  5169   3653  10427  2529   \n",
       "399999     989   2325     989  7207  2481    580  2481    580    869   452   \n",
       "\n",
       "        ...    210     211   212   213  214    215  216  217  218  219  \n",
       "399995  ...  81115  347046  2491  2481  580    204  233  204  233    0  \n",
       "399996  ...      0       0     0     0    0      0    0    0    0    0  \n",
       "399997  ...      0       0     0     0    0      0    0    0    0    0  \n",
       "399998  ...      5    1381  7351  3482  223  17819  204  233  204  233  \n",
       "399999  ...      0       0     0     0    0      0    0    0    0    0  \n",
       "\n",
       "[5 rows x 220 columns]"
      ]
     },
     "execution_count": 56,
     "metadata": {},
     "output_type": "execute_result"
    }
   ],
   "source": [
    "X_t_df.tail()"
   ]
  },
  {
   "cell_type": "code",
   "execution_count": 57,
   "metadata": {},
   "outputs": [],
   "source": [
    "a = X_t_df.shape[0]\n",
    "b = X_t_df.shape[1]"
   ]
  },
  {
   "cell_type": "code",
   "execution_count": 58,
   "metadata": {},
   "outputs": [
    {
     "name": "stdout",
     "output_type": "stream",
     "text": [
      "Model: \"model_18\"\n",
      "_________________________________________________________________\n",
      "Layer (type)                 Output Shape              Param #   \n",
      "=================================================================\n",
      "input_19 (InputLayer)        (None, 220)               0         \n",
      "_________________________________________________________________\n",
      "embedding_1 (Embedding)      (None, 220, 100)          3361100   \n",
      "_________________________________________________________________\n",
      "bidirectional_9 (Bidirection (None, 220, 100)          60400     \n",
      "_________________________________________________________________\n",
      "global_max_pooling1d_9 (Glob (None, 100)               0         \n",
      "_________________________________________________________________\n",
      "dropout_17 (Dropout)         (None, 100)               0         \n",
      "_________________________________________________________________\n",
      "dense_35 (Dense)             (None, 100)               10100     \n",
      "_________________________________________________________________\n",
      "dropout_18 (Dropout)         (None, 100)               0         \n",
      "_________________________________________________________________\n",
      "dense_36 (Dense)             (None, 2)                 202       \n",
      "=================================================================\n",
      "Total params: 3,431,802\n",
      "Trainable params: 3,431,802\n",
      "Non-trainable params: 0\n",
      "_________________________________________________________________\n"
     ]
    }
   ],
   "source": [
    "best_model.summary()"
   ]
  },
  {
   "cell_type": "code",
   "execution_count": 59,
   "metadata": {},
   "outputs": [],
   "source": [
    "#Print the lenght of embedding length\n",
    "embed_len = (best_model.get_weights()[0]).shape[0]"
   ]
  },
  {
   "cell_type": "code",
   "execution_count": 60,
   "metadata": {},
   "outputs": [],
   "source": [
    "#Ensure the maximun embedding lenght of training set retains in test set.\n",
    "X_t_df = np.where(X_t_df >= embed_len, embed_len-1, X_t_df) "
   ]
  },
  {
   "cell_type": "code",
   "execution_count": 61,
   "metadata": {},
   "outputs": [
    {
     "data": {
      "text/plain": [
       "array([0, 1, 0, ..., 0, 1, 0])"
      ]
     },
     "execution_count": 61,
     "metadata": {},
     "output_type": "execute_result"
    }
   ],
   "source": [
    "#Predict Political Afflication\n",
    "political_affliation_pred_D0_R1 = np.argmax(rnn_model.predict(X_t_df), axis=1)\n",
    "political_affliation_pred_D0_R1"
   ]
  },
  {
   "cell_type": "code",
   "execution_count": 62,
   "metadata": {},
   "outputs": [],
   "source": [
    "# Predict Political leaning (proxy of Bias)\n",
    "political_affliation_measure=rnn_model.predict(X_t_df)"
   ]
  },
  {
   "cell_type": "code",
   "execution_count": 111,
   "metadata": {},
   "outputs": [],
   "source": [
    "#Append Political Leaning in DF\n",
    "democrat_affliation = []\n",
    "republican_affliation = []\n",
    "for i in range(len(X_t_df)):\n",
    "    democrat_affliation.append(political_affliation_measure[i][0])\n",
    "    republican_affliation.append(political_affliation_measure[i][1])   "
   ]
  },
  {
   "cell_type": "code",
   "execution_count": 112,
   "metadata": {},
   "outputs": [
    {
     "ename": "ValueError",
     "evalue": "Length of values does not match length of index",
     "output_type": "error",
     "traceback": [
      "\u001b[0;31m---------------------------------------------------------------------------\u001b[0m",
      "\u001b[0;31mValueError\u001b[0m                                Traceback (most recent call last)",
      "\u001b[0;32m<ipython-input-112-74822deac53b>\u001b[0m in \u001b[0;36m<module>\u001b[0;34m\u001b[0m\n\u001b[0;32m----> 1\u001b[0;31m \u001b[0mtest_df\u001b[0m\u001b[0;34m[\u001b[0m\u001b[0;34m'political_affliation_pred_D0_R1'\u001b[0m\u001b[0;34m]\u001b[0m \u001b[0;34m=\u001b[0m \u001b[0mpolitical_affliation_pred_D0_R1\u001b[0m\u001b[0;34m\u001b[0m\u001b[0m\n\u001b[0m\u001b[1;32m      2\u001b[0m \u001b[0mtest_df\u001b[0m\u001b[0;34m[\u001b[0m\u001b[0;34m'democrat_affliation'\u001b[0m\u001b[0;34m]\u001b[0m \u001b[0;34m=\u001b[0m \u001b[0mdemocrat_affliation\u001b[0m\u001b[0;34m\u001b[0m\u001b[0m\n\u001b[1;32m      3\u001b[0m \u001b[0mtest_df\u001b[0m\u001b[0;34m[\u001b[0m\u001b[0;34m'republican_affliation'\u001b[0m\u001b[0;34m]\u001b[0m \u001b[0;34m=\u001b[0m \u001b[0mrepublican_affliation\u001b[0m\u001b[0;34m\u001b[0m\u001b[0m\n\u001b[1;32m      4\u001b[0m \u001b[0;31m#Filter out absolute extreme(<0.2,>0.8) values as they are most probably  result of word presence than true affliations\u001b[0m\u001b[0;34m\u001b[0m\u001b[0;34m\u001b[0m\u001b[0m\n\u001b[1;32m      5\u001b[0m \u001b[0mLL\u001b[0m \u001b[0;34m=\u001b[0m \u001b[0;36m0.2\u001b[0m\u001b[0;34m\u001b[0m\u001b[0m\n",
      "\u001b[0;32m/usr/local/lib/python3.5/dist-packages/pandas/core/frame.py\u001b[0m in \u001b[0;36m__setitem__\u001b[0;34m(self, key, value)\u001b[0m\n\u001b[1;32m   3485\u001b[0m         \u001b[0;32melse\u001b[0m\u001b[0;34m:\u001b[0m\u001b[0;34m\u001b[0m\u001b[0m\n\u001b[1;32m   3486\u001b[0m             \u001b[0;31m# set column\u001b[0m\u001b[0;34m\u001b[0m\u001b[0;34m\u001b[0m\u001b[0m\n\u001b[0;32m-> 3487\u001b[0;31m             \u001b[0mself\u001b[0m\u001b[0;34m.\u001b[0m\u001b[0m_set_item\u001b[0m\u001b[0;34m(\u001b[0m\u001b[0mkey\u001b[0m\u001b[0;34m,\u001b[0m \u001b[0mvalue\u001b[0m\u001b[0;34m)\u001b[0m\u001b[0;34m\u001b[0m\u001b[0m\n\u001b[0m\u001b[1;32m   3488\u001b[0m \u001b[0;34m\u001b[0m\u001b[0m\n\u001b[1;32m   3489\u001b[0m     \u001b[0;32mdef\u001b[0m \u001b[0m_setitem_slice\u001b[0m\u001b[0;34m(\u001b[0m\u001b[0mself\u001b[0m\u001b[0;34m,\u001b[0m \u001b[0mkey\u001b[0m\u001b[0;34m,\u001b[0m \u001b[0mvalue\u001b[0m\u001b[0;34m)\u001b[0m\u001b[0;34m:\u001b[0m\u001b[0;34m\u001b[0m\u001b[0m\n",
      "\u001b[0;32m/usr/local/lib/python3.5/dist-packages/pandas/core/frame.py\u001b[0m in \u001b[0;36m_set_item\u001b[0;34m(self, key, value)\u001b[0m\n\u001b[1;32m   3562\u001b[0m \u001b[0;34m\u001b[0m\u001b[0m\n\u001b[1;32m   3563\u001b[0m         \u001b[0mself\u001b[0m\u001b[0;34m.\u001b[0m\u001b[0m_ensure_valid_index\u001b[0m\u001b[0;34m(\u001b[0m\u001b[0mvalue\u001b[0m\u001b[0;34m)\u001b[0m\u001b[0;34m\u001b[0m\u001b[0m\n\u001b[0;32m-> 3564\u001b[0;31m         \u001b[0mvalue\u001b[0m \u001b[0;34m=\u001b[0m \u001b[0mself\u001b[0m\u001b[0;34m.\u001b[0m\u001b[0m_sanitize_column\u001b[0m\u001b[0;34m(\u001b[0m\u001b[0mkey\u001b[0m\u001b[0;34m,\u001b[0m \u001b[0mvalue\u001b[0m\u001b[0;34m)\u001b[0m\u001b[0;34m\u001b[0m\u001b[0m\n\u001b[0m\u001b[1;32m   3565\u001b[0m         \u001b[0mNDFrame\u001b[0m\u001b[0;34m.\u001b[0m\u001b[0m_set_item\u001b[0m\u001b[0;34m(\u001b[0m\u001b[0mself\u001b[0m\u001b[0;34m,\u001b[0m \u001b[0mkey\u001b[0m\u001b[0;34m,\u001b[0m \u001b[0mvalue\u001b[0m\u001b[0;34m)\u001b[0m\u001b[0;34m\u001b[0m\u001b[0m\n\u001b[1;32m   3566\u001b[0m \u001b[0;34m\u001b[0m\u001b[0m\n",
      "\u001b[0;32m/usr/local/lib/python3.5/dist-packages/pandas/core/frame.py\u001b[0m in \u001b[0;36m_sanitize_column\u001b[0;34m(self, key, value, broadcast)\u001b[0m\n\u001b[1;32m   3747\u001b[0m \u001b[0;34m\u001b[0m\u001b[0m\n\u001b[1;32m   3748\u001b[0m             \u001b[0;31m# turn me into an ndarray\u001b[0m\u001b[0;34m\u001b[0m\u001b[0;34m\u001b[0m\u001b[0m\n\u001b[0;32m-> 3749\u001b[0;31m             \u001b[0mvalue\u001b[0m \u001b[0;34m=\u001b[0m \u001b[0msanitize_index\u001b[0m\u001b[0;34m(\u001b[0m\u001b[0mvalue\u001b[0m\u001b[0;34m,\u001b[0m \u001b[0mself\u001b[0m\u001b[0;34m.\u001b[0m\u001b[0mindex\u001b[0m\u001b[0;34m,\u001b[0m \u001b[0mcopy\u001b[0m\u001b[0;34m=\u001b[0m\u001b[0;32mFalse\u001b[0m\u001b[0;34m)\u001b[0m\u001b[0;34m\u001b[0m\u001b[0m\n\u001b[0m\u001b[1;32m   3750\u001b[0m             \u001b[0;32mif\u001b[0m \u001b[0;32mnot\u001b[0m \u001b[0misinstance\u001b[0m\u001b[0;34m(\u001b[0m\u001b[0mvalue\u001b[0m\u001b[0;34m,\u001b[0m \u001b[0;34m(\u001b[0m\u001b[0mnp\u001b[0m\u001b[0;34m.\u001b[0m\u001b[0mndarray\u001b[0m\u001b[0;34m,\u001b[0m \u001b[0mIndex\u001b[0m\u001b[0;34m)\u001b[0m\u001b[0;34m)\u001b[0m\u001b[0;34m:\u001b[0m\u001b[0;34m\u001b[0m\u001b[0m\n\u001b[1;32m   3751\u001b[0m                 \u001b[0;32mif\u001b[0m \u001b[0misinstance\u001b[0m\u001b[0;34m(\u001b[0m\u001b[0mvalue\u001b[0m\u001b[0;34m,\u001b[0m \u001b[0mlist\u001b[0m\u001b[0;34m)\u001b[0m \u001b[0;32mand\u001b[0m \u001b[0mlen\u001b[0m\u001b[0;34m(\u001b[0m\u001b[0mvalue\u001b[0m\u001b[0;34m)\u001b[0m \u001b[0;34m>\u001b[0m \u001b[0;36m0\u001b[0m\u001b[0;34m:\u001b[0m\u001b[0;34m\u001b[0m\u001b[0m\n",
      "\u001b[0;32m/usr/local/lib/python3.5/dist-packages/pandas/core/internals/construction.py\u001b[0m in \u001b[0;36msanitize_index\u001b[0;34m(data, index, copy)\u001b[0m\n\u001b[1;32m    610\u001b[0m \u001b[0;34m\u001b[0m\u001b[0m\n\u001b[1;32m    611\u001b[0m     \u001b[0;32mif\u001b[0m \u001b[0mlen\u001b[0m\u001b[0;34m(\u001b[0m\u001b[0mdata\u001b[0m\u001b[0;34m)\u001b[0m \u001b[0;34m!=\u001b[0m \u001b[0mlen\u001b[0m\u001b[0;34m(\u001b[0m\u001b[0mindex\u001b[0m\u001b[0;34m)\u001b[0m\u001b[0;34m:\u001b[0m\u001b[0;34m\u001b[0m\u001b[0m\n\u001b[0;32m--> 612\u001b[0;31m         \u001b[0;32mraise\u001b[0m \u001b[0mValueError\u001b[0m\u001b[0;34m(\u001b[0m\u001b[0;34m\"Length of values does not match length of index\"\u001b[0m\u001b[0;34m)\u001b[0m\u001b[0;34m\u001b[0m\u001b[0m\n\u001b[0m\u001b[1;32m    613\u001b[0m \u001b[0;34m\u001b[0m\u001b[0m\n\u001b[1;32m    614\u001b[0m     \u001b[0;32mif\u001b[0m \u001b[0misinstance\u001b[0m\u001b[0;34m(\u001b[0m\u001b[0mdata\u001b[0m\u001b[0;34m,\u001b[0m \u001b[0mABCIndexClass\u001b[0m\u001b[0;34m)\u001b[0m \u001b[0;32mand\u001b[0m \u001b[0;32mnot\u001b[0m \u001b[0mcopy\u001b[0m\u001b[0;34m:\u001b[0m\u001b[0;34m\u001b[0m\u001b[0m\n",
      "\u001b[0;31mValueError\u001b[0m: Length of values does not match length of index"
     ]
    }
   ],
   "source": [
    "test_df['political_affliation_pred_D0_R1'] = political_affliation_pred_D0_R1\n",
    "test_df['democrat_affliation'] = democrat_affliation\n",
    "test_df['republican_affliation'] = republican_affliation\n",
    "#Filter out absolute extreme(<0.2,>0.8) values as they are most probably  result of word presence than true affliations \n",
    "LL = 0.2\n",
    "UL = 0.8\n",
    "test_df = test_df.loc[(test_df['republican_affliation'] > LL) & (test_df['republican_affliation'] < UL)]\n",
    "\n"
   ]
  },
  {
   "cell_type": "code",
   "execution_count": null,
   "metadata": {
    "scrolled": true
   },
   "outputs": [],
   "source": [
    "#check out some borderline samples\n",
    "test_df.loc[(test_df['republican_affliation'] > 0.40) & (test_df['republican_affliation'] < 0.60)].head(4)\n",
    "test_df['political_affliation_pred_D0_R1'].describe()"
   ]
  },
  {
   "cell_type": "code",
   "execution_count": null,
   "metadata": {},
   "outputs": [],
   "source": [
    "Catagory = test_df['Catagory'].unique()"
   ]
  },
  {
   "cell_type": "code",
   "execution_count": null,
   "metadata": {},
   "outputs": [],
   "source": [
    "Republican_affliation =[]\n",
    "Catagory_news = []\n",
    "Republican_1_or_Democrat_0_classification =[]\n",
    "\n",
    "for i in Catagory:\n",
    "    Catagory_news.append(i)\n",
    "    Republican_affliation.append(\"%.1f\" %(test_df.loc[test_df['Catagory'] == i]['republican_affliation'].mean()*100))\n",
    "    Republican_1_or_Democrat_0_classification.append(\"%.1f\" %(test_df.loc[test_df['Catagory'] == i]['political_affliation_pred_D0_R1'].mean()*100))\n",
    "    #\"%.2f\" %(f1_score(actual, preds)*100))\n",
    "    #print(\"%.1f\" %(test_df.loc[test_df['publication'] == i]['republican_affliation'].mean()*100))"
   ]
  },
  {
   "cell_type": "code",
   "execution_count": null,
   "metadata": {},
   "outputs": [],
   "source": [
    "Catagory_news"
   ]
  },
  {
   "cell_type": "code",
   "execution_count": null,
   "metadata": {},
   "outputs": [],
   "source": [
    "Republican_affliation"
   ]
  },
  {
   "cell_type": "code",
   "execution_count": 79,
   "metadata": {},
   "outputs": [
    {
     "data": {
      "text/html": [
       "<div>\n",
       "<style scoped>\n",
       "    .dataframe tbody tr th:only-of-type {\n",
       "        vertical-align: middle;\n",
       "    }\n",
       "\n",
       "    .dataframe tbody tr th {\n",
       "        vertical-align: top;\n",
       "    }\n",
       "\n",
       "    .dataframe thead th {\n",
       "        text-align: right;\n",
       "    }\n",
       "</style>\n",
       "<table border=\"1\" class=\"dataframe\">\n",
       "  <thead>\n",
       "    <tr style=\"text-align: right;\">\n",
       "      <th></th>\n",
       "      <th>Date-YYYYMMDD</th>\n",
       "      <th>Catagory</th>\n",
       "      <th>content</th>\n",
       "      <th>statement_length</th>\n",
       "      <th>clean_content</th>\n",
       "      <th>political_affliation_pred_D0_R1</th>\n",
       "      <th>democrat_affliation</th>\n",
       "      <th>republican_affliation</th>\n",
       "    </tr>\n",
       "  </thead>\n",
       "  <tbody>\n",
       "    <tr>\n",
       "      <th>95</th>\n",
       "      <td>19941002</td>\n",
       "      <td>7</td>\n",
       "      <td>Matt Scudder Is Sober Now  By David Willis McC...</td>\n",
       "      <td>6131</td>\n",
       "      <td>[matt, scudder, sober, david, willis, mccullou...</td>\n",
       "      <td>1</td>\n",
       "      <td>0.286384</td>\n",
       "      <td>0.713616</td>\n",
       "    </tr>\n",
       "    <tr>\n",
       "      <th>110</th>\n",
       "      <td>19941025</td>\n",
       "      <td>A</td>\n",
       "      <td>Israelis Look To Clinton Trip For Progress Wit...</td>\n",
       "      <td>4448</td>\n",
       "      <td>[israelis, look, clinton, trip, progress, syri...</td>\n",
       "      <td>0</td>\n",
       "      <td>0.772807</td>\n",
       "      <td>0.227193</td>\n",
       "    </tr>\n",
       "    <tr>\n",
       "      <th>127</th>\n",
       "      <td>19941025</td>\n",
       "      <td>A</td>\n",
       "      <td>Cedras's New Palace: 2 Bedrooms Personal Compu...</td>\n",
       "      <td>3632</td>\n",
       "      <td>[cedrass, new, palace, 2, bedrooms, personal, ...</td>\n",
       "      <td>0</td>\n",
       "      <td>0.659243</td>\n",
       "      <td>0.340757</td>\n",
       "    </tr>\n",
       "    <tr>\n",
       "      <th>188</th>\n",
       "      <td>19941002</td>\n",
       "      <td>5</td>\n",
       "      <td>South Africa  To the Editor: Having recently v...</td>\n",
       "      <td>2434</td>\n",
       "      <td>[south, africa, editor, recently, visited, cap...</td>\n",
       "      <td>1</td>\n",
       "      <td>0.360772</td>\n",
       "      <td>0.639228</td>\n",
       "    </tr>\n",
       "    <tr>\n",
       "      <th>201</th>\n",
       "      <td>19941002</td>\n",
       "      <td>1</td>\n",
       "      <td>Jill L. Kraft Robert G. Butler  Dr. Jill Laure...</td>\n",
       "      <td>1740</td>\n",
       "      <td>[jill, l, kraft, robert, g, butler, dr, jill, ...</td>\n",
       "      <td>0</td>\n",
       "      <td>0.655360</td>\n",
       "      <td>0.344640</td>\n",
       "    </tr>\n",
       "  </tbody>\n",
       "</table>\n",
       "</div>"
      ],
      "text/plain": [
       "     Date-YYYYMMDD Catagory  \\\n",
       "95        19941002        7   \n",
       "110       19941025        A   \n",
       "127       19941025        A   \n",
       "188       19941002        5   \n",
       "201       19941002        1   \n",
       "\n",
       "                                               content  statement_length  \\\n",
       "95   Matt Scudder Is Sober Now  By David Willis McC...              6131   \n",
       "110  Israelis Look To Clinton Trip For Progress Wit...              4448   \n",
       "127  Cedras's New Palace: 2 Bedrooms Personal Compu...              3632   \n",
       "188  South Africa  To the Editor: Having recently v...              2434   \n",
       "201  Jill L. Kraft Robert G. Butler  Dr. Jill Laure...              1740   \n",
       "\n",
       "                                         clean_content  \\\n",
       "95   [matt, scudder, sober, david, willis, mccullou...   \n",
       "110  [israelis, look, clinton, trip, progress, syri...   \n",
       "127  [cedrass, new, palace, 2, bedrooms, personal, ...   \n",
       "188  [south, africa, editor, recently, visited, cap...   \n",
       "201  [jill, l, kraft, robert, g, butler, dr, jill, ...   \n",
       "\n",
       "     political_affliation_pred_D0_R1  democrat_affliation  \\\n",
       "95                                 1             0.286384   \n",
       "110                                0             0.772807   \n",
       "127                                0             0.659243   \n",
       "188                                1             0.360772   \n",
       "201                                0             0.655360   \n",
       "\n",
       "     republican_affliation  \n",
       "95                0.713616  \n",
       "110               0.227193  \n",
       "127               0.340757  \n",
       "188               0.639228  \n",
       "201               0.344640  "
      ]
     },
     "execution_count": 79,
     "metadata": {},
     "output_type": "execute_result"
    }
   ],
   "source": [
    "#Divide/Select Sections\n",
    "#NYT_df = test_df.loc[test_df['Catagory'].isin(['W','CY'])]\n",
    "NYT_df = test_df\n",
    "NYT_republican_affliation_df = NYT_df['republican_affliation']\n",
    "NYT_df.head(5)"
   ]
  },
  {
   "cell_type": "code",
   "execution_count": 80,
   "metadata": {},
   "outputs": [],
   "source": [
    "Repub_affl_between_0_and_10= len(NYT_df.loc[(NYT_df['republican_affliation'] > 0) & (NYT_df['republican_affliation'] < 0.1)])\n",
    "Repub_affl_between_10_and_20=len(NYT_df.loc[(NYT_df['republican_affliation'] > .1) & (NYT_df['republican_affliation'] < 0.2)])\n",
    "Repub_affl_between_20_and_30=len(NYT_df.loc[(NYT_df['republican_affliation'] > .2) & (NYT_df['republican_affliation'] < 0.3)])\n",
    "Repub_affl_between_30_and_40=len(NYT_df.loc[(NYT_df['republican_affliation'] > .3) & (NYT_df['republican_affliation'] < 0.4)])\n",
    "Repub_affl_between_40_and_50=len(NYT_df.loc[(NYT_df['republican_affliation'] > .4) & (NYT_df['republican_affliation'] < 0.5)])\n",
    "Repub_affl_between_50_and_60=len(NYT_df.loc[(NYT_df['republican_affliation'] > .5) & (NYT_df['republican_affliation'] < 0.6)])\n",
    "Repub_affl_between_60_and_70=len(NYT_df.loc[(NYT_df['republican_affliation'] > .6) & (NYT_df['republican_affliation'] < 0.7)])\n",
    "Repub_affl_between_70_and_80=len(NYT_df.loc[(NYT_df['republican_affliation'] > .7) & (NYT_df['republican_affliation'] < 0.8)])\n",
    "Repub_affl_between_80_and_90=len(NYT_df.loc[(NYT_df['republican_affliation'] > .8) & (NYT_df['republican_affliation'] < 0.9)])\n",
    "Repub_affl_between_90_and_100=len(NYT_df.loc[(NYT_df['republican_affliation'] > .9) & (NYT_df['republican_affliation'] < 1.0)])"
   ]
  },
  {
   "cell_type": "code",
   "execution_count": 81,
   "metadata": {},
   "outputs": [
    {
     "data": {
      "text/plain": [
       "0"
      ]
     },
     "execution_count": 81,
     "metadata": {},
     "output_type": "execute_result"
    },
    {
     "data": {
      "text/plain": [
       "0"
      ]
     },
     "execution_count": 81,
     "metadata": {},
     "output_type": "execute_result"
    },
    {
     "data": {
      "text/plain": [
       "4583"
      ]
     },
     "execution_count": 81,
     "metadata": {},
     "output_type": "execute_result"
    },
    {
     "data": {
      "text/plain": [
       "3805"
      ]
     },
     "execution_count": 81,
     "metadata": {},
     "output_type": "execute_result"
    },
    {
     "data": {
      "text/plain": [
       "3436"
      ]
     },
     "execution_count": 81,
     "metadata": {},
     "output_type": "execute_result"
    },
    {
     "data": {
      "text/plain": [
       "3536"
      ]
     },
     "execution_count": 81,
     "metadata": {},
     "output_type": "execute_result"
    },
    {
     "data": {
      "text/plain": [
       "3802"
      ]
     },
     "execution_count": 81,
     "metadata": {},
     "output_type": "execute_result"
    },
    {
     "data": {
      "text/plain": [
       "4430"
      ]
     },
     "execution_count": 81,
     "metadata": {},
     "output_type": "execute_result"
    },
    {
     "data": {
      "text/plain": [
       "0"
      ]
     },
     "execution_count": 81,
     "metadata": {},
     "output_type": "execute_result"
    },
    {
     "data": {
      "text/plain": [
       "0"
      ]
     },
     "execution_count": 81,
     "metadata": {},
     "output_type": "execute_result"
    }
   ],
   "source": [
    "Repub_affl_between_0_and_10\n",
    "Repub_affl_between_10_and_20\n",
    "Repub_affl_between_20_and_30\n",
    "Repub_affl_between_30_and_40\n",
    "Repub_affl_between_40_and_50\n",
    "Repub_affl_between_50_and_60\n",
    "Repub_affl_between_60_and_70\n",
    "Repub_affl_between_70_and_80\n",
    "Repub_affl_between_80_and_90\n",
    "Repub_affl_between_90_and_100"
   ]
  },
  {
   "cell_type": "code",
   "execution_count": 82,
   "metadata": {},
   "outputs": [
    {
     "data": {
      "text/plain": [
       "<Figure size 1080x360 with 0 Axes>"
      ]
     },
     "execution_count": 82,
     "metadata": {},
     "output_type": "execute_result"
    },
    {
     "data": {
      "text/plain": [
       "Text(1, 0.1, '0')"
      ]
     },
     "execution_count": 82,
     "metadata": {},
     "output_type": "execute_result"
    },
    {
     "data": {
      "text/plain": [
       "Text(1, 1.1, '0')"
      ]
     },
     "execution_count": 82,
     "metadata": {},
     "output_type": "execute_result"
    },
    {
     "data": {
      "text/plain": [
       "Text(4584, 2.1, '4583')"
      ]
     },
     "execution_count": 82,
     "metadata": {},
     "output_type": "execute_result"
    },
    {
     "data": {
      "text/plain": [
       "Text(3806, 3.1, '3805')"
      ]
     },
     "execution_count": 82,
     "metadata": {},
     "output_type": "execute_result"
    },
    {
     "data": {
      "text/plain": [
       "Text(3437, 4.1, '3436')"
      ]
     },
     "execution_count": 82,
     "metadata": {},
     "output_type": "execute_result"
    },
    {
     "data": {
      "text/plain": [
       "Text(3537, 5.1, '3536')"
      ]
     },
     "execution_count": 82,
     "metadata": {},
     "output_type": "execute_result"
    },
    {
     "data": {
      "text/plain": [
       "Text(3803, 6.1, '3802')"
      ]
     },
     "execution_count": 82,
     "metadata": {},
     "output_type": "execute_result"
    },
    {
     "data": {
      "text/plain": [
       "Text(4431, 7.1, '4430')"
      ]
     },
     "execution_count": 82,
     "metadata": {},
     "output_type": "execute_result"
    },
    {
     "data": {
      "text/plain": [
       "Text(1, 8.1, '0')"
      ]
     },
     "execution_count": 82,
     "metadata": {},
     "output_type": "execute_result"
    },
    {
     "data": {
      "text/plain": [
       "Text(1, 9.1, '0')"
      ]
     },
     "execution_count": 82,
     "metadata": {},
     "output_type": "execute_result"
    },
    {
     "data": {
      "text/plain": [
       "<BarContainer object of 10 artists>"
      ]
     },
     "execution_count": 82,
     "metadata": {},
     "output_type": "execute_result"
    },
    {
     "data": {
      "text/plain": [
       "[<matplotlib.axis.YTick at 0x7f0d7ef210f0>,\n",
       " <matplotlib.axis.YTick at 0x7f0d7ef2e9e8>,\n",
       " <matplotlib.axis.YTick at 0x7f0d7ef24630>,\n",
       " <matplotlib.axis.YTick at 0x7f0d7eecd898>,\n",
       " <matplotlib.axis.YTick at 0x7f0d7eecdd68>,\n",
       " <matplotlib.axis.YTick at 0x7f0d7eed2278>,\n",
       " <matplotlib.axis.YTick at 0x7f0d7eed2710>,\n",
       " <matplotlib.axis.YTick at 0x7f0d7eed2be0>,\n",
       " <matplotlib.axis.YTick at 0x7f0d7eed7160>,\n",
       " <matplotlib.axis.YTick at 0x7f0d7eed75c0>]"
      ]
     },
     "execution_count": 82,
     "metadata": {},
     "output_type": "execute_result"
    },
    {
     "data": {
      "text/plain": [
       "Text(0.5, 0, 'No. of NYT articles')"
      ]
     },
     "execution_count": 82,
     "metadata": {},
     "output_type": "execute_result"
    },
    {
     "data": {
      "text/plain": [
       "Text(0, 0.5, 'Republican affliciation scores')"
      ]
     },
     "execution_count": 82,
     "metadata": {},
     "output_type": "execute_result"
    },
    {
     "data": {
      "text/plain": [
       "Text(0.5, 1.0, 'No. of NYT articles in each Republican affiliation(D0,R1) score range')"
      ]
     },
     "execution_count": 82,
     "metadata": {},
     "output_type": "execute_result"
    },
    {
     "data": {
      "image/png": "[encoded data removed]",
      "text/plain": [
       "<Figure size 1080x360 with 1 Axes>"
      ]
     },
     "metadata": {
      "needs_background": "light"
     },
     "output_type": "display_data"
    },
    {
     "data": {
      "text/plain": [
       "<Figure size 1080x360 with 0 Axes>"
      ]
     },
     "metadata": {},
     "output_type": "display_data"
    }
   ],
   "source": [
    "Republican_affln = [Repub_affl_between_0_and_10,Repub_affl_between_10_and_20,Repub_affl_between_20_and_30,Repub_affl_between_30_and_40,Repub_affl_between_40_and_50,Repub_affl_between_50_and_60,Repub_affl_between_60_and_70,Repub_affl_between_70_and_80,Repub_affl_between_80_and_90,Repub_affl_between_90_and_100]\n",
    "Political_affln = ['D(0-.1)','D(0.1-0.2)','D(0.2-0.3)','D(0.3-0.4)','D(0.4-0.5)','R(0.5-0.6)','R(0.6-0.7)','R(0.7-0.8)','R(0.8-0.9)','R(0.9-1.0)']\n",
    "\n",
    "#N = 10\n",
    "#width = 0.1\n",
    "#ind = np.arange(N)  # the x locations for the groups\n",
    "\n",
    "fig = plt.figure(figsize = (15, 5))\n",
    "plt.figure(figsize = (15, 5))\n",
    "plt.rcParams.update({'font.size': 12})\n",
    "ax = fig.add_subplot(111)\n",
    "\n",
    "for i, v in enumerate(Republican_affln):\n",
    "    ax.text(v + 1, i + 0.1, str(v), color='red', fontweight='bold')\n",
    "\n",
    "ax.barh(Political_affln, Republican_affln, align='center',color = 'green')\n",
    "ax.set_yticks(Political_affln)\n",
    "ax.invert_yaxis()  # labels read top-to-bottom\n",
    "ax.set_xlabel('No. of NYT articles')\n",
    "ax.set_ylabel('Republican affliciation scores')\n",
    "ax.set_title('No. of NYT articles in each Republican affiliation(D0,R1) score range')\n",
    "\n",
    "plt.show()"
   ]
  },
  {
   "cell_type": "code",
   "execution_count": 83,
   "metadata": {},
   "outputs": [
    {
     "data": {
      "text/plain": [
       "<Figure size 1080x360 with 0 Axes>"
      ]
     },
     "execution_count": 83,
     "metadata": {},
     "output_type": "execute_result"
    },
    {
     "data": {
      "text/plain": [
       "Text(11825, 0.1, '11824')"
      ]
     },
     "execution_count": 83,
     "metadata": {},
     "output_type": "execute_result"
    },
    {
     "data": {
      "text/plain": [
       "Text(11769, 1.1, '11768')"
      ]
     },
     "execution_count": 83,
     "metadata": {},
     "output_type": "execute_result"
    },
    {
     "data": {
      "text/plain": [
       "<BarContainer object of 2 artists>"
      ]
     },
     "execution_count": 83,
     "metadata": {},
     "output_type": "execute_result"
    },
    {
     "data": {
      "text/plain": [
       "[<matplotlib.axis.YTick at 0x7f0d7ee750f0>,\n",
       " <matplotlib.axis.YTick at 0x7f0d7ee819e8>]"
      ]
     },
     "execution_count": 83,
     "metadata": {},
     "output_type": "execute_result"
    },
    {
     "data": {
      "text/plain": [
       "Text(0.5, 0, 'No. of NYT articles')"
      ]
     },
     "execution_count": 83,
     "metadata": {},
     "output_type": "execute_result"
    },
    {
     "data": {
      "text/plain": [
       "Text(0, 0.5, 'Republican affliciation scores')"
      ]
     },
     "execution_count": 83,
     "metadata": {},
     "output_type": "execute_result"
    },
    {
     "data": {
      "text/plain": [
       "Text(0.5, 1.0, 'Democrat vs. Republican NYT articles in (0.1,0.9) score range')"
      ]
     },
     "execution_count": 83,
     "metadata": {},
     "output_type": "execute_result"
    },
    {
     "data": {
      "image/png": "[encoded data removed]",
      "text/plain": [
       "<Figure size 1080x360 with 1 Axes>"
      ]
     },
     "metadata": {
      "needs_background": "light"
     },
     "output_type": "display_data"
    },
    {
     "data": {
      "text/plain": [
       "<Figure size 1080x360 with 0 Axes>"
      ]
     },
     "metadata": {},
     "output_type": "display_data"
    }
   ],
   "source": [
    "Republican_affln = [Repub_affl_between_10_and_20 + Repub_affl_between_20_and_30 + Repub_affl_between_30_and_40 + Repub_affl_between_40_and_50,Repub_affl_between_50_and_60 + Repub_affl_between_60_and_70 + Repub_affl_between_70_and_80 + Repub_affl_between_80_and_90]\n",
    "Political_affln = ['D(0.1-0.5)','R(0.5-0.9)']\n",
    "\n",
    "#N = 10\n",
    "#width = 0.1\n",
    "#ind = np.arange(N)  # the x locations for the groups\n",
    "\n",
    "fig = plt.figure(figsize = (15, 5))\n",
    "plt.figure(figsize = (15, 5))\n",
    "plt.rcParams.update({'font.size': 12})\n",
    "ax = fig.add_subplot(111)\n",
    "\n",
    "for i, v in enumerate(Republican_affln):\n",
    "    ax.text(v + 1, i + 0.1, str(v), color='red', fontweight='bold')\n",
    "\n",
    "ax.barh(Political_affln, Republican_affln, align='center',color = 'green')\n",
    "ax.set_yticks(Political_affln)\n",
    "ax.invert_yaxis()  # labels read top-to-bottom\n",
    "ax.set_xlabel('No. of NYT articles')\n",
    "ax.set_ylabel('Republican affliciation scores')\n",
    "ax.set_title('Democrat vs. Republican NYT articles in (0.1,0.9) score range')\n",
    "\n",
    "plt.show()"
   ]
  },
  {
   "cell_type": "code",
   "execution_count": 84,
   "metadata": {},
   "outputs": [],
   "source": [
    "#LL = 0.3\n",
    "#UL = 0.7\n",
    "#Breitbart_Republican_share = Breitbart_df.loc[(Breitbart_df['republican_affliation'] > LL) & (Breitbart_df['republican_affliation'] < UL)]['republican_affliation'].median()\n",
    "#CNN_Republican_share = CNN_df.loc[(CNN_df['republican_affliation'] > LL) & (CNN_df['republican_affliation'] < UL)]['republican_affliation'].median()\n",
    "#Fox_Republican_share = Fox_df.loc[(Fox_df['republican_affliation'] > LL) & (Fox_df['republican_affliation'] < UL)]['republican_affliation'].median()\n",
    "#Washington_Post_Republican_share = Washington_Post_df.loc[(Washington_Post_df['republican_affliation'] > LL) & (Washington_Post_df['republican_affliation'] < UL)]['republican_affliation'].median()\n",
    "#NYT_Republican_share = NYT_df.loc[(NYT_df['republican_affliation'] > LL) & (NYT_df['republican_affliation'] < UL)]['republican_affliation'].median()\n"
   ]
  },
  {
   "cell_type": "code",
   "execution_count": 85,
   "metadata": {},
   "outputs": [],
   "source": [
    "#Filter out absolute extreme(<0.2,>0.8) values as they are most probably  result of word presence than true affliations \n",
    "LL = 0.2\n",
    "UL = 0.8\n",
    "NYT_df = NYT_df.loc[(NYT_df['republican_affliation'] > LL) & (NYT_df['republican_affliation'] < UL)]\n"
   ]
  },
  {
   "cell_type": "code",
   "execution_count": 86,
   "metadata": {},
   "outputs": [],
   "source": [
    "path_to_file = '/home/asheshchoudhury/outputfile.csv'\n",
    "export_csv = NYT_df.to_csv (path_to_file, index = None, header=True) \n"
   ]
  },
  {
   "cell_type": "code",
   "execution_count": 87,
   "metadata": {},
   "outputs": [
    {
     "data": {
      "text/html": [
       "<div>\n",
       "<style scoped>\n",
       "    .dataframe tbody tr th:only-of-type {\n",
       "        vertical-align: middle;\n",
       "    }\n",
       "\n",
       "    .dataframe tbody tr th {\n",
       "        vertical-align: top;\n",
       "    }\n",
       "\n",
       "    .dataframe thead th {\n",
       "        text-align: right;\n",
       "    }\n",
       "</style>\n",
       "<table border=\"1\" class=\"dataframe\">\n",
       "  <thead>\n",
       "    <tr style=\"text-align: right;\">\n",
       "      <th></th>\n",
       "      <th>Date-YYYYMMDD</th>\n",
       "      <th>Catagory</th>\n",
       "      <th>content</th>\n",
       "      <th>statement_length</th>\n",
       "      <th>clean_content</th>\n",
       "      <th>political_affliation_pred_D0_R1</th>\n",
       "      <th>democrat_affliation</th>\n",
       "      <th>republican_affliation</th>\n",
       "    </tr>\n",
       "  </thead>\n",
       "  <tbody>\n",
       "    <tr>\n",
       "      <th>95</th>\n",
       "      <td>19941002</td>\n",
       "      <td>7</td>\n",
       "      <td>Matt Scudder Is Sober Now  By David Willis McC...</td>\n",
       "      <td>6131</td>\n",
       "      <td>[matt, scudder, sober, david, willis, mccullou...</td>\n",
       "      <td>1</td>\n",
       "      <td>0.286384</td>\n",
       "      <td>0.713616</td>\n",
       "    </tr>\n",
       "    <tr>\n",
       "      <th>110</th>\n",
       "      <td>19941025</td>\n",
       "      <td>A</td>\n",
       "      <td>Israelis Look To Clinton Trip For Progress Wit...</td>\n",
       "      <td>4448</td>\n",
       "      <td>[israelis, look, clinton, trip, progress, syri...</td>\n",
       "      <td>0</td>\n",
       "      <td>0.772807</td>\n",
       "      <td>0.227193</td>\n",
       "    </tr>\n",
       "    <tr>\n",
       "      <th>127</th>\n",
       "      <td>19941025</td>\n",
       "      <td>A</td>\n",
       "      <td>Cedras's New Palace: 2 Bedrooms Personal Compu...</td>\n",
       "      <td>3632</td>\n",
       "      <td>[cedrass, new, palace, 2, bedrooms, personal, ...</td>\n",
       "      <td>0</td>\n",
       "      <td>0.659243</td>\n",
       "      <td>0.340757</td>\n",
       "    </tr>\n",
       "    <tr>\n",
       "      <th>188</th>\n",
       "      <td>19941002</td>\n",
       "      <td>5</td>\n",
       "      <td>South Africa  To the Editor: Having recently v...</td>\n",
       "      <td>2434</td>\n",
       "      <td>[south, africa, editor, recently, visited, cap...</td>\n",
       "      <td>1</td>\n",
       "      <td>0.360772</td>\n",
       "      <td>0.639228</td>\n",
       "    </tr>\n",
       "    <tr>\n",
       "      <th>201</th>\n",
       "      <td>19941002</td>\n",
       "      <td>1</td>\n",
       "      <td>Jill L. Kraft Robert G. Butler  Dr. Jill Laure...</td>\n",
       "      <td>1740</td>\n",
       "      <td>[jill, l, kraft, robert, g, butler, dr, jill, ...</td>\n",
       "      <td>0</td>\n",
       "      <td>0.655360</td>\n",
       "      <td>0.344640</td>\n",
       "    </tr>\n",
       "  </tbody>\n",
       "</table>\n",
       "</div>"
      ],
      "text/plain": [
       "     Date-YYYYMMDD Catagory  \\\n",
       "95        19941002        7   \n",
       "110       19941025        A   \n",
       "127       19941025        A   \n",
       "188       19941002        5   \n",
       "201       19941002        1   \n",
       "\n",
       "                                               content  statement_length  \\\n",
       "95   Matt Scudder Is Sober Now  By David Willis McC...              6131   \n",
       "110  Israelis Look To Clinton Trip For Progress Wit...              4448   \n",
       "127  Cedras's New Palace: 2 Bedrooms Personal Compu...              3632   \n",
       "188  South Africa  To the Editor: Having recently v...              2434   \n",
       "201  Jill L. Kraft Robert G. Butler  Dr. Jill Laure...              1740   \n",
       "\n",
       "                                         clean_content  \\\n",
       "95   [matt, scudder, sober, david, willis, mccullou...   \n",
       "110  [israelis, look, clinton, trip, progress, syri...   \n",
       "127  [cedrass, new, palace, 2, bedrooms, personal, ...   \n",
       "188  [south, africa, editor, recently, visited, cap...   \n",
       "201  [jill, l, kraft, robert, g, butler, dr, jill, ...   \n",
       "\n",
       "     political_affliation_pred_D0_R1  democrat_affliation  \\\n",
       "95                                 1             0.286384   \n",
       "110                                0             0.772807   \n",
       "127                                0             0.659243   \n",
       "188                                1             0.360772   \n",
       "201                                0             0.655360   \n",
       "\n",
       "     republican_affliation  \n",
       "95                0.713616  \n",
       "110               0.227193  \n",
       "127               0.340757  \n",
       "188               0.639228  \n",
       "201               0.344640  "
      ]
     },
     "execution_count": 87,
     "metadata": {},
     "output_type": "execute_result"
    }
   ],
   "source": [
    "NYT_df.head(5)"
   ]
  },
  {
   "cell_type": "code",
   "execution_count": 88,
   "metadata": {},
   "outputs": [
    {
     "data": {
      "text/html": [
       "<div>\n",
       "<style scoped>\n",
       "    .dataframe tbody tr th:only-of-type {\n",
       "        vertical-align: middle;\n",
       "    }\n",
       "\n",
       "    .dataframe tbody tr th {\n",
       "        vertical-align: top;\n",
       "    }\n",
       "\n",
       "    .dataframe thead th {\n",
       "        text-align: right;\n",
       "    }\n",
       "</style>\n",
       "<table border=\"1\" class=\"dataframe\">\n",
       "  <thead>\n",
       "    <tr style=\"text-align: right;\">\n",
       "      <th></th>\n",
       "      <th>statement_length</th>\n",
       "      <th>republican_affliation</th>\n",
       "    </tr>\n",
       "    <tr>\n",
       "      <th>datetime</th>\n",
       "      <th></th>\n",
       "      <th></th>\n",
       "    </tr>\n",
       "  </thead>\n",
       "  <tbody>\n",
       "    <tr>\n",
       "      <th>1994-10-02</th>\n",
       "      <td>6131</td>\n",
       "      <td>0.713616</td>\n",
       "    </tr>\n",
       "    <tr>\n",
       "      <th>1994-10-25</th>\n",
       "      <td>4448</td>\n",
       "      <td>0.227193</td>\n",
       "    </tr>\n",
       "    <tr>\n",
       "      <th>1994-10-25</th>\n",
       "      <td>3632</td>\n",
       "      <td>0.340757</td>\n",
       "    </tr>\n",
       "    <tr>\n",
       "      <th>1994-10-02</th>\n",
       "      <td>2434</td>\n",
       "      <td>0.639228</td>\n",
       "    </tr>\n",
       "    <tr>\n",
       "      <th>1994-10-02</th>\n",
       "      <td>1740</td>\n",
       "      <td>0.344640</td>\n",
       "    </tr>\n",
       "  </tbody>\n",
       "</table>\n",
       "</div>"
      ],
      "text/plain": [
       "            statement_length  republican_affliation\n",
       "datetime                                           \n",
       "1994-10-02              6131               0.713616\n",
       "1994-10-25              4448               0.227193\n",
       "1994-10-25              3632               0.340757\n",
       "1994-10-02              2434               0.639228\n",
       "1994-10-02              1740               0.344640"
      ]
     },
     "execution_count": 88,
     "metadata": {},
     "output_type": "execute_result"
    }
   ],
   "source": [
    "NYT_all_coloumn_df = NYT_df\n",
    "NYT_df['datetime'] = pd.to_datetime(NYT_df['Date-YYYYMMDD'],format='%Y%m%d', errors='ignore')\n",
    "NYT_df = NYT_df.set_index('datetime')\n",
    "NYT_df.drop(['Date-YYYYMMDD','Catagory','content','clean_content','political_affliation_pred_D0_R1','democrat_affliation'], axis=1, inplace=True)\n",
    "NYT_df.head()"
   ]
  },
  {
   "cell_type": "code",
   "execution_count": 89,
   "metadata": {},
   "outputs": [
    {
     "data": {
      "text/html": [
       "<div>\n",
       "<style scoped>\n",
       "    .dataframe tbody tr th:only-of-type {\n",
       "        vertical-align: middle;\n",
       "    }\n",
       "\n",
       "    .dataframe tbody tr th {\n",
       "        vertical-align: top;\n",
       "    }\n",
       "\n",
       "    .dataframe thead th {\n",
       "        text-align: right;\n",
       "    }\n",
       "</style>\n",
       "<table border=\"1\" class=\"dataframe\">\n",
       "  <thead>\n",
       "    <tr style=\"text-align: right;\">\n",
       "      <th></th>\n",
       "      <th>statement_length</th>\n",
       "      <th>republican_affliation</th>\n",
       "    </tr>\n",
       "    <tr>\n",
       "      <th>datetime</th>\n",
       "      <th></th>\n",
       "      <th></th>\n",
       "    </tr>\n",
       "  </thead>\n",
       "  <tbody>\n",
       "    <tr>\n",
       "      <th>1994-10-31</th>\n",
       "      <td>3651.779736</td>\n",
       "      <td>0.504367</td>\n",
       "    </tr>\n",
       "    <tr>\n",
       "      <th>1994-11-30</th>\n",
       "      <td>NaN</td>\n",
       "      <td>NaN</td>\n",
       "    </tr>\n",
       "    <tr>\n",
       "      <th>1994-12-31</th>\n",
       "      <td>3790.190045</td>\n",
       "      <td>0.494191</td>\n",
       "    </tr>\n",
       "    <tr>\n",
       "      <th>1995-01-31</th>\n",
       "      <td>3677.195556</td>\n",
       "      <td>0.483758</td>\n",
       "    </tr>\n",
       "    <tr>\n",
       "      <th>1995-02-28</th>\n",
       "      <td>3718.264249</td>\n",
       "      <td>0.487902</td>\n",
       "    </tr>\n",
       "  </tbody>\n",
       "</table>\n",
       "</div>"
      ],
      "text/plain": [
       "            statement_length  republican_affliation\n",
       "datetime                                           \n",
       "1994-10-31       3651.779736               0.504367\n",
       "1994-11-30               NaN                    NaN\n",
       "1994-12-31       3790.190045               0.494191\n",
       "1995-01-31       3677.195556               0.483758\n",
       "1995-02-28       3718.264249               0.487902"
      ]
     },
     "execution_count": 89,
     "metadata": {},
     "output_type": "execute_result"
    }
   ],
   "source": [
    "#Take monthly mean of Republican afflition\n",
    "NYT_monthlymean_df = NYT_df.resample('M').mean()\n",
    "NYT_monthlymean_df.head()"
   ]
  },
  {
   "cell_type": "code",
   "execution_count": 90,
   "metadata": {},
   "outputs": [
    {
     "data": {
      "text/html": [
       "<div>\n",
       "<style scoped>\n",
       "    .dataframe tbody tr th:only-of-type {\n",
       "        vertical-align: middle;\n",
       "    }\n",
       "\n",
       "    .dataframe tbody tr th {\n",
       "        vertical-align: top;\n",
       "    }\n",
       "\n",
       "    .dataframe thead th {\n",
       "        text-align: right;\n",
       "    }\n",
       "</style>\n",
       "<table border=\"1\" class=\"dataframe\">\n",
       "  <thead>\n",
       "    <tr style=\"text-align: right;\">\n",
       "      <th></th>\n",
       "      <th>statement_length</th>\n",
       "      <th>Year_Month</th>\n",
       "      <th>NYT_republican_affliation</th>\n",
       "    </tr>\n",
       "    <tr>\n",
       "      <th>datetime</th>\n",
       "      <th></th>\n",
       "      <th></th>\n",
       "      <th></th>\n",
       "    </tr>\n",
       "  </thead>\n",
       "  <tbody>\n",
       "    <tr>\n",
       "      <th>2003-05-31</th>\n",
       "      <td>3779.291667</td>\n",
       "      <td>2003-5</td>\n",
       "      <td>0.521410</td>\n",
       "    </tr>\n",
       "    <tr>\n",
       "      <th>2003-06-30</th>\n",
       "      <td>3576.141129</td>\n",
       "      <td>2003-6</td>\n",
       "      <td>0.521258</td>\n",
       "    </tr>\n",
       "    <tr>\n",
       "      <th>2003-07-31</th>\n",
       "      <td>3867.138095</td>\n",
       "      <td>2003-7</td>\n",
       "      <td>0.492237</td>\n",
       "    </tr>\n",
       "    <tr>\n",
       "      <th>2003-08-31</th>\n",
       "      <td>3517.913706</td>\n",
       "      <td>2003-8</td>\n",
       "      <td>0.488269</td>\n",
       "    </tr>\n",
       "    <tr>\n",
       "      <th>2003-09-30</th>\n",
       "      <td>3581.800000</td>\n",
       "      <td>2003-9</td>\n",
       "      <td>0.536109</td>\n",
       "    </tr>\n",
       "  </tbody>\n",
       "</table>\n",
       "</div>"
      ],
      "text/plain": [
       "            statement_length Year_Month  NYT_republican_affliation\n",
       "datetime                                                          \n",
       "2003-05-31       3779.291667     2003-5                   0.521410\n",
       "2003-06-30       3576.141129     2003-6                   0.521258\n",
       "2003-07-31       3867.138095     2003-7                   0.492237\n",
       "2003-08-31       3517.913706     2003-8                   0.488269\n",
       "2003-09-30       3581.800000     2003-9                   0.536109"
      ]
     },
     "execution_count": 90,
     "metadata": {},
     "output_type": "execute_result"
    }
   ],
   "source": [
    "NYT_monthlymean_df['Date'] = NYT_monthlymean_df.index.date\n",
    "NYT_monthlymean_df['Year'] = NYT_monthlymean_df.index.year\n",
    "NYT_monthlymean_df['Month'] = NYT_monthlymean_df.index.month\n",
    "NYT_monthlymean_df['Day'] = NYT_monthlymean_df.index.day\n",
    "NYT_monthlymean_df['Weekday']= NYT_monthlymean_df.index.weekday_name\n",
    "#NYT_monthlymean_df.tail()\n",
    "NYT_monthlymean_df.to_csv('/home/asheshchoudhury/NYT_monthlymean_backup_df.csv',index=False,header = True)\n",
    "NYT_monthlymean_df['Year_Month']= NYT_monthlymean_df.Year.astype(str) + '-'+ NYT_monthlymean_df.Month.astype(str)  \n",
    "NYT_monthlymean_df['NYT_republican_affliation'] = NYT_monthlymean_df['republican_affliation']\n",
    "NYT_monthlymean_df.drop(['Date','Year','Month','Day','Weekday','republican_affliation'], axis=1, inplace=True)\n",
    "NYT_monthlymean_df.tail()\n"
   ]
  },
  {
   "cell_type": "code",
   "execution_count": 91,
   "metadata": {},
   "outputs": [
    {
     "data": {
      "text/html": [
       "<div>\n",
       "<style scoped>\n",
       "    .dataframe tbody tr th:only-of-type {\n",
       "        vertical-align: middle;\n",
       "    }\n",
       "\n",
       "    .dataframe tbody tr th {\n",
       "        vertical-align: top;\n",
       "    }\n",
       "\n",
       "    .dataframe thead th {\n",
       "        text-align: right;\n",
       "    }\n",
       "</style>\n",
       "<table border=\"1\" class=\"dataframe\">\n",
       "  <thead>\n",
       "    <tr style=\"text-align: right;\">\n",
       "      <th></th>\n",
       "      <th>statement_length</th>\n",
       "      <th>republican_affliation</th>\n",
       "    </tr>\n",
       "    <tr>\n",
       "      <th>datetime</th>\n",
       "      <th></th>\n",
       "      <th></th>\n",
       "    </tr>\n",
       "  </thead>\n",
       "  <tbody>\n",
       "    <tr>\n",
       "      <th>1994-12-31</th>\n",
       "      <td>3720.058036</td>\n",
       "      <td>0.499347</td>\n",
       "    </tr>\n",
       "    <tr>\n",
       "      <th>1995-12-31</th>\n",
       "      <td>3657.668703</td>\n",
       "      <td>0.494864</td>\n",
       "    </tr>\n",
       "    <tr>\n",
       "      <th>1996-12-31</th>\n",
       "      <td>3606.742857</td>\n",
       "      <td>0.500714</td>\n",
       "    </tr>\n",
       "    <tr>\n",
       "      <th>1997-12-31</th>\n",
       "      <td>3694.135208</td>\n",
       "      <td>0.498138</td>\n",
       "    </tr>\n",
       "    <tr>\n",
       "      <th>1998-12-31</th>\n",
       "      <td>3727.374245</td>\n",
       "      <td>0.500453</td>\n",
       "    </tr>\n",
       "  </tbody>\n",
       "</table>\n",
       "</div>"
      ],
      "text/plain": [
       "            statement_length  republican_affliation\n",
       "datetime                                           \n",
       "1994-12-31       3720.058036               0.499347\n",
       "1995-12-31       3657.668703               0.494864\n",
       "1996-12-31       3606.742857               0.500714\n",
       "1997-12-31       3694.135208               0.498138\n",
       "1998-12-31       3727.374245               0.500453"
      ]
     },
     "execution_count": 91,
     "metadata": {},
     "output_type": "execute_result"
    }
   ],
   "source": [
    "#Take yearly mean of Republican afflition\n",
    "NYT_yearlymean_df = NYT_df.resample('Y').mean()\n",
    "NYT_yearlymean_df.head()"
   ]
  },
  {
   "cell_type": "code",
   "execution_count": 92,
   "metadata": {},
   "outputs": [
    {
     "data": {
      "text/plain": [
       "<Figure size 720x360 with 0 Axes>"
      ]
     },
     "execution_count": 92,
     "metadata": {},
     "output_type": "execute_result"
    },
    {
     "name": "stderr",
     "output_type": "stream",
     "text": [
      "/usr/local/lib/python3.5/dist-packages/pandas/plotting/_matplotlib/converter.py:103: FutureWarning:\n",
      "\n",
      "Using an implicitly registered datetime converter for a matplotlib plotting method. The converter was registered by pandas on import. Future versions of pandas will require you to explicitly register matplotlib converters.\n",
      "\n",
      "To register the converters:\n",
      "\t>>> from pandas.plotting import register_matplotlib_converters\n",
      "\t>>> register_matplotlib_converters()\n",
      "\n"
     ]
    },
    {
     "data": {
      "text/plain": [
       "[<matplotlib.lines.Line2D at 0x7f0d7edc0e10>]"
      ]
     },
     "execution_count": 92,
     "metadata": {},
     "output_type": "execute_result"
    },
    {
     "data": {
      "text/plain": [
       "Text(0.5, 1.0, 'Average Republican Affliation trend')"
      ]
     },
     "execution_count": 92,
     "metadata": {},
     "output_type": "execute_result"
    },
    {
     "data": {
      "text/plain": [
       "Text(0.5, 0, 'Time')"
      ]
     },
     "execution_count": 92,
     "metadata": {},
     "output_type": "execute_result"
    },
    {
     "data": {
      "text/plain": [
       "Text(0, 0.5, 'NYT monthly mean Republican Affliation')"
      ]
     },
     "execution_count": 92,
     "metadata": {},
     "output_type": "execute_result"
    },
    {
     "data": {
      "text/plain": [
       "<Figure size 720x360 with 0 Axes>"
      ]
     },
     "metadata": {},
     "output_type": "display_data"
    },
    {
     "data": {
      "image/png": "[encoded data removed]",
      "text/plain": [
       "<Figure size 720x360 with 1 Axes>"
      ]
     },
     "metadata": {
      "needs_background": "light"
     },
     "output_type": "display_data"
    }
   ],
   "source": [
    "start = '1994'\n",
    "end = '2008'\n",
    "fig = plt.figure(figsize = (10, 5))\n",
    "plt.figure(figsize = (10, 5))\n",
    "plt.rcParams.update({'font.size': 10})\n",
    "\n",
    "plt.plot(NYT_monthlymean_df.loc[start:end, 'NYT_republican_affliation'], marker='o', linestyle='-')\n",
    "plt.title('Average Republican Affliation trend')\n",
    "plt.xlabel('Time', fontsize=10)\n",
    "plt.ylabel('NYT monthly mean Republican Affliation', fontsize=10)\n",
    "\n",
    "#ax.xaxis.set_major_locator(mdates.WeekdayLocator(byweekday=mdates.MONDAY))\n",
    "\n"
   ]
  },
  {
   "cell_type": "code",
   "execution_count": 93,
   "metadata": {},
   "outputs": [
    {
     "data": {
      "text/html": [
       "<div>\n",
       "<style scoped>\n",
       "    .dataframe tbody tr th:only-of-type {\n",
       "        vertical-align: middle;\n",
       "    }\n",
       "\n",
       "    .dataframe tbody tr th {\n",
       "        vertical-align: top;\n",
       "    }\n",
       "\n",
       "    .dataframe thead th {\n",
       "        text-align: right;\n",
       "    }\n",
       "</style>\n",
       "<table border=\"1\" class=\"dataframe\">\n",
       "  <thead>\n",
       "    <tr style=\"text-align: right;\">\n",
       "      <th></th>\n",
       "      <th>statement_length</th>\n",
       "      <th>republican_affliation</th>\n",
       "    </tr>\n",
       "    <tr>\n",
       "      <th>datetime</th>\n",
       "      <th></th>\n",
       "      <th></th>\n",
       "    </tr>\n",
       "  </thead>\n",
       "  <tbody>\n",
       "    <tr>\n",
       "      <th>1994-12-31</th>\n",
       "      <td>3720.058036</td>\n",
       "      <td>0.499347</td>\n",
       "    </tr>\n",
       "    <tr>\n",
       "      <th>1995-03-31</th>\n",
       "      <td>3731.918033</td>\n",
       "      <td>0.490367</td>\n",
       "    </tr>\n",
       "    <tr>\n",
       "      <th>1995-06-30</th>\n",
       "      <td>3773.259084</td>\n",
       "      <td>0.493726</td>\n",
       "    </tr>\n",
       "    <tr>\n",
       "      <th>1995-09-30</th>\n",
       "      <td>3648.406957</td>\n",
       "      <td>0.505247</td>\n",
       "    </tr>\n",
       "    <tr>\n",
       "      <th>1995-12-31</th>\n",
       "      <td>3540.430052</td>\n",
       "      <td>0.492268</td>\n",
       "    </tr>\n",
       "  </tbody>\n",
       "</table>\n",
       "</div>"
      ],
      "text/plain": [
       "            statement_length  republican_affliation\n",
       "datetime                                           \n",
       "1994-12-31       3720.058036               0.499347\n",
       "1995-03-31       3731.918033               0.490367\n",
       "1995-06-30       3773.259084               0.493726\n",
       "1995-09-30       3648.406957               0.505247\n",
       "1995-12-31       3540.430052               0.492268"
      ]
     },
     "execution_count": 93,
     "metadata": {},
     "output_type": "execute_result"
    }
   ],
   "source": [
    "#Take Quarterly mean of Republican afflition\n",
    "NYT_quarterlymean_df = NYT_df.resample('Q').mean()\n",
    "NYT_quarterlymean_df.head()"
   ]
  },
  {
   "cell_type": "code",
   "execution_count": 94,
   "metadata": {},
   "outputs": [
    {
     "data": {
      "text/plain": [
       "<Figure size 720x360 with 0 Axes>"
      ]
     },
     "execution_count": 94,
     "metadata": {},
     "output_type": "execute_result"
    },
    {
     "data": {
      "text/plain": [
       "[<matplotlib.lines.Line2D at 0x7f0d7ed7bda0>]"
      ]
     },
     "execution_count": 94,
     "metadata": {},
     "output_type": "execute_result"
    },
    {
     "data": {
      "text/plain": [
       "Text(0.5, 1.0, 'Average Republican Affliation trend')"
      ]
     },
     "execution_count": 94,
     "metadata": {},
     "output_type": "execute_result"
    },
    {
     "data": {
      "text/plain": [
       "Text(0.5, 0, 'Time')"
      ]
     },
     "execution_count": 94,
     "metadata": {},
     "output_type": "execute_result"
    },
    {
     "data": {
      "text/plain": [
       "Text(0, 0.5, 'NYT quarterlyly mean Republican Affliation')"
      ]
     },
     "execution_count": 94,
     "metadata": {},
     "output_type": "execute_result"
    },
    {
     "data": {
      "text/plain": [
       "<Figure size 720x360 with 0 Axes>"
      ]
     },
     "metadata": {},
     "output_type": "display_data"
    },
    {
     "data": {
      "image/png": "[encoded data removed]",
      "text/plain": [
       "<Figure size 720x360 with 1 Axes>"
      ]
     },
     "metadata": {
      "needs_background": "light"
     },
     "output_type": "display_data"
    }
   ],
   "source": [
    "start = '1994'\n",
    "end = '2008'\n",
    "fig = plt.figure(figsize = (10, 5))\n",
    "plt.figure(figsize = (10, 5))\n",
    "plt.rcParams.update({'font.size': 10})\n",
    "\n",
    "plt.plot(NYT_quarterlymean_df.loc[start:end, 'republican_affliation'], marker='o', linestyle='-')\n",
    "plt.title('Average Republican Affliation trend')\n",
    "plt.xlabel('Time', fontsize=10)\n",
    "plt.ylabel('NYT quarterlyly mean Republican Affliation', fontsize=10)\n",
    "\n",
    "#ax.xaxis.set_major_locator(mdates.WeekdayLocator(byweekday=mdates.MONDAY))\n",
    "\n"
   ]
  },
  {
   "cell_type": "code",
   "execution_count": 122,
   "metadata": {},
   "outputs": [
    {
     "data": {
      "text/plain": [
       "<Figure size 1440x360 with 0 Axes>"
      ]
     },
     "execution_count": 122,
     "metadata": {},
     "output_type": "execute_result"
    },
    {
     "data": {
      "text/html": [
       "<div>\n",
       "<style scoped>\n",
       "    .dataframe tbody tr th:only-of-type {\n",
       "        vertical-align: middle;\n",
       "    }\n",
       "\n",
       "    .dataframe tbody tr th {\n",
       "        vertical-align: top;\n",
       "    }\n",
       "\n",
       "    .dataframe thead th {\n",
       "        text-align: right;\n",
       "    }\n",
       "</style>\n",
       "<table border=\"1\" class=\"dataframe\">\n",
       "  <thead>\n",
       "    <tr style=\"text-align: right;\">\n",
       "      <th></th>\n",
       "      <th>statement_length</th>\n",
       "      <th>republican_affliation</th>\n",
       "      <th>Date</th>\n",
       "      <th>Year</th>\n",
       "      <th>Month</th>\n",
       "      <th>Day</th>\n",
       "      <th>Weekday</th>\n",
       "      <th>Quarter</th>\n",
       "      <th>Year_Month</th>\n",
       "    </tr>\n",
       "    <tr>\n",
       "      <th>datetime</th>\n",
       "      <th></th>\n",
       "      <th></th>\n",
       "      <th></th>\n",
       "      <th></th>\n",
       "      <th></th>\n",
       "      <th></th>\n",
       "      <th></th>\n",
       "      <th></th>\n",
       "      <th></th>\n",
       "    </tr>\n",
       "  </thead>\n",
       "  <tbody>\n",
       "    <tr>\n",
       "      <th>2003-09-26</th>\n",
       "      <td>NaN</td>\n",
       "      <td>NaN</td>\n",
       "      <td>2003-09-26</td>\n",
       "      <td>2003</td>\n",
       "      <td>9</td>\n",
       "      <td>26</td>\n",
       "      <td>Friday</td>\n",
       "      <td>2003Q3</td>\n",
       "      <td>2003-9</td>\n",
       "    </tr>\n",
       "    <tr>\n",
       "      <th>2003-09-27</th>\n",
       "      <td>NaN</td>\n",
       "      <td>NaN</td>\n",
       "      <td>2003-09-27</td>\n",
       "      <td>2003</td>\n",
       "      <td>9</td>\n",
       "      <td>27</td>\n",
       "      <td>Saturday</td>\n",
       "      <td>2003Q3</td>\n",
       "      <td>2003-9</td>\n",
       "    </tr>\n",
       "    <tr>\n",
       "      <th>2003-09-28</th>\n",
       "      <td>3126.166667</td>\n",
       "      <td>0.545772</td>\n",
       "      <td>2003-09-28</td>\n",
       "      <td>2003</td>\n",
       "      <td>9</td>\n",
       "      <td>28</td>\n",
       "      <td>Sunday</td>\n",
       "      <td>2003Q3</td>\n",
       "      <td>2003-9</td>\n",
       "    </tr>\n",
       "    <tr>\n",
       "      <th>2003-09-29</th>\n",
       "      <td>3947.714286</td>\n",
       "      <td>0.530785</td>\n",
       "      <td>2003-09-29</td>\n",
       "      <td>2003</td>\n",
       "      <td>9</td>\n",
       "      <td>29</td>\n",
       "      <td>Monday</td>\n",
       "      <td>2003Q3</td>\n",
       "      <td>2003-9</td>\n",
       "    </tr>\n",
       "    <tr>\n",
       "      <th>2003-09-30</th>\n",
       "      <td>3612.900000</td>\n",
       "      <td>0.592358</td>\n",
       "      <td>2003-09-30</td>\n",
       "      <td>2003</td>\n",
       "      <td>9</td>\n",
       "      <td>30</td>\n",
       "      <td>Tuesday</td>\n",
       "      <td>2003Q3</td>\n",
       "      <td>2003-9</td>\n",
       "    </tr>\n",
       "  </tbody>\n",
       "</table>\n",
       "</div>"
      ],
      "text/plain": [
       "            statement_length  republican_affliation        Date  Year  Month  \\\n",
       "datetime                                                                       \n",
       "2003-09-26               NaN                    NaN  2003-09-26  2003      9   \n",
       "2003-09-27               NaN                    NaN  2003-09-27  2003      9   \n",
       "2003-09-28       3126.166667               0.545772  2003-09-28  2003      9   \n",
       "2003-09-29       3947.714286               0.530785  2003-09-29  2003      9   \n",
       "2003-09-30       3612.900000               0.592358  2003-09-30  2003      9   \n",
       "\n",
       "            Day   Weekday Quarter Year_Month  \n",
       "datetime                                      \n",
       "2003-09-26   26    Friday  2003Q3     2003-9  \n",
       "2003-09-27   27  Saturday  2003Q3     2003-9  \n",
       "2003-09-28   28    Sunday  2003Q3     2003-9  \n",
       "2003-09-29   29    Monday  2003Q3     2003-9  \n",
       "2003-09-30   30   Tuesday  2003Q3     2003-9  "
      ]
     },
     "execution_count": 122,
     "metadata": {},
     "output_type": "execute_result"
    },
    {
     "data": {
      "text/plain": [
       "<matplotlib.axes._subplots.AxesSubplot at 0x7f0d7cefa5f8>"
      ]
     },
     "execution_count": 122,
     "metadata": {},
     "output_type": "execute_result"
    },
    {
     "data": {
      "text/plain": [
       "Text(0.5, 1.0, 'Range of Republican Affliations in NYT')"
      ]
     },
     "execution_count": 122,
     "metadata": {},
     "output_type": "execute_result"
    },
    {
     "data": {
      "text/plain": [
       "Text(0, 0.5, 'Daily Republican Affliations in NYT ')"
      ]
     },
     "execution_count": 122,
     "metadata": {},
     "output_type": "execute_result"
    },
    {
     "data": {
      "text/plain": [
       "<Figure size 1440x360 with 0 Axes>"
      ]
     },
     "metadata": {},
     "output_type": "display_data"
    },
    {
     "data": {
      "text/plain": [
       "<Figure size 1440x360 with 0 Axes>"
      ]
     },
     "metadata": {},
     "output_type": "display_data"
    },
    {
     "data": {
      "image/png": "[encoded data removed]",
      "text/plain": [
       "<Figure size 1440x720 with 1 Axes>"
      ]
     },
     "metadata": {
      "needs_background": "light"
     },
     "output_type": "display_data"
    }
   ],
   "source": [
    "#Bar plot for monthly range of daily Republican affliations\n",
    "fig = plt.figure(figsize = (20, 5))\n",
    "plt.figure(figsize = (20, 5))\n",
    "plt.rcParams.update({'font.size': 15})\n",
    "NYT_dailymean_df = NYT_df.resample('D').mean()\n",
    "NYT_dailymean_df['Date'] = NYT_dailymean_df.index.date\n",
    "NYT_dailymean_df['Year'] = NYT_dailymean_df.index.year\n",
    "NYT_dailymean_df['Month'] = NYT_dailymean_df.index.month\n",
    "NYT_dailymean_df['Day'] = NYT_dailymean_df.index.day\n",
    "NYT_dailymean_df['Weekday']= NYT_dailymean_df.index.weekday_name\n",
    "NYT_dailymean_df['Quarter'] = NYT_dailymean_df.index.to_period(\"Q\")\n",
    "NYT_dailymean_df['Year_Month']= df['var3'] = NYT_dailymean_df.Year.astype(str) + '-'+ NYT_dailymean_df.Month.astype(str)  \n",
    "NYT_dailymean_df['republican_affliation'] = NYT_dailymean_df['republican_affliation']\n",
    "NYT_dailymean_df.tail()\n",
    "ax = plt.figure(figsize=(20,10))\n",
    "sns.boxplot(data=NYT_dailymean_df.loc['2000-01':'2001-01'], x='Year_Month', y='republican_affliation');\n",
    "#ax.set_title('tt')\n",
    "plt.title('Range of Republican Affliations in NYT' , fontsize =18)\n",
    "#plt.xlabel('Time', fontsize=18)\n",
    "plt.ylabel('Daily Republican Affliations in NYT ', fontsize=18)\n",
    "#####################Yearly Seasonality##############################################\n",
    "\n",
    "\n",
    "\n"
   ]
  },
  {
   "cell_type": "code",
   "execution_count": 116,
   "metadata": {},
   "outputs": [
    {
     "data": {
      "text/plain": [
       "<matplotlib.axes._subplots.AxesSubplot at 0x7f0d7d284da0>"
      ]
     },
     "execution_count": 116,
     "metadata": {},
     "output_type": "execute_result"
    },
    {
     "data": {
      "text/plain": [
       "Text(0.5, 1.0, 'Range of Republican Affliations in NYT')"
      ]
     },
     "execution_count": 116,
     "metadata": {},
     "output_type": "execute_result"
    },
    {
     "data": {
      "text/plain": [
       "Text(0, 0.5, 'Daily Republican Affliations in NYT ')"
      ]
     },
     "execution_count": 116,
     "metadata": {},
     "output_type": "execute_result"
    },
    {
     "data": {
      "image/png": "[encoded data removed]",
      "text/plain": [
       "<Figure size 1440x360 with 1 Axes>"
      ]
     },
     "metadata": {
      "needs_background": "light"
     },
     "output_type": "display_data"
    }
   ],
   "source": [
    "ax = plt.figure(figsize=(20,5))\n",
    "sns.boxplot(data=NYT_dailymean_df.loc['1999-01':'2002-01'], x='Quarter', y='republican_affliation');\n",
    "#ax.set_title('tt')\n",
    "plt.title('Range of Republican Affliations in NYT' , fontsize =18)\n",
    "#plt.xlabel('Time', fontsize=18)\n",
    "plt.ylabel('Daily Republican Affliations in NYT ', fontsize=18)\n"
   ]
  },
  {
   "cell_type": "code",
   "execution_count": 117,
   "metadata": {},
   "outputs": [
    {
     "data": {
      "text/plain": [
       "<matplotlib.axes._subplots.AxesSubplot at 0x7f0d7d1e0b00>"
      ]
     },
     "execution_count": 117,
     "metadata": {},
     "output_type": "execute_result"
    },
    {
     "data": {
      "text/plain": [
       "Text(0.5, 1.0, 'Range of Republican Affliations in NYT')"
      ]
     },
     "execution_count": 117,
     "metadata": {},
     "output_type": "execute_result"
    },
    {
     "data": {
      "text/plain": [
       "Text(0, 0.5, 'Daily Republican Affliations in NYT ')"
      ]
     },
     "execution_count": 117,
     "metadata": {},
     "output_type": "execute_result"
    },
    {
     "data": {
      "image/png": "[encoded data removed]",
      "text/plain": [
       "<Figure size 1440x360 with 1 Axes>"
      ]
     },
     "metadata": {
      "needs_background": "light"
     },
     "output_type": "display_data"
    }
   ],
   "source": [
    "ax = plt.figure(figsize=(20,5))\n",
    "sns.boxplot(data=NYT_dailymean_df.loc['1994-01':'2008-01'], x='Year', y='republican_affliation');\n",
    "#ax.set_title('tt')\n",
    "plt.title('Range of Republican Affliations in NYT' , fontsize =18)\n",
    "#plt.xlabel('Time', fontsize=18)\n",
    "plt.ylabel('Daily Republican Affliations in NYT ', fontsize=18)\n"
   ]
  },
  {
   "cell_type": "code",
   "execution_count": 118,
   "metadata": {},
   "outputs": [
    {
     "data": {
      "text/plain": [
       "<matplotlib.axes._subplots.AxesSubplot at 0x7f0d7d161400>"
      ]
     },
     "execution_count": 118,
     "metadata": {},
     "output_type": "execute_result"
    },
    {
     "data": {
      "text/plain": [
       "Text(0.5, 1.0, 'Range of Republican Affliations in NYT')"
      ]
     },
     "execution_count": 118,
     "metadata": {},
     "output_type": "execute_result"
    },
    {
     "data": {
      "text/plain": [
       "Text(0, 0.5, 'Daily Republican Affliations in NYT ')"
      ]
     },
     "execution_count": 118,
     "metadata": {},
     "output_type": "execute_result"
    },
    {
     "data": {
      "image/png": "[encoded data removed]",
      "text/plain": [
       "<Figure size 1440x360 with 1 Axes>"
      ]
     },
     "metadata": {
      "needs_background": "light"
     },
     "output_type": "display_data"
    }
   ],
   "source": [
    "ax = plt.figure(figsize=(20,5))\n",
    "sns.boxplot(data=NYT_dailymean_df.loc['1994-01':'2008-01'], x='Weekday', y='republican_affliation');\n",
    "#ax.set_title('tt')\n",
    "plt.title('Range of Republican Affliations in NYT' , fontsize =18)\n",
    "#plt.xlabel('Time', fontsize=18)\n",
    "plt.ylabel('Daily Republican Affliations in NYT ', fontsize=18)\n"
   ]
  },
  {
   "cell_type": "code",
   "execution_count": 119,
   "metadata": {},
   "outputs": [
    {
     "data": {
      "text/plain": [
       "<Figure size 1440x360 with 0 Axes>"
      ]
     },
     "execution_count": 119,
     "metadata": {},
     "output_type": "execute_result"
    },
    {
     "data": {
      "text/html": [
       "<div>\n",
       "<style scoped>\n",
       "    .dataframe tbody tr th:only-of-type {\n",
       "        vertical-align: middle;\n",
       "    }\n",
       "\n",
       "    .dataframe tbody tr th {\n",
       "        vertical-align: top;\n",
       "    }\n",
       "\n",
       "    .dataframe thead th {\n",
       "        text-align: right;\n",
       "    }\n",
       "</style>\n",
       "<table border=\"1\" class=\"dataframe\">\n",
       "  <thead>\n",
       "    <tr style=\"text-align: right;\">\n",
       "      <th></th>\n",
       "      <th>statement_length</th>\n",
       "      <th>republican_affliation</th>\n",
       "      <th>Date</th>\n",
       "      <th>Year</th>\n",
       "      <th>Month</th>\n",
       "      <th>Day</th>\n",
       "      <th>Weekday</th>\n",
       "      <th>Year_Month</th>\n",
       "    </tr>\n",
       "    <tr>\n",
       "      <th>datetime</th>\n",
       "      <th></th>\n",
       "      <th></th>\n",
       "      <th></th>\n",
       "      <th></th>\n",
       "      <th></th>\n",
       "      <th></th>\n",
       "      <th></th>\n",
       "      <th></th>\n",
       "    </tr>\n",
       "  </thead>\n",
       "  <tbody>\n",
       "    <tr>\n",
       "      <th>2002-09-30</th>\n",
       "      <td>3893.504777</td>\n",
       "      <td>0.500004</td>\n",
       "      <td>2002-09-30</td>\n",
       "      <td>2002</td>\n",
       "      <td>9</td>\n",
       "      <td>30</td>\n",
       "      <td>Monday</td>\n",
       "      <td>2002-9</td>\n",
       "    </tr>\n",
       "    <tr>\n",
       "      <th>2002-12-31</th>\n",
       "      <td>3821.627329</td>\n",
       "      <td>0.499808</td>\n",
       "      <td>2002-12-31</td>\n",
       "      <td>2002</td>\n",
       "      <td>12</td>\n",
       "      <td>31</td>\n",
       "      <td>Tuesday</td>\n",
       "      <td>2002-12</td>\n",
       "    </tr>\n",
       "    <tr>\n",
       "      <th>2003-03-31</th>\n",
       "      <td>3834.716667</td>\n",
       "      <td>0.497054</td>\n",
       "      <td>2003-03-31</td>\n",
       "      <td>2003</td>\n",
       "      <td>3</td>\n",
       "      <td>31</td>\n",
       "      <td>Monday</td>\n",
       "      <td>2003-3</td>\n",
       "    </tr>\n",
       "    <tr>\n",
       "      <th>2003-06-30</th>\n",
       "      <td>3752.693333</td>\n",
       "      <td>0.511477</td>\n",
       "      <td>2003-06-30</td>\n",
       "      <td>2003</td>\n",
       "      <td>6</td>\n",
       "      <td>30</td>\n",
       "      <td>Monday</td>\n",
       "      <td>2003-6</td>\n",
       "    </tr>\n",
       "    <tr>\n",
       "      <th>2003-09-30</th>\n",
       "      <td>3683.160600</td>\n",
       "      <td>0.496200</td>\n",
       "      <td>2003-09-30</td>\n",
       "      <td>2003</td>\n",
       "      <td>9</td>\n",
       "      <td>30</td>\n",
       "      <td>Tuesday</td>\n",
       "      <td>2003-9</td>\n",
       "    </tr>\n",
       "  </tbody>\n",
       "</table>\n",
       "</div>"
      ],
      "text/plain": [
       "            statement_length  republican_affliation        Date  Year  Month  \\\n",
       "datetime                                                                       \n",
       "2002-09-30       3893.504777               0.500004  2002-09-30  2002      9   \n",
       "2002-12-31       3821.627329               0.499808  2002-12-31  2002     12   \n",
       "2003-03-31       3834.716667               0.497054  2003-03-31  2003      3   \n",
       "2003-06-30       3752.693333               0.511477  2003-06-30  2003      6   \n",
       "2003-09-30       3683.160600               0.496200  2003-09-30  2003      9   \n",
       "\n",
       "            Day  Weekday Year_Month  \n",
       "datetime                             \n",
       "2002-09-30   30   Monday     2002-9  \n",
       "2002-12-31   31  Tuesday    2002-12  \n",
       "2003-03-31   31   Monday     2003-3  \n",
       "2003-06-30   30   Monday     2003-6  \n",
       "2003-09-30   30  Tuesday     2003-9  "
      ]
     },
     "execution_count": 119,
     "metadata": {},
     "output_type": "execute_result"
    },
    {
     "data": {
      "text/plain": [
       "<matplotlib.axes._subplots.AxesSubplot at 0x7f0d7e4f3780>"
      ]
     },
     "execution_count": 119,
     "metadata": {},
     "output_type": "execute_result"
    },
    {
     "data": {
      "text/plain": [
       "Text(0.5, 1.0, 'Range of Monthly Republican Affliations in NYT')"
      ]
     },
     "execution_count": 119,
     "metadata": {},
     "output_type": "execute_result"
    },
    {
     "data": {
      "text/plain": [
       "Text(0, 0.5, 'Monthly Republican Affliations in NYT ')"
      ]
     },
     "execution_count": 119,
     "metadata": {},
     "output_type": "execute_result"
    },
    {
     "data": {
      "text/plain": [
       "<Figure size 1440x360 with 0 Axes>"
      ]
     },
     "metadata": {},
     "output_type": "display_data"
    },
    {
     "data": {
      "text/plain": [
       "<Figure size 1440x360 with 0 Axes>"
      ]
     },
     "metadata": {},
     "output_type": "display_data"
    },
    {
     "data": {
      "image/png": "[encoded data removed]",
      "text/plain": [
       "<Figure size 1440x720 with 1 Axes>"
      ]
     },
     "metadata": {
      "needs_background": "light"
     },
     "output_type": "display_data"
    }
   ],
   "source": [
    "#Bar plot for monthly range of daily Republican affliations\n",
    "fig = plt.figure(figsize = (20, 5))\n",
    "plt.figure(figsize = (20, 5))\n",
    "plt.rcParams.update({'font.size': 15})\n",
    "NYT_monthlymean_df = NYT_df.resample('Q').mean()\n",
    "NYT_monthlymean_df['Date'] = NYT_monthlymean_df.index.date\n",
    "NYT_monthlymean_df['Year'] = NYT_monthlymean_df.index.year\n",
    "NYT_monthlymean_df['Month'] = NYT_monthlymean_df.index.month\n",
    "NYT_monthlymean_df['Day'] = NYT_monthlymean_df.index.day\n",
    "NYT_monthlymean_df['Weekday']= NYT_monthlymean_df.index.weekday_name\n",
    "NYT_monthlymean_df['Year_Month']= df['var3'] = NYT_monthlymean_df.Year.astype(str) + '-'+ NYT_monthlymean_df.Month.astype(str)  \n",
    "NYT_monthlymean_df['republican_affliation'] = NYT_monthlymean_df['republican_affliation']\n",
    "NYT_monthlymean_df.tail()\n",
    "ax = plt.figure(figsize=(20,10))\n",
    "sns.boxplot(data=NYT_monthlymean_df.loc['1994-01':'2007-08'], x='Weekday', y='republican_affliation');\n",
    "#ax.set_title('tt')\n",
    "plt.title('Range of Monthly Republican Affliations in NYT' , fontsize =18)\n",
    "#plt.xlabel('Time', fontsize=18)\n",
    "plt.ylabel('Monthly Republican Affliations in NYT ', fontsize=18)\n",
    "#####################Yearly Seasonality##############################################\n"
   ]
  },
  {
   "cell_type": "code",
   "execution_count": null,
   "metadata": {},
   "outputs": [],
   "source": []
  },
  {
   "cell_type": "code",
   "execution_count": null,
   "metadata": {},
   "outputs": [],
   "source": []
  },
  {
   "cell_type": "code",
   "execution_count": null,
   "metadata": {},
   "outputs": [],
   "source": []
  }
 ],
 "metadata": {
  "kernelspec": {
   "display_name": "Python 3",
   "language": "python",
   "name": "python3"
  },
  "language_info": {
   "codemirror_mode": {
    "name": "ipython",
    "version": 3
   },
   "file_extension": ".py",
   "mimetype": "text/x-python",
   "name": "python",
   "nbconvert_exporter": "python",
   "pygments_lexer": "ipython3",
   "version": "3.5.3"
  }
 },
 "nbformat": 4,
 "nbformat_minor": 2
}
