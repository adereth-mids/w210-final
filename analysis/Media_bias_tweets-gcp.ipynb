{
 "cells": [
  {
   "cell_type": "code",
   "execution_count": 1,
   "metadata": {},
   "outputs": [],
   "source": [
    "# imports\n",
    "import os, sys\n",
    "import re\n",
    "import ast\n",
    "import datetime\n",
    "import time\n",
    "import numpy as np\n",
    "import pandas as pd\n",
    "import seaborn as sns\n",
    "import matplotlib.pyplot as plt\n"
   ]
  },
  {
   "cell_type": "code",
   "execution_count": 2,
   "metadata": {},
   "outputs": [
    {
     "name": "stderr",
     "output_type": "stream",
     "text": [
      "Using TensorFlow backend.\n",
      "[nltk_data] Downloading package stopwords to\n",
      "[nltk_data]     /home/asheshchoudhury/nltk_data...\n",
      "[nltk_data]   Package stopwords is already up-to-date!\n"
     ]
    }
   ],
   "source": [
    "import csv \n",
    "import numpy as np \n",
    "import pandas as pd\n",
    "import matplotlib.pyplot as plt\n",
    "import tensorflow as tf\n",
    "import seaborn as sns\n",
    "from keras.preprocessing.text import Tokenizer\n",
    "from keras.preprocessing.sequence import pad_sequences\n",
    "from keras.models import Sequential\n",
    "from keras.layers import Dense, Embedding, LSTM, SpatialDropout1D\n",
    "from sklearn.model_selection import train_test_split\n",
    "from keras.utils.np_utils import to_categorical\n",
    "from keras.utils import to_categorical\n",
    "from keras.callbacks import EarlyStopping\n",
    "from keras.layers import Dropout\n",
    "import re\n",
    "import nltk\n",
    "nltk.download('stopwords')\n",
    "from nltk.corpus import stopwords\n",
    "from nltk import word_tokenize\n",
    "STOPWORDS = set(stopwords.words('english'))\n",
    "import plotly.graph_objs as go\n",
    "from IPython.core.interactiveshell import InteractiveShell\n",
    "import plotly.figure_factory as ff\n",
    "InteractiveShell.ast_node_interactivity = 'all'\n",
    "from plotly.offline import iplot\n"
   ]
  },
  {
   "cell_type": "code",
   "execution_count": 3,
   "metadata": {},
   "outputs": [],
   "source": [
    "#from googlesearch import search\n",
    "#from google import google as g\n",
    "#from textblob import TextBlob\n",
    "#import texttable as tt\n",
    "from time import sleep"
   ]
  },
  {
   "cell_type": "code",
   "execution_count": 4,
   "metadata": {},
   "outputs": [],
   "source": [
    "filepath = 'C:/Users/asheshchoudhury/Desktop/Capstone/allArticles.txt'"
   ]
  },
  {
   "cell_type": "code",
   "execution_count": 5,
   "metadata": {},
   "outputs": [
    {
     "data": {
      "text/html": [
       "<div>\n",
       "<style scoped>\n",
       "    .dataframe tbody tr th:only-of-type {\n",
       "        vertical-align: middle;\n",
       "    }\n",
       "\n",
       "    .dataframe tbody tr th {\n",
       "        vertical-align: top;\n",
       "    }\n",
       "\n",
       "    .dataframe thead th {\n",
       "        text-align: right;\n",
       "    }\n",
       "</style>\n",
       "<table border=\"1\" class=\"dataframe\">\n",
       "  <thead>\n",
       "    <tr style=\"text-align: right;\">\n",
       "      <th></th>\n",
       "      <th>Party</th>\n",
       "      <th>Handle</th>\n",
       "      <th>Tweet</th>\n",
       "    </tr>\n",
       "  </thead>\n",
       "  <tbody>\n",
       "    <tr>\n",
       "      <th>0</th>\n",
       "      <td>Democrat</td>\n",
       "      <td>RepDarrenSoto</td>\n",
       "      <td>Today, Senate Dems vote to #SaveTheInternet. P...</td>\n",
       "    </tr>\n",
       "    <tr>\n",
       "      <th>1</th>\n",
       "      <td>Democrat</td>\n",
       "      <td>RepDarrenSoto</td>\n",
       "      <td>RT @WinterHavenSun: Winter Haven resident / Al...</td>\n",
       "    </tr>\n",
       "    <tr>\n",
       "      <th>2</th>\n",
       "      <td>Democrat</td>\n",
       "      <td>RepDarrenSoto</td>\n",
       "      <td>RT @NBCLatino: .@RepDarrenSoto noted that Hurr...</td>\n",
       "    </tr>\n",
       "    <tr>\n",
       "      <th>3</th>\n",
       "      <td>Democrat</td>\n",
       "      <td>RepDarrenSoto</td>\n",
       "      <td>RT @NALCABPolicy: Meeting with @RepDarrenSoto ...</td>\n",
       "    </tr>\n",
       "    <tr>\n",
       "      <th>4</th>\n",
       "      <td>Democrat</td>\n",
       "      <td>RepDarrenSoto</td>\n",
       "      <td>RT @Vegalteno: Hurricane season starts on June...</td>\n",
       "    </tr>\n",
       "  </tbody>\n",
       "</table>\n",
       "</div>"
      ],
      "text/plain": [
       "      Party         Handle                                              Tweet\n",
       "0  Democrat  RepDarrenSoto  Today, Senate Dems vote to #SaveTheInternet. P...\n",
       "1  Democrat  RepDarrenSoto  RT @WinterHavenSun: Winter Haven resident / Al...\n",
       "2  Democrat  RepDarrenSoto  RT @NBCLatino: .@RepDarrenSoto noted that Hurr...\n",
       "3  Democrat  RepDarrenSoto  RT @NALCABPolicy: Meeting with @RepDarrenSoto ...\n",
       "4  Democrat  RepDarrenSoto  RT @Vegalteno: Hurricane season starts on June..."
      ]
     },
     "execution_count": 5,
     "metadata": {},
     "output_type": "execute_result"
    }
   ],
   "source": [
    "# Start timer to get total time for running all code\n",
    "t0 = datetime.datetime.now()\n",
    "#Train\n",
    "#df=pd.read_csv(\"C:/Users/asheshchoudhury/Desktop/Capstone-new/w210-final/data/ExtractedTweets.csv\")\n",
    "df=pd.read_csv('/home/asheshchoudhury/ExtractedTweets.csv')\n",
    "df.head()\n",
    "#T =[]\n",
    "#for i in range(len(df)):\n",
    "#    T.append(clean_text(df['Tweet'][i]))\n",
    "#df['Tweet_cleaned'] = T\n",
    "#df.head()"
   ]
  },
  {
   "cell_type": "code",
   "execution_count": 6,
   "metadata": {},
   "outputs": [
    {
     "name": "stdout",
     "output_type": "stream",
     "text": [
      "Found 140097 unique tokens.\n",
      "Found 140097 unique tokens.\n"
     ]
    },
    {
     "data": {
      "text/html": [
       "<div>\n",
       "<style scoped>\n",
       "    .dataframe tbody tr th:only-of-type {\n",
       "        vertical-align: middle;\n",
       "    }\n",
       "\n",
       "    .dataframe tbody tr th {\n",
       "        vertical-align: top;\n",
       "    }\n",
       "\n",
       "    .dataframe thead th {\n",
       "        text-align: right;\n",
       "    }\n",
       "</style>\n",
       "<table border=\"1\" class=\"dataframe\">\n",
       "  <thead>\n",
       "    <tr style=\"text-align: right;\">\n",
       "      <th></th>\n",
       "      <th>Party</th>\n",
       "      <th>Handle</th>\n",
       "      <th>Tweet</th>\n",
       "      <th>Party_numeric D=0 R=1</th>\n",
       "    </tr>\n",
       "  </thead>\n",
       "  <tbody>\n",
       "    <tr>\n",
       "      <th>0</th>\n",
       "      <td>Democrat</td>\n",
       "      <td>RepDarrenSoto</td>\n",
       "      <td>Today, Senate Dems vote to #SaveTheInternet. P...</td>\n",
       "      <td>0</td>\n",
       "    </tr>\n",
       "    <tr>\n",
       "      <th>1</th>\n",
       "      <td>Democrat</td>\n",
       "      <td>RepDarrenSoto</td>\n",
       "      <td>RT @WinterHavenSun: Winter Haven resident / Al...</td>\n",
       "      <td>0</td>\n",
       "    </tr>\n",
       "    <tr>\n",
       "      <th>2</th>\n",
       "      <td>Democrat</td>\n",
       "      <td>RepDarrenSoto</td>\n",
       "      <td>RT @NBCLatino: .@RepDarrenSoto noted that Hurr...</td>\n",
       "      <td>0</td>\n",
       "    </tr>\n",
       "    <tr>\n",
       "      <th>3</th>\n",
       "      <td>Democrat</td>\n",
       "      <td>RepDarrenSoto</td>\n",
       "      <td>RT @NALCABPolicy: Meeting with @RepDarrenSoto ...</td>\n",
       "      <td>0</td>\n",
       "    </tr>\n",
       "    <tr>\n",
       "      <th>4</th>\n",
       "      <td>Democrat</td>\n",
       "      <td>RepDarrenSoto</td>\n",
       "      <td>RT @Vegalteno: Hurricane season starts on June...</td>\n",
       "      <td>0</td>\n",
       "    </tr>\n",
       "  </tbody>\n",
       "</table>\n",
       "</div>"
      ],
      "text/plain": [
       "      Party         Handle                                              Tweet  \\\n",
       "0  Democrat  RepDarrenSoto  Today, Senate Dems vote to #SaveTheInternet. P...   \n",
       "1  Democrat  RepDarrenSoto  RT @WinterHavenSun: Winter Haven resident / Al...   \n",
       "2  Democrat  RepDarrenSoto  RT @NBCLatino: .@RepDarrenSoto noted that Hurr...   \n",
       "3  Democrat  RepDarrenSoto  RT @NALCABPolicy: Meeting with @RepDarrenSoto ...   \n",
       "4  Democrat  RepDarrenSoto  RT @Vegalteno: Hurricane season starts on June...   \n",
       "\n",
       "   Party_numeric D=0 R=1  \n",
       "0                      0  \n",
       "1                      0  \n",
       "2                      0  \n",
       "3                      0  \n",
       "4                      0  "
      ]
     },
     "execution_count": 6,
     "metadata": {},
     "output_type": "execute_result"
    }
   ],
   "source": [
    "# The maximum number of words to be used. (most frequent)\n",
    "MAX_NB_WORDS = 10000\n",
    "# Max number of words in each complaint.\n",
    "MAX_SEQUENCE_LENGTH = 250\n",
    "# This is fixed.\n",
    "EMBEDDING_DIM = 100\n",
    "\n",
    "tokenizer = Tokenizer(num_words=MAX_NB_WORDS, filters='!\"#$%&()*+,-./:;<=>?@[\\]^_`{|}~', lower=True)\n",
    "tokenizer.fit_on_texts(df['Tweet'])\n",
    "word_index = tokenizer.word_index\n",
    "#len(word_index)\n",
    "print('Found %s unique tokens.'% len(word_index))\n",
    "print('Found {} unique tokens.' .format(len(word_index)))\n",
    "#X = tokenizer.texts_to_sequences(df['Speech text'])\n",
    "#X = pad_sequences(X, maxlen=MAX_SEQUENCE_LENGTH)\n",
    "#print('Shape of data tensor:', X.shape)\n",
    "df['Party_numeric D=0 R=1'] = np.where(df['Party'] ==\"Democrat\", 0, 1)\n",
    "df.head()\n",
    "\n",
    "#X_train, X_test, Y_train, Y_test = train_test_split(X,Y, test_size = 0.20, random_state = 42)\n",
    "#print(X_train.shape,Y_train.shape)\n",
    "#print(X_test.shape,Y_test.shape)"
   ]
  },
  {
   "cell_type": "code",
   "execution_count": 7,
   "metadata": {},
   "outputs": [],
   "source": [
    "def remove_special_characters(text, remove_digits=False):\n",
    "    # Remove special characters from text\n",
    "    pattern = r'[^a-zA-z0-9\\s]' if not remove_digits else r'[^a-zA-z\\s]'\n",
    "    text = re.sub(pattern, '', text)\n",
    "    return text"
   ]
  },
  {
   "cell_type": "code",
   "execution_count": 8,
   "metadata": {},
   "outputs": [],
   "source": [
    "#import spacy\n",
    "#nlp = spacy.load('en_core_web_md', parse=True, tag=True, entity=True)\n",
    "\n",
    "\n",
    "#def lemmatize_text(text):\n",
    "    # Get base form for word variants (i.e. running ==> run, cats ==> cat, etc.)\n",
    "#    text = nlp(text)\n",
    "#    text = ' '.join([word.lemma_ if word.lemma_ != '-PRON-' else word.text for word in text])\n",
    "#    return text"
   ]
  },
  {
   "cell_type": "code",
   "execution_count": 9,
   "metadata": {},
   "outputs": [],
   "source": [
    "import nltk\n",
    "from nltk.tokenize.toktok import ToktokTokenizer\n",
    "\n",
    "tokenizer1 = ToktokTokenizer()\n",
    "tokenizer = Tokenizer(num_words=MAX_NB_WORDS, filters='!\"#$%&()*+,-./:;<=>?@[\\]^_`{|}~', lower=True)\n",
    "\n",
    "# Remove words 'no' and 'not' from stopword list as these may change meaning of words/phrases\n",
    "stopword_list = nltk.corpus.stopwords.words('english')\n",
    "for word in ['no', 'not', 'he', 'she', 'his', 'her', 'hers']:\n",
    "    stopword_list.remove(word)\n",
    "\n",
    "# Add characters not captured in special character removal to stop list\n",
    "stopword_list += ['[', ']', \"\\\\\"]                     \n",
    "\n",
    "def remove_stopwords(text, is_lower_case=False):\n",
    "    tokens = tokenizer1.tokenize(text)\n",
    "    tokens = [token.strip() for token in tokens]\n",
    "    if is_lower_case:\n",
    "        filtered_tokens = [token for token in tokens if token not in stopword_list]\n",
    "    else:\n",
    "        filtered_tokens = [token for token in tokens if token.lower() not in stopword_list]\n",
    "    filtered_text = ' '.join(filtered_tokens)    \n",
    "    return filtered_text"
   ]
  },
  {
   "cell_type": "code",
   "execution_count": 10,
   "metadata": {},
   "outputs": [
    {
     "data": {
      "text/html": [
       "<div>\n",
       "<style scoped>\n",
       "    .dataframe tbody tr th:only-of-type {\n",
       "        vertical-align: middle;\n",
       "    }\n",
       "\n",
       "    .dataframe tbody tr th {\n",
       "        vertical-align: top;\n",
       "    }\n",
       "\n",
       "    .dataframe thead th {\n",
       "        text-align: right;\n",
       "    }\n",
       "</style>\n",
       "<table border=\"1\" class=\"dataframe\">\n",
       "  <thead>\n",
       "    <tr style=\"text-align: right;\">\n",
       "      <th></th>\n",
       "      <th>Party</th>\n",
       "      <th>Handle</th>\n",
       "      <th>Tweet</th>\n",
       "      <th>Party_numeric D=0 R=1</th>\n",
       "      <th>clean_tweet</th>\n",
       "    </tr>\n",
       "  </thead>\n",
       "  <tbody>\n",
       "    <tr>\n",
       "      <th>0</th>\n",
       "      <td>Democrat</td>\n",
       "      <td>RepDarrenSoto</td>\n",
       "      <td>Today, Senate Dems vote to #SaveTheInternet. P...</td>\n",
       "      <td>0</td>\n",
       "      <td>[today, senate, dems, vote, savetheinternet, p...</td>\n",
       "    </tr>\n",
       "    <tr>\n",
       "      <th>1</th>\n",
       "      <td>Democrat</td>\n",
       "      <td>RepDarrenSoto</td>\n",
       "      <td>RT @WinterHavenSun: Winter Haven resident / Al...</td>\n",
       "      <td>0</td>\n",
       "      <td>[rt, winterhavensun, winter, resident, alta, v...</td>\n",
       "    </tr>\n",
       "    <tr>\n",
       "      <th>2</th>\n",
       "      <td>Democrat</td>\n",
       "      <td>RepDarrenSoto</td>\n",
       "      <td>RT @NBCLatino: .@RepDarrenSoto noted that Hurr...</td>\n",
       "      <td>0</td>\n",
       "      <td>[rt, nbclatino, repdarrensoto, noted, hurrican...</td>\n",
       "    </tr>\n",
       "    <tr>\n",
       "      <th>3</th>\n",
       "      <td>Democrat</td>\n",
       "      <td>RepDarrenSoto</td>\n",
       "      <td>RT @NALCABPolicy: Meeting with @RepDarrenSoto ...</td>\n",
       "      <td>0</td>\n",
       "      <td>[rt, nalcabpolicy, meeting, repdarrensoto, tha...</td>\n",
       "    </tr>\n",
       "    <tr>\n",
       "      <th>4</th>\n",
       "      <td>Democrat</td>\n",
       "      <td>RepDarrenSoto</td>\n",
       "      <td>RT @Vegalteno: Hurricane season starts on June...</td>\n",
       "      <td>0</td>\n",
       "      <td>[rt, vegalteno, hurricane, season, starts, jun...</td>\n",
       "    </tr>\n",
       "  </tbody>\n",
       "</table>\n",
       "</div>"
      ],
      "text/plain": [
       "      Party         Handle                                              Tweet  \\\n",
       "0  Democrat  RepDarrenSoto  Today, Senate Dems vote to #SaveTheInternet. P...   \n",
       "1  Democrat  RepDarrenSoto  RT @WinterHavenSun: Winter Haven resident / Al...   \n",
       "2  Democrat  RepDarrenSoto  RT @NBCLatino: .@RepDarrenSoto noted that Hurr...   \n",
       "3  Democrat  RepDarrenSoto  RT @NALCABPolicy: Meeting with @RepDarrenSoto ...   \n",
       "4  Democrat  RepDarrenSoto  RT @Vegalteno: Hurricane season starts on June...   \n",
       "\n",
       "   Party_numeric D=0 R=1                                        clean_tweet  \n",
       "0                      0  [today, senate, dems, vote, savetheinternet, p...  \n",
       "1                      0  [rt, winterhavensun, winter, resident, alta, v...  \n",
       "2                      0  [rt, nbclatino, repdarrensoto, noted, hurrican...  \n",
       "3                      0  [rt, nalcabpolicy, meeting, repdarrensoto, tha...  \n",
       "4                      0  [rt, vegalteno, hurricane, season, starts, jun...  "
      ]
     },
     "execution_count": 10,
     "metadata": {},
     "output_type": "execute_result"
    }
   ],
   "source": [
    "import unicodedata\n",
    "\n",
    "clean_text = []\n",
    "\n",
    "for text in df['Tweet']:\n",
    "    # Remove accent characters => Expand Contractions => Remove special characters => Lammatize Text => Remove Stop Words\n",
    "    no_accent_chars = unicodedata.normalize('NFKD', text).encode('ascii', 'ignore').decode('utf-8', 'ignore')\n",
    "    #expanded_text = expand_contractions(no_accent_chars)\n",
    "    expanded_text = no_accent_chars \n",
    "    no_special_chars = remove_special_characters(expanded_text, remove_digits=False)\n",
    "    #lem_text = lemmatize_text(no_special_chars)\n",
    "    #filtered_text = remove_stopwords(lem_text)\n",
    "    filtered_text = remove_stopwords(no_special_chars)\n",
    "    \n",
    "    # Make all text lowercase\n",
    "    lowercase_text = filtered_text.lower()\n",
    "    \n",
    "    # Split text into list of words\n",
    "    words = lowercase_text.split()\n",
    "    clean_text.append(words)\n",
    "\n",
    "# Add cleaned text to dataframe\n",
    "df['clean_tweet'] = clean_text\n",
    "df.head()"
   ]
  },
  {
   "cell_type": "code",
   "execution_count": 11,
   "metadata": {},
   "outputs": [],
   "source": [
    "# Set variables for dependent and independent variables\n",
    "target = df['Party_numeric D=0 R=1']\n",
    "data = df['clean_tweet'].values"
   ]
  },
  {
   "cell_type": "code",
   "execution_count": 12,
   "metadata": {},
   "outputs": [
    {
     "name": "stdout",
     "output_type": "stream",
     "text": [
      "Maximum Sample Word Count: 30\n"
     ]
    }
   ],
   "source": [
    "# Create Bigrams as Certain terms may come up that make more sense together than independently \n",
    "#import gensim\n",
    "#from gensim.models import phrases\n",
    "#from gensim.models.phrases import Phrases\n",
    "\n",
    "# Identify and create bigrams\n",
    "#bigrams = phrases.Phrases(data)\n",
    "#bigrams = data\n",
    "\n",
    "bigrams_data = []\n",
    "\n",
    "\n",
    "for i in range(len(data)):\n",
    "#    bigrams_data.append(bigrams[data[i]])\n",
    "    bigrams_data.append([data[i]])\n",
    "    \n",
    "bigrams_data = np.array(bigrams_data)\n",
    "\n",
    "# Get word count for longest sample after stop words removed and bigrams created\n",
    "max_len = 0\n",
    "for bigram in bigrams_data:\n",
    "    tumpa = 0\n",
    "    for bigram1 in bigram:\n",
    "        for bigram2 in bigram1:\n",
    "            tumpa = tumpa + 1\n",
    "        \n",
    "        max_len = tumpa if tumpa > max_len else max_len\n",
    "#print(max_len)\n",
    " \n",
    "print('Maximum Sample Word Count: {}' .format(max_len))\n",
    "#print('Sample:\\n' ' '.join([bigram for bigram in bigrams_data[0]]))"
   ]
  },
  {
   "cell_type": "code",
   "execution_count": 13,
   "metadata": {},
   "outputs": [
    {
     "name": "stdout",
     "output_type": "stream",
     "text": [
      "Total Words in Vocabulary:1031561\n"
     ]
    }
   ],
   "source": [
    "# Create variable to hold set of all unique words in sample corpus\n",
    "#total_vocabulary = set(word for text in bigrams_data for word in text)\n",
    "total_vocabulary =[]\n",
    "for bigram in bigrams_data:\n",
    "    for bigram1 in bigram:\n",
    "        for bigram2 in bigram1:\n",
    "            total_vocabulary.append(bigram2)\n",
    "#len(total_vocabulary)\n",
    "\n",
    "print('Total Words in Vocabulary:{}' .format(len(total_vocabulary)))"
   ]
  },
  {
   "cell_type": "code",
   "execution_count": 14,
   "metadata": {},
   "outputs": [
    {
     "name": "stdout",
     "output_type": "stream",
     "text": [
      "Total Words in Embedding Index: 10001\n"
     ]
    }
   ],
   "source": [
    "#!wget http://nlp.stanford.edu/data/glove.6B.zip\n",
    "#!unzip glove*.zip\n",
    "# Create dictionary of vectors from GloVe based on total vocabulary\n",
    "embeddings_index = {}\n",
    "word_count = 0\n",
    "f = open('/home/asheshchoudhury/glove.6B.50d.txt', encoding='utf8')\n",
    "for line in f:\n",
    "    values = line.split()\n",
    "    word = values[0]\n",
    "    if word in total_vocabulary:\n",
    "        if word_count > MAX_NB_WORDS:\n",
    "            break\n",
    "        elif word_count <= MAX_NB_WORDS:\n",
    "            #print(word_count)\n",
    "            word_count = word_count + 1\n",
    "            coefs = np.asarray(values[1:], dtype='float32')\n",
    "            embeddings_index[word] = coefs\n",
    "f.close()\n",
    "\n",
    "print('Total Words in Embedding Index: {}' .format(len(embeddings_index)))"
   ]
  },
  {
   "cell_type": "code",
   "execution_count": 15,
   "metadata": {},
   "outputs": [],
   "source": [
    "class W2vVectorizer(object):\n",
    "    # Assign GloVe vector to each word in vocabulary, or zero vector to words/bigrams not found\n",
    "    def __init__(self, w2v):\n",
    "        # takes in a dictionary of words and vectors as input\n",
    "        self.w2v = w2v\n",
    "        if len(w2v) == 0:\n",
    "            self.dimensions = 0\n",
    "        else:\n",
    "            self.dimensions = len(w2v[next(iter(embeddings_index))])\n",
    "    \n",
    "    # Following required to allow for implementation of a fit method\n",
    "    # Cannot be used in SKLearn Pipeline otherwise \n",
    "    def fit(self, X, y):\n",
    "        return self\n",
    "            \n",
    "    def transform(self, X):\n",
    "        return np.array([\n",
    "            np.mean([self.w2v[w] for w in words if w in self.w2v]\n",
    "                   or [np.zeros(self.dimensions)], axis=0) for words in X])"
   ]
  },
  {
   "cell_type": "code",
   "execution_count": 16,
   "metadata": {},
   "outputs": [],
   "source": [
    "from sklearn.ensemble import RandomForestClassifier\n",
    "from sklearn.svm import SVC\n",
    "from sklearn.linear_model import LogisticRegression\n",
    "from sklearn.pipeline import Pipeline\n",
    "from sklearn.model_selection import cross_val_score\n",
    "from sklearn.naive_bayes import GaussianNB\n",
    "\n",
    "\n",
    "rf  = Pipeline([(\"Word2Vec Vectorizer\", W2vVectorizer(embeddings_index)),\n",
    "                (\"Random Forest\", RandomForestClassifier(n_estimators=100, verbose=True, n_jobs=-1))])\n",
    "svc = Pipeline([(\"Word2Vec Vectorizer\", W2vVectorizer(embeddings_index)),\n",
    "                ('Support Vector Machine', SVC(gamma='scale'))])\n",
    "#lr  = Pipeline([(\"Word2Vec Vectorizer\", W2vVectorizer(embeddings_index)),\n",
    "#                ('Logistic Regression', LogisticRegression(n_jobs=-1))])\n",
    "nb =  Pipeline([(\"Word2Vec Vectorizer\", W2vVectorizer(embeddings_index)),\n",
    "                ('Naive Bayse', GaussianNB())])"
   ]
  },
  {
   "cell_type": "code",
   "execution_count": 17,
   "metadata": {},
   "outputs": [],
   "source": [
    "models = [('Random Forest', rf),\n",
    "          (\"Support Vector Machine\", svc),\n",
    "#          (\"Logistic Regression\", lr)]\n",
    "          (\"Naive Bayse\", nb)]\n"
   ]
  },
  {
   "cell_type": "code",
   "execution_count": 18,
   "metadata": {},
   "outputs": [
    {
     "name": "stderr",
     "output_type": "stream",
     "text": [
      "[Parallel(n_jobs=-1)]: Using backend LokyBackend with 8 concurrent workers.\n",
      "[Parallel(n_jobs=-1)]: Done  34 tasks      | elapsed:    4.2s\n",
      "[Parallel(n_jobs=-1)]: Done 100 out of 100 | elapsed:    8.7s finished\n",
      "[Parallel(n_jobs=8)]: Using backend ThreadingBackend with 8 concurrent workers.\n",
      "[Parallel(n_jobs=8)]: Done  34 tasks      | elapsed:    0.1s\n",
      "[Parallel(n_jobs=8)]: Done 100 out of 100 | elapsed:    0.2s finished\n",
      "[Parallel(n_jobs=-1)]: Using backend LokyBackend with 8 concurrent workers.\n",
      "[Parallel(n_jobs=-1)]: Done  34 tasks      | elapsed:    4.0s\n",
      "[Parallel(n_jobs=-1)]: Done 100 out of 100 | elapsed:    8.4s finished\n",
      "[Parallel(n_jobs=8)]: Using backend ThreadingBackend with 8 concurrent workers.\n",
      "[Parallel(n_jobs=8)]: Done  34 tasks      | elapsed:    0.1s\n",
      "[Parallel(n_jobs=8)]: Done 100 out of 100 | elapsed:    0.2s finished\n"
     ]
    },
    {
     "data": {
      "text/plain": [
       "[('Random Forest', 0.6175109877399954),\n",
       " ('Support Vector Machine', 0.6221027064538516),\n",
       " ('Naive Bayse', 0.5648160999306038)]"
      ]
     },
     "execution_count": 18,
     "metadata": {},
     "output_type": "execute_result"
    }
   ],
   "source": [
    "# Use 2 cross-validations to gauge performance\n",
    "scores = [(name, cross_val_score(model, data, target, cv=2).mean()) for name, model in models]\n",
    "scores"
   ]
  },
  {
   "cell_type": "code",
   "execution_count": 19,
   "metadata": {},
   "outputs": [],
   "source": [
    "from keras.preprocessing.sequence import pad_sequences\n",
    "from keras.layers import Input, Dense, LSTM, Embedding, GRU\n",
    "from keras.layers import Dropout, Activation, Bidirectional, GlobalMaxPool1D, Conv1D, MaxPooling1D, Flatten\n",
    "from keras.models import Model, Sequential, load_model\n",
    "from keras.metrics import categorical_crossentropy\n",
    "from keras.preprocessing import text\n",
    "from keras.callbacks import ModelCheckpoint, EarlyStopping\n",
    "from keras.optimizers import Adam, RMSprop"
   ]
  },
  {
   "cell_type": "code",
   "execution_count": 20,
   "metadata": {},
   "outputs": [
    {
     "name": "stdout",
     "output_type": "stream",
     "text": [
      "Total Words in Vocabulary: 132892\n"
     ]
    }
   ],
   "source": [
    "# Convert each sample's list of bigrams into a string\n",
    "bigrams_joined = []\n",
    "\n",
    "for a in bigrams_data:\n",
    "    for b in a:\n",
    "        bigrams_joined.append(' '.join(b))\n",
    "\n",
    "# Remove underscore from filters and no need to convert to lowercase\n",
    "tokenizer = text.Tokenizer(filters='!\"#%&()*+,./:;<=>?@[\\\\]^`{|}~\\t\\n', lower=False)\n",
    "tokenizer.fit_on_texts(bigrams_joined)\n",
    "sequences = tokenizer.texts_to_sequences(bigrams_joined)\n",
    "\n",
    "word_index = tokenizer.word_index\n",
    "print('Total Words in Vocabulary: {}' .format(len(word_index)))"
   ]
  },
  {
   "cell_type": "code",
   "execution_count": 21,
   "metadata": {},
   "outputs": [
    {
     "data": {
      "text/html": [
       "<div>\n",
       "<style scoped>\n",
       "    .dataframe tbody tr th:only-of-type {\n",
       "        vertical-align: middle;\n",
       "    }\n",
       "\n",
       "    .dataframe tbody tr th {\n",
       "        vertical-align: top;\n",
       "    }\n",
       "\n",
       "    .dataframe thead th {\n",
       "        text-align: right;\n",
       "    }\n",
       "</style>\n",
       "<table border=\"1\" class=\"dataframe\">\n",
       "  <thead>\n",
       "    <tr style=\"text-align: right;\">\n",
       "      <th></th>\n",
       "      <th>0</th>\n",
       "      <th>1</th>\n",
       "      <th>2</th>\n",
       "      <th>3</th>\n",
       "      <th>4</th>\n",
       "      <th>5</th>\n",
       "      <th>6</th>\n",
       "      <th>7</th>\n",
       "      <th>8</th>\n",
       "      <th>9</th>\n",
       "      <th>...</th>\n",
       "      <th>22</th>\n",
       "      <th>23</th>\n",
       "      <th>24</th>\n",
       "      <th>25</th>\n",
       "      <th>26</th>\n",
       "      <th>27</th>\n",
       "      <th>28</th>\n",
       "      <th>29</th>\n",
       "      <th>bigrams</th>\n",
       "      <th>text</th>\n",
       "    </tr>\n",
       "  </thead>\n",
       "  <tbody>\n",
       "    <tr>\n",
       "      <th>0</th>\n",
       "      <td>3</td>\n",
       "      <td>135</td>\n",
       "      <td>1030</td>\n",
       "      <td>76</td>\n",
       "      <td>2719</td>\n",
       "      <td>24</td>\n",
       "      <td>25</td>\n",
       "      <td>2848</td>\n",
       "      <td>554</td>\n",
       "      <td>83</td>\n",
       "      <td>...</td>\n",
       "      <td>0</td>\n",
       "      <td>0</td>\n",
       "      <td>0</td>\n",
       "      <td>0</td>\n",
       "      <td>0</td>\n",
       "      <td>0</td>\n",
       "      <td>0</td>\n",
       "      <td>0</td>\n",
       "      <td>[today, senate, dems, vote, savetheinternet, p...</td>\n",
       "      <td>[today, senate, dems, vote, savetheinternet, p...</td>\n",
       "    </tr>\n",
       "    <tr>\n",
       "      <th>1</th>\n",
       "      <td>1</td>\n",
       "      <td>17685</td>\n",
       "      <td>1882</td>\n",
       "      <td>2574</td>\n",
       "      <td>17686</td>\n",
       "      <td>5222</td>\n",
       "      <td>1082</td>\n",
       "      <td>29</td>\n",
       "      <td>814</td>\n",
       "      <td>1126</td>\n",
       "      <td>...</td>\n",
       "      <td>0</td>\n",
       "      <td>0</td>\n",
       "      <td>0</td>\n",
       "      <td>0</td>\n",
       "      <td>0</td>\n",
       "      <td>0</td>\n",
       "      <td>0</td>\n",
       "      <td>0</td>\n",
       "      <td>[rt, winterhavensun, winter, resident, alta, v...</td>\n",
       "      <td>[rt, winterhavensun, winter, resident, alta, v...</td>\n",
       "    </tr>\n",
       "    <tr>\n",
       "      <th>2</th>\n",
       "      <td>1</td>\n",
       "      <td>9947</td>\n",
       "      <td>1711</td>\n",
       "      <td>8652</td>\n",
       "      <td>744</td>\n",
       "      <td>2397</td>\n",
       "      <td>711</td>\n",
       "      <td>5223</td>\n",
       "      <td>1502</td>\n",
       "      <td>321</td>\n",
       "      <td>...</td>\n",
       "      <td>0</td>\n",
       "      <td>0</td>\n",
       "      <td>0</td>\n",
       "      <td>0</td>\n",
       "      <td>0</td>\n",
       "      <td>0</td>\n",
       "      <td>0</td>\n",
       "      <td>0</td>\n",
       "      <td>[rt, nbclatino, repdarrensoto, noted, hurrican...</td>\n",
       "      <td>[rt, nbclatino, repdarrensoto, noted, hurrican...</td>\n",
       "    </tr>\n",
       "    <tr>\n",
       "      <th>3</th>\n",
       "      <td>1</td>\n",
       "      <td>32151</td>\n",
       "      <td>53</td>\n",
       "      <td>1711</td>\n",
       "      <td>19</td>\n",
       "      <td>256</td>\n",
       "      <td>17</td>\n",
       "      <td>116</td>\n",
       "      <td>32152</td>\n",
       "      <td>1922</td>\n",
       "      <td>...</td>\n",
       "      <td>0</td>\n",
       "      <td>0</td>\n",
       "      <td>0</td>\n",
       "      <td>0</td>\n",
       "      <td>0</td>\n",
       "      <td>0</td>\n",
       "      <td>0</td>\n",
       "      <td>0</td>\n",
       "      <td>[rt, nalcabpolicy, meeting, repdarrensoto, tha...</td>\n",
       "      <td>[rt, nalcabpolicy, meeting, repdarrensoto, tha...</td>\n",
       "    </tr>\n",
       "    <tr>\n",
       "      <th>4</th>\n",
       "      <td>1</td>\n",
       "      <td>32156</td>\n",
       "      <td>744</td>\n",
       "      <td>876</td>\n",
       "      <td>1574</td>\n",
       "      <td>2183</td>\n",
       "      <td>628</td>\n",
       "      <td>843</td>\n",
       "      <td>8113</td>\n",
       "      <td>32157</td>\n",
       "      <td>...</td>\n",
       "      <td>0</td>\n",
       "      <td>0</td>\n",
       "      <td>0</td>\n",
       "      <td>0</td>\n",
       "      <td>0</td>\n",
       "      <td>0</td>\n",
       "      <td>0</td>\n",
       "      <td>0</td>\n",
       "      <td>[rt, vegalteno, hurricane, season, starts, jun...</td>\n",
       "      <td>[rt, vegalteno, hurricane, season, starts, jun...</td>\n",
       "    </tr>\n",
       "  </tbody>\n",
       "</table>\n",
       "<p>5 rows × 32 columns</p>\n",
       "</div>"
      ],
      "text/plain": [
       "   0      1     2     3      4     5     6     7      8      9  ...  22  23  \\\n",
       "0  3    135  1030    76   2719    24    25  2848    554     83  ...   0   0   \n",
       "1  1  17685  1882  2574  17686  5222  1082    29    814   1126  ...   0   0   \n",
       "2  1   9947  1711  8652    744  2397   711  5223   1502    321  ...   0   0   \n",
       "3  1  32151    53  1711     19   256    17   116  32152   1922  ...   0   0   \n",
       "4  1  32156   744   876   1574  2183   628   843   8113  32157  ...   0   0   \n",
       "\n",
       "   24  25  26  27  28  29                                            bigrams  \\\n",
       "0   0   0   0   0   0   0  [today, senate, dems, vote, savetheinternet, p...   \n",
       "1   0   0   0   0   0   0  [rt, winterhavensun, winter, resident, alta, v...   \n",
       "2   0   0   0   0   0   0  [rt, nbclatino, repdarrensoto, noted, hurrican...   \n",
       "3   0   0   0   0   0   0  [rt, nalcabpolicy, meeting, repdarrensoto, tha...   \n",
       "4   0   0   0   0   0   0  [rt, vegalteno, hurricane, season, starts, jun...   \n",
       "\n",
       "                                                text  \n",
       "0  [today, senate, dems, vote, savetheinternet, p...  \n",
       "1  [rt, winterhavensun, winter, resident, alta, v...  \n",
       "2  [rt, nbclatino, repdarrensoto, noted, hurrican...  \n",
       "3  [rt, nalcabpolicy, meeting, repdarrensoto, tha...  \n",
       "4  [rt, vegalteno, hurricane, season, starts, jun...  \n",
       "\n",
       "[5 rows x 32 columns]"
      ]
     },
     "execution_count": 21,
     "metadata": {},
     "output_type": "execute_result"
    }
   ],
   "source": [
    "X_t = pad_sequences(sequences, maxlen=max_len, padding='post')\n",
    "X_t_df = pd.DataFrame(X_t)\n",
    "X_t_df['bigrams'] = bigrams_data\n",
    "X_t_df['text'] = df.reset_index(drop=True)['clean_tweet']\n",
    "X_t_df.head()"
   ]
  },
  {
   "cell_type": "code",
   "execution_count": 22,
   "metadata": {},
   "outputs": [],
   "source": [
    "# Set target variable\n",
    "y = pd.get_dummies(target).values"
   ]
  },
  {
   "cell_type": "code",
   "execution_count": 23,
   "metadata": {},
   "outputs": [],
   "source": [
    "#Train Test split\n",
    "from sklearn.model_selection import train_test_split\n",
    "\n",
    "X_train, X_test, y_train, y_test = train_test_split(X_t_df, y, test_size=.5)\n",
    "\n",
    "X_train_text = X_train[['text', 'bigrams']]\n",
    "X_train = X_train[X_train.columns[:-2]]\n",
    "\n",
    "X_test_text = X_test[['text', 'bigrams']]\n",
    "X_test = X_test[X_test.columns[:-2]]\n"
   ]
  },
  {
   "cell_type": "code",
   "execution_count": 24,
   "metadata": {},
   "outputs": [],
   "source": [
    "# Create matrix of random vectors which matches size of the word index\n",
    "embedding_matrix = np.random.random((len(word_index) + 1, 50))\n",
    "for word, i in word_index.items():\n",
    "    \n",
    "    # For each word found in the embedding index, assign the known vector\n",
    "    embedding_vector = embeddings_index.get(word)\n",
    "    \n",
    "    # Otherwise, keep the randomly assigned vector\n",
    "    if embedding_vector is not None:\n",
    "        embedding_matrix[i] = embedding_vector\n",
    "        \n",
    "embedding_layer = Embedding(len(word_index) + 1, \n",
    "                            100, weights = [embedding_matrix], \n",
    "                            input_length = max_len, trainable=True)"
   ]
  },
  {
   "cell_type": "code",
   "execution_count": 25,
   "metadata": {},
   "outputs": [],
   "source": [
    "# Start from Network Development Strategy Synopsis"
   ]
  },
  {
   "cell_type": "code",
   "execution_count": 25,
   "metadata": {},
   "outputs": [],
   "source": [
    "#CNN\n",
    "\n",
    "#def create_cnn_model(cdim=128, ksize=5, pool1=5, pool2=35, density=128, lr=.001, epochs=100, batch_size=128, validation_split=.3, patience=5, verbose=0):\n",
    "def create_cnn_model(cdim=128, ksize=5, pool1=5, pool2=35, density=128, lr=.001, epochs=1, batch_size=128, validation_split=.2, patience=5, verbose=0):\n",
    "    \n",
    "    # Start Timer\n",
    "    start = datetime.datetime.now()\n",
    "    #print('inside the loop-1')\n",
    "    \n",
    "    # Display Hyperparameter Settings\n",
    "    #print('Convolution Dimensions\\tWindow Size\\tPool 1\\t\\tPool 2\\t\\tDensity')\n",
    "    #print(cdim,ksize,pool1,pool2,density, sep ='\\t\\t\\t')\n",
    "    \n",
    "\n",
    "    \n",
    "    # Build Model\n",
    "    input_ = Input(shape=(max_len,), dtype='int32')\n",
    "    embedded_sequences = embedding_layer(input_)\n",
    "    #print('inside the loop-2')\n",
    "    \n",
    "    x = Conv1D(cdim, ksize, activation='relu')(embedded_sequences)\n",
    "    x = MaxPooling1D(pool1, padding='same')(x)\n",
    "    x = Conv1D(cdim, ksize, activation='relu')(x)\n",
    "    x = MaxPooling1D(pool1, padding='same')(x)\n",
    "    x = Conv1D(cdim, ksize, activation='relu')(x)\n",
    "    x = MaxPooling1D(pool2, padding='same')(x)\n",
    "    x = Flatten()(x)\n",
    "    x = Dense(density, activation='relu')(x)\n",
    "    #x = Dense(num_classes, activation='softmax')(x)\n",
    "    x = Dense(2, activation='softmax')(x)\n",
    "    #print('inside the loop-3')\n",
    "    model = Model(inputs=input_, outputs=x)\n",
    "    #print('inside the loop-4')\n",
    "    \n",
    "    # Compile Model\n",
    "    history = model.compile(loss='categorical_crossentropy', \n",
    "                            optimizer=Adam(lr=lr), \n",
    "                            metrics=['accuracy'])\n",
    "    #print('inside the loop-5')\n",
    "    # Create Checkpoints & Stopping Parameters\n",
    "    #checkpoints_path = f'models/cnn_best_{p1}_{p2}.hdf5'\n",
    "    #checkpoints_path = f'models/cnn_best_.hdf5'\n",
    "\n",
    "    #checkpoint = ModelCheckpoint(checkpoints_path, \n",
    "    #                             monitor='val_loss', \n",
    "    #                             verbose=verbose, \n",
    "    #                             save_best_only=True, \n",
    "    #                             mode='min')\n",
    "\n",
    "    #early_stopping = EarlyStopping(monitor='val_loss', \n",
    "    #                               mode='min', \n",
    "    #                               patience=patience)\n",
    "    \n",
    "    #callbacks = [checkpoint, early_stopping]\n",
    "    callbacks=[EarlyStopping(monitor='val_loss', patience=5, min_delta=0.001)]\n",
    "    #print('inside the loop-6')\n",
    "    \n",
    "    # Fit Model\n",
    "    history = model.fit(X_train, y_train, \n",
    "                        epochs=epochs, \n",
    "                        batch_size=batch_size, \n",
    "                        validation_split=validation_split, \n",
    "                        callbacks=callbacks, \n",
    "                        verbose=verbose)\n",
    "    #print('inside the loop-7')\n",
    "    # Evaluate Model\n",
    "    results = model.evaluate(X_test, y_test)\n",
    "    #print(results)\n",
    "    # End Timer\n",
    "    end = datetime.datetime.now()\n",
    "    time_taken = end - start\n",
    "    # Display Results\n",
    "    print('Time to Complete:', time_taken)\n",
    "    #print(f'Loss:\\t{results[0]:.2f}\\tAccuracy:\\t{results[1]:.4f}\\n')\n",
    "    #print('Loss:\\t' results[0]:.2f 'Accuracy:\\t' results[1]:.4f)\n",
    "    #print('Loss:{0.2f}\\t' .format(results[0]), 'Accuracy:{0.4f}\\t' .format(results[1]))\n",
    "    print('Printing Loss')\n",
    "    print('Loss:' ,results[0])\n",
    "    print('Printing Accuracy')\n",
    "    print('Accuracy:',results[1])\n",
    "\n",
    "\n",
    "\n",
    "    return model, history, results, time_taken\n"
   ]
  },
  {
   "cell_type": "code",
   "execution_count": 26,
   "metadata": {},
   "outputs": [
    {
     "name": "stdout",
     "output_type": "stream",
     "text": [
      "Time Elapsed: 0:14:05.982106\n",
      "WARNING:tensorflow:From /usr/local/lib/python3.5/dist-packages/tensorflow_core/python/ops/resource_variable_ops.py:1630: calling BaseResourceVariable.__init__ (from tensorflow.python.ops.resource_variable_ops) with constraint is deprecated and will be removed in a future version.\n",
      "Instructions for updating:\n",
      "If using Keras pass *_constraint arguments to layers.\n",
      "WARNING:tensorflow:From /usr/local/lib/python3.5/dist-packages/keras/backend/tensorflow_backend.py:4070: The name tf.nn.max_pool is deprecated. Please use tf.nn.max_pool2d instead.\n",
      "\n",
      "WARNING:tensorflow:From /usr/local/lib/python3.5/dist-packages/keras/backend/tensorflow_backend.py:422: The name tf.global_variables is deprecated. Please use tf.compat.v1.global_variables instead.\n",
      "\n",
      "43230/43230 [==============================] - 8s 179us/step\n",
      "Time to Complete: 0:00:52.506690\n",
      "Printing Loss\n",
      "Loss: 0.4525468577189824\n",
      "Printing Accuracy\n",
      "Accuracy: 0.7761045694351196\n",
      "0:00:52.506690\n",
      "43230/43230 [==============================] - 8s 178us/step\n",
      "Time to Complete: 0:00:49.925879\n",
      "Printing Loss\n",
      "Loss: 0.5616117148164409\n",
      "Printing Accuracy\n",
      "Accuracy: 0.7489475011825562\n",
      "0:00:49.925879\n",
      "43230/43230 [==============================] - 8s 181us/step\n",
      "Time to Complete: 0:00:50.483155\n",
      "Printing Loss\n",
      "Loss: 0.6068510900706349\n",
      "Printing Accuracy\n",
      "Accuracy: 0.7661114931106567\n",
      "0:00:50.483155\n",
      "43230/43230 [==============================] - 12s 283us/step\n",
      "Time to Complete: 0:01:07.820787\n",
      "Printing Loss\n",
      "Loss: 0.7806183625695994\n",
      "Printing Accuracy\n",
      "Accuracy: 0.7486699223518372\n",
      "0:01:07.820787\n",
      "43230/43230 [==============================] - 14s 328us/step\n",
      "Time to Complete: 0:01:09.178849\n",
      "Printing Loss\n",
      "Loss: 0.7731005173658239\n",
      "Printing Accuracy\n",
      "Accuracy: 0.7546379566192627\n",
      "0:01:09.178849\n",
      "43230/43230 [==============================] - 14s 318us/step\n",
      "Time to Complete: 0:01:08.854378\n",
      "Printing Loss\n",
      "Loss: 0.8906184566509053\n",
      "Printing Accuracy\n",
      "Accuracy: 0.7590562105178833\n",
      "0:01:08.854378\n",
      "43230/43230 [==============================] - 11s 247us/step\n",
      "Time to Complete: 0:01:07.237023\n",
      "Printing Loss\n",
      "Loss: 0.891117258422661\n",
      "Printing Accuracy\n",
      "Accuracy: 0.7513995170593262\n",
      "0:01:07.237023\n",
      "Time Elapsed:0:21:18.114337\t\n",
      "Time to Find Best Model:0:07:12.132231\t\n"
     ]
    }
   ],
   "source": [
    "# Display total time elapsed since program started\n",
    "t1 = datetime.datetime.now()\n",
    "print('Time Elapsed: {}' .format(t1 - t0))\n",
    "\n",
    "# Hyperparameter grid\n",
    "#cdims = [8, 16]\n",
    "#ksizes = [3, 5, 7]\n",
    "#pools1 = [3, 5, 7]\n",
    "#pools2 = [5, 10]\n",
    "#densities = [4, 8]\n",
    "# Hyperparameter grid\n",
    "cdims = [128, 256]\n",
    "ksizes = [3, 5, 7]\n",
    "pools1 = [3, 5, 7]\n",
    "pools2 = [25, 35]\n",
    "densities = [64, 128]\n",
    "\n",
    "\n",
    "# Create dictionary for tracking CNN results and hyperparameters\n",
    "cnn_results = {'Convolution Dimensions': [], \n",
    "               'Window Size': [], \n",
    "               'Pool 1': [], \n",
    "               'Pool 2': [], \n",
    "               'Density': [], \n",
    "               'Time': [], \n",
    "               'Loss': [], \n",
    "               'Accuracy': []}\n",
    "\n",
    "for cdim in cdims:\n",
    "    for ksize in ksizes:\n",
    "        for pool1 in pools1:\n",
    "            for pool2 in pools2:\n",
    "                for density in densities:\n",
    "                    \n",
    "                    try:\n",
    "                        #print('Before calling cnn')\n",
    "                        cnn_model, cnn_history, cnn_eval, cnn_time = create_cnn_model(cdim=cdim, \n",
    "                                                                                      ksize=ksize, \n",
    "                                                                                      pool1=pool1, \n",
    "                                                                                      pool2=pool2, \n",
    "                                                                                      density=density)\n",
    "                        #print('After calling cnn')\n",
    "                        cnn_results['Convolution Dimensions'].append(cdim)\n",
    "                        cnn_results['Window Size'].append(ksize)\n",
    "                        cnn_results['Pool 1'].append(pool1)\n",
    "                        cnn_results['Pool 2'].append(pool2)\n",
    "                        cnn_results['Density'].append(density)\n",
    "                        cnn_results['Loss'].append(cnn_eval[0])\n",
    "                        cnn_results['Accuracy'].append(cnn_eval[1])\n",
    "                        print(cnn_time)\n",
    "                        cnn_results['Time'].append(cnn_time)\n",
    "                        #print('CNN results should follow')\n",
    "                        #print(cnn_results)\n",
    "                    except:\n",
    "                        # If invalid hyperparameters, pass\n",
    "                        #print('?')\n",
    "                        pass\n",
    "                    \n",
    "t2 = datetime.datetime.now()\n",
    "print('Time Elapsed:{}\\t' .format(t2 - t0))\n",
    "print('Time to Find Best Model:{}\\t' .format(t2 - t1))"
   ]
  },
  {
   "cell_type": "code",
   "execution_count": 27,
   "metadata": {},
   "outputs": [
    {
     "name": "stdout",
     "output_type": "stream",
     "text": [
      "Train on 34584 samples, validate on 8646 samples\n",
      "Epoch 1/100\n",
      "34584/34584 [==============================] - 43s 1ms/step - loss: 0.0365 - accuracy: 0.9901 - val_loss: 0.9100 - val_accuracy: 0.7649\n",
      "Epoch 2/100\n",
      "34584/34584 [==============================] - 43s 1ms/step - loss: 0.0030 - accuracy: 0.9994 - val_loss: 1.0819 - val_accuracy: 0.7652\n",
      "Epoch 3/100\n",
      "34584/34584 [==============================] - 42s 1ms/step - loss: 0.0027 - accuracy: 0.9995 - val_loss: 1.1229 - val_accuracy: 0.7624\n",
      "Epoch 4/100\n",
      "34584/34584 [==============================] - 42s 1ms/step - loss: 0.0030 - accuracy: 0.9994 - val_loss: 0.9321 - val_accuracy: 0.7617\n",
      "Epoch 5/100\n",
      "34584/34584 [==============================] - 43s 1ms/step - loss: 0.0016 - accuracy: 0.9996 - val_loss: 1.1701 - val_accuracy: 0.7656\n",
      "Epoch 6/100\n",
      "34584/34584 [==============================] - 43s 1ms/step - loss: 0.0012 - accuracy: 0.9996 - val_loss: 1.7952 - val_accuracy: 0.7575\n",
      "43230/43230 [==============================] - 9s 214us/step\n",
      "Time to Complete: 0:04:29.605554\n",
      "Printing Loss\n",
      "Loss: 1.8084251901658355\n",
      "Printing Accuracy\n",
      "Accuracy: 0.7522322535514832\n",
      "Time Elapsed: 0:25:47.734478\n",
      "Time to Train Best Model: 0:04:29.620141\n"
     ]
    }
   ],
   "source": [
    "# Train Best CNN Model\n",
    "# Create dataframe from results dictionary\n",
    "cnn_results_df = pd.DataFrame.from_dict(cnn_results)\n",
    "\n",
    "# Get row values associated with highest accuracy\n",
    "best_cnn_model = cnn_results_df[cnn_results_df['Accuracy'] == cnn_results_df['Accuracy'].max()]\n",
    "\n",
    "# Save hyperparameters to variables\n",
    "cdim = best_cnn_model['Convolution Dimensions'].values[0]\n",
    "ksize = int(best_cnn_model['Window Size'].values[0])\n",
    "pool1 = int(best_cnn_model['Pool 1'].values[0])\n",
    "pool2 = int(best_cnn_model['Pool 2'].values[0])\n",
    "density = int(best_cnn_model['Density'].values[0])\n",
    "\n",
    "# Rebuild & retrain model with \n",
    "cnn_model, cnn_history, cnn_eval, cnn_time = create_cnn_model(cdim=cdim, \n",
    "                                                              ksize=ksize, \n",
    "                                                              pool1=pool1, \n",
    "                                                              pool2=pool2, \n",
    "                                                              density=density,\n",
    "                                                              lr=.001, \n",
    "                                                              epochs=100, \n",
    "                                                              patience=5, \n",
    "                                                              verbose=1)\n",
    "\n",
    "t3 = datetime.datetime.now()\n",
    "print('Time Elapsed:', (t3 - t0))\n",
    "print('Time to Train Best Model:', (t3 - t2))\n"
   ]
  },
  {
   "cell_type": "code",
   "execution_count": 37,
   "metadata": {},
   "outputs": [],
   "source": [
    "from tensorflow.core.protobuf import rewriter_config_pb2\n",
    "\n",
    "config_proto = tf.ConfigProto(log_device_placement=False, allow_soft_placement=True)\n",
    "\n",
    "off = rewriter_config_pb2.RewriterConfig.OFF\n",
    "\n",
    "config_proto.graph_options.rewrite_options.arithmetic_optimization = off\n",
    "\n",
    "session = tf.Session(config=config_proto)\n",
    "\n",
    "\n"
   ]
  },
  {
   "cell_type": "code",
   "execution_count": 39,
   "metadata": {},
   "outputs": [],
   "source": [
    "# RNN\n",
    "#def create_rnn_model(rnn_type='gru', units=50, drop=.5, density=50, lr=.001, epochs=100, batch_size=128, validation_split=.3, patience=5, verbose=0):\n",
    "def create_rnn_model(rnn_type='gru', units=50, drop=.5, density=50, lr=.001, epochs=1, batch_size=128, validation_split=.3, patience=5, verbose=0):\n",
    "    \n",
    "    # Start Timer\n",
    "    start = datetime.datetime.now()\n",
    "    \n",
    "    \n",
    "    # Display Hyperparameter Settings\n",
    "    model_type = 'GRU' if rnn_type == 'gru' else 'LSTM'\n",
    "#    print(f'Model Type:\\t{model_type}\\tUnits:\\t{units}\\tDropout Rate:\\t{drop}\\t\\tDensity: {density}')\n",
    "    \n",
    "#    tf.logging.set_verbosity(tf.logging.ERROR)\n",
    "    \n",
    "    \n",
    "    # Build Model\n",
    "    input_ = Input(shape=(max_len,), dtype='int32')\n",
    "    embedded_sequences = embedding_layer(input_)\n",
    "    \n",
    "    if rnn_type == 'gru':\n",
    "        x = Bidirectional(GRU(units, return_sequences=True))(embedded_sequences)\n",
    "    else:\n",
    "        x = Bidirectional(LSTM(units, return_sequences=True))(embedded_sequences)\n",
    "        \n",
    "    x = GlobalMaxPool1D()(x)\n",
    "    x = Dropout(drop)(x)\n",
    "    x = Dense(density, activation='relu')(x)\n",
    "    x = Dropout(drop)(x)\n",
    "    #x = Dense(num_classes, activation='softmax')(x)\n",
    "    x = Dense(2, activation='softmax')(x)\n",
    "    \n",
    "    model = Model(inputs=input_, outputs=x)\n",
    "    \n",
    "    \n",
    "    # Compile Model\n",
    "    model.compile(loss='categorical_crossentropy', \n",
    "                  optimizer=Adam(lr=lr), \n",
    "                  metrics=['accuracy'])\n",
    "    \n",
    "    \n",
    "    # Create Checkpoints & Stopping Parameters\n",
    "    #checkpoints_path = f'models/rnn_best_{p1}_{p2}.hdf5'\n",
    "#    checkpoints_path = f'models/rnn_best_.hdf'\n",
    "#    checkpoint = ModelCheckpoint(checkpoints_path, \n",
    "#                                 monitor='val_loss', \n",
    "#                                 verbose=verbose, \n",
    "#                                 save_best_only=True, \n",
    "#                                 mode='min')\n",
    "    \n",
    "#    early_stopping = EarlyStopping(monitor='val_loss', \n",
    "#                                   mode='min', \n",
    "#                                   patience=patience)\n",
    "    \n",
    "#    callbacks = [checkpoint, early_stopping]\n",
    "    callbacks=[EarlyStopping(monitor='val_loss', patience=5, min_delta=0.001)]\n",
    "    \n",
    "    \n",
    "    # Fit Model\n",
    "    history = model.fit(X_train, y_train, \n",
    "                        epochs=epochs, \n",
    "                        batch_size=batch_size, \n",
    "                        validation_split=validation_split, \n",
    "                        callbacks=callbacks, \n",
    "                        verbose=verbose)\n",
    "    \n",
    "    # Evaluate Model\n",
    "    results = model.evaluate(X_test, y_test)\n",
    "    \n",
    "    # End Timer\n",
    "    end = datetime.datetime.now()\n",
    "    \n",
    "    # Display Results\n",
    "    print('Time to Complete:', end - start)\n",
    "    print('Loss:' ,results[0])\n",
    "    print('Accuracy:' , results[1])\n",
    "    \n",
    "    return model, history, results, end-start\n"
   ]
  },
  {
   "cell_type": "code",
   "execution_count": 40,
   "metadata": {
    "scrolled": true
   },
   "outputs": [
    {
     "name": "stdout",
     "output_type": "stream",
     "text": [
      "43230/43230 [==============================] - 23s 522us/step\n",
      "Time to Complete: 0:01:40.930812\n",
      "Loss: 1.2939255413787387\n",
      "Accuracy: 0.7622715830802917\n",
      "43230/43230 [==============================] - 25s 573us/step\n",
      "Time to Complete: 0:01:45.604014\n",
      "Loss: 1.3838084825949897\n",
      "Accuracy: 0.7569049000740051\n",
      "43230/43230 [==============================] - 24s 549us/step\n",
      "Time to Complete: 0:01:44.258267\n",
      "Loss: 1.369709412598814\n",
      "Accuracy: 0.7623178362846375\n",
      "43230/43230 [==============================] - 24s 562us/step\n",
      "Time to Complete: 0:01:44.566256\n",
      "Loss: 1.6297134345310749\n",
      "Accuracy: 0.7713856101036072\n",
      "43230/43230 [==============================] - 29s 663us/step\n",
      "Time to Complete: 0:02:03.093466\n",
      "Loss: 1.2397010302670488\n",
      "Accuracy: 0.7724496722221375\n",
      "43230/43230 [==============================] - 27s 630us/step\n",
      "Time to Complete: 0:01:59.619982\n",
      "Loss: 1.3090140945735476\n",
      "Accuracy: 0.7710386514663696\n",
      "43230/43230 [==============================] - 29s 669us/step\n",
      "Time to Complete: 0:02:02.412832\n",
      "Loss: 1.4258202137927505\n",
      "Accuracy: 0.7706222534179688\n",
      "43230/43230 [==============================] - 28s 658us/step\n",
      "Time to Complete: 0:02:03.588847\n",
      "Loss: 1.3959391642204182\n",
      "Accuracy: 0.7751330137252808\n"
     ]
    },
    {
     "ename": "AlreadyExistsError",
     "evalue": "Resource __per_step_42429/training_25/Adam/gradients/bidirectional_18/while/ReadVariableOp/Enter_grad/ArithmeticOptimizer/AddOpsRewrite_Add/tmp_var/N10tensorflow19TemporaryVariableOp6TmpVarE\n\t [[{{node training_25/Adam/gradients/bidirectional_18/while/ReadVariableOp/Enter_grad/ArithmeticOptimizer/AddOpsRewrite_Add/tmp_var}}]]",
     "output_type": "error",
     "traceback": [
      "\u001b[0;31m---------------------------------------------------------------------------\u001b[0m",
      "\u001b[0;31mAlreadyExistsError\u001b[0m                        Traceback (most recent call last)",
      "\u001b[0;32m<ipython-input-40-926948f27393>\u001b[0m in \u001b[0;36m<module>\u001b[0;34m\u001b[0m\n\u001b[1;32m     18\u001b[0m                                                                               \u001b[0munits\u001b[0m\u001b[0;34m=\u001b[0m\u001b[0munit\u001b[0m\u001b[0;34m,\u001b[0m\u001b[0;34m\u001b[0m\u001b[0m\n\u001b[1;32m     19\u001b[0m                                                                               \u001b[0mdrop\u001b[0m\u001b[0;34m=\u001b[0m\u001b[0mdrop\u001b[0m\u001b[0;34m,\u001b[0m\u001b[0;34m\u001b[0m\u001b[0m\n\u001b[0;32m---> 20\u001b[0;31m                                                                               density=density)\n\u001b[0m\u001b[1;32m     21\u001b[0m                 \u001b[0mrnn_results\u001b[0m\u001b[0;34m[\u001b[0m\u001b[0;34m'Model Type'\u001b[0m\u001b[0;34m]\u001b[0m\u001b[0;34m.\u001b[0m\u001b[0mappend\u001b[0m\u001b[0;34m(\u001b[0m\u001b[0mrnn_type\u001b[0m\u001b[0;34m)\u001b[0m\u001b[0;34m\u001b[0m\u001b[0m\n\u001b[1;32m     22\u001b[0m                 \u001b[0mrnn_results\u001b[0m\u001b[0;34m[\u001b[0m\u001b[0;34m'Units'\u001b[0m\u001b[0;34m]\u001b[0m\u001b[0;34m.\u001b[0m\u001b[0mappend\u001b[0m\u001b[0;34m(\u001b[0m\u001b[0munit\u001b[0m\u001b[0;34m)\u001b[0m\u001b[0;34m\u001b[0m\u001b[0m\n",
      "\u001b[0;32m<ipython-input-39-703b3aa1a7f9>\u001b[0m in \u001b[0;36mcreate_rnn_model\u001b[0;34m(rnn_type, units, drop, density, lr, epochs, batch_size, validation_split, patience, verbose)\u001b[0m\n\u001b[1;32m     62\u001b[0m                         \u001b[0mvalidation_split\u001b[0m\u001b[0;34m=\u001b[0m\u001b[0mvalidation_split\u001b[0m\u001b[0;34m,\u001b[0m\u001b[0;34m\u001b[0m\u001b[0m\n\u001b[1;32m     63\u001b[0m                         \u001b[0mcallbacks\u001b[0m\u001b[0;34m=\u001b[0m\u001b[0mcallbacks\u001b[0m\u001b[0;34m,\u001b[0m\u001b[0;34m\u001b[0m\u001b[0m\n\u001b[0;32m---> 64\u001b[0;31m                         verbose=verbose)\n\u001b[0m\u001b[1;32m     65\u001b[0m \u001b[0;34m\u001b[0m\u001b[0m\n\u001b[1;32m     66\u001b[0m     \u001b[0;31m# Evaluate Model\u001b[0m\u001b[0;34m\u001b[0m\u001b[0;34m\u001b[0m\u001b[0m\n",
      "\u001b[0;32m/usr/local/lib/python3.5/dist-packages/keras/engine/training.py\u001b[0m in \u001b[0;36mfit\u001b[0;34m(self, x, y, batch_size, epochs, verbose, callbacks, validation_split, validation_data, shuffle, class_weight, sample_weight, initial_epoch, steps_per_epoch, validation_steps, validation_freq, max_queue_size, workers, use_multiprocessing, **kwargs)\u001b[0m\n\u001b[1;32m   1237\u001b[0m                                         \u001b[0msteps_per_epoch\u001b[0m\u001b[0;34m=\u001b[0m\u001b[0msteps_per_epoch\u001b[0m\u001b[0;34m,\u001b[0m\u001b[0;34m\u001b[0m\u001b[0m\n\u001b[1;32m   1238\u001b[0m                                         \u001b[0mvalidation_steps\u001b[0m\u001b[0;34m=\u001b[0m\u001b[0mvalidation_steps\u001b[0m\u001b[0;34m,\u001b[0m\u001b[0;34m\u001b[0m\u001b[0m\n\u001b[0;32m-> 1239\u001b[0;31m                                         validation_freq=validation_freq)\n\u001b[0m\u001b[1;32m   1240\u001b[0m \u001b[0;34m\u001b[0m\u001b[0m\n\u001b[1;32m   1241\u001b[0m     def evaluate(self,\n",
      "\u001b[0;32m/usr/local/lib/python3.5/dist-packages/keras/engine/training_arrays.py\u001b[0m in \u001b[0;36mfit_loop\u001b[0;34m(model, fit_function, fit_inputs, out_labels, batch_size, epochs, verbose, callbacks, val_function, val_inputs, shuffle, initial_epoch, steps_per_epoch, validation_steps, validation_freq)\u001b[0m\n\u001b[1;32m    194\u001b[0m                     \u001b[0mins_batch\u001b[0m\u001b[0;34m[\u001b[0m\u001b[0mi\u001b[0m\u001b[0;34m]\u001b[0m \u001b[0;34m=\u001b[0m \u001b[0mins_batch\u001b[0m\u001b[0;34m[\u001b[0m\u001b[0mi\u001b[0m\u001b[0;34m]\u001b[0m\u001b[0;34m.\u001b[0m\u001b[0mtoarray\u001b[0m\u001b[0;34m(\u001b[0m\u001b[0;34m)\u001b[0m\u001b[0;34m\u001b[0m\u001b[0m\n\u001b[1;32m    195\u001b[0m \u001b[0;34m\u001b[0m\u001b[0m\n\u001b[0;32m--> 196\u001b[0;31m                 \u001b[0mouts\u001b[0m \u001b[0;34m=\u001b[0m \u001b[0mfit_function\u001b[0m\u001b[0;34m(\u001b[0m\u001b[0mins_batch\u001b[0m\u001b[0;34m)\u001b[0m\u001b[0;34m\u001b[0m\u001b[0m\n\u001b[0m\u001b[1;32m    197\u001b[0m                 \u001b[0mouts\u001b[0m \u001b[0;34m=\u001b[0m \u001b[0mto_list\u001b[0m\u001b[0;34m(\u001b[0m\u001b[0mouts\u001b[0m\u001b[0;34m)\u001b[0m\u001b[0;34m\u001b[0m\u001b[0m\n\u001b[1;32m    198\u001b[0m                 \u001b[0;32mfor\u001b[0m \u001b[0ml\u001b[0m\u001b[0;34m,\u001b[0m \u001b[0mo\u001b[0m \u001b[0;32min\u001b[0m \u001b[0mzip\u001b[0m\u001b[0;34m(\u001b[0m\u001b[0mout_labels\u001b[0m\u001b[0;34m,\u001b[0m \u001b[0mouts\u001b[0m\u001b[0;34m)\u001b[0m\u001b[0;34m:\u001b[0m\u001b[0;34m\u001b[0m\u001b[0m\n",
      "\u001b[0;32m/usr/local/lib/python3.5/dist-packages/tensorflow_core/python/keras/backend.py\u001b[0m in \u001b[0;36m__call__\u001b[0;34m(self, inputs)\u001b[0m\n\u001b[1;32m   3474\u001b[0m \u001b[0;34m\u001b[0m\u001b[0m\n\u001b[1;32m   3475\u001b[0m     fetched = self._callable_fn(*array_vals,\n\u001b[0;32m-> 3476\u001b[0;31m                                 run_metadata=self.run_metadata)\n\u001b[0m\u001b[1;32m   3477\u001b[0m     \u001b[0mself\u001b[0m\u001b[0;34m.\u001b[0m\u001b[0m_call_fetch_callbacks\u001b[0m\u001b[0;34m(\u001b[0m\u001b[0mfetched\u001b[0m\u001b[0;34m[\u001b[0m\u001b[0;34m-\u001b[0m\u001b[0mlen\u001b[0m\u001b[0;34m(\u001b[0m\u001b[0mself\u001b[0m\u001b[0;34m.\u001b[0m\u001b[0m_fetches\u001b[0m\u001b[0;34m)\u001b[0m\u001b[0;34m:\u001b[0m\u001b[0;34m]\u001b[0m\u001b[0;34m)\u001b[0m\u001b[0;34m\u001b[0m\u001b[0m\n\u001b[1;32m   3478\u001b[0m     output_structure = nest.pack_sequence_as(\n",
      "\u001b[0;32m/usr/local/lib/python3.5/dist-packages/tensorflow_core/python/client/session.py\u001b[0m in \u001b[0;36m__call__\u001b[0;34m(self, *args, **kwargs)\u001b[0m\n\u001b[1;32m   1470\u001b[0m         ret = tf_session.TF_SessionRunCallable(self._session._session,\n\u001b[1;32m   1471\u001b[0m                                                \u001b[0mself\u001b[0m\u001b[0;34m.\u001b[0m\u001b[0m_handle\u001b[0m\u001b[0;34m,\u001b[0m \u001b[0margs\u001b[0m\u001b[0;34m,\u001b[0m\u001b[0;34m\u001b[0m\u001b[0m\n\u001b[0;32m-> 1472\u001b[0;31m                                                run_metadata_ptr)\n\u001b[0m\u001b[1;32m   1473\u001b[0m         \u001b[0;32mif\u001b[0m \u001b[0mrun_metadata\u001b[0m\u001b[0;34m:\u001b[0m\u001b[0;34m\u001b[0m\u001b[0m\n\u001b[1;32m   1474\u001b[0m           \u001b[0mproto_data\u001b[0m \u001b[0;34m=\u001b[0m \u001b[0mtf_session\u001b[0m\u001b[0;34m.\u001b[0m\u001b[0mTF_GetBuffer\u001b[0m\u001b[0;34m(\u001b[0m\u001b[0mrun_metadata_ptr\u001b[0m\u001b[0;34m)\u001b[0m\u001b[0;34m\u001b[0m\u001b[0m\n",
      "\u001b[0;31mAlreadyExistsError\u001b[0m: Resource __per_step_42429/training_25/Adam/gradients/bidirectional_18/while/ReadVariableOp/Enter_grad/ArithmeticOptimizer/AddOpsRewrite_Add/tmp_var/N10tensorflow19TemporaryVariableOp6TmpVarE\n\t [[{{node training_25/Adam/gradients/bidirectional_18/while/ReadVariableOp/Enter_grad/ArithmeticOptimizer/AddOpsRewrite_Add/tmp_var}}]]"
     ]
    }
   ],
   "source": [
    "#RNN grid search\n",
    "rnn_types = ['lstm', 'gru']\n",
    "units = [25, 50]\n",
    "drops = [.25, .5]\n",
    "densities = [100, 150]\n",
    "\n",
    "#units = [5, 10]\n",
    "#drops = [.25, .5]\n",
    "#densities = [10, 15]\n",
    "\n",
    "rnn_results = {'Model Type': [], 'Units': [], 'Dropout Rate': [], 'Density': [], 'Time': [], 'Loss': [], 'Accuracy': []}\n",
    "\n",
    "for rnn_type in rnn_types:\n",
    "    for unit in units:\n",
    "        for drop in drops:\n",
    "            for density in densities:\n",
    "                rnn_model, rnn_history, rnn_eval, rnn_time = create_rnn_model(rnn_type=rnn_type, \n",
    "                                                                              units=unit, \n",
    "                                                                              drop=drop, \n",
    "                                                                              density=density)\n",
    "                rnn_results['Model Type'].append(rnn_type)\n",
    "                rnn_results['Units'].append(unit)\n",
    "                rnn_results['Dropout Rate'].append(drop)\n",
    "                rnn_results['Density'].append(density)\n",
    "                rnn_results['Loss'].append(rnn_eval[0])\n",
    "                rnn_results['Accuracy'].append(rnn_eval[1])\n",
    "                rnn_results['Time'].append(rnn_time)\n",
    "                #print('RNN results should follow')\n",
    "                #print(rnn_results)\n",
    "                \n",
    "t4 = datetime.datetime.now()\n",
    "print('Time Elapsed:', (t4 - t0))\n",
    "print('Time to Find Best Model:', (t4 - t3))"
   ]
  },
  {
   "cell_type": "code",
   "execution_count": 41,
   "metadata": {},
   "outputs": [
    {
     "name": "stdout",
     "output_type": "stream",
     "text": [
      "Train on 30260 samples, validate on 12970 samples\n",
      "Epoch 1/100\n",
      "30260/30260 [==============================] - 86s 3ms/step - loss: 0.0580 - accuracy: 0.9827 - val_loss: 0.9354 - val_accuracy: 0.8192\n",
      "Epoch 2/100\n",
      "30260/30260 [==============================] - 82s 3ms/step - loss: 0.0027 - accuracy: 0.9994 - val_loss: 0.9895 - val_accuracy: 0.8252\n",
      "Epoch 3/100\n",
      "30260/30260 [==============================] - 81s 3ms/step - loss: 0.0021 - accuracy: 0.9996 - val_loss: 1.1455 - val_accuracy: 0.8239\n",
      "Epoch 4/100\n",
      "30260/30260 [==============================] - 81s 3ms/step - loss: 0.0017 - accuracy: 0.9996 - val_loss: 0.9921 - val_accuracy: 0.8191\n",
      "Epoch 5/100\n",
      "30260/30260 [==============================] - 82s 3ms/step - loss: 0.0012 - accuracy: 0.9997 - val_loss: 1.1580 - val_accuracy: 0.8228\n",
      "Epoch 6/100\n",
      "30260/30260 [==============================] - 80s 3ms/step - loss: 8.0589e-04 - accuracy: 0.9998 - val_loss: 1.3174 - val_accuracy: 0.8208\n",
      "43230/43230 [==============================] - 29s 659us/step\n",
      "Time to Complete: 0:08:48.852892\n",
      "Loss: 1.8042656982411065\n",
      "Accuracy: 0.7639602422714233\n",
      "Time Elapsed: 1:14:53.360766\n"
     ]
    }
   ],
   "source": [
    "#Train best RNN model \n",
    "rnn_results_df = pd.DataFrame.from_dict(rnn_results)\n",
    "\n",
    "best_rnn_model = rnn_results_df[rnn_results_df['Accuracy'] == rnn_results_df['Accuracy'].max()]\n",
    "\n",
    "rnn_type = best_rnn_model['Model Type'].values[0]\n",
    "units = int(best_rnn_model['Units'].values[0])\n",
    "drop = float(best_rnn_model['Dropout Rate'].values[0])\n",
    "density = int(best_rnn_model['Density'].values[0])\n",
    "\n",
    "rnn_model, rnn_history, rnn_eval, rnn_time = create_rnn_model(rnn_type=rnn_type, \n",
    "                                                              units=units, \n",
    "                                                              drop=drop, \n",
    "                                                              density=density, \n",
    "                                                              lr=.001, \n",
    "                                                              epochs=100, \n",
    "                                                              patience=5, \n",
    "                                                              verbose=1)\n",
    "\n",
    "t5 = datetime.datetime.now()\n",
    "print('Time Elapsed:', (t5 - t0))\n",
    "#print('Time to Train Best Model:', (t5 - t4))"
   ]
  },
  {
   "cell_type": "code",
   "execution_count": 42,
   "metadata": {},
   "outputs": [
    {
     "data": {
      "text/plain": [
       "<Figure size 1080x720 with 0 Axes>"
      ]
     },
     "execution_count": 42,
     "metadata": {},
     "output_type": "execute_result"
    },
    {
     "data": {
      "text/plain": [
       "<BarContainer object of 3 artists>"
      ]
     },
     "execution_count": 42,
     "metadata": {},
     "output_type": "execute_result"
    },
    {
     "data": {
      "text/plain": [
       "Text(Benchmark:Support Vector Machine, 0.6421027064538516, '62.21%')"
      ]
     },
     "execution_count": 42,
     "metadata": {},
     "output_type": "execute_result"
    },
    {
     "data": {
      "text/plain": [
       "Text(CNN, 0.7722322535514832, '75.22%')"
      ]
     },
     "execution_count": 42,
     "metadata": {},
     "output_type": "execute_result"
    },
    {
     "data": {
      "text/plain": [
       "Text(RNN, 0.7839602422714234, '76.40%')"
      ]
     },
     "execution_count": 42,
     "metadata": {},
     "output_type": "execute_result"
    },
    {
     "data": {
      "text/plain": [
       "Text(0, 0.5, 'Accuracy')"
      ]
     },
     "execution_count": 42,
     "metadata": {},
     "output_type": "execute_result"
    },
    {
     "data": {
      "text/plain": [
       "(0, 1)"
      ]
     },
     "execution_count": 42,
     "metadata": {},
     "output_type": "execute_result"
    },
    {
     "data": {
      "text/plain": [
       "([<matplotlib.axis.YTick at 0x7fd1361e8470>,\n",
       "  <matplotlib.axis.YTick at 0x7fd1361ddd68>,\n",
       "  <matplotlib.axis.YTick at 0x7fd13622d470>,\n",
       "  <matplotlib.axis.YTick at 0x7fd13618f588>,\n",
       "  <matplotlib.axis.YTick at 0x7fd13618fa58>,\n",
       "  <matplotlib.axis.YTick at 0x7fd13618ff28>],\n",
       " <a list of 6 Text yticklabel objects>)"
      ]
     },
     "execution_count": 42,
     "metadata": {},
     "output_type": "execute_result"
    },
    {
     "data": {
      "text/plain": [
       "Text(0.5, 1.0, 'Top Scores')"
      ]
     },
     "execution_count": 42,
     "metadata": {},
     "output_type": "execute_result"
    },
    {
     "data": {
      "image/png": "[encoded data removed]",
      "text/plain": [
       "<Figure size 1080x720 with 1 Axes>"
      ]
     },
     "metadata": {
      "needs_background": "light"
     },
     "output_type": "display_data"
    }
   ],
   "source": [
    "#Visualize results\n",
    "from operator import itemgetter\n",
    "best_benchmark = 'Benchmark:' + max(scores,key=itemgetter(1))[0]\n",
    "\n",
    "labels = [best_benchmark, 'CNN', 'RNN']\n",
    "acc = [max(scores,key=itemgetter(1))[1], cnn_eval[1], rnn_eval[1]]\n",
    "\n",
    "plt.figure(figsize = (15, 10))\n",
    "plt.bar(labels, acc)\n",
    "for i in range(3):\n",
    "    plt.text(labels[i], acc[i] + .02, (\"%.2f\" %(acc[i]*100)) +'%', ha='center')\n",
    "plt.ylabel('Accuracy')\n",
    "plt.ylim(0, 1)\n",
    "plt.yticks([i/10 for i in range(5, 11)], [i*10/100 for i in range(5, 11)])\n",
    "plt.title('Top Scores')\n",
    "plt.show()"
   ]
  },
  {
   "cell_type": "code",
   "execution_count": 43,
   "metadata": {},
   "outputs": [
    {
     "name": "stdout",
     "output_type": "stream",
     "text": [
      "Top Model Type: RNN\n",
      "Model: \"model_27\"\n",
      "_________________________________________________________________\n",
      "Layer (type)                 Output Shape              Param #   \n",
      "=================================================================\n",
      "input_92 (InputLayer)        (None, 30)                0         \n",
      "_________________________________________________________________\n",
      "embedding_1 (Embedding)      (None, 30, 100)           13289300  \n",
      "_________________________________________________________________\n",
      "bidirectional_19 (Bidirectio (None, 30, 100)           60400     \n",
      "_________________________________________________________________\n",
      "global_max_pooling1d_19 (Glo (None, 100)               0         \n",
      "_________________________________________________________________\n",
      "dropout_37 (Dropout)         (None, 100)               0         \n",
      "_________________________________________________________________\n",
      "dense_53 (Dense)             (None, 150)               15150     \n",
      "_________________________________________________________________\n",
      "dropout_38 (Dropout)         (None, 150)               0         \n",
      "_________________________________________________________________\n",
      "dense_54 (Dense)             (None, 2)                 302       \n",
      "=================================================================\n",
      "Total params: 13,365,152\n",
      "Trainable params: 13,365,152\n",
      "Non-trainable params: 0\n",
      "_________________________________________________________________\n"
     ]
    }
   ],
   "source": [
    "# Inspect Top model performance \n",
    "top_models = {'rnn': rnn_model, 'cnn': cnn_model}\n",
    "histories = {'rnn_hist': rnn_history, 'cnn_hist': cnn_history}\n",
    "best = 'c' if cnn_eval[1] > rnn_eval[1] else 'r'\n",
    "best_model = top_models[best+'nn']\n",
    "best_model_hist = histories[best + 'nn_hist']\n",
    "print('Top Model Type:' ,best.upper()+'NN')\n",
    "best_model.summary()"
   ]
  },
  {
   "cell_type": "code",
   "execution_count": 44,
   "metadata": {},
   "outputs": [
    {
     "data": {
      "text/plain": [
       "<Figure size 1080x720 with 0 Axes>"
      ]
     },
     "execution_count": 44,
     "metadata": {},
     "output_type": "execute_result"
    },
    {
     "data": {
      "text/plain": [
       "[<matplotlib.lines.Line2D at 0x7fd1361639b0>]"
      ]
     },
     "execution_count": 44,
     "metadata": {},
     "output_type": "execute_result"
    },
    {
     "data": {
      "text/plain": [
       "[<matplotlib.lines.Line2D at 0x7fd136163ba8>]"
      ]
     },
     "execution_count": 44,
     "metadata": {},
     "output_type": "execute_result"
    },
    {
     "data": {
      "text/plain": [
       "Text(0.5, 1.0, 'RNN Model Accuracy')"
      ]
     },
     "execution_count": 44,
     "metadata": {},
     "output_type": "execute_result"
    },
    {
     "data": {
      "text/plain": [
       "Text(0, 0.5, 'RNN Accuracy')"
      ]
     },
     "execution_count": 44,
     "metadata": {},
     "output_type": "execute_result"
    },
    {
     "data": {
      "text/plain": [
       "Text(0.5, 0, 'Epoch')"
      ]
     },
     "execution_count": 44,
     "metadata": {},
     "output_type": "execute_result"
    },
    {
     "data": {
      "text/plain": [
       "<matplotlib.legend.Legend at 0x7fd136152390>"
      ]
     },
     "execution_count": 44,
     "metadata": {},
     "output_type": "execute_result"
    },
    {
     "data": {
      "image/png": "[encoded data removed]",
      "text/plain": [
       "<Figure size 1080x720 with 1 Axes>"
      ]
     },
     "metadata": {
      "needs_background": "light"
     },
     "output_type": "display_data"
    },
    {
     "data": {
      "text/plain": [
       "<Figure size 1080x720 with 0 Axes>"
      ]
     },
     "execution_count": 44,
     "metadata": {},
     "output_type": "execute_result"
    },
    {
     "data": {
      "text/plain": [
       "[<matplotlib.lines.Line2D at 0x7fd136139208>]"
      ]
     },
     "execution_count": 44,
     "metadata": {},
     "output_type": "execute_result"
    },
    {
     "data": {
      "text/plain": [
       "[<matplotlib.lines.Line2D at 0x7fd136139630>]"
      ]
     },
     "execution_count": 44,
     "metadata": {},
     "output_type": "execute_result"
    },
    {
     "data": {
      "text/plain": [
       "Text(0.5, 1.0, 'RNN Model Loss / Error')"
      ]
     },
     "execution_count": 44,
     "metadata": {},
     "output_type": "execute_result"
    },
    {
     "data": {
      "text/plain": [
       "Text(0, 0.5, 'RNN Loss / Error')"
      ]
     },
     "execution_count": 44,
     "metadata": {},
     "output_type": "execute_result"
    },
    {
     "data": {
      "text/plain": [
       "Text(0.5, 0, 'Epoch')"
      ]
     },
     "execution_count": 44,
     "metadata": {},
     "output_type": "execute_result"
    },
    {
     "data": {
      "text/plain": [
       "<matplotlib.legend.Legend at 0x7fd13612aba8>"
      ]
     },
     "execution_count": 44,
     "metadata": {},
     "output_type": "execute_result"
    },
    {
     "data": {
      "image/png": "[encoded data removed]",
      "text/plain": [
       "<Figure size 1080x720 with 1 Axes>"
      ]
     },
     "metadata": {
      "needs_background": "light"
     },
     "output_type": "display_data"
    }
   ],
   "source": [
    "#Results history\n",
    "# Display history for accuracy\n",
    "plt.figure(figsize=(15, 10))\n",
    "plt.plot(best_model_hist.history['accuracy'])\n",
    "plt.plot(best_model_hist.history['val_accuracy'])\n",
    "plt.title(best.upper()+'NN Model Accuracy')\n",
    "plt.ylabel(best.upper() + 'NN Accuracy')\n",
    "plt.xlabel('Epoch')\n",
    "plt.legend(['Train', 'Validation'], loc='upper left')\n",
    "plt.show()\n",
    "\n",
    "# Display history for loss\n",
    "plt.figure(figsize=(15, 10))\n",
    "plt.plot(best_model_hist.history['loss'])\n",
    "plt.plot(best_model_hist.history['val_loss'])\n",
    "plt.title(best.upper() + 'NN Model Loss / Error')\n",
    "plt.ylabel(best.upper() + 'NN Loss / Error')\n",
    "plt.xlabel('Epoch')\n",
    "plt.legend(['Train', 'Validation'], loc='upper left')\n",
    "plt.show()"
   ]
  },
  {
   "cell_type": "code",
   "execution_count": 45,
   "metadata": {},
   "outputs": [],
   "source": [
    "#Confusion matrix and prediction\n",
    "from sklearn.metrics import confusion_matrix, f1_score\n",
    "import itertools\n",
    "\n",
    "def plot_confusion_matrix(cm, classes,\n",
    "                          normalize=False,\n",
    "                          title='Confusion matrix',\n",
    "                          cmap=plt.cm.Blues):\n",
    "    \"\"\"\n",
    "    This function prints and plots the confusion matrix.\n",
    "    Normalization can be applied by setting `normalize=True`.\n",
    "    \"\"\"\n",
    "    if normalize:\n",
    "        cm = cm.astype('float') / cm.sum(axis=1)[:, np.newaxis]\n",
    "        print(\"Normalized confusion matrix\")\n",
    "    else:\n",
    "        print('Confusion matrix, without normalization')\n",
    "\n",
    "    plt.figure(figsize=(10, 10))\n",
    "    plt.imshow(cm, interpolation='nearest', cmap=cmap)\n",
    "    plt.title(title)\n",
    "    plt.colorbar()\n",
    "    tick_marks = np.arange(len(classes))\n",
    "    plt.xticks(tick_marks, classes, rotation=45)\n",
    "    plt.yticks(tick_marks, classes)\n",
    "\n",
    "    fmt = '.2f' if normalize else 'd'\n",
    "    thresh = cm.max() / 2.\n",
    "    for i, j in itertools.product(range(cm.shape[0]), range(cm.shape[1])):\n",
    "        plt.text(j, i, format(cm[i, j], fmt),\n",
    "                 horizontalalignment=\"center\",\n",
    "                 color=\"white\" if cm[i, j] > thresh else \"black\")\n",
    "\n",
    "    plt.tight_layout()\n",
    "    plt.ylabel('True label')\n",
    "    plt.xlabel('Predicted label')"
   ]
  },
  {
   "cell_type": "code",
   "execution_count": 46,
   "metadata": {},
   "outputs": [
    {
     "name": "stdout",
     "output_type": "stream",
     "text": [
      "Confusion matrix, without normalization\n",
      "F1 Score: 77.97\n"
     ]
    },
    {
     "data": {
      "image/png": "[encoded data removed]",
      "text/plain": [
       "<Figure size 720x720 with 2 Axes>"
      ]
     },
     "metadata": {
      "needs_background": "light"
     },
     "output_type": "display_data"
    }
   ],
   "source": [
    "preds = np.argmax(best_model.predict(X_test), axis=1)\n",
    "actual = np.argmax(y_test, axis=1)\n",
    "\n",
    "cm = confusion_matrix(actual, preds)\n",
    "\n",
    "#[1,0] = 0;[0,1] =1\n",
    "#check y and target to confirm this\n",
    "#(1,0) = Democrat\n",
    "#(0,1) = Republican\n",
    "#p1 = Repub. P2 = Democ\n",
    "\n",
    "cm_plot_labels = ['Republican','Democrat']\n",
    "\n",
    "plot_confusion_matrix(cm, cm_plot_labels, normalize=False, title=best.title() +'NN Confusion Matrix')\n",
    "\n",
    "print('F1 Score: ' \"%.2f\" %(f1_score(actual, preds)*100))"
   ]
  },
  {
   "cell_type": "code",
   "execution_count": 47,
   "metadata": {},
   "outputs": [
    {
     "data": {
      "text/html": [
       "<div>\n",
       "<style scoped>\n",
       "    .dataframe tbody tr th:only-of-type {\n",
       "        vertical-align: middle;\n",
       "    }\n",
       "\n",
       "    .dataframe tbody tr th {\n",
       "        vertical-align: top;\n",
       "    }\n",
       "\n",
       "    .dataframe thead th {\n",
       "        text-align: right;\n",
       "    }\n",
       "</style>\n",
       "<table border=\"1\" class=\"dataframe\">\n",
       "  <thead>\n",
       "    <tr style=\"text-align: right;\">\n",
       "      <th></th>\n",
       "      <th>Actual</th>\n",
       "      <th>Predictions</th>\n",
       "      <th>text</th>\n",
       "      <th>bigrams</th>\n",
       "      <th>Accuracy</th>\n",
       "    </tr>\n",
       "  </thead>\n",
       "  <tbody>\n",
       "    <tr>\n",
       "      <th>0</th>\n",
       "      <td>1</td>\n",
       "      <td>1</td>\n",
       "      <td>[great, turnout, todays, rpc, meeting, looking...</td>\n",
       "      <td>[great, turnout, todays, rpc, meeting, looking...</td>\n",
       "      <td>True</td>\n",
       "    </tr>\n",
       "    <tr>\n",
       "      <th>1</th>\n",
       "      <td>1</td>\n",
       "      <td>1</td>\n",
       "      <td>[rt, prcomnonprofit, us, congressman, jody, hi...</td>\n",
       "      <td>[rt, prcomnonprofit, us, congressman, jody, hi...</td>\n",
       "      <td>True</td>\n",
       "    </tr>\n",
       "    <tr>\n",
       "      <th>2</th>\n",
       "      <td>1</td>\n",
       "      <td>0</td>\n",
       "      <td>[time, call, comes, constituent, needs, help, ...</td>\n",
       "      <td>[time, call, comes, constituent, needs, help, ...</td>\n",
       "      <td>False</td>\n",
       "    </tr>\n",
       "    <tr>\n",
       "      <th>3</th>\n",
       "      <td>0</td>\n",
       "      <td>0</td>\n",
       "      <td>[la, diversidad, nos, hace, mas, fuertes, hace...</td>\n",
       "      <td>[la, diversidad, nos, hace, mas, fuertes, hace...</td>\n",
       "      <td>True</td>\n",
       "    </tr>\n",
       "    <tr>\n",
       "      <th>4</th>\n",
       "      <td>0</td>\n",
       "      <td>1</td>\n",
       "      <td>[rt, fema, harvey, bringing, dangerous, storm,...</td>\n",
       "      <td>[rt, fema, harvey, bringing, dangerous, storm,...</td>\n",
       "      <td>False</td>\n",
       "    </tr>\n",
       "  </tbody>\n",
       "</table>\n",
       "</div>"
      ],
      "text/plain": [
       "   Actual  Predictions                                               text  \\\n",
       "0       1            1  [great, turnout, todays, rpc, meeting, looking...   \n",
       "1       1            1  [rt, prcomnonprofit, us, congressman, jody, hi...   \n",
       "2       1            0  [time, call, comes, constituent, needs, help, ...   \n",
       "3       0            0  [la, diversidad, nos, hace, mas, fuertes, hace...   \n",
       "4       0            1  [rt, fema, harvey, bringing, dangerous, storm,...   \n",
       "\n",
       "                                             bigrams  Accuracy  \n",
       "0  [great, turnout, todays, rpc, meeting, looking...      True  \n",
       "1  [rt, prcomnonprofit, us, congressman, jody, hi...      True  \n",
       "2  [time, call, comes, constituent, needs, help, ...     False  \n",
       "3  [la, diversidad, nos, hace, mas, fuertes, hace...      True  \n",
       "4  [rt, fema, harvey, bringing, dangerous, storm,...     False  "
      ]
     },
     "execution_count": 47,
     "metadata": {},
     "output_type": "execute_result"
    }
   ],
   "source": [
    "# Save all predictions to dataframe\n",
    "preds_df = pd.DataFrame.from_dict({'Predictions': preds, 'Actual': actual})\n",
    "preds_df = preds_df.join(X_test_text.reset_index(drop=True))\n",
    "\n",
    "# Create column to indicate if the prediction matches the actual\n",
    "# 0 = Clinton; 1 = Trump\n",
    "preds_df['Accuracy'] = preds_df['Predictions'] == preds_df['Actual']\n",
    "preds_df.head()"
   ]
  },
  {
   "cell_type": "code",
   "execution_count": 48,
   "metadata": {},
   "outputs": [
    {
     "data": {
      "text/html": [
       "<div>\n",
       "<style scoped>\n",
       "    .dataframe tbody tr th:only-of-type {\n",
       "        vertical-align: middle;\n",
       "    }\n",
       "\n",
       "    .dataframe tbody tr th {\n",
       "        vertical-align: top;\n",
       "    }\n",
       "\n",
       "    .dataframe thead th {\n",
       "        text-align: right;\n",
       "    }\n",
       "</style>\n",
       "<table border=\"1\" class=\"dataframe\">\n",
       "  <thead>\n",
       "    <tr style=\"text-align: right;\">\n",
       "      <th></th>\n",
       "      <th>Unnamed: 0</th>\n",
       "      <th>id</th>\n",
       "      <th>title</th>\n",
       "      <th>publication</th>\n",
       "      <th>author</th>\n",
       "      <th>date</th>\n",
       "      <th>year</th>\n",
       "      <th>month</th>\n",
       "      <th>url</th>\n",
       "      <th>content</th>\n",
       "    </tr>\n",
       "  </thead>\n",
       "  <tbody>\n",
       "    <tr>\n",
       "      <th>0</th>\n",
       "      <td>0</td>\n",
       "      <td>17283</td>\n",
       "      <td>House Republicans Fret About Winning Their Hea...</td>\n",
       "      <td>New York Times</td>\n",
       "      <td>Carl Hulse</td>\n",
       "      <td>2016-12-31</td>\n",
       "      <td>2016.0</td>\n",
       "      <td>12.0</td>\n",
       "      <td>NaN</td>\n",
       "      <td>WASHINGTON  —   Congressional Republicans have...</td>\n",
       "    </tr>\n",
       "    <tr>\n",
       "      <th>1</th>\n",
       "      <td>1</td>\n",
       "      <td>17284</td>\n",
       "      <td>Rift Between Officers and Residents as Killing...</td>\n",
       "      <td>New York Times</td>\n",
       "      <td>Benjamin Mueller and Al Baker</td>\n",
       "      <td>2017-06-19</td>\n",
       "      <td>2017.0</td>\n",
       "      <td>6.0</td>\n",
       "      <td>NaN</td>\n",
       "      <td>After the bullet shells get counted, the blood...</td>\n",
       "    </tr>\n",
       "    <tr>\n",
       "      <th>2</th>\n",
       "      <td>2</td>\n",
       "      <td>17285</td>\n",
       "      <td>Tyrus Wong, ‘Bambi’ Artist Thwarted by Racial ...</td>\n",
       "      <td>New York Times</td>\n",
       "      <td>Margalit Fox</td>\n",
       "      <td>2017-01-06</td>\n",
       "      <td>2017.0</td>\n",
       "      <td>1.0</td>\n",
       "      <td>NaN</td>\n",
       "      <td>When Walt Disney’s “Bambi” opened in 1942, cri...</td>\n",
       "    </tr>\n",
       "    <tr>\n",
       "      <th>3</th>\n",
       "      <td>3</td>\n",
       "      <td>17286</td>\n",
       "      <td>Among Deaths in 2016, a Heavy Toll in Pop Musi...</td>\n",
       "      <td>New York Times</td>\n",
       "      <td>William McDonald</td>\n",
       "      <td>2017-04-10</td>\n",
       "      <td>2017.0</td>\n",
       "      <td>4.0</td>\n",
       "      <td>NaN</td>\n",
       "      <td>Death may be the great equalizer, but it isn’t...</td>\n",
       "    </tr>\n",
       "    <tr>\n",
       "      <th>4</th>\n",
       "      <td>4</td>\n",
       "      <td>17287</td>\n",
       "      <td>Kim Jong-un Says North Korea Is Preparing to T...</td>\n",
       "      <td>New York Times</td>\n",
       "      <td>Choe Sang-Hun</td>\n",
       "      <td>2017-01-02</td>\n",
       "      <td>2017.0</td>\n",
       "      <td>1.0</td>\n",
       "      <td>NaN</td>\n",
       "      <td>SEOUL, South Korea  —   North Korea’s leader, ...</td>\n",
       "    </tr>\n",
       "  </tbody>\n",
       "</table>\n",
       "</div>"
      ],
      "text/plain": [
       "   Unnamed: 0     id                                              title  \\\n",
       "0           0  17283  House Republicans Fret About Winning Their Hea...   \n",
       "1           1  17284  Rift Between Officers and Residents as Killing...   \n",
       "2           2  17285  Tyrus Wong, ‘Bambi’ Artist Thwarted by Racial ...   \n",
       "3           3  17286  Among Deaths in 2016, a Heavy Toll in Pop Musi...   \n",
       "4           4  17287  Kim Jong-un Says North Korea Is Preparing to T...   \n",
       "\n",
       "      publication                         author        date    year  month  \\\n",
       "0  New York Times                     Carl Hulse  2016-12-31  2016.0   12.0   \n",
       "1  New York Times  Benjamin Mueller and Al Baker  2017-06-19  2017.0    6.0   \n",
       "2  New York Times                   Margalit Fox  2017-01-06  2017.0    1.0   \n",
       "3  New York Times               William McDonald  2017-04-10  2017.0    4.0   \n",
       "4  New York Times                  Choe Sang-Hun  2017-01-02  2017.0    1.0   \n",
       "\n",
       "   url                                            content  \n",
       "0  NaN  WASHINGTON  —   Congressional Republicans have...  \n",
       "1  NaN  After the bullet shells get counted, the blood...  \n",
       "2  NaN  When Walt Disney’s “Bambi” opened in 1942, cri...  \n",
       "3  NaN  Death may be the great equalizer, but it isn’t...  \n",
       "4  NaN  SEOUL, South Korea  —   North Korea’s leader, ...  "
      ]
     },
     "execution_count": 48,
     "metadata": {},
     "output_type": "execute_result"
    },
    {
     "data": {
      "text/plain": [
       "142570"
      ]
     },
     "execution_count": 48,
     "metadata": {},
     "output_type": "execute_result"
    }
   ],
   "source": [
    "df1=pd.read_csv('/home/asheshchoudhury/articles1.csv')\n",
    "df2=pd.read_csv('/home/asheshchoudhury/articles2.csv')\n",
    "df3=pd.read_csv('/home/asheshchoudhury/articles3.csv')\n",
    "allarticles_df = pd.concat([df1,df2,df3])\n",
    "allarticles_df.head(5)\n",
    "len(allarticles_df)\n"
   ]
  },
  {
   "cell_type": "code",
   "execution_count": 49,
   "metadata": {},
   "outputs": [],
   "source": [
    "# Take selected number of records to test\n",
    "no_of_records = 142570\n"
   ]
  },
  {
   "cell_type": "code",
   "execution_count": 50,
   "metadata": {},
   "outputs": [],
   "source": [
    "test_df = allarticles_df[['title','publication','date','month','year','content']].head(no_of_records)"
   ]
  },
  {
   "cell_type": "code",
   "execution_count": 51,
   "metadata": {},
   "outputs": [
    {
     "name": "stdout",
     "output_type": "stream",
     "text": [
      "Currently processing: 10000 of total 142570 records\n",
      "Currently processing: 20000 of total 142570 records\n",
      "Currently processing: 30000 of total 142570 records\n",
      "Currently processing: 40000 of total 142570 records\n",
      "Currently processing: 50000 of total 142570 records\n",
      "Currently processing: 60000 of total 142570 records\n",
      "Currently processing: 70000 of total 142570 records\n",
      "Currently processing: 80000 of total 142570 records\n",
      "Currently processing: 90000 of total 142570 records\n",
      "Currently processing: 100000 of total 142570 records\n",
      "Currently processing: 110000 of total 142570 records\n",
      "Currently processing: 120000 of total 142570 records\n",
      "Currently processing: 130000 of total 142570 records\n",
      "Currently processing: 140000 of total 142570 records\n"
     ]
    }
   ],
   "source": [
    "\n",
    "clean_text = []\n",
    "i = 0\n",
    "\n",
    "for text in test_df['content']:\n",
    "    i = i + 1\n",
    "    # Remove accent characters => Expand Contractions => Remove special characters => Lammatize Text => Remove Stop Words\n",
    "    no_accent_chars = unicodedata.normalize('NFKD', text).encode('ascii', 'ignore').decode('utf-8', 'ignore')\n",
    "    #expanded_text = expand_contractions(no_accent_chars)\n",
    "    expanded_text = no_accent_chars \n",
    "    no_special_chars = remove_special_characters(expanded_text, remove_digits=False)\n",
    "    #lem_text = lemmatize_text(no_special_chars)\n",
    "    #filtered_text = remove_stopwords(lem_text)\n",
    "    filtered_text = remove_stopwords(no_special_chars)\n",
    "    \n",
    "    # Make all text lowercase\n",
    "    lowercase_text = filtered_text.lower()\n",
    "    \n",
    "    # Split text into list of words\n",
    "    words = lowercase_text.split()\n",
    "    clean_text.append(words)\n",
    "    if (i%10000 == 0):\n",
    "        print('Currently processing: %s of total %s records' %(i,no_of_records))\n",
    "\n",
    "# Add cleaned text to dataframe\n",
    "test_df['clean_content'] = clean_text\n"
   ]
  },
  {
   "cell_type": "code",
   "execution_count": 52,
   "metadata": {},
   "outputs": [],
   "source": [
    "data = test_df['clean_content'].values\n",
    "bigrams_data = []\n",
    "\n",
    "\n",
    "for i in range(len(data)):\n",
    "#    bigrams_data.append(bigrams[data[i]])\n",
    "    bigrams_data.append([data[i]])\n",
    "    \n",
    "bigrams_data = np.array(bigrams_data)\n"
   ]
  },
  {
   "cell_type": "code",
   "execution_count": 53,
   "metadata": {},
   "outputs": [
    {
     "name": "stdout",
     "output_type": "stream",
     "text": [
      "Total Words in Vocabulary: 435327\n"
     ]
    }
   ],
   "source": [
    "bigrams_joined = []\n",
    "\n",
    "for a in bigrams_data:\n",
    "    for b in a:\n",
    "        bigrams_joined.append(' '.join(b))\n",
    "\n",
    "# Remove underscore from filters and no need to convert to lowercase\n",
    "#tokenizer = text.Tokenizer(filters='!\"#%&()*+,./:;<=>?@[\\\\]^`{|}~\\t\\n', lower=False)\n",
    "tokenizer.fit_on_texts(bigrams_joined)\n",
    "sequences = tokenizer.texts_to_sequences(bigrams_joined)\n",
    "\n",
    "word_index = tokenizer.word_index\n",
    "print('Total Words in Vocabulary: {}' .format(len(word_index)))"
   ]
  },
  {
   "cell_type": "code",
   "execution_count": 54,
   "metadata": {},
   "outputs": [
    {
     "data": {
      "text/plain": [
       "142570"
      ]
     },
     "execution_count": 54,
     "metadata": {},
     "output_type": "execute_result"
    }
   ],
   "source": [
    "X_t = pad_sequences(sequences, maxlen=max_len, padding='post')\n",
    "X_t_df = pd.DataFrame(X_t)\n",
    "#X_t_df['bigrams'] = bigrams_data\n",
    "#X_t_df['text'] = df.reset_index(drop=True)['clean_tweet']\n",
    "len(X_t_df)"
   ]
  },
  {
   "cell_type": "code",
   "execution_count": 55,
   "metadata": {},
   "outputs": [
    {
     "data": {
      "text/html": [
       "<div>\n",
       "<style scoped>\n",
       "    .dataframe tbody tr th:only-of-type {\n",
       "        vertical-align: middle;\n",
       "    }\n",
       "\n",
       "    .dataframe tbody tr th {\n",
       "        vertical-align: top;\n",
       "    }\n",
       "\n",
       "    .dataframe thead th {\n",
       "        text-align: right;\n",
       "    }\n",
       "</style>\n",
       "<table border=\"1\" class=\"dataframe\">\n",
       "  <thead>\n",
       "    <tr style=\"text-align: right;\">\n",
       "      <th></th>\n",
       "      <th>0</th>\n",
       "      <th>1</th>\n",
       "      <th>2</th>\n",
       "      <th>3</th>\n",
       "      <th>4</th>\n",
       "      <th>5</th>\n",
       "      <th>6</th>\n",
       "      <th>7</th>\n",
       "      <th>8</th>\n",
       "      <th>9</th>\n",
       "      <th>...</th>\n",
       "      <th>20</th>\n",
       "      <th>21</th>\n",
       "      <th>22</th>\n",
       "      <th>23</th>\n",
       "      <th>24</th>\n",
       "      <th>25</th>\n",
       "      <th>26</th>\n",
       "      <th>27</th>\n",
       "      <th>28</th>\n",
       "      <th>29</th>\n",
       "    </tr>\n",
       "  </thead>\n",
       "  <tbody>\n",
       "    <tr>\n",
       "      <th>142565</th>\n",
       "      <td>2328</td>\n",
       "      <td>194</td>\n",
       "      <td>918</td>\n",
       "      <td>7083</td>\n",
       "      <td>975</td>\n",
       "      <td>871</td>\n",
       "      <td>26414</td>\n",
       "      <td>2413</td>\n",
       "      <td>1436</td>\n",
       "      <td>9209</td>\n",
       "      <td>...</td>\n",
       "      <td>1428</td>\n",
       "      <td>25629</td>\n",
       "      <td>813</td>\n",
       "      <td>530</td>\n",
       "      <td>85</td>\n",
       "      <td>188</td>\n",
       "      <td>62</td>\n",
       "      <td>29</td>\n",
       "      <td>871</td>\n",
       "      <td>378</td>\n",
       "    </tr>\n",
       "    <tr>\n",
       "      <th>142566</th>\n",
       "      <td>11081</td>\n",
       "      <td>216312</td>\n",
       "      <td>57497</td>\n",
       "      <td>1136</td>\n",
       "      <td>137</td>\n",
       "      <td>2698</td>\n",
       "      <td>98641</td>\n",
       "      <td>216313</td>\n",
       "      <td>857</td>\n",
       "      <td>476</td>\n",
       "      <td>...</td>\n",
       "      <td>216312</td>\n",
       "      <td>57497</td>\n",
       "      <td>1136</td>\n",
       "      <td>137</td>\n",
       "      <td>2698</td>\n",
       "      <td>98641</td>\n",
       "      <td>216313</td>\n",
       "      <td>857</td>\n",
       "      <td>476</td>\n",
       "      <td>96</td>\n",
       "    </tr>\n",
       "    <tr>\n",
       "      <th>142567</th>\n",
       "      <td>212</td>\n",
       "      <td>39</td>\n",
       "      <td>644</td>\n",
       "      <td>742</td>\n",
       "      <td>1834</td>\n",
       "      <td>3421</td>\n",
       "      <td>1432</td>\n",
       "      <td>340</td>\n",
       "      <td>7</td>\n",
       "      <td>86</td>\n",
       "      <td>...</td>\n",
       "      <td>5778</td>\n",
       "      <td>38480</td>\n",
       "      <td>2</td>\n",
       "      <td>20247</td>\n",
       "      <td>18195</td>\n",
       "      <td>15688</td>\n",
       "      <td>533</td>\n",
       "      <td>5403</td>\n",
       "      <td>218</td>\n",
       "      <td>23258</td>\n",
       "    </tr>\n",
       "    <tr>\n",
       "      <th>142568</th>\n",
       "      <td>888</td>\n",
       "      <td>14040</td>\n",
       "      <td>17348</td>\n",
       "      <td>4</td>\n",
       "      <td>525</td>\n",
       "      <td>47</td>\n",
       "      <td>1113</td>\n",
       "      <td>287</td>\n",
       "      <td>11</td>\n",
       "      <td>604</td>\n",
       "      <td>...</td>\n",
       "      <td>508</td>\n",
       "      <td>669</td>\n",
       "      <td>625</td>\n",
       "      <td>163</td>\n",
       "      <td>796</td>\n",
       "      <td>3134</td>\n",
       "      <td>4857</td>\n",
       "      <td>390</td>\n",
       "      <td>26</td>\n",
       "      <td>137</td>\n",
       "    </tr>\n",
       "    <tr>\n",
       "      <th>142569</th>\n",
       "      <td>1042</td>\n",
       "      <td>2510</td>\n",
       "      <td>34453</td>\n",
       "      <td>1580</td>\n",
       "      <td>466</td>\n",
       "      <td>764</td>\n",
       "      <td>4989</td>\n",
       "      <td>82</td>\n",
       "      <td>10</td>\n",
       "      <td>35</td>\n",
       "      <td>...</td>\n",
       "      <td>15</td>\n",
       "      <td>5</td>\n",
       "      <td>54</td>\n",
       "      <td>1856</td>\n",
       "      <td>10</td>\n",
       "      <td>2474</td>\n",
       "      <td>122</td>\n",
       "      <td>1415</td>\n",
       "      <td>1436</td>\n",
       "      <td>2733</td>\n",
       "    </tr>\n",
       "  </tbody>\n",
       "</table>\n",
       "<p>5 rows × 30 columns</p>\n",
       "</div>"
      ],
      "text/plain": [
       "           0       1      2     3     4     5      6       7     8     9   \\\n",
       "142565   2328     194    918  7083   975   871  26414    2413  1436  9209   \n",
       "142566  11081  216312  57497  1136   137  2698  98641  216313   857   476   \n",
       "142567    212      39    644   742  1834  3421   1432     340     7    86   \n",
       "142568    888   14040  17348     4   525    47   1113     287    11   604   \n",
       "142569   1042    2510  34453  1580   466   764   4989      82    10    35   \n",
       "\n",
       "        ...      20     21    22     23     24     25      26    27    28  \\\n",
       "142565  ...    1428  25629   813    530     85    188      62    29   871   \n",
       "142566  ...  216312  57497  1136    137   2698  98641  216313   857   476   \n",
       "142567  ...    5778  38480     2  20247  18195  15688     533  5403   218   \n",
       "142568  ...     508    669   625    163    796   3134    4857   390    26   \n",
       "142569  ...      15      5    54   1856     10   2474     122  1415  1436   \n",
       "\n",
       "           29  \n",
       "142565    378  \n",
       "142566     96  \n",
       "142567  23258  \n",
       "142568    137  \n",
       "142569   2733  \n",
       "\n",
       "[5 rows x 30 columns]"
      ]
     },
     "execution_count": 55,
     "metadata": {},
     "output_type": "execute_result"
    }
   ],
   "source": [
    "X_t_df.tail()"
   ]
  },
  {
   "cell_type": "code",
   "execution_count": 56,
   "metadata": {},
   "outputs": [],
   "source": [
    "a = X_t_df.shape[0]\n",
    "b = X_t_df.shape[1]"
   ]
  },
  {
   "cell_type": "code",
   "execution_count": 88,
   "metadata": {},
   "outputs": [],
   "source": [
    "#Ensure the maximun embedding lenght of training set(132893) retains in test set. \n",
    "X_t_maxembeddinglen_adjusted_df = []\n",
    "for i in range(a):\n",
    "    for j in range(b):\n",
    "        if (X_t_df[j][i]) > 132893: \n",
    "            X_t_df[j][i] = 132892\n"
   ]
  },
  {
   "cell_type": "code",
   "execution_count": 89,
   "metadata": {},
   "outputs": [
    {
     "data": {
      "text/plain": [
       "array([0, 1, 1, ..., 0, 0, 0])"
      ]
     },
     "execution_count": 89,
     "metadata": {},
     "output_type": "execute_result"
    }
   ],
   "source": [
    "#Predict Political Afflication\n",
    "political_affliation_pred_D0_R1 = np.argmax(rnn_model.predict(X_t_df), axis=1)\n",
    "political_affliation_pred_D0_R1"
   ]
  },
  {
   "cell_type": "code",
   "execution_count": 90,
   "metadata": {},
   "outputs": [],
   "source": [
    "# Predict Political leaning (proxy of Bias)\n",
    "political_affliation_measure=rnn_model.predict(X_t_df)"
   ]
  },
  {
   "cell_type": "code",
   "execution_count": 91,
   "metadata": {},
   "outputs": [],
   "source": [
    "#Append Political Leaning in DF\n",
    "democrat_affliation = []\n",
    "republican_affliation = []\n",
    "for i in range(len(X_t_df)):\n",
    "    democrat_affliation.append(political_affliation_measure[i][0])\n",
    "    republican_affliation.append(political_affliation_measure[i][1])   "
   ]
  },
  {
   "cell_type": "code",
   "execution_count": 92,
   "metadata": {},
   "outputs": [],
   "source": [
    "test_df['political_affliation_pred_D0_R1'] = political_affliation_pred_D0_R1\n",
    "test_df['democrat_affliation'] = democrat_affliation\n",
    "test_df['republican_affliation'] = republican_affliation\n"
   ]
  },
  {
   "cell_type": "code",
   "execution_count": 93,
   "metadata": {},
   "outputs": [
    {
     "data": {
      "text/html": [
       "<div>\n",
       "<style scoped>\n",
       "    .dataframe tbody tr th:only-of-type {\n",
       "        vertical-align: middle;\n",
       "    }\n",
       "\n",
       "    .dataframe tbody tr th {\n",
       "        vertical-align: top;\n",
       "    }\n",
       "\n",
       "    .dataframe thead th {\n",
       "        text-align: right;\n",
       "    }\n",
       "</style>\n",
       "<table border=\"1\" class=\"dataframe\">\n",
       "  <thead>\n",
       "    <tr style=\"text-align: right;\">\n",
       "      <th></th>\n",
       "      <th>title</th>\n",
       "      <th>publication</th>\n",
       "      <th>date</th>\n",
       "      <th>month</th>\n",
       "      <th>year</th>\n",
       "      <th>content</th>\n",
       "      <th>clean_content</th>\n",
       "      <th>political_affliation_pred_D0_R1</th>\n",
       "      <th>democrat_affliation</th>\n",
       "      <th>republican_affliation</th>\n",
       "    </tr>\n",
       "  </thead>\n",
       "  <tbody>\n",
       "    <tr>\n",
       "      <th>18</th>\n",
       "      <td>Suicide Bombing in Baghdad Kills at Least 36 -...</td>\n",
       "      <td>New York Times</td>\n",
       "      <td>2017-01-03</td>\n",
       "      <td>1.0</td>\n",
       "      <td>2017.0</td>\n",
       "      <td>BAGHDAD  —   A suicide bomber detonated a pick...</td>\n",
       "      <td>[baghdad, suicide, bomber, detonated, pickup, ...</td>\n",
       "      <td>1</td>\n",
       "      <td>0.369008</td>\n",
       "      <td>0.630992</td>\n",
       "    </tr>\n",
       "    <tr>\n",
       "      <th>20</th>\n",
       "      <td>N.F.L. Playoffs: Schedule, Matchups and Odds -...</td>\n",
       "      <td>New York Times</td>\n",
       "      <td>2017-01-03</td>\n",
       "      <td>1.0</td>\n",
       "      <td>2017.0</td>\n",
       "      <td>When the Green Bay Packers lost to the Washing...</td>\n",
       "      <td>[green, bay, packers, lost, washington, redski...</td>\n",
       "      <td>0</td>\n",
       "      <td>0.694885</td>\n",
       "      <td>0.305115</td>\n",
       "    </tr>\n",
       "    <tr>\n",
       "      <th>43</th>\n",
       "      <td>Trump Appears to Side With Assange Over Intell...</td>\n",
       "      <td>New York Times</td>\n",
       "      <td>2017-01-05</td>\n",
       "      <td>1.0</td>\n",
       "      <td>2017.0</td>\n",
       "      <td>■   Donald J. Trump appears to side with the W...</td>\n",
       "      <td>[donald, j, trump, appears, side, wikileaks, f...</td>\n",
       "      <td>0</td>\n",
       "      <td>0.537654</td>\n",
       "      <td>0.462346</td>\n",
       "    </tr>\n",
       "    <tr>\n",
       "      <th>80</th>\n",
       "      <td>Coal Fire, Not Just Iceberg, Doomed the Titani...</td>\n",
       "      <td>New York Times</td>\n",
       "      <td>2017-01-04</td>\n",
       "      <td>1.0</td>\n",
       "      <td>2017.0</td>\n",
       "      <td>LONDON  —   Maybe it wasn’t just the iceberg. ...</td>\n",
       "      <td>[london, maybe, wasnt, iceberg, ever, since, t...</td>\n",
       "      <td>1</td>\n",
       "      <td>0.318422</td>\n",
       "      <td>0.681578</td>\n",
       "    </tr>\n",
       "  </tbody>\n",
       "</table>\n",
       "</div>"
      ],
      "text/plain": [
       "                                                title     publication  \\\n",
       "18  Suicide Bombing in Baghdad Kills at Least 36 -...  New York Times   \n",
       "20  N.F.L. Playoffs: Schedule, Matchups and Odds -...  New York Times   \n",
       "43  Trump Appears to Side With Assange Over Intell...  New York Times   \n",
       "80  Coal Fire, Not Just Iceberg, Doomed the Titani...  New York Times   \n",
       "\n",
       "          date  month    year  \\\n",
       "18  2017-01-03    1.0  2017.0   \n",
       "20  2017-01-03    1.0  2017.0   \n",
       "43  2017-01-05    1.0  2017.0   \n",
       "80  2017-01-04    1.0  2017.0   \n",
       "\n",
       "                                              content  \\\n",
       "18  BAGHDAD  —   A suicide bomber detonated a pick...   \n",
       "20  When the Green Bay Packers lost to the Washing...   \n",
       "43  ■   Donald J. Trump appears to side with the W...   \n",
       "80  LONDON  —   Maybe it wasn’t just the iceberg. ...   \n",
       "\n",
       "                                        clean_content  \\\n",
       "18  [baghdad, suicide, bomber, detonated, pickup, ...   \n",
       "20  [green, bay, packers, lost, washington, redski...   \n",
       "43  [donald, j, trump, appears, side, wikileaks, f...   \n",
       "80  [london, maybe, wasnt, iceberg, ever, since, t...   \n",
       "\n",
       "    political_affliation_pred_D0_R1  democrat_affliation  \\\n",
       "18                                1             0.369008   \n",
       "20                                0             0.694885   \n",
       "43                                0             0.537654   \n",
       "80                                1             0.318422   \n",
       "\n",
       "    republican_affliation  \n",
       "18               0.630992  \n",
       "20               0.305115  \n",
       "43               0.462346  \n",
       "80               0.681578  "
      ]
     },
     "execution_count": 93,
     "metadata": {},
     "output_type": "execute_result"
    },
    {
     "data": {
      "text/plain": [
       "count    142570.000000\n",
       "mean          0.510269\n",
       "std           0.499896\n",
       "min           0.000000\n",
       "25%           0.000000\n",
       "50%           1.000000\n",
       "75%           1.000000\n",
       "max           1.000000\n",
       "Name: political_affliation_pred_D0_R1, dtype: float64"
      ]
     },
     "execution_count": 93,
     "metadata": {},
     "output_type": "execute_result"
    }
   ],
   "source": [
    "test_df.loc[(test_df['republican_affliation'] > 0.30) & (test_df['republican_affliation'] < 0.70)].head(4)\n",
    "test_df['political_affliation_pred_D0_R1'].describe()"
   ]
  },
  {
   "cell_type": "code",
   "execution_count": 85,
   "metadata": {},
   "outputs": [],
   "source": [
    "publications = test_df['publication'].unique()"
   ]
  },
  {
   "cell_type": "code",
   "execution_count": 64,
   "metadata": {},
   "outputs": [],
   "source": [
    "Republican_affliation =[]\n",
    "publicatation_house = []\n",
    "Republican_1_or_Democrat_0_classification =[]\n",
    "\n",
    "for i in publications:\n",
    "    publicatation_house.append(i)\n",
    "    Republican_affliation.append(\"%.1f\" %(test_df.loc[test_df['publication'] == i]['republican_affliation'].mean()*100))\n",
    "    Republican_1_or_Democrat_0_classification.append(\"%.1f\" %(test_df.loc[test_df['publication'] == i]['political_affliation_pred_D0_R1'].mean()*100))\n",
    "    #\"%.2f\" %(f1_score(actual, preds)*100))\n",
    "    #print(\"%.1f\" %(test_df.loc[test_df['publication'] == i]['republican_affliation'].mean()*100))"
   ]
  },
  {
   "cell_type": "code",
   "execution_count": 65,
   "metadata": {},
   "outputs": [
    {
     "data": {
      "text/plain": [
       "['New York Times',\n",
       " 'Breitbart',\n",
       " 'CNN',\n",
       " 'Business Insider',\n",
       " 'Atlantic',\n",
       " 'Fox News',\n",
       " 'Talking Points Memo',\n",
       " 'Buzzfeed News',\n",
       " 'National Review',\n",
       " 'New York Post',\n",
       " 'Guardian',\n",
       " 'NPR',\n",
       " 'Reuters',\n",
       " 'Vox',\n",
       " 'Washington Post']"
      ]
     },
     "execution_count": 65,
     "metadata": {},
     "output_type": "execute_result"
    }
   ],
   "source": [
    "publicatation_house"
   ]
  },
  {
   "cell_type": "code",
   "execution_count": 66,
   "metadata": {},
   "outputs": [
    {
     "data": {
      "text/plain": [
       "['54.1',\n",
       " '43.9',\n",
       " '53.4',\n",
       " '52.9',\n",
       " '53.7',\n",
       " '46.3',\n",
       " '57.9',\n",
       " '54.2',\n",
       " '55.5',\n",
       " '53.4',\n",
       " '54.4',\n",
       " '55.2',\n",
       " '43.5',\n",
       " '51.5',\n",
       " '50.6']"
      ]
     },
     "execution_count": 66,
     "metadata": {},
     "output_type": "execute_result"
    }
   ],
   "source": [
    "Republican_affliation"
   ]
  },
  {
   "cell_type": "code",
   "execution_count": 67,
   "metadata": {},
   "outputs": [
    {
     "data": {
      "text/plain": [
       "['54.2',\n",
       " '43.9',\n",
       " '53.3',\n",
       " '52.3',\n",
       " '53.8',\n",
       " '46.2',\n",
       " '58.2',\n",
       " '54.0',\n",
       " '55.5',\n",
       " '53.4',\n",
       " '54.4',\n",
       " '55.3',\n",
       " '42.8',\n",
       " '51.4',\n",
       " '50.5']"
      ]
     },
     "execution_count": 67,
     "metadata": {},
     "output_type": "execute_result"
    }
   ],
   "source": [
    "Republican_1_or_Democrat_0_classification"
   ]
  },
  {
   "cell_type": "code",
   "execution_count": 68,
   "metadata": {},
   "outputs": [
    {
     "data": {
      "text/html": [
       "<div>\n",
       "<style scoped>\n",
       "    .dataframe tbody tr th:only-of-type {\n",
       "        vertical-align: middle;\n",
       "    }\n",
       "\n",
       "    .dataframe tbody tr th {\n",
       "        vertical-align: top;\n",
       "    }\n",
       "\n",
       "    .dataframe thead th {\n",
       "        text-align: right;\n",
       "    }\n",
       "</style>\n",
       "<table border=\"1\" class=\"dataframe\">\n",
       "  <thead>\n",
       "    <tr style=\"text-align: right;\">\n",
       "      <th></th>\n",
       "      <th>title</th>\n",
       "      <th>publication</th>\n",
       "      <th>date</th>\n",
       "      <th>month</th>\n",
       "      <th>year</th>\n",
       "      <th>content</th>\n",
       "      <th>clean_content</th>\n",
       "      <th>political_affliation_pred_D0_R1</th>\n",
       "      <th>democrat_affliation</th>\n",
       "      <th>republican_affliation</th>\n",
       "    </tr>\n",
       "  </thead>\n",
       "  <tbody>\n",
       "    <tr>\n",
       "      <th>0</th>\n",
       "      <td>House Republicans Fret About Winning Their Hea...</td>\n",
       "      <td>New York Times</td>\n",
       "      <td>2016-12-31</td>\n",
       "      <td>12.0</td>\n",
       "      <td>2016.0</td>\n",
       "      <td>WASHINGTON  —   Congressional Republicans have...</td>\n",
       "      <td>[washington, congressional, republicans, new, ...</td>\n",
       "      <td>0</td>\n",
       "      <td>9.993735e-01</td>\n",
       "      <td>0.000626</td>\n",
       "    </tr>\n",
       "    <tr>\n",
       "      <th>1</th>\n",
       "      <td>Rift Between Officers and Residents as Killing...</td>\n",
       "      <td>New York Times</td>\n",
       "      <td>2017-06-19</td>\n",
       "      <td>6.0</td>\n",
       "      <td>2017.0</td>\n",
       "      <td>After the bullet shells get counted, the blood...</td>\n",
       "      <td>[bullet, shells, get, counted, blood, dries, v...</td>\n",
       "      <td>1</td>\n",
       "      <td>3.353254e-07</td>\n",
       "      <td>1.000000</td>\n",
       "    </tr>\n",
       "  </tbody>\n",
       "</table>\n",
       "</div>"
      ],
      "text/plain": [
       "                                               title     publication  \\\n",
       "0  House Republicans Fret About Winning Their Hea...  New York Times   \n",
       "1  Rift Between Officers and Residents as Killing...  New York Times   \n",
       "\n",
       "         date  month    year  \\\n",
       "0  2016-12-31   12.0  2016.0   \n",
       "1  2017-06-19    6.0  2017.0   \n",
       "\n",
       "                                             content  \\\n",
       "0  WASHINGTON  —   Congressional Republicans have...   \n",
       "1  After the bullet shells get counted, the blood...   \n",
       "\n",
       "                                       clean_content  \\\n",
       "0  [washington, congressional, republicans, new, ...   \n",
       "1  [bullet, shells, get, counted, blood, dries, v...   \n",
       "\n",
       "   political_affliation_pred_D0_R1  democrat_affliation  republican_affliation  \n",
       "0                                0         9.993735e-01               0.000626  \n",
       "1                                1         3.353254e-07               1.000000  "
      ]
     },
     "execution_count": 68,
     "metadata": {},
     "output_type": "execute_result"
    }
   ],
   "source": [
    "#Divide Publishing houses\n",
    "Breitbart_df = test_df.loc[test_df['publication'] == 'Breitbart']\n",
    "CNN_df = test_df.loc[test_df['publication'] == 'CNN']\n",
    "Fox_df = test_df.loc[test_df['publication'] == 'Fox News']\n",
    "Washington_Post_df = test_df.loc[test_df['publication'] == 'Washington Post']\n",
    "NYT_df = test_df.loc[test_df['publication'] == 'New York Times']\n",
    "NYT_republican_affliation_df = NYT_df['republican_affliation']\n",
    "NYT_df.head(2)"
   ]
  },
  {
   "cell_type": "code",
   "execution_count": 69,
   "metadata": {},
   "outputs": [
    {
     "data": {
      "text/html": [
       "<div>\n",
       "<style scoped>\n",
       "    .dataframe tbody tr th:only-of-type {\n",
       "        vertical-align: middle;\n",
       "    }\n",
       "\n",
       "    .dataframe tbody tr th {\n",
       "        vertical-align: top;\n",
       "    }\n",
       "\n",
       "    .dataframe thead th {\n",
       "        text-align: right;\n",
       "    }\n",
       "</style>\n",
       "<table border=\"1\" class=\"dataframe\">\n",
       "  <thead>\n",
       "    <tr style=\"text-align: right;\">\n",
       "      <th></th>\n",
       "      <th>republican_affliation</th>\n",
       "    </tr>\n",
       "    <tr>\n",
       "      <th>datetime</th>\n",
       "      <th></th>\n",
       "    </tr>\n",
       "  </thead>\n",
       "  <tbody>\n",
       "    <tr>\n",
       "      <th>2016-12-31</th>\n",
       "      <td>0.000626</td>\n",
       "    </tr>\n",
       "    <tr>\n",
       "      <th>2017-06-19</th>\n",
       "      <td>1.000000</td>\n",
       "    </tr>\n",
       "    <tr>\n",
       "      <th>2017-01-06</th>\n",
       "      <td>0.999997</td>\n",
       "    </tr>\n",
       "    <tr>\n",
       "      <th>2017-04-10</th>\n",
       "      <td>0.999408</td>\n",
       "    </tr>\n",
       "    <tr>\n",
       "      <th>2017-01-02</th>\n",
       "      <td>0.000002</td>\n",
       "    </tr>\n",
       "  </tbody>\n",
       "</table>\n",
       "</div>"
      ],
      "text/plain": [
       "            republican_affliation\n",
       "datetime                         \n",
       "2016-12-31               0.000626\n",
       "2017-06-19               1.000000\n",
       "2017-01-06               0.999997\n",
       "2017-04-10               0.999408\n",
       "2017-01-02               0.000002"
      ]
     },
     "execution_count": 69,
     "metadata": {},
     "output_type": "execute_result"
    }
   ],
   "source": [
    "NYT_all_coloumn_df = NYT_df\n",
    "NYT_df['datetime'] = pd.to_datetime(NYT_df['date'])\n",
    "NYT_df = NYT_df.set_index('datetime')\n",
    "NYT_df.drop(['title','publication','date','month','year','content','clean_content','political_affliation_pred_D0_R1','democrat_affliation'], axis=1, inplace=True)\n",
    "NYT_df.head()"
   ]
  },
  {
   "cell_type": "code",
   "execution_count": 70,
   "metadata": {},
   "outputs": [
    {
     "data": {
      "text/html": [
       "<div>\n",
       "<style scoped>\n",
       "    .dataframe tbody tr th:only-of-type {\n",
       "        vertical-align: middle;\n",
       "    }\n",
       "\n",
       "    .dataframe tbody tr th {\n",
       "        vertical-align: top;\n",
       "    }\n",
       "\n",
       "    .dataframe thead th {\n",
       "        text-align: right;\n",
       "    }\n",
       "</style>\n",
       "<table border=\"1\" class=\"dataframe\">\n",
       "  <thead>\n",
       "    <tr style=\"text-align: right;\">\n",
       "      <th></th>\n",
       "      <th>republican_affliation</th>\n",
       "    </tr>\n",
       "    <tr>\n",
       "      <th>datetime</th>\n",
       "      <th></th>\n",
       "    </tr>\n",
       "  </thead>\n",
       "  <tbody>\n",
       "    <tr>\n",
       "      <th>2014-05-31</th>\n",
       "      <td>1.089251e-09</td>\n",
       "    </tr>\n",
       "    <tr>\n",
       "      <th>2014-06-30</th>\n",
       "      <td>NaN</td>\n",
       "    </tr>\n",
       "    <tr>\n",
       "      <th>2014-07-31</th>\n",
       "      <td>NaN</td>\n",
       "    </tr>\n",
       "    <tr>\n",
       "      <th>2014-08-31</th>\n",
       "      <td>NaN</td>\n",
       "    </tr>\n",
       "    <tr>\n",
       "      <th>2014-09-30</th>\n",
       "      <td>NaN</td>\n",
       "    </tr>\n",
       "  </tbody>\n",
       "</table>\n",
       "</div>"
      ],
      "text/plain": [
       "            republican_affliation\n",
       "datetime                         \n",
       "2014-05-31           1.089251e-09\n",
       "2014-06-30                    NaN\n",
       "2014-07-31                    NaN\n",
       "2014-08-31                    NaN\n",
       "2014-09-30                    NaN"
      ]
     },
     "execution_count": 70,
     "metadata": {},
     "output_type": "execute_result"
    }
   ],
   "source": [
    "#Take monthly mean of Republican afflition\n",
    "NYT_monthlymean_df = NYT_df.resample('M').mean()\n",
    "NYT_monthlymean_df.head()"
   ]
  },
  {
   "cell_type": "code",
   "execution_count": 71,
   "metadata": {},
   "outputs": [
    {
     "data": {
      "text/html": [
       "<div>\n",
       "<style scoped>\n",
       "    .dataframe tbody tr th:only-of-type {\n",
       "        vertical-align: middle;\n",
       "    }\n",
       "\n",
       "    .dataframe tbody tr th {\n",
       "        vertical-align: top;\n",
       "    }\n",
       "\n",
       "    .dataframe thead th {\n",
       "        text-align: right;\n",
       "    }\n",
       "</style>\n",
       "<table border=\"1\" class=\"dataframe\">\n",
       "  <thead>\n",
       "    <tr style=\"text-align: right;\">\n",
       "      <th></th>\n",
       "      <th>Year_Month</th>\n",
       "      <th>NYT_republican_affliation</th>\n",
       "    </tr>\n",
       "    <tr>\n",
       "      <th>datetime</th>\n",
       "      <th></th>\n",
       "      <th></th>\n",
       "    </tr>\n",
       "  </thead>\n",
       "  <tbody>\n",
       "    <tr>\n",
       "      <th>2017-02-28</th>\n",
       "      <td>2017-2</td>\n",
       "      <td>0.525484</td>\n",
       "    </tr>\n",
       "    <tr>\n",
       "      <th>2017-03-31</th>\n",
       "      <td>2017-3</td>\n",
       "      <td>0.519023</td>\n",
       "    </tr>\n",
       "    <tr>\n",
       "      <th>2017-04-30</th>\n",
       "      <td>2017-4</td>\n",
       "      <td>0.562040</td>\n",
       "    </tr>\n",
       "    <tr>\n",
       "      <th>2017-05-31</th>\n",
       "      <td>2017-5</td>\n",
       "      <td>0.487805</td>\n",
       "    </tr>\n",
       "    <tr>\n",
       "      <th>2017-06-30</th>\n",
       "      <td>2017-6</td>\n",
       "      <td>0.582949</td>\n",
       "    </tr>\n",
       "  </tbody>\n",
       "</table>\n",
       "</div>"
      ],
      "text/plain": [
       "           Year_Month  NYT_republican_affliation\n",
       "datetime                                        \n",
       "2017-02-28     2017-2                   0.525484\n",
       "2017-03-31     2017-3                   0.519023\n",
       "2017-04-30     2017-4                   0.562040\n",
       "2017-05-31     2017-5                   0.487805\n",
       "2017-06-30     2017-6                   0.582949"
      ]
     },
     "execution_count": 71,
     "metadata": {},
     "output_type": "execute_result"
    }
   ],
   "source": [
    "NYT_monthlymean_df['Date'] = NYT_monthlymean_df.index.date\n",
    "NYT_monthlymean_df['Year'] = NYT_monthlymean_df.index.year\n",
    "NYT_monthlymean_df['Month'] = NYT_monthlymean_df.index.month\n",
    "NYT_monthlymean_df['Day'] = NYT_monthlymean_df.index.day\n",
    "NYT_monthlymean_df['Weekday']= NYT_monthlymean_df.index.weekday_name\n",
    "NYT_monthlymean_df['Year_Month']= NYT_monthlymean_df.Year.astype(str) + '-'+ NYT_monthlymean_df.Month.astype(str)  \n",
    "NYT_monthlymean_df['NYT_republican_affliation'] = NYT_monthlymean_df['republican_affliation']\n",
    "NYT_monthlymean_df.drop(['Date','Year','Month','Day','Weekday','republican_affliation'], axis=1, inplace=True)\n",
    "NYT_monthlymean_df.tail()"
   ]
  },
  {
   "cell_type": "code",
   "execution_count": 72,
   "metadata": {},
   "outputs": [
    {
     "name": "stderr",
     "output_type": "stream",
     "text": [
      "/usr/local/lib/python3.5/dist-packages/pandas/plotting/_matplotlib/converter.py:103: FutureWarning:\n",
      "\n",
      "Using an implicitly registered datetime converter for a matplotlib plotting method. The converter was registered by pandas on import. Future versions of pandas will require you to explicitly register matplotlib converters.\n",
      "\n",
      "To register the converters:\n",
      "\t>>> from pandas.plotting import register_matplotlib_converters\n",
      "\t>>> register_matplotlib_converters()\n",
      "\n"
     ]
    },
    {
     "data": {
      "text/plain": [
       "[<matplotlib.lines.Line2D at 0x7fd311319160>]"
      ]
     },
     "execution_count": 72,
     "metadata": {},
     "output_type": "execute_result"
    },
    {
     "data": {
      "text/plain": [
       "Text(0.5, 0, 'Time')"
      ]
     },
     "execution_count": 72,
     "metadata": {},
     "output_type": "execute_result"
    },
    {
     "data": {
      "text/plain": [
       "Text(0, 0.5, 'NYT monthly mean Republican Affliation')"
      ]
     },
     "execution_count": 72,
     "metadata": {},
     "output_type": "execute_result"
    },
    {
     "data": {
      "image/png": "[encoded data removed]",
      "text/plain": [
       "<Figure size 432x288 with 1 Axes>"
      ]
     },
     "metadata": {
      "needs_background": "light"
     },
     "output_type": "display_data"
    }
   ],
   "source": [
    "start = '2016'\n",
    "end = '2018'\n",
    "\n",
    "plt.plot(NYT_monthlymean_df.loc[start:end, 'NYT_republican_affliation'], marker='o', linestyle='-')\n",
    "plt.xlabel('Time', fontsize=10)\n",
    "plt.ylabel('NYT monthly mean Republican Affliation', fontsize=10)\n",
    "\n",
    "#ax.xaxis.set_major_locator(mdates.WeekdayLocator(byweekday=mdates.MONDAY))\n",
    "\n"
   ]
  },
  {
   "cell_type": "code",
   "execution_count": 73,
   "metadata": {},
   "outputs": [
    {
     "data": {
      "text/html": [
       "<div>\n",
       "<style scoped>\n",
       "    .dataframe tbody tr th:only-of-type {\n",
       "        vertical-align: middle;\n",
       "    }\n",
       "\n",
       "    .dataframe tbody tr th {\n",
       "        vertical-align: top;\n",
       "    }\n",
       "\n",
       "    .dataframe thead th {\n",
       "        text-align: right;\n",
       "    }\n",
       "</style>\n",
       "<table border=\"1\" class=\"dataframe\">\n",
       "  <thead>\n",
       "    <tr style=\"text-align: right;\">\n",
       "      <th></th>\n",
       "      <th>Year_Month</th>\n",
       "      <th>CNN_republican_affliation</th>\n",
       "    </tr>\n",
       "    <tr>\n",
       "      <th>datetime</th>\n",
       "      <th></th>\n",
       "      <th></th>\n",
       "    </tr>\n",
       "  </thead>\n",
       "  <tbody>\n",
       "    <tr>\n",
       "      <th>2017-02-28</th>\n",
       "      <td>2017-2</td>\n",
       "      <td>0.557624</td>\n",
       "    </tr>\n",
       "    <tr>\n",
       "      <th>2017-03-31</th>\n",
       "      <td>2017-3</td>\n",
       "      <td>0.552683</td>\n",
       "    </tr>\n",
       "    <tr>\n",
       "      <th>2017-04-30</th>\n",
       "      <td>2017-4</td>\n",
       "      <td>0.550359</td>\n",
       "    </tr>\n",
       "    <tr>\n",
       "      <th>2017-05-31</th>\n",
       "      <td>2017-5</td>\n",
       "      <td>0.544481</td>\n",
       "    </tr>\n",
       "    <tr>\n",
       "      <th>2017-06-30</th>\n",
       "      <td>2017-6</td>\n",
       "      <td>0.537957</td>\n",
       "    </tr>\n",
       "  </tbody>\n",
       "</table>\n",
       "</div>"
      ],
      "text/plain": [
       "           Year_Month  CNN_republican_affliation\n",
       "datetime                                        \n",
       "2017-02-28     2017-2                   0.557624\n",
       "2017-03-31     2017-3                   0.552683\n",
       "2017-04-30     2017-4                   0.550359\n",
       "2017-05-31     2017-5                   0.544481\n",
       "2017-06-30     2017-6                   0.537957"
      ]
     },
     "execution_count": 73,
     "metadata": {},
     "output_type": "execute_result"
    }
   ],
   "source": [
    "CNN_df['datetime'] = pd.to_datetime(CNN_df['date'])\n",
    "CNN_df = CNN_df.set_index('datetime')\n",
    "CNN_df.drop(['title','publication','date','year','month','content','clean_content','political_affliation_pred_D0_R1','democrat_affliation'], axis=1, inplace=True)\n",
    "CNN_monthlymean_df = CNN_df.resample('M').mean()\n",
    "CNN_monthlymean_df['Year_Month'] = CNN_monthlymean_df.index.year.astype(str) + '-'+ CNN_monthlymean_df.index.month.astype(str)\n",
    "CNN_monthlymean_df['CNN_republican_affliation'] = CNN_monthlymean_df['republican_affliation']  \n",
    "CNN_monthlymean_df.drop(['republican_affliation'], axis=1, inplace=True)\n",
    "CNN_monthlymean_df.tail()\n"
   ]
  },
  {
   "cell_type": "code",
   "execution_count": 74,
   "metadata": {},
   "outputs": [
    {
     "data": {
      "text/html": [
       "<div>\n",
       "<style scoped>\n",
       "    .dataframe tbody tr th:only-of-type {\n",
       "        vertical-align: middle;\n",
       "    }\n",
       "\n",
       "    .dataframe tbody tr th {\n",
       "        vertical-align: top;\n",
       "    }\n",
       "\n",
       "    .dataframe thead th {\n",
       "        text-align: right;\n",
       "    }\n",
       "</style>\n",
       "<table border=\"1\" class=\"dataframe\">\n",
       "  <thead>\n",
       "    <tr style=\"text-align: right;\">\n",
       "      <th></th>\n",
       "      <th>Year_Month</th>\n",
       "      <th>Breitbart_republican_affliation</th>\n",
       "    </tr>\n",
       "    <tr>\n",
       "      <th>datetime</th>\n",
       "      <th></th>\n",
       "      <th></th>\n",
       "    </tr>\n",
       "  </thead>\n",
       "  <tbody>\n",
       "    <tr>\n",
       "      <th>2017-02-28</th>\n",
       "      <td>2017-2</td>\n",
       "      <td>0.430029</td>\n",
       "    </tr>\n",
       "    <tr>\n",
       "      <th>2017-03-31</th>\n",
       "      <td>2017-3</td>\n",
       "      <td>0.440551</td>\n",
       "    </tr>\n",
       "    <tr>\n",
       "      <th>2017-04-30</th>\n",
       "      <td>2017-4</td>\n",
       "      <td>0.418934</td>\n",
       "    </tr>\n",
       "    <tr>\n",
       "      <th>2017-05-31</th>\n",
       "      <td>2017-5</td>\n",
       "      <td>0.439842</td>\n",
       "    </tr>\n",
       "    <tr>\n",
       "      <th>2017-06-30</th>\n",
       "      <td>2017-6</td>\n",
       "      <td>0.424214</td>\n",
       "    </tr>\n",
       "  </tbody>\n",
       "</table>\n",
       "</div>"
      ],
      "text/plain": [
       "           Year_Month  Breitbart_republican_affliation\n",
       "datetime                                              \n",
       "2017-02-28     2017-2                         0.430029\n",
       "2017-03-31     2017-3                         0.440551\n",
       "2017-04-30     2017-4                         0.418934\n",
       "2017-05-31     2017-5                         0.439842\n",
       "2017-06-30     2017-6                         0.424214"
      ]
     },
     "execution_count": 74,
     "metadata": {},
     "output_type": "execute_result"
    }
   ],
   "source": [
    "Breitbart_df['datetime'] = pd.to_datetime(Breitbart_df['date'])\n",
    "Breitbart_df = Breitbart_df.set_index('datetime')\n",
    "Breitbart_df.drop(['title','publication','date','year','month','content','clean_content','political_affliation_pred_D0_R1','democrat_affliation'], axis=1, inplace=True)\n",
    "Breitbart_monthlymean_df = Breitbart_df.resample('M').mean()\n",
    "Breitbart_monthlymean_df['Year_Month'] = Breitbart_monthlymean_df.index.year.astype(str) + '-'+ Breitbart_monthlymean_df.index.month.astype(str)\n",
    "Breitbart_monthlymean_df['Breitbart_republican_affliation'] = Breitbart_monthlymean_df['republican_affliation']  \n",
    "Breitbart_monthlymean_df.drop(['republican_affliation'], axis=1, inplace=True)\n",
    "Breitbart_monthlymean_df.tail()\n"
   ]
  },
  {
   "cell_type": "code",
   "execution_count": 75,
   "metadata": {},
   "outputs": [
    {
     "data": {
      "text/html": [
       "<div>\n",
       "<style scoped>\n",
       "    .dataframe tbody tr th:only-of-type {\n",
       "        vertical-align: middle;\n",
       "    }\n",
       "\n",
       "    .dataframe tbody tr th {\n",
       "        vertical-align: top;\n",
       "    }\n",
       "\n",
       "    .dataframe thead th {\n",
       "        text-align: right;\n",
       "    }\n",
       "</style>\n",
       "<table border=\"1\" class=\"dataframe\">\n",
       "  <thead>\n",
       "    <tr style=\"text-align: right;\">\n",
       "      <th></th>\n",
       "      <th>Year_Month</th>\n",
       "      <th>Fox_republican_affliation</th>\n",
       "    </tr>\n",
       "    <tr>\n",
       "      <th>datetime</th>\n",
       "      <th></th>\n",
       "      <th></th>\n",
       "    </tr>\n",
       "  </thead>\n",
       "  <tbody>\n",
       "    <tr>\n",
       "      <th>2016-08-31</th>\n",
       "      <td>2016-8</td>\n",
       "      <td>0.495085</td>\n",
       "    </tr>\n",
       "    <tr>\n",
       "      <th>2016-09-30</th>\n",
       "      <td>2016-9</td>\n",
       "      <td>0.482877</td>\n",
       "    </tr>\n",
       "    <tr>\n",
       "      <th>2016-10-31</th>\n",
       "      <td>2016-10</td>\n",
       "      <td>0.381983</td>\n",
       "    </tr>\n",
       "    <tr>\n",
       "      <th>2016-11-30</th>\n",
       "      <td>2016-11</td>\n",
       "      <td>0.500770</td>\n",
       "    </tr>\n",
       "    <tr>\n",
       "      <th>2016-12-31</th>\n",
       "      <td>2016-12</td>\n",
       "      <td>0.419660</td>\n",
       "    </tr>\n",
       "  </tbody>\n",
       "</table>\n",
       "</div>"
      ],
      "text/plain": [
       "           Year_Month  Fox_republican_affliation\n",
       "datetime                                        \n",
       "2016-08-31     2016-8                   0.495085\n",
       "2016-09-30     2016-9                   0.482877\n",
       "2016-10-31    2016-10                   0.381983\n",
       "2016-11-30    2016-11                   0.500770\n",
       "2016-12-31    2016-12                   0.419660"
      ]
     },
     "execution_count": 75,
     "metadata": {},
     "output_type": "execute_result"
    }
   ],
   "source": [
    "Fox_df['datetime'] = pd.to_datetime(Fox_df['date'])\n",
    "Fox_df = Fox_df.set_index('datetime')\n",
    "Fox_df.drop(['title','publication','date','year','month','content','clean_content','political_affliation_pred_D0_R1','democrat_affliation'], axis=1, inplace=True)\n",
    "Fox_monthlymean_df = Fox_df.resample('M').mean()\n",
    "Fox_monthlymean_df['Year_Month'] = Fox_monthlymean_df.index.year.astype(str) + '-'+ Fox_monthlymean_df.index.month.astype(str)\n",
    "Fox_monthlymean_df['Fox_republican_affliation'] = Fox_monthlymean_df['republican_affliation']  \n",
    "Fox_monthlymean_df.drop(['republican_affliation'], axis=1, inplace=True)\n",
    "Fox_monthlymean_df.tail()\n"
   ]
  },
  {
   "cell_type": "code",
   "execution_count": 76,
   "metadata": {},
   "outputs": [
    {
     "data": {
      "text/html": [
       "<div>\n",
       "<style scoped>\n",
       "    .dataframe tbody tr th:only-of-type {\n",
       "        vertical-align: middle;\n",
       "    }\n",
       "\n",
       "    .dataframe tbody tr th {\n",
       "        vertical-align: top;\n",
       "    }\n",
       "\n",
       "    .dataframe thead th {\n",
       "        text-align: right;\n",
       "    }\n",
       "</style>\n",
       "<table border=\"1\" class=\"dataframe\">\n",
       "  <thead>\n",
       "    <tr style=\"text-align: right;\">\n",
       "      <th></th>\n",
       "      <th>Year_Month</th>\n",
       "      <th>Washington_Post_republican_affliation</th>\n",
       "    </tr>\n",
       "    <tr>\n",
       "      <th>datetime</th>\n",
       "      <th></th>\n",
       "      <th></th>\n",
       "    </tr>\n",
       "  </thead>\n",
       "  <tbody>\n",
       "    <tr>\n",
       "      <th>2017-03-31</th>\n",
       "      <td>2017-3</td>\n",
       "      <td>0.499985</td>\n",
       "    </tr>\n",
       "    <tr>\n",
       "      <th>2017-04-30</th>\n",
       "      <td>2017-4</td>\n",
       "      <td>0.494937</td>\n",
       "    </tr>\n",
       "    <tr>\n",
       "      <th>2017-05-31</th>\n",
       "      <td>2017-5</td>\n",
       "      <td>0.507496</td>\n",
       "    </tr>\n",
       "    <tr>\n",
       "      <th>2017-06-30</th>\n",
       "      <td>2017-6</td>\n",
       "      <td>0.501538</td>\n",
       "    </tr>\n",
       "    <tr>\n",
       "      <th>2017-07-31</th>\n",
       "      <td>2017-7</td>\n",
       "      <td>0.555159</td>\n",
       "    </tr>\n",
       "  </tbody>\n",
       "</table>\n",
       "</div>"
      ],
      "text/plain": [
       "           Year_Month  Washington_Post_republican_affliation\n",
       "datetime                                                    \n",
       "2017-03-31     2017-3                               0.499985\n",
       "2017-04-30     2017-4                               0.494937\n",
       "2017-05-31     2017-5                               0.507496\n",
       "2017-06-30     2017-6                               0.501538\n",
       "2017-07-31     2017-7                               0.555159"
      ]
     },
     "execution_count": 76,
     "metadata": {},
     "output_type": "execute_result"
    }
   ],
   "source": [
    "Washington_Post_df['datetime'] = pd.to_datetime(Washington_Post_df['date'])\n",
    "Washington_Post_df = Washington_Post_df.set_index('datetime')\n",
    "Washington_Post_df.drop(['title','publication','date','year','month','content','clean_content','political_affliation_pred_D0_R1','democrat_affliation'], axis=1, inplace=True)\n",
    "Washington_Post_monthlymean_df = Washington_Post_df.resample('M').mean()\n",
    "Washington_Post_monthlymean_df['Year_Month'] = Washington_Post_monthlymean_df.index.year.astype(str) + '-'+ Washington_Post_monthlymean_df.index.month.astype(str)\n",
    "Washington_Post_monthlymean_df['Washington_Post_republican_affliation'] = Washington_Post_monthlymean_df['republican_affliation']  \n",
    "Washington_Post_monthlymean_df.drop(['republican_affliation'], axis=1, inplace=True)\n",
    "Washington_Post_monthlymean_df.tail()\n"
   ]
  },
  {
   "cell_type": "code",
   "execution_count": 77,
   "metadata": {},
   "outputs": [],
   "source": [
    "d1_df  = pd.merge(NYT_monthlymean_df, CNN_monthlymean_df, on='Year_Month', how='outer')\n",
    "d2_df = pd.merge(Washington_Post_monthlymean_df,d1_df, on='Year_Month', how='outer')\n",
    "d3_df = pd.merge(Breitbart_monthlymean_df,d2_df, on='Year_Month', how='outer')\n",
    "News_monthlymean_df = pd.merge(Fox_monthlymean_df,d3_df, on='Year_Month', how='outer')\n",
    "News_monthlymean_df['datetime'] = pd.to_datetime(News_monthlymean_df['Year_Month'])\n",
    "News_monthlymean_df = News_monthlymean_df.set_index('datetime')"
   ]
  },
  {
   "cell_type": "code",
   "execution_count": 78,
   "metadata": {},
   "outputs": [
    {
     "data": {
      "text/html": [
       "<div>\n",
       "<style scoped>\n",
       "    .dataframe tbody tr th:only-of-type {\n",
       "        vertical-align: middle;\n",
       "    }\n",
       "\n",
       "    .dataframe tbody tr th {\n",
       "        vertical-align: top;\n",
       "    }\n",
       "\n",
       "    .dataframe thead th {\n",
       "        text-align: right;\n",
       "    }\n",
       "</style>\n",
       "<table border=\"1\" class=\"dataframe\">\n",
       "  <thead>\n",
       "    <tr style=\"text-align: right;\">\n",
       "      <th></th>\n",
       "      <th>Year_Month</th>\n",
       "      <th>Fox_republican_affliation</th>\n",
       "      <th>Breitbart_republican_affliation</th>\n",
       "      <th>Washington_Post_republican_affliation</th>\n",
       "      <th>NYT_republican_affliation</th>\n",
       "      <th>CNN_republican_affliation</th>\n",
       "    </tr>\n",
       "    <tr>\n",
       "      <th>datetime</th>\n",
       "      <th></th>\n",
       "      <th></th>\n",
       "      <th></th>\n",
       "      <th></th>\n",
       "      <th></th>\n",
       "      <th></th>\n",
       "    </tr>\n",
       "  </thead>\n",
       "  <tbody>\n",
       "    <tr>\n",
       "      <th>2004-06-01</th>\n",
       "      <td>2004-6</td>\n",
       "      <td>0.000567</td>\n",
       "      <td>NaN</td>\n",
       "      <td>NaN</td>\n",
       "      <td>NaN</td>\n",
       "      <td>NaN</td>\n",
       "    </tr>\n",
       "    <tr>\n",
       "      <th>2004-07-01</th>\n",
       "      <td>2004-7</td>\n",
       "      <td>NaN</td>\n",
       "      <td>NaN</td>\n",
       "      <td>NaN</td>\n",
       "      <td>NaN</td>\n",
       "      <td>NaN</td>\n",
       "    </tr>\n",
       "    <tr>\n",
       "      <th>2004-08-01</th>\n",
       "      <td>2004-8</td>\n",
       "      <td>NaN</td>\n",
       "      <td>NaN</td>\n",
       "      <td>NaN</td>\n",
       "      <td>NaN</td>\n",
       "      <td>NaN</td>\n",
       "    </tr>\n",
       "    <tr>\n",
       "      <th>2004-09-01</th>\n",
       "      <td>2004-9</td>\n",
       "      <td>NaN</td>\n",
       "      <td>NaN</td>\n",
       "      <td>NaN</td>\n",
       "      <td>NaN</td>\n",
       "      <td>NaN</td>\n",
       "    </tr>\n",
       "    <tr>\n",
       "      <th>2004-10-01</th>\n",
       "      <td>2004-10</td>\n",
       "      <td>NaN</td>\n",
       "      <td>NaN</td>\n",
       "      <td>NaN</td>\n",
       "      <td>NaN</td>\n",
       "      <td>NaN</td>\n",
       "    </tr>\n",
       "  </tbody>\n",
       "</table>\n",
       "</div>"
      ],
      "text/plain": [
       "           Year_Month  Fox_republican_affliation  \\\n",
       "datetime                                           \n",
       "2004-06-01     2004-6                   0.000567   \n",
       "2004-07-01     2004-7                        NaN   \n",
       "2004-08-01     2004-8                        NaN   \n",
       "2004-09-01     2004-9                        NaN   \n",
       "2004-10-01    2004-10                        NaN   \n",
       "\n",
       "            Breitbart_republican_affliation  \\\n",
       "datetime                                      \n",
       "2004-06-01                              NaN   \n",
       "2004-07-01                              NaN   \n",
       "2004-08-01                              NaN   \n",
       "2004-09-01                              NaN   \n",
       "2004-10-01                              NaN   \n",
       "\n",
       "            Washington_Post_republican_affliation  NYT_republican_affliation  \\\n",
       "datetime                                                                       \n",
       "2004-06-01                                    NaN                        NaN   \n",
       "2004-07-01                                    NaN                        NaN   \n",
       "2004-08-01                                    NaN                        NaN   \n",
       "2004-09-01                                    NaN                        NaN   \n",
       "2004-10-01                                    NaN                        NaN   \n",
       "\n",
       "            CNN_republican_affliation  \n",
       "datetime                               \n",
       "2004-06-01                        NaN  \n",
       "2004-07-01                        NaN  \n",
       "2004-08-01                        NaN  \n",
       "2004-09-01                        NaN  \n",
       "2004-10-01                        NaN  "
      ]
     },
     "execution_count": 78,
     "metadata": {},
     "output_type": "execute_result"
    }
   ],
   "source": [
    "News_monthlymean_df.head()"
   ]
  },
  {
   "cell_type": "code",
   "execution_count": 79,
   "metadata": {},
   "outputs": [
    {
     "data": {
      "text/plain": [
       "[<matplotlib.lines.Line2D at 0x7fce567fc9b0>]"
      ]
     },
     "execution_count": 79,
     "metadata": {},
     "output_type": "execute_result"
    },
    {
     "data": {
      "text/plain": [
       "Text(0.5, 0, 'Time')"
      ]
     },
     "execution_count": 79,
     "metadata": {},
     "output_type": "execute_result"
    },
    {
     "data": {
      "text/plain": [
       "Text(0, 0.5, 'NYT monthly mean Republican Affliation')"
      ]
     },
     "execution_count": 79,
     "metadata": {},
     "output_type": "execute_result"
    },
    {
     "data": {
      "image/png": "[encoded data removed]",
      "text/plain": [
       "<Figure size 432x288 with 1 Axes>"
      ]
     },
     "metadata": {
      "needs_background": "light"
     },
     "output_type": "display_data"
    }
   ],
   "source": [
    "ax = plt\n",
    "ax.plot(News_monthlymean_df.loc['2016-01':'2017-08', 'NYT_republican_affliation'], marker='o', linestyle='-')\n",
    "plt.xlabel('Time', fontsize=10)\n",
    "plt.ylabel('NYT monthly mean Republican Affliation', fontsize=10)\n",
    "\n"
   ]
  },
  {
   "cell_type": "code",
   "execution_count": 82,
   "metadata": {},
   "outputs": [
    {
     "data": {
      "text/plain": [
       "Text(0.5, 0, 'Time')"
      ]
     },
     "execution_count": 82,
     "metadata": {},
     "output_type": "execute_result"
    },
    {
     "data": {
      "text/plain": [
       "Text(0, 0.5, 'Monthly mean Republican Affliation across different media publishers')"
      ]
     },
     "execution_count": 82,
     "metadata": {},
     "output_type": "execute_result"
    },
    {
     "data": {
      "image/png": "[encoded data removed]",
      "text/plain": [
       "<Figure size 1440x648 with 1 Axes>"
      ]
     },
     "metadata": {
      "needs_background": "light"
     },
     "output_type": "display_data"
    }
   ],
   "source": [
    "cols_plot = ['Fox_republican_affliation', 'Breitbart_republican_affliation', 'Washington_Post_republican_affliation','NYT_republican_affliation','CNN_republican_affliation']\n",
    "axes = News_monthlymean_df.loc['2016':'2018'][cols_plot].plot(marker='o', linestyle='-', figsize=(20, 9), subplots=False)\n",
    "plt.xlabel('Time', fontsize=12)\n",
    "plt.ylabel('Monthly mean Republican Affliation across different media publishers', fontsize=12)\n",
    "\n"
   ]
  },
  {
   "cell_type": "code",
   "execution_count": 81,
   "metadata": {},
   "outputs": [
    {
     "data": {
      "text/html": [
       "<div>\n",
       "<style scoped>\n",
       "    .dataframe tbody tr th:only-of-type {\n",
       "        vertical-align: middle;\n",
       "    }\n",
       "\n",
       "    .dataframe tbody tr th {\n",
       "        vertical-align: top;\n",
       "    }\n",
       "\n",
       "    .dataframe thead th {\n",
       "        text-align: right;\n",
       "    }\n",
       "</style>\n",
       "<table border=\"1\" class=\"dataframe\">\n",
       "  <thead>\n",
       "    <tr style=\"text-align: right;\">\n",
       "      <th></th>\n",
       "      <th>republican_affliation</th>\n",
       "      <th>Date</th>\n",
       "      <th>Year</th>\n",
       "      <th>Month</th>\n",
       "      <th>Day</th>\n",
       "      <th>Weekday</th>\n",
       "      <th>Year_Month</th>\n",
       "    </tr>\n",
       "    <tr>\n",
       "      <th>datetime</th>\n",
       "      <th></th>\n",
       "      <th></th>\n",
       "      <th></th>\n",
       "      <th></th>\n",
       "      <th></th>\n",
       "      <th></th>\n",
       "      <th></th>\n",
       "    </tr>\n",
       "  </thead>\n",
       "  <tbody>\n",
       "    <tr>\n",
       "      <th>2017-06-15</th>\n",
       "      <td>0.502872</td>\n",
       "      <td>2017-06-15</td>\n",
       "      <td>2017</td>\n",
       "      <td>6</td>\n",
       "      <td>15</td>\n",
       "      <td>Thursday</td>\n",
       "      <td>2017-6</td>\n",
       "    </tr>\n",
       "    <tr>\n",
       "      <th>2017-06-16</th>\n",
       "      <td>1.000000</td>\n",
       "      <td>2017-06-16</td>\n",
       "      <td>2017</td>\n",
       "      <td>6</td>\n",
       "      <td>16</td>\n",
       "      <td>Friday</td>\n",
       "      <td>2017-6</td>\n",
       "    </tr>\n",
       "    <tr>\n",
       "      <th>2017-06-17</th>\n",
       "      <td>NaN</td>\n",
       "      <td>2017-06-17</td>\n",
       "      <td>2017</td>\n",
       "      <td>6</td>\n",
       "      <td>17</td>\n",
       "      <td>Saturday</td>\n",
       "      <td>2017-6</td>\n",
       "    </tr>\n",
       "    <tr>\n",
       "      <th>2017-06-18</th>\n",
       "      <td>NaN</td>\n",
       "      <td>2017-06-18</td>\n",
       "      <td>2017</td>\n",
       "      <td>6</td>\n",
       "      <td>18</td>\n",
       "      <td>Sunday</td>\n",
       "      <td>2017-6</td>\n",
       "    </tr>\n",
       "    <tr>\n",
       "      <th>2017-06-19</th>\n",
       "      <td>0.663796</td>\n",
       "      <td>2017-06-19</td>\n",
       "      <td>2017</td>\n",
       "      <td>6</td>\n",
       "      <td>19</td>\n",
       "      <td>Monday</td>\n",
       "      <td>2017-6</td>\n",
       "    </tr>\n",
       "  </tbody>\n",
       "</table>\n",
       "</div>"
      ],
      "text/plain": [
       "            republican_affliation        Date  Year  Month  Day   Weekday  \\\n",
       "datetime                                                                    \n",
       "2017-06-15               0.502872  2017-06-15  2017      6   15  Thursday   \n",
       "2017-06-16               1.000000  2017-06-16  2017      6   16    Friday   \n",
       "2017-06-17                    NaN  2017-06-17  2017      6   17  Saturday   \n",
       "2017-06-18                    NaN  2017-06-18  2017      6   18    Sunday   \n",
       "2017-06-19               0.663796  2017-06-19  2017      6   19    Monday   \n",
       "\n",
       "           Year_Month  \n",
       "datetime               \n",
       "2017-06-15     2017-6  \n",
       "2017-06-16     2017-6  \n",
       "2017-06-17     2017-6  \n",
       "2017-06-18     2017-6  \n",
       "2017-06-19     2017-6  "
      ]
     },
     "execution_count": 81,
     "metadata": {},
     "output_type": "execute_result"
    },
    {
     "data": {
      "text/plain": [
       "<matplotlib.axes._subplots.AxesSubplot at 0x7fcde3547710>"
      ]
     },
     "execution_count": 81,
     "metadata": {},
     "output_type": "execute_result"
    },
    {
     "data": {
      "text/plain": [
       "Text(0.5, 0, 'Time')"
      ]
     },
     "execution_count": 81,
     "metadata": {},
     "output_type": "execute_result"
    },
    {
     "data": {
      "text/plain": [
       "Text(0, 0.5, 'Monthly Republican Affliations in NYT ')"
      ]
     },
     "execution_count": 81,
     "metadata": {},
     "output_type": "execute_result"
    },
    {
     "data": {
      "image/png": "[encoded data removed]",
      "text/plain": [
       "<Figure size 1440x720 with 1 Axes>"
      ]
     },
     "metadata": {
      "needs_background": "light"
     },
     "output_type": "display_data"
    }
   ],
   "source": [
    "#Bar plot for monthly range of daily Republican affliations\n",
    "NYT_dailymean_df = NYT_df.resample('D').mean()\n",
    "NYT_dailymean_df['Date'] = NYT_dailymean_df.index.date\n",
    "NYT_dailymean_df['Year'] = NYT_dailymean_df.index.year\n",
    "NYT_dailymean_df['Month'] = NYT_dailymean_df.index.month\n",
    "NYT_dailymean_df['Day'] = NYT_dailymean_df.index.day\n",
    "NYT_dailymean_df['Weekday']= NYT_dailymean_df.index.weekday_name\n",
    "NYT_dailymean_df['Year_Month']= df['var3'] = NYT_dailymean_df.Year.astype(str) + '-'+ NYT_dailymean_df.Month.astype(str)  \n",
    "NYT_dailymean_df['republican_affliation'] = NYT_dailymean_df['republican_affliation']\n",
    "NYT_dailymean_df.tail()\n",
    "ax = plt.figure(figsize=(20,10))\n",
    "sns.boxplot(data=NYT_dailymean_df.loc['2016-01':'2017-08'], x='Year_Month', y='republican_affliation');\n",
    "#ax.set_title('tt')\n",
    "plt.xlabel('Time', fontsize=18)\n",
    "plt.ylabel('Monthly Republican Affliations in NYT ', fontsize=18)\n",
    "\n"
   ]
  },
  {
   "cell_type": "code",
   "execution_count": null,
   "metadata": {},
   "outputs": [],
   "source": []
  }
 ],
 "metadata": {
  "kernelspec": {
   "display_name": "Python 3",
   "language": "python",
   "name": "python3"
  },
  "language_info": {
   "codemirror_mode": {
    "name": "ipython",
    "version": 3
   },
   "file_extension": ".py",
   "mimetype": "text/x-python",
   "name": "python",
   "nbconvert_exporter": "python",
   "pygments_lexer": "ipython3",
   "version": "3.5.3"
  }
 },
 "nbformat": 4,
 "nbformat_minor": 2
}
