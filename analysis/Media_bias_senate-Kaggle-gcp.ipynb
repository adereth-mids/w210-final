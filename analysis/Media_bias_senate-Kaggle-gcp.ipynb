{
 "cells": [
  {
   "cell_type": "code",
   "execution_count": 1,
   "metadata": {},
   "outputs": [],
   "source": [
    "# imports\n",
    "import os, sys\n",
    "import re\n",
    "import ast\n",
    "import datetime\n",
    "import time\n",
    "import numpy as np\n",
    "import pandas as pd\n",
    "import seaborn as sns\n",
    "import matplotlib.pyplot as plt\n"
   ]
  },
  {
   "cell_type": "code",
   "execution_count": 2,
   "metadata": {},
   "outputs": [
    {
     "name": "stderr",
     "output_type": "stream",
     "text": [
      "Using TensorFlow backend.\n",
      "[nltk_data] Downloading package stopwords to\n",
      "[nltk_data]     /home/asheshchoudhury/nltk_data...\n",
      "[nltk_data]   Package stopwords is already up-to-date!\n"
     ]
    }
   ],
   "source": [
    "import csv \n",
    "import numpy as np \n",
    "import pandas as pd\n",
    "import matplotlib.pyplot as plt\n",
    "import tensorflow as tf\n",
    "import seaborn as sns\n",
    "from keras.preprocessing.text import Tokenizer\n",
    "from keras.preprocessing.sequence import pad_sequences\n",
    "from keras.models import Sequential\n",
    "from keras.layers import Dense, Embedding, LSTM, SpatialDropout1D\n",
    "from sklearn.model_selection import train_test_split\n",
    "from keras.utils.np_utils import to_categorical\n",
    "from keras.utils import to_categorical\n",
    "from keras.callbacks import EarlyStopping\n",
    "from keras.layers import Dropout\n",
    "import re\n",
    "import nltk\n",
    "nltk.download('stopwords')\n",
    "from nltk.corpus import stopwords\n",
    "from nltk import word_tokenize\n",
    "STOPWORDS = set(stopwords.words('english'))\n",
    "import plotly.graph_objs as go\n",
    "from IPython.core.interactiveshell import InteractiveShell\n",
    "import plotly.figure_factory as ff\n",
    "InteractiveShell.ast_node_interactivity = 'all'\n",
    "from plotly.offline import iplot\n"
   ]
  },
  {
   "cell_type": "code",
   "execution_count": 3,
   "metadata": {},
   "outputs": [],
   "source": [
    "#from googlesearch import search\n",
    "#from google import google as g\n",
    "#from textblob import TextBlob\n",
    "#import texttable as tt\n",
    "from time import sleep"
   ]
  },
  {
   "cell_type": "code",
   "execution_count": 4,
   "metadata": {},
   "outputs": [],
   "source": [
    "filepath = 'C:/Users/asheshchoudhury/Desktop/Capstone/allArticles.txt'"
   ]
  },
  {
   "cell_type": "code",
   "execution_count": 5,
   "metadata": {},
   "outputs": [
    {
     "name": "stdout",
     "output_type": "stream",
     "text": [
      "List of Parties before filtering\n"
     ]
    },
    {
     "data": {
      "text/plain": [
       "array(['Republican', 'Democratic', 'Independent Democrat', 'Independent'],\n",
       "      dtype=object)"
      ]
     },
     "execution_count": 5,
     "metadata": {},
     "output_type": "execute_result"
    },
    {
     "name": "stdout",
     "output_type": "stream",
     "text": [
      "List of Parties after filtering\n"
     ]
    },
    {
     "data": {
      "text/plain": [
       "array(['Republican', 'Democratic'], dtype=object)"
      ]
     },
     "execution_count": 5,
     "metadata": {},
     "output_type": "execute_result"
    },
    {
     "data": {
      "text/plain": [
       "count    546549.000000\n",
       "mean       1922.050253\n",
       "std        4364.634689\n",
       "min           3.000000\n",
       "25%          86.000000\n",
       "50%         254.000000\n",
       "75%        1881.000000\n",
       "max      956247.000000\n",
       "Name: statement_length, dtype: float64"
      ]
     },
     "execution_count": 5,
     "metadata": {},
     "output_type": "execute_result"
    },
    {
     "data": {
      "text/plain": [
       "count    409930.000000\n",
       "mean        317.863167\n",
       "std         406.126927\n",
       "min           3.000000\n",
       "25%          71.000000\n",
       "50%         143.000000\n",
       "75%         376.000000\n",
       "max        1881.000000\n",
       "Name: statement_length, dtype: float64"
      ]
     },
     "execution_count": 5,
     "metadata": {},
     "output_type": "execute_result"
    },
    {
     "data": {
      "text/plain": [
       "count    4.099300e+05\n",
       "mean     2.003825e+07\n",
       "std      6.528506e+04\n",
       "min      1.995010e+07\n",
       "25%      1.998073e+07\n",
       "50%      2.003052e+07\n",
       "75%      2.008092e+07\n",
       "max      2.019102e+07\n",
       "Name: date, dtype: float64"
      ]
     },
     "execution_count": 5,
     "metadata": {},
     "output_type": "execute_result"
    },
    {
     "data": {
      "text/plain": [
       "409930"
      ]
     },
     "execution_count": 5,
     "metadata": {},
     "output_type": "execute_result"
    }
   ],
   "source": [
    "# Start timer to get total time for running all code\n",
    "t0 = datetime.datetime.now()\n",
    "#Train\n",
    "#df=pd.read_csv(\"C:/Users/asheshchoudhury/Desktop/Capstone-new/w210-final/data/ExtractedTweets.csv\")\n",
    "#df=pd.read_csv('/home/asheshchoudhury/ExtractedTweets.csv')\n",
    "#df=pd.read_csv('/home/asheshchoudhury/senate-labeled-v2.csv')\n",
    "mylist = []\n",
    "\n",
    "for chunk in  pd.read_csv('/home/asheshchoudhury/senate-labeled-v2.csv', chunksize=20):\n",
    "    mylist.append(chunk)\n",
    "\n",
    "df = pd.concat(mylist, axis= 0)\n",
    "del mylist\n",
    "\n",
    "#Check all political parties\n",
    "print('List of Parties before filtering')\n",
    "df['party'].unique()\n",
    "#take only D and R\n",
    "df = df.loc[(df['party'] == 'Republican') | (df['party'] == 'Democratic')]\n",
    "print('List of Parties after filtering')\n",
    "df['party'].unique()\n",
    "#Add statement lenght as 1 or 2 large oulier can cause abort the program\n",
    "df['statement_length'] = df['statement'].str.len()\n",
    "df['statement_length'].describe()\n",
    "#Take 75% and below ALL statement length as a reasonable samle else huge statment lengt will crash the system\n",
    "statement_lenght_75_percentile = 1881\n",
    "df = df.loc[(df['statement_length'] <= statement_lenght_75_percentile)]\n",
    "df['statement_length'].describe()\n",
    "df['date'].describe()\n",
    "#input_percentage_date = 0.1\n",
    "#no_of_input = int(len(df)*input_percentage_date)\n",
    "#df=df[:no_of_input]\n",
    "#Sneak peak\n",
    "#df.head()\n",
    "len(df)\n",
    "\n"
   ]
  },
  {
   "cell_type": "code",
   "execution_count": 6,
   "metadata": {},
   "outputs": [],
   "source": [
    "#EDA\n",
    "df_1995_2001 = df.loc[(df['date'] <= 20010101)]\n",
    "df_2001_2005 = df.loc[(df['date'] >= 20010101) & (df['date'] <= 20050101)]\n",
    "df_2005_2009 = df.loc[(df['date'] >= 20050101) & (df['date'] <= 20090101)]\n",
    "df_2009_2013 = df.loc[(df['date'] >= 20090101) & (df['date'] <= 20130101)]\n",
    "df_2013_2017 = df.loc[(df['date'] >= 20130101) & (df['date'] <= 20170101)]\n",
    "df_2017_2019 = df.loc[(df['date'] >= 20170101)]\n",
    "                           "
   ]
  },
  {
   "cell_type": "code",
   "execution_count": 7,
   "metadata": {},
   "outputs": [
    {
     "name": "stdout",
     "output_type": "stream",
     "text": [
      "Total no. of statements in original input senate dataset : 409930\n",
      "Total no. of Republican statements in original input senate dataset : 208429\n",
      "Total no. of Democratic statements in original input senate dataset: 201501\n",
      "% of Republican statements in original input senate dataset : 50.85\n"
     ]
    }
   ],
   "source": [
    "print('Total no. of statements in original input senate dataset :', len(df))\n",
    "print('Total no. of Republican statements in original input senate dataset :' ,len(df.loc[(df['party'] == 'Republican')]))\n",
    "print('Total no. of Democratic statements in original input senate dataset:' ,len(df.loc[(df['party'] == 'Democratic')]))\n",
    "print('% of Republican statements in original input senate dataset :', \"%.2f\" %(len(df.loc[(df['party'] == 'Republican')])/len(df)*100))"
   ]
  },
  {
   "cell_type": "code",
   "execution_count": 8,
   "metadata": {},
   "outputs": [
    {
     "data": {
      "text/plain": [
       "[86548, 40825, 34152, 16873, 17313, 12721]"
      ]
     },
     "execution_count": 8,
     "metadata": {},
     "output_type": "execute_result"
    },
    {
     "data": {
      "text/plain": [
       "[64767, 47892, 34719, 31290, 17557, 5306]"
      ]
     },
     "execution_count": 8,
     "metadata": {},
     "output_type": "execute_result"
    }
   ],
   "source": [
    "\n",
    "no_of_republican_statements = [len(df_1995_2001.loc[(df_1995_2001['party'] == 'Republican')]),len(df_2001_2005.loc[(df_2001_2005['party'] == 'Republican')]),len(df_2005_2009.loc[(df_2005_2009['party'] == 'Republican')]),len(df_2009_2013.loc[(df_2009_2013['party'] == 'Republican')]),len(df_2013_2017.loc[(df_2013_2017['party'] == 'Republican')]),len(df_2017_2019.loc[(df_2017_2019['party'] == 'Republican')])]\n",
    "no_of_democrat_statements = [len(df_1995_2001.loc[(df_1995_2001['party'] == 'Democratic')]),len(df_2001_2005.loc[(df_2001_2005['party'] == 'Democratic')]),len(df_2005_2009.loc[(df_2005_2009['party'] == 'Democratic')]),len(df_2009_2013.loc[(df_2009_2013['party'] == 'Democratic')]),len(df_2013_2017.loc[(df_2013_2017['party'] == 'Democratic')]),len(df_2017_2019.loc[(df_2017_2019['party'] == 'Democratic')])]\n",
    "\n",
    "no_of_republican_statements\n",
    "no_of_democrat_statements\n",
    "\n"
   ]
  },
  {
   "cell_type": "code",
   "execution_count": 9,
   "metadata": {},
   "outputs": [
    {
     "data": {
      "text/plain": [
       "<Figure size 1800x720 with 0 Axes>"
      ]
     },
     "execution_count": 9,
     "metadata": {},
     "output_type": "execute_result"
    },
    {
     "data": {
      "text/plain": [
       "Text(0, 0.5, 'No. of Statements')"
      ]
     },
     "execution_count": 9,
     "metadata": {},
     "output_type": "execute_result"
    },
    {
     "data": {
      "text/plain": [
       "[<matplotlib.axis.XTick at 0x7fd31f1082b0>,\n",
       " <matplotlib.axis.XTick at 0x7fd31f0f1b38>,\n",
       " <matplotlib.axis.XTick at 0x7fd31f0f1748>,\n",
       " <matplotlib.axis.XTick at 0x7fd31fa81240>,\n",
       " <matplotlib.axis.XTick at 0x7fd31fa817f0>,\n",
       " <matplotlib.axis.XTick at 0x7fd31fa81cc0>]"
      ]
     },
     "execution_count": 9,
     "metadata": {},
     "output_type": "execute_result"
    },
    {
     "data": {
      "text/plain": [
       "[Text(0, 0, '1995-2001'),\n",
       " Text(0, 0, '2001-05'),\n",
       " Text(0, 0, '2005-09'),\n",
       " Text(0, 0, '2009-13'),\n",
       " Text(0, 0, '2013-17'),\n",
       " Text(0, 0, '2017-19')]"
      ]
     },
     "execution_count": 9,
     "metadata": {},
     "output_type": "execute_result"
    },
    {
     "data": {
      "text/plain": [
       "<matplotlib.legend.Legend at 0x7fd31fab6358>"
      ]
     },
     "execution_count": 9,
     "metadata": {},
     "output_type": "execute_result"
    },
    {
     "data": {
      "image/png": "[encoded data removed]",
      "text/plain": [
       "<Figure size 1800x1080 with 1 Axes>"
      ]
     },
     "metadata": {
      "needs_background": "light"
     },
     "output_type": "display_data"
    },
    {
     "data": {
      "text/plain": [
       "<Figure size 1800x720 with 0 Axes>"
      ]
     },
     "metadata": {},
     "output_type": "display_data"
    }
   ],
   "source": [
    "N = 6\n",
    "width = 0.4\n",
    "ind = np.arange(N)  # the x locations for the groups\n",
    "\n",
    "fig = plt.figure(figsize = (25, 15))\n",
    "plt.figure(figsize = (25, 10))\n",
    "plt.rcParams.update({'font.size': 22})\n",
    "ax = fig.add_subplot(111)\n",
    "\n",
    "\n",
    "yvals = no_of_republican_statements\n",
    "rects1 = ax.bar(ind, yvals, width, color='r')\n",
    "zvals = no_of_democrat_statements\n",
    "rects2 = ax.bar(ind+width, zvals, width, color='b')\n",
    "\n",
    "\n",
    "ax.set_ylabel('No. of Statements')\n",
    "ax.set_xticks(ind+width)\n",
    "ax.set_xticklabels( ('1995-2001', '2001-05', '2005-09', '2009-13','2013-17','2017-19') )\n",
    "ax.legend( (rects1[0], rects2[0]), ('No. of Republican statements ', 'No. of Democratic statements') )\n",
    "\n",
    "def autolabel(rects):\n",
    "    for rect in rects:\n",
    "        h = rect.get_height()\n",
    "        ax.text(rect.get_x()+rect.get_width()/2, 1.01*h, '%d'%int(h),\n",
    "                ha='center', va='bottom')\n",
    "\n",
    "autolabel(rects1)\n",
    "autolabel(rects2)\n",
    "\n",
    "\n",
    "plt.show()"
   ]
  },
  {
   "cell_type": "code",
   "execution_count": 10,
   "metadata": {},
   "outputs": [],
   "source": [
    "input_data_percentage = 0.1\n",
    "n = int(len(df)*input_data_percentage/12)"
   ]
  },
  {
   "cell_type": "code",
   "execution_count": 11,
   "metadata": {},
   "outputs": [
    {
     "name": "stdout",
     "output_type": "stream",
     "text": [
      "Total no. of statements in balanced input senate dataset : 40992\n",
      "Total no. of Republican statements in balanced input senate dataset : 20496\n",
      "Total no. of Democratic statements in balanced input senate dataset: 20496\n",
      "% of Republican statements in balanced input senate dataset : 50.00\n"
     ]
    }
   ],
   "source": [
    "df_1995_2001_R = df_1995_2001.loc[(df_1995_2001['party'] == 'Republican')][:64767]\n",
    "df_1995_2001_D = df_1995_2001.loc[(df_1995_2001['party'] == 'Democratic')]\n",
    "df_2001_2005_R = df_2001_2005.loc[(df_2001_2005['party'] == 'Republican')]\n",
    "df_2001_2005_D = df_2001_2005.loc[(df_2001_2005['party'] == 'Democratic')][:40825]\n",
    "df_2005_2009_R = df_2005_2009.loc[(df_2005_2009['party'] == 'Republican')]\n",
    "df_2005_2009_D = df_2005_2009.loc[(df_2005_2009['party'] == 'Democratic')][:34152]\n",
    "df_2009_2013_R = df_2009_2013.loc[(df_2009_2013['party'] == 'Republican')]\n",
    "df_2009_2013_D = df_2009_2013.loc[(df_2009_2013['party'] == 'Democratic')][:16873]\n",
    "df_2013_2017_R = df_2013_2017.loc[(df_2013_2017['party'] == 'Republican')]\n",
    "df_2013_2017_D = df_2013_2017.loc[(df_2013_2017['party'] == 'Democratic')][:17313]\n",
    "df_2017_2019_R = df_2017_2019.loc[(df_2017_2019['party'] == 'Republican')][:5306]\n",
    "df_2017_2019_D = df_2017_2019.loc[(df_2017_2019['party'] == 'Democratic')]\n",
    "\n",
    "df = pd.concat([df_1995_2001_R[:n],df_1995_2001_D[:n],df_2001_2005_R[:n],df_2001_2005_D[:n],df_2005_2009_R[:n],df_2005_2009_D[:n]])\n",
    "df = pd.concat([df,df_2009_2013_R[:n],df_2009_2013_D[:n],df_2013_2017_R[:n],df_2013_2017_D[:n],df_2017_2019_R[:n],df_2017_2019_D[:n]])\n",
    "print('Total no. of statements in balanced input senate dataset :' ,len(df))\n",
    "print('Total no. of Republican statements in balanced input senate dataset :' ,len(df.loc[(df['party'] == 'Republican')]))\n",
    "print('Total no. of Democratic statements in balanced input senate dataset:' ,len(df.loc[(df['party'] == 'Democratic')]))\n",
    "print('% of Republican statements in balanced input senate dataset :', \"%.2f\" %(len(df.loc[(df['party'] == 'Republican')])/len(df)*100))\n"
   ]
  },
  {
   "cell_type": "code",
   "execution_count": 12,
   "metadata": {},
   "outputs": [
    {
     "name": "stdout",
     "output_type": "stream",
     "text": [
      "Found 27582 unique tokens.\n",
      "Found 27582 unique tokens.\n"
     ]
    },
    {
     "data": {
      "text/html": [
       "<div>\n",
       "<style scoped>\n",
       "    .dataframe tbody tr th:only-of-type {\n",
       "        vertical-align: middle;\n",
       "    }\n",
       "\n",
       "    .dataframe tbody tr th {\n",
       "        vertical-align: top;\n",
       "    }\n",
       "\n",
       "    .dataframe thead th {\n",
       "        text-align: right;\n",
       "    }\n",
       "</style>\n",
       "<table border=\"1\" class=\"dataframe\">\n",
       "  <thead>\n",
       "    <tr style=\"text-align: right;\">\n",
       "      <th></th>\n",
       "      <th>date</th>\n",
       "      <th>party</th>\n",
       "      <th>statement</th>\n",
       "      <th>statement_length</th>\n",
       "      <th>Party_numeric D=0 R=1</th>\n",
       "    </tr>\n",
       "  </thead>\n",
       "  <tbody>\n",
       "    <tr>\n",
       "      <th>2</th>\n",
       "      <td>19950104</td>\n",
       "      <td>Republican</td>\n",
       "      <td>Mr. President I send a resolution to the desk....</td>\n",
       "      <td>257</td>\n",
       "      <td>1</td>\n",
       "    </tr>\n",
       "    <tr>\n",
       "      <th>5</th>\n",
       "      <td>19950104</td>\n",
       "      <td>Republican</td>\n",
       "      <td>Mr. President I ask unanimous consent that the...</td>\n",
       "      <td>411</td>\n",
       "      <td>1</td>\n",
       "    </tr>\n",
       "    <tr>\n",
       "      <th>29</th>\n",
       "      <td>19950104</td>\n",
       "      <td>Republican</td>\n",
       "      <td>Mr. President I have been pleased to listen to...</td>\n",
       "      <td>1094</td>\n",
       "      <td>1</td>\n",
       "    </tr>\n",
       "    <tr>\n",
       "      <th>32</th>\n",
       "      <td>19950104</td>\n",
       "      <td>Republican</td>\n",
       "      <td>Reserving the right to object Mr. President. J...</td>\n",
       "      <td>323</td>\n",
       "      <td>1</td>\n",
       "    </tr>\n",
       "    <tr>\n",
       "      <th>33</th>\n",
       "      <td>19950104</td>\n",
       "      <td>Republican</td>\n",
       "      <td>And when all time is used or yielded back is t...</td>\n",
       "      <td>139</td>\n",
       "      <td>1</td>\n",
       "    </tr>\n",
       "  </tbody>\n",
       "</table>\n",
       "</div>"
      ],
      "text/plain": [
       "        date       party                                          statement  \\\n",
       "2   19950104  Republican  Mr. President I send a resolution to the desk....   \n",
       "5   19950104  Republican  Mr. President I ask unanimous consent that the...   \n",
       "29  19950104  Republican  Mr. President I have been pleased to listen to...   \n",
       "32  19950104  Republican  Reserving the right to object Mr. President. J...   \n",
       "33  19950104  Republican  And when all time is used or yielded back is t...   \n",
       "\n",
       "    statement_length  Party_numeric D=0 R=1  \n",
       "2                257                      1  \n",
       "5                411                      1  \n",
       "29              1094                      1  \n",
       "32               323                      1  \n",
       "33               139                      1  "
      ]
     },
     "execution_count": 12,
     "metadata": {},
     "output_type": "execute_result"
    }
   ],
   "source": [
    "# The maximum number of words to be used. (most frequent)\n",
    "MAX_NB_WORDS = 10000\n",
    "# Max number of words in each complaint.\n",
    "MAX_SEQUENCE_LENGTH = 250\n",
    "# This is fixed.\n",
    "EMBEDDING_DIM = 100\n",
    "\n",
    "tokenizer = Tokenizer(num_words=MAX_NB_WORDS, filters='!\"#$%&()*+,-./:;<=>?@[\\]^_`{|}~', lower=True)\n",
    "tokenizer.fit_on_texts(df['statement'])\n",
    "word_index = tokenizer.word_index\n",
    "#len(word_index)\n",
    "print('Found %s unique tokens.'% len(word_index))\n",
    "print('Found {} unique tokens.' .format(len(word_index)))\n",
    "#X = tokenizer.texts_to_sequences(df['Speech text'])\n",
    "#X = pad_sequences(X, maxlen=MAX_SEQUENCE_LENGTH)\n",
    "#print('Shape of data tensor:', X.shape)\n",
    "df['Party_numeric D=0 R=1'] = np.where(df['party'] ==\"Democratic\", 0, 1)\n",
    "df.head()\n",
    "\n",
    "#X_train, X_test, Y_train, Y_test = train_test_split(X,Y, test_size = 0.20, random_state = 42)\n",
    "#print(X_train.shape,Y_train.shape)\n",
    "#print(X_test.shape,Y_test.shape)"
   ]
  },
  {
   "cell_type": "code",
   "execution_count": 13,
   "metadata": {},
   "outputs": [],
   "source": [
    "def remove_special_characters(text, remove_digits=False):\n",
    "    # Remove special characters from text\n",
    "    pattern = r'[^a-zA-z0-9\\s]' if not remove_digits else r'[^a-zA-z\\s]'\n",
    "    text = re.sub(pattern, '', text)\n",
    "    return text"
   ]
  },
  {
   "cell_type": "code",
   "execution_count": 14,
   "metadata": {},
   "outputs": [],
   "source": [
    "#import spacy\n",
    "#nlp = spacy.load('en_core_web_md', parse=True, tag=True, entity=True)\n",
    "\n",
    "\n",
    "#def lemmatize_text(text):\n",
    "    # Get base form for word variants (i.e. running ==> run, cats ==> cat, etc.)\n",
    "#    text = nlp(text)\n",
    "#    text = ' '.join([word.lemma_ if word.lemma_ != '-PRON-' else word.text for word in text])\n",
    "#    return text"
   ]
  },
  {
   "cell_type": "code",
   "execution_count": 15,
   "metadata": {},
   "outputs": [],
   "source": [
    "import nltk\n",
    "from nltk.tokenize.toktok import ToktokTokenizer\n",
    "\n",
    "tokenizer1 = ToktokTokenizer()\n",
    "tokenizer = Tokenizer(num_words=MAX_NB_WORDS, filters='!\"#$%&()*+,-./:;<=>?@[\\]^_`{|}~', lower=True)\n",
    "\n",
    "# Remove words 'no' and 'not' from stopword list as these may change meaning of words/phrases\n",
    "stopword_list = nltk.corpus.stopwords.words('english')\n",
    "for word in ['no', 'not', 'he', 'she', 'his', 'her', 'hers']:\n",
    "    stopword_list.remove(word)\n",
    "\n",
    "# Add characters not captured in special character removal to stop list\n",
    "stopword_list += ['[', ']', \"\\\\\",'mr','mrs','president']                     \n",
    "\n",
    "def remove_stopwords(text, is_lower_case=False):\n",
    "    tokens = tokenizer1.tokenize(text)\n",
    "    tokens = [token.strip() for token in tokens]\n",
    "    if is_lower_case:\n",
    "        filtered_tokens = [token for token in tokens if token not in stopword_list]\n",
    "    else:\n",
    "        filtered_tokens = [token for token in tokens if token.lower() not in stopword_list]\n",
    "    filtered_text = ' '.join(filtered_tokens)    \n",
    "    return filtered_text"
   ]
  },
  {
   "cell_type": "code",
   "execution_count": 16,
   "metadata": {},
   "outputs": [
    {
     "data": {
      "text/html": [
       "<div>\n",
       "<style scoped>\n",
       "    .dataframe tbody tr th:only-of-type {\n",
       "        vertical-align: middle;\n",
       "    }\n",
       "\n",
       "    .dataframe tbody tr th {\n",
       "        vertical-align: top;\n",
       "    }\n",
       "\n",
       "    .dataframe thead th {\n",
       "        text-align: right;\n",
       "    }\n",
       "</style>\n",
       "<table border=\"1\" class=\"dataframe\">\n",
       "  <thead>\n",
       "    <tr style=\"text-align: right;\">\n",
       "      <th></th>\n",
       "      <th>date</th>\n",
       "      <th>party</th>\n",
       "      <th>statement</th>\n",
       "      <th>statement_length</th>\n",
       "      <th>Party_numeric D=0 R=1</th>\n",
       "      <th>clean_statement</th>\n",
       "    </tr>\n",
       "  </thead>\n",
       "  <tbody>\n",
       "    <tr>\n",
       "      <th>2</th>\n",
       "      <td>19950104</td>\n",
       "      <td>Republican</td>\n",
       "      <td>Mr. President I send a resolution to the desk....</td>\n",
       "      <td>257</td>\n",
       "      <td>1</td>\n",
       "      <td>[send, resolution, desk, vice, clerk, report, ...</td>\n",
       "    </tr>\n",
       "    <tr>\n",
       "      <th>5</th>\n",
       "      <td>19950104</td>\n",
       "      <td>Republican</td>\n",
       "      <td>Mr. President I ask unanimous consent that the...</td>\n",
       "      <td>411</td>\n",
       "      <td>1</td>\n",
       "      <td>[ask, unanimous, consent, text, bill, printed,...</td>\n",
       "    </tr>\n",
       "    <tr>\n",
       "      <th>29</th>\n",
       "      <td>19950104</td>\n",
       "      <td>Republican</td>\n",
       "      <td>Mr. President I have been pleased to listen to...</td>\n",
       "      <td>1094</td>\n",
       "      <td>1</td>\n",
       "      <td>[pleased, listen, statement, distinguished, se...</td>\n",
       "    </tr>\n",
       "    <tr>\n",
       "      <th>32</th>\n",
       "      <td>19950104</td>\n",
       "      <td>Republican</td>\n",
       "      <td>Reserving the right to object Mr. President. J...</td>\n",
       "      <td>323</td>\n",
       "      <td>1</td>\n",
       "      <td>[reserving, right, object, clarification, prev...</td>\n",
       "    </tr>\n",
       "    <tr>\n",
       "      <th>33</th>\n",
       "      <td>19950104</td>\n",
       "      <td>Republican</td>\n",
       "      <td>And when all time is used or yielded back is t...</td>\n",
       "      <td>139</td>\n",
       "      <td>1</td>\n",
       "      <td>[time, used, yielded, back, next, order, busin...</td>\n",
       "    </tr>\n",
       "  </tbody>\n",
       "</table>\n",
       "</div>"
      ],
      "text/plain": [
       "        date       party                                          statement  \\\n",
       "2   19950104  Republican  Mr. President I send a resolution to the desk....   \n",
       "5   19950104  Republican  Mr. President I ask unanimous consent that the...   \n",
       "29  19950104  Republican  Mr. President I have been pleased to listen to...   \n",
       "32  19950104  Republican  Reserving the right to object Mr. President. J...   \n",
       "33  19950104  Republican  And when all time is used or yielded back is t...   \n",
       "\n",
       "    statement_length  Party_numeric D=0 R=1  \\\n",
       "2                257                      1   \n",
       "5                411                      1   \n",
       "29              1094                      1   \n",
       "32               323                      1   \n",
       "33               139                      1   \n",
       "\n",
       "                                      clean_statement  \n",
       "2   [send, resolution, desk, vice, clerk, report, ...  \n",
       "5   [ask, unanimous, consent, text, bill, printed,...  \n",
       "29  [pleased, listen, statement, distinguished, se...  \n",
       "32  [reserving, right, object, clarification, prev...  \n",
       "33  [time, used, yielded, back, next, order, busin...  "
      ]
     },
     "execution_count": 16,
     "metadata": {},
     "output_type": "execute_result"
    }
   ],
   "source": [
    "import unicodedata\n",
    "\n",
    "clean_text = []\n",
    "\n",
    "for text in df['statement']:\n",
    "    # Remove accent characters => Expand Contractions => Remove special characters => Lammatize Text => Remove Stop Words\n",
    "    no_accent_chars = unicodedata.normalize('NFKD', text).encode('ascii', 'ignore').decode('utf-8', 'ignore')\n",
    "    #expanded_text = expand_contractions(no_accent_chars)\n",
    "    expanded_text = no_accent_chars \n",
    "    no_special_chars = remove_special_characters(expanded_text, remove_digits=False)\n",
    "    #lem_text = lemmatize_text(no_special_chars)\n",
    "    #filtered_text = remove_stopwords(lem_text)\n",
    "    filtered_text = remove_stopwords(no_special_chars)\n",
    "    \n",
    "    # Make all text lowercase\n",
    "    lowercase_text = filtered_text.lower()\n",
    "    \n",
    "    # Split text into list of words\n",
    "    words = lowercase_text.split()\n",
    "    clean_text.append(words)\n",
    "\n",
    "# Add cleaned text to dataframe\n",
    "df['clean_statement'] = clean_text\n",
    "df.head()"
   ]
  },
  {
   "cell_type": "code",
   "execution_count": 17,
   "metadata": {},
   "outputs": [],
   "source": [
    "# Set variables for dependent and independent variables\n",
    "target = df['Party_numeric D=0 R=1']\n",
    "data = df['clean_statement'].values"
   ]
  },
  {
   "cell_type": "code",
   "execution_count": 18,
   "metadata": {},
   "outputs": [
    {
     "name": "stdout",
     "output_type": "stream",
     "text": [
      "Maximum Sample Word Count: 220\n"
     ]
    }
   ],
   "source": [
    "# Create Bigrams as Certain terms may come up that make more sense together than independently \n",
    "#import gensim\n",
    "#from gensim.models import phrases\n",
    "#from gensim.models.phrases import Phrases\n",
    "\n",
    "# Identify and create bigrams\n",
    "#bigrams = phrases.Phrases(data)\n",
    "#bigrams = data\n",
    "\n",
    "bigrams_data = []\n",
    "\n",
    "\n",
    "for i in range(len(data)):\n",
    "#    bigrams_data.append(bigrams[data[i]])\n",
    "    bigrams_data.append([data[i]])\n",
    "    \n",
    "bigrams_data = np.array(bigrams_data)\n",
    "\n",
    "# Get word count for longest sample after stop words removed and bigrams created\n",
    "max_len = 0\n",
    "for bigram in bigrams_data:\n",
    "    tumpa = 0\n",
    "    for bigram1 in bigram:\n",
    "        for bigram2 in bigram1:\n",
    "            tumpa = tumpa + 1\n",
    "        \n",
    "        max_len = tumpa if tumpa > max_len else max_len\n",
    "#print(max_len)\n",
    " \n",
    "print('Maximum Sample Word Count: {}' .format(max_len))\n",
    "#print('Sample:\\n' ' '.join([bigram for bigram in bigrams_data[0]]))"
   ]
  },
  {
   "cell_type": "code",
   "execution_count": 19,
   "metadata": {},
   "outputs": [
    {
     "name": "stdout",
     "output_type": "stream",
     "text": [
      "Total Words in Vocabulary:1155235\n"
     ]
    }
   ],
   "source": [
    "# Create variable to hold set of all unique words in sample corpus\n",
    "#total_vocabulary = set(word for text in bigrams_data for word in text)\n",
    "total_vocabulary =[]\n",
    "for bigram in bigrams_data:\n",
    "    for bigram1 in bigram:\n",
    "        for bigram2 in bigram1:\n",
    "            total_vocabulary.append(bigram2)\n",
    "#len(total_vocabulary)\n",
    "\n",
    "print('Total Words in Vocabulary:{}' .format(len(total_vocabulary)))"
   ]
  },
  {
   "cell_type": "code",
   "execution_count": 20,
   "metadata": {},
   "outputs": [
    {
     "name": "stdout",
     "output_type": "stream",
     "text": [
      "Total Words in Embedding Index: 10001\n"
     ]
    }
   ],
   "source": [
    "#!wget http://nlp.stanford.edu/data/glove.6B.zip\n",
    "#!unzip glove*.zip\n",
    "# Create dictionary of vectors from GloVe based on total vocabulary\n",
    "embeddings_index = {}\n",
    "word_count = 0\n",
    "f = open('/home/asheshchoudhury/glove.6B.50d.txt', encoding='utf8')\n",
    "for line in f:\n",
    "    values = line.split()\n",
    "    word = values[0]\n",
    "    if word in total_vocabulary:\n",
    "        if word_count > MAX_NB_WORDS:\n",
    "            break\n",
    "        elif word_count <= MAX_NB_WORDS:\n",
    "            #print(word_count)\n",
    "            word_count = word_count + 1\n",
    "            coefs = np.asarray(values[1:], dtype='float32')\n",
    "            embeddings_index[word] = coefs\n",
    "f.close()\n",
    "\n",
    "print('Total Words in Embedding Index: {}' .format(len(embeddings_index)))"
   ]
  },
  {
   "cell_type": "code",
   "execution_count": 21,
   "metadata": {},
   "outputs": [],
   "source": [
    "class W2vVectorizer(object):\n",
    "    # Assign GloVe vector to each word in vocabulary, or zero vector to words/bigrams not found\n",
    "    def __init__(self, w2v):\n",
    "        # takes in a dictionary of words and vectors as input\n",
    "        self.w2v = w2v\n",
    "        if len(w2v) == 0:\n",
    "            self.dimensions = 0\n",
    "        else:\n",
    "            self.dimensions = len(w2v[next(iter(embeddings_index))])\n",
    "    \n",
    "    # Following required to allow for implementation of a fit method\n",
    "    # Cannot be used in SKLearn Pipeline otherwise \n",
    "    def fit(self, X, y):\n",
    "        return self\n",
    "            \n",
    "    def transform(self, X):\n",
    "        return np.array([\n",
    "            np.mean([self.w2v[w] for w in words if w in self.w2v]\n",
    "                   or [np.zeros(self.dimensions)], axis=0) for words in X])"
   ]
  },
  {
   "cell_type": "code",
   "execution_count": 22,
   "metadata": {},
   "outputs": [],
   "source": [
    "from sklearn.ensemble import RandomForestClassifier\n",
    "from sklearn.svm import SVC\n",
    "from sklearn.linear_model import LogisticRegression\n",
    "from sklearn.pipeline import Pipeline\n",
    "from sklearn.model_selection import cross_val_score\n",
    "from sklearn.naive_bayes import GaussianNB\n",
    "\n",
    "\n",
    "rf  = Pipeline([(\"Word2Vec Vectorizer\", W2vVectorizer(embeddings_index)),\n",
    "                (\"Random Forest\", RandomForestClassifier(n_estimators=100, verbose=True, n_jobs=-1))])\n",
    "svc = Pipeline([(\"Word2Vec Vectorizer\", W2vVectorizer(embeddings_index)),\n",
    "                ('Support Vector Machine', SVC(gamma='scale'))])\n",
    "#lr  = Pipeline([(\"Word2Vec Vectorizer\", W2vVectorizer(embeddings_index)),\n",
    "#                ('Logistic Regression', LogisticRegression(n_jobs=-1))])\n",
    "nb =  Pipeline([(\"Word2Vec Vectorizer\", W2vVectorizer(embeddings_index)),\n",
    "                ('Naive Bayse', GaussianNB())])"
   ]
  },
  {
   "cell_type": "code",
   "execution_count": 23,
   "metadata": {},
   "outputs": [],
   "source": [
    "models = [('Random Forest', rf),\n",
    "          (\"Support Vector Machine\", svc),\n",
    "#          (\"Logistic Regression\", lr)]\n",
    "          (\"Naive Bayes\", nb)]\n"
   ]
  },
  {
   "cell_type": "code",
   "execution_count": 24,
   "metadata": {},
   "outputs": [
    {
     "name": "stderr",
     "output_type": "stream",
     "text": [
      "[Parallel(n_jobs=-1)]: Using backend LokyBackend with 12 concurrent workers.\n",
      "[Parallel(n_jobs=-1)]: Done  26 tasks      | elapsed:    1.6s\n",
      "[Parallel(n_jobs=-1)]: Done 100 out of 100 | elapsed:    2.5s finished\n",
      "[Parallel(n_jobs=12)]: Using backend ThreadingBackend with 12 concurrent workers.\n",
      "[Parallel(n_jobs=12)]: Done  26 tasks      | elapsed:    0.0s\n",
      "[Parallel(n_jobs=12)]: Done 100 out of 100 | elapsed:    0.1s finished\n",
      "[Parallel(n_jobs=-1)]: Using backend LokyBackend with 12 concurrent workers.\n",
      "[Parallel(n_jobs=-1)]: Done  26 tasks      | elapsed:    1.5s\n",
      "[Parallel(n_jobs=-1)]: Done 100 out of 100 | elapsed:    2.4s finished\n",
      "[Parallel(n_jobs=12)]: Using backend ThreadingBackend with 12 concurrent workers.\n",
      "[Parallel(n_jobs=12)]: Done  26 tasks      | elapsed:    0.0s\n",
      "[Parallel(n_jobs=12)]: Done 100 out of 100 | elapsed:    0.1s finished\n"
     ]
    },
    {
     "data": {
      "text/plain": [
       "[('Random Forest', 0.45635733801717404),\n",
       " ('Support Vector Machine', 0.44884367681498827),\n",
       " ('Naive Bayes', 0.462675644028103)]"
      ]
     },
     "execution_count": 24,
     "metadata": {},
     "output_type": "execute_result"
    }
   ],
   "source": [
    "# Use 2 cross-validations to gauge performance\n",
    "scores = [(name, cross_val_score(model, data, target, cv=2).mean()) for name, model in models]\n",
    "scores"
   ]
  },
  {
   "cell_type": "code",
   "execution_count": 25,
   "metadata": {},
   "outputs": [],
   "source": [
    "from keras.preprocessing.sequence import pad_sequences\n",
    "from keras.layers import Input, Dense, LSTM, Embedding, GRU\n",
    "from keras.layers import Dropout, Activation, Bidirectional, GlobalMaxPool1D, Conv1D, MaxPooling1D, Flatten\n",
    "from keras.models import Model, Sequential, load_model\n",
    "from keras.metrics import categorical_crossentropy\n",
    "from keras.preprocessing import text\n",
    "from keras.callbacks import ModelCheckpoint, EarlyStopping\n",
    "from keras.optimizers import Adam, RMSprop"
   ]
  },
  {
   "cell_type": "code",
   "execution_count": 26,
   "metadata": {},
   "outputs": [
    {
     "name": "stdout",
     "output_type": "stream",
     "text": [
      "Total Words in Vocabulary: 33559\n"
     ]
    }
   ],
   "source": [
    "# Convert each sample's list of bigrams into a string\n",
    "bigrams_joined = []\n",
    "\n",
    "for a in bigrams_data:\n",
    "    for b in a:\n",
    "        bigrams_joined.append(' '.join(b))\n",
    "\n",
    "# Remove underscore from filters and no need to convert to lowercase\n",
    "tokenizer = text.Tokenizer(filters='!\"#%&()*+,./:;<=>?@[\\\\]^`{|}~\\t\\n', lower=False)\n",
    "tokenizer.fit_on_texts(bigrams_joined)\n",
    "sequences = tokenizer.texts_to_sequences(bigrams_joined)\n",
    "\n",
    "word_index = tokenizer.word_index\n",
    "print('Total Words in Vocabulary: {}' .format(len(word_index)))"
   ]
  },
  {
   "cell_type": "code",
   "execution_count": 27,
   "metadata": {},
   "outputs": [
    {
     "data": {
      "text/html": [
       "<div>\n",
       "<style scoped>\n",
       "    .dataframe tbody tr th:only-of-type {\n",
       "        vertical-align: middle;\n",
       "    }\n",
       "\n",
       "    .dataframe tbody tr th {\n",
       "        vertical-align: top;\n",
       "    }\n",
       "\n",
       "    .dataframe thead th {\n",
       "        text-align: right;\n",
       "    }\n",
       "</style>\n",
       "<table border=\"1\" class=\"dataframe\">\n",
       "  <thead>\n",
       "    <tr style=\"text-align: right;\">\n",
       "      <th></th>\n",
       "      <th>0</th>\n",
       "      <th>1</th>\n",
       "      <th>2</th>\n",
       "      <th>3</th>\n",
       "      <th>4</th>\n",
       "      <th>5</th>\n",
       "      <th>6</th>\n",
       "      <th>7</th>\n",
       "      <th>8</th>\n",
       "      <th>9</th>\n",
       "      <th>...</th>\n",
       "      <th>212</th>\n",
       "      <th>213</th>\n",
       "      <th>214</th>\n",
       "      <th>215</th>\n",
       "      <th>216</th>\n",
       "      <th>217</th>\n",
       "      <th>218</th>\n",
       "      <th>219</th>\n",
       "      <th>bigrams</th>\n",
       "      <th>text</th>\n",
       "    </tr>\n",
       "  </thead>\n",
       "  <tbody>\n",
       "    <tr>\n",
       "      <th>0</th>\n",
       "      <td>220</td>\n",
       "      <td>61</td>\n",
       "      <td>146</td>\n",
       "      <td>704</td>\n",
       "      <td>184</td>\n",
       "      <td>218</td>\n",
       "      <td>571</td>\n",
       "      <td>188</td>\n",
       "      <td>184</td>\n",
       "      <td>165</td>\n",
       "      <td>...</td>\n",
       "      <td>0</td>\n",
       "      <td>0</td>\n",
       "      <td>0</td>\n",
       "      <td>0</td>\n",
       "      <td>0</td>\n",
       "      <td>0</td>\n",
       "      <td>0</td>\n",
       "      <td>0</td>\n",
       "      <td>[send, resolution, desk, vice, clerk, report, ...</td>\n",
       "      <td>[send, resolution, desk, vice, clerk, report, ...</td>\n",
       "    </tr>\n",
       "    <tr>\n",
       "      <th>1</th>\n",
       "      <td>2</td>\n",
       "      <td>4</td>\n",
       "      <td>3</td>\n",
       "      <td>257</td>\n",
       "      <td>11</td>\n",
       "      <td>40</td>\n",
       "      <td>27</td>\n",
       "      <td>2</td>\n",
       "      <td>4</td>\n",
       "      <td>3</td>\n",
       "      <td>...</td>\n",
       "      <td>0</td>\n",
       "      <td>0</td>\n",
       "      <td>0</td>\n",
       "      <td>0</td>\n",
       "      <td>0</td>\n",
       "      <td>0</td>\n",
       "      <td>0</td>\n",
       "      <td>0</td>\n",
       "      <td>[ask, unanimous, consent, text, bill, printed,...</td>\n",
       "      <td>[ask, unanimous, consent, text, bill, printed,...</td>\n",
       "    </tr>\n",
       "    <tr>\n",
       "      <th>2</th>\n",
       "      <td>539</td>\n",
       "      <td>1297</td>\n",
       "      <td>275</td>\n",
       "      <td>121</td>\n",
       "      <td>1</td>\n",
       "      <td>544</td>\n",
       "      <td>2937</td>\n",
       "      <td>581</td>\n",
       "      <td>15</td>\n",
       "      <td>409</td>\n",
       "      <td>...</td>\n",
       "      <td>0</td>\n",
       "      <td>0</td>\n",
       "      <td>0</td>\n",
       "      <td>0</td>\n",
       "      <td>0</td>\n",
       "      <td>0</td>\n",
       "      <td>0</td>\n",
       "      <td>0</td>\n",
       "      <td>[pleased, listen, statement, distinguished, se...</td>\n",
       "      <td>[pleased, listen, statement, distinguished, se...</td>\n",
       "    </tr>\n",
       "    <tr>\n",
       "      <th>3</th>\n",
       "      <td>394</td>\n",
       "      <td>53</td>\n",
       "      <td>135</td>\n",
       "      <td>1865</td>\n",
       "      <td>209</td>\n",
       "      <td>1594</td>\n",
       "      <td>179</td>\n",
       "      <td>9</td>\n",
       "      <td>179</td>\n",
       "      <td>104</td>\n",
       "      <td>...</td>\n",
       "      <td>0</td>\n",
       "      <td>0</td>\n",
       "      <td>0</td>\n",
       "      <td>0</td>\n",
       "      <td>0</td>\n",
       "      <td>0</td>\n",
       "      <td>0</td>\n",
       "      <td>0</td>\n",
       "      <td>[reserving, right, object, clarification, prev...</td>\n",
       "      <td>[reserving, right, object, clarification, prev...</td>\n",
       "    </tr>\n",
       "    <tr>\n",
       "      <th>4</th>\n",
       "      <td>9</td>\n",
       "      <td>318</td>\n",
       "      <td>1202</td>\n",
       "      <td>80</td>\n",
       "      <td>151</td>\n",
       "      <td>12</td>\n",
       "      <td>30</td>\n",
       "      <td>275</td>\n",
       "      <td>1</td>\n",
       "      <td>696</td>\n",
       "      <td>...</td>\n",
       "      <td>0</td>\n",
       "      <td>0</td>\n",
       "      <td>0</td>\n",
       "      <td>0</td>\n",
       "      <td>0</td>\n",
       "      <td>0</td>\n",
       "      <td>0</td>\n",
       "      <td>0</td>\n",
       "      <td>[time, used, yielded, back, next, order, busin...</td>\n",
       "      <td>[time, used, yielded, back, next, order, busin...</td>\n",
       "    </tr>\n",
       "  </tbody>\n",
       "</table>\n",
       "<p>5 rows × 222 columns</p>\n",
       "</div>"
      ],
      "text/plain": [
       "     0     1     2     3    4     5     6    7    8    9  ...  212  213  214  \\\n",
       "0  220    61   146   704  184   218   571  188  184  165  ...    0    0    0   \n",
       "1    2     4     3   257   11    40    27    2    4    3  ...    0    0    0   \n",
       "2  539  1297   275   121    1   544  2937  581   15  409  ...    0    0    0   \n",
       "3  394    53   135  1865  209  1594   179    9  179  104  ...    0    0    0   \n",
       "4    9   318  1202    80  151    12    30  275    1  696  ...    0    0    0   \n",
       "\n",
       "   215  216  217  218  219                                            bigrams  \\\n",
       "0    0    0    0    0    0  [send, resolution, desk, vice, clerk, report, ...   \n",
       "1    0    0    0    0    0  [ask, unanimous, consent, text, bill, printed,...   \n",
       "2    0    0    0    0    0  [pleased, listen, statement, distinguished, se...   \n",
       "3    0    0    0    0    0  [reserving, right, object, clarification, prev...   \n",
       "4    0    0    0    0    0  [time, used, yielded, back, next, order, busin...   \n",
       "\n",
       "                                                text  \n",
       "0  [send, resolution, desk, vice, clerk, report, ...  \n",
       "1  [ask, unanimous, consent, text, bill, printed,...  \n",
       "2  [pleased, listen, statement, distinguished, se...  \n",
       "3  [reserving, right, object, clarification, prev...  \n",
       "4  [time, used, yielded, back, next, order, busin...  \n",
       "\n",
       "[5 rows x 222 columns]"
      ]
     },
     "execution_count": 27,
     "metadata": {},
     "output_type": "execute_result"
    }
   ],
   "source": [
    "X_t = pad_sequences(sequences, maxlen=max_len, padding='post')\n",
    "X_t_df = pd.DataFrame(X_t)\n",
    "X_t_df['bigrams'] = bigrams_data\n",
    "X_t_df['text'] = df.reset_index(drop=True)['clean_statement']\n",
    "X_t_df.head()"
   ]
  },
  {
   "cell_type": "code",
   "execution_count": 28,
   "metadata": {},
   "outputs": [],
   "source": [
    "# Set target variable\n",
    "y = pd.get_dummies(target).values"
   ]
  },
  {
   "cell_type": "code",
   "execution_count": 29,
   "metadata": {},
   "outputs": [],
   "source": [
    "#Train Test split\n",
    "from sklearn.model_selection import train_test_split\n",
    "\n",
    "X_train, X_test, y_train, y_test = train_test_split(X_t_df, y, test_size=.5)\n",
    "\n",
    "X_train_text = X_train[['text', 'bigrams']]\n",
    "X_train = X_train[X_train.columns[:-2]]\n",
    "\n",
    "X_test_text = X_test[['text', 'bigrams']]\n",
    "X_test = X_test[X_test.columns[:-2]]\n"
   ]
  },
  {
   "cell_type": "code",
   "execution_count": 30,
   "metadata": {},
   "outputs": [],
   "source": [
    "# Create matrix of random vectors which matches size of the word index\n",
    "embedding_matrix = np.random.random((len(word_index) + 1, 50))\n",
    "for word, i in word_index.items():\n",
    "    \n",
    "    # For each word found in the embedding index, assign the known vector\n",
    "    embedding_vector = embeddings_index.get(word)\n",
    "    \n",
    "    # Otherwise, keep the randomly assigned vector\n",
    "    if embedding_vector is not None:\n",
    "        embedding_matrix[i] = embedding_vector\n",
    "        \n",
    "embedding_layer = Embedding(len(word_index) + 1, \n",
    "                            100, weights = [embedding_matrix], \n",
    "                            input_length = max_len, trainable=True)"
   ]
  },
  {
   "cell_type": "code",
   "execution_count": 31,
   "metadata": {},
   "outputs": [],
   "source": [
    "# Start from Network Development Strategy Synopsis"
   ]
  },
  {
   "cell_type": "code",
   "execution_count": 32,
   "metadata": {},
   "outputs": [],
   "source": [
    "#CNN\n",
    "\n",
    "#def create_cnn_model(cdim=128, ksize=5, pool1=5, pool2=35, density=128, lr=.001, epochs=100, batch_size=128, validation_split=.3, patience=5, verbose=0):\n",
    "def create_cnn_model(cdim=128, ksize=5, pool1=5, pool2=35, density=128, lr=.001, epochs=1, batch_size=128, validation_split=.2, patience=5, verbose=0):\n",
    "    \n",
    "    # Start Timer\n",
    "    start = datetime.datetime.now()\n",
    "    #print('inside the loop-1')\n",
    "    \n",
    "    # Display Hyperparameter Settings\n",
    "    print('Convolution Dimensions\\tWindow Size\\tPool 1\\t\\tPool 2\\t\\tDensity')\n",
    "    print(cdim,ksize,pool1,pool2,density, sep ='\\t\\t\\t')\n",
    "    \n",
    "\n",
    "    \n",
    "    # Build Model\n",
    "    input_ = Input(shape=(max_len,), dtype='int32')\n",
    "    embedded_sequences = embedding_layer(input_)\n",
    "    #print('inside the loop-2')\n",
    "    \n",
    "    x = Conv1D(cdim, ksize, activation='relu')(embedded_sequences)\n",
    "    x = MaxPooling1D(pool1, padding='same')(x)\n",
    "    x = Conv1D(cdim, ksize, activation='relu')(x)\n",
    "    x = MaxPooling1D(pool1, padding='same')(x)\n",
    "    x = Conv1D(cdim, ksize, activation='relu')(x)\n",
    "    x = MaxPooling1D(pool2, padding='same')(x)\n",
    "    x = Flatten()(x)\n",
    "    x = Dense(density, activation='relu')(x)\n",
    "    #x = Dense(num_classes, activation='softmax')(x)\n",
    "    x = Dense(2, activation='softmax')(x)\n",
    "    #print('inside the loop-3')\n",
    "    model = Model(inputs=input_, outputs=x)\n",
    "    #print('inside the loop-4')\n",
    "    \n",
    "    # Compile Model\n",
    "    history = model.compile(loss='categorical_crossentropy', \n",
    "                            optimizer=Adam(lr=lr), \n",
    "                            metrics=['accuracy'])\n",
    "    #print('inside the loop-5')\n",
    "    # Create Checkpoints & Stopping Parameters\n",
    "    #checkpoints_path = f'models/cnn_best_{p1}_{p2}.hdf5'\n",
    "    #checkpoints_path = f'models/cnn_best_.hdf5'\n",
    "\n",
    "    #checkpoint = ModelCheckpoint(checkpoints_path, \n",
    "    #                             monitor='val_loss', \n",
    "    #                             verbose=verbose, \n",
    "    #                             save_best_only=True, \n",
    "    #                             mode='min')\n",
    "\n",
    "    #early_stopping = EarlyStopping(monitor='val_loss', \n",
    "    #                               mode='min', \n",
    "    #                               patience=patience)\n",
    "    \n",
    "    #callbacks = [checkpoint, early_stopping]\n",
    "    callbacks=[EarlyStopping(monitor='val_loss', patience=5, min_delta=0.001)]\n",
    "    #print('inside the loop-6')\n",
    "    \n",
    "    # Fit Model\n",
    "    history = model.fit(X_train, y_train, \n",
    "                        epochs=epochs, \n",
    "                        batch_size=batch_size, \n",
    "                        validation_split=validation_split, \n",
    "                        callbacks=callbacks, \n",
    "                        verbose=verbose)\n",
    "    #print('inside the loop-7')\n",
    "    # Evaluate Model\n",
    "    results = model.evaluate(X_test, y_test)\n",
    "    #print(results)\n",
    "    # End Timer\n",
    "    end = datetime.datetime.now()\n",
    "    time_taken = end - start\n",
    "    # Display Results\n",
    "    print('Time to Complete:', time_taken)\n",
    "    #print(f'Loss:\\t{results[0]:.2f}\\tAccuracy:\\t{results[1]:.4f}\\n')\n",
    "    #print('Loss:\\t' results[0]:.2f 'Accuracy:\\t' results[1]:.4f)\n",
    "    #print('Loss:{0.2f}\\t' .format(results[0]), 'Accuracy:{0.4f}\\t' .format(results[1]))\n",
    "    #print('Printing Loss')\n",
    "    print('Loss:' ,\"%.2f\" %(results[0]))\n",
    "    #print('Printing Accuracy')\n",
    "    print('Accuracy:',\"%.2f\" %(results[1]))\n",
    "\n",
    "\n",
    "\n",
    "    return model, history, results, time_taken\n"
   ]
  },
  {
   "cell_type": "code",
   "execution_count": 33,
   "metadata": {},
   "outputs": [
    {
     "name": "stdout",
     "output_type": "stream",
     "text": [
      "Time Elapsed: 0:05:03.824190\n",
      "Convolution Dimensions\tWindow Size\tPool 1\t\tPool 2\t\tDensity\n",
      "256\t\t\t2\t\t\t1\t\t\t20\t\t\t4\n",
      "WARNING:tensorflow:From /usr/local/lib/python3.5/dist-packages/tensorflow_core/python/ops/resource_variable_ops.py:1630: calling BaseResourceVariable.__init__ (from tensorflow.python.ops.resource_variable_ops) with constraint is deprecated and will be removed in a future version.\n",
      "Instructions for updating:\n",
      "If using Keras pass *_constraint arguments to layers.\n",
      "Convolution Dimensions\tWindow Size\tPool 1\t\tPool 2\t\tDensity\n",
      "256\t\t\t2\t\t\t1\t\t\t20\t\t\t16\n",
      "WARNING:tensorflow:From /usr/local/lib/python3.5/dist-packages/keras/backend/tensorflow_backend.py:4070: The name tf.nn.max_pool is deprecated. Please use tf.nn.max_pool2d instead.\n",
      "\n",
      "WARNING:tensorflow:From /usr/local/lib/python3.5/dist-packages/keras/backend/tensorflow_backend.py:422: The name tf.global_variables is deprecated. Please use tf.compat.v1.global_variables instead.\n",
      "\n",
      "20496/20496 [==============================] - 22s 1ms/step\n",
      "Time to Complete: 0:01:19.878929\n",
      "Loss: 0.66\n",
      "Accuracy: 0.58\n",
      "0:01:19.878929\n",
      "Convolution Dimensions\tWindow Size\tPool 1\t\tPool 2\t\tDensity\n",
      "256\t\t\t2\t\t\t1\t\t\t40\t\t\t4\n",
      "20496/20496 [==============================] - 20s 994us/step\n",
      "Time to Complete: 0:01:14.163831\n",
      "Loss: 0.66\n",
      "Accuracy: 0.58\n",
      "0:01:14.163831\n",
      "Convolution Dimensions\tWindow Size\tPool 1\t\tPool 2\t\tDensity\n",
      "256\t\t\t2\t\t\t1\t\t\t40\t\t\t16\n",
      "20496/20496 [==============================] - 20s 991us/step\n",
      "Time to Complete: 0:01:14.976733\n",
      "Loss: 0.64\n",
      "Accuracy: 0.61\n",
      "0:01:14.976733\n",
      "Convolution Dimensions\tWindow Size\tPool 1\t\tPool 2\t\tDensity\n",
      "256\t\t\t2\t\t\t2\t\t\t20\t\t\t4\n",
      "20496/20496 [==============================] - 13s 643us/step\n",
      "Time to Complete: 0:00:48.393868\n",
      "Loss: 0.64\n",
      "Accuracy: 0.62\n",
      "0:00:48.393868\n",
      "Convolution Dimensions\tWindow Size\tPool 1\t\tPool 2\t\tDensity\n",
      "256\t\t\t2\t\t\t2\t\t\t20\t\t\t16\n",
      "20496/20496 [==============================] - 12s 603us/step\n",
      "Time to Complete: 0:00:47.266950\n",
      "Loss: 0.67\n",
      "Accuracy: 0.62\n",
      "0:00:47.266950\n",
      "Convolution Dimensions\tWindow Size\tPool 1\t\tPool 2\t\tDensity\n",
      "256\t\t\t2\t\t\t2\t\t\t40\t\t\t4\n",
      "20496/20496 [==============================] - 13s 633us/step\n",
      "Time to Complete: 0:00:48.439922\n",
      "Loss: 0.68\n",
      "Accuracy: 0.63\n",
      "0:00:48.439922\n",
      "Convolution Dimensions\tWindow Size\tPool 1\t\tPool 2\t\tDensity\n",
      "256\t\t\t2\t\t\t2\t\t\t40\t\t\t16\n",
      "20496/20496 [==============================] - 13s 637us/step\n",
      "Time to Complete: 0:00:48.540999\n",
      "Loss: 0.79\n",
      "Accuracy: 0.61\n",
      "0:00:48.540999\n",
      "Convolution Dimensions\tWindow Size\tPool 1\t\tPool 2\t\tDensity\n",
      "256\t\t\t3\t\t\t1\t\t\t20\t\t\t4\n",
      "20496/20496 [==============================] - 26s 1ms/step\n",
      "Time to Complete: 0:01:27.309013\n",
      "Loss: 0.85\n",
      "Accuracy: 0.62\n",
      "0:01:27.309013\n",
      "Convolution Dimensions\tWindow Size\tPool 1\t\tPool 2\t\tDensity\n",
      "256\t\t\t3\t\t\t1\t\t\t20\t\t\t16\n",
      "20496/20496 [==============================] - 26s 1ms/step\n",
      "Time to Complete: 0:01:25.914359\n",
      "Loss: 0.95\n",
      "Accuracy: 0.62\n",
      "0:01:25.914359\n",
      "Convolution Dimensions\tWindow Size\tPool 1\t\tPool 2\t\tDensity\n",
      "256\t\t\t3\t\t\t1\t\t\t40\t\t\t4\n",
      "20496/20496 [==============================] - 26s 1ms/step\n",
      "Time to Complete: 0:01:26.656856\n",
      "Loss: 0.83\n",
      "Accuracy: 0.62\n",
      "0:01:26.656856\n",
      "Convolution Dimensions\tWindow Size\tPool 1\t\tPool 2\t\tDensity\n",
      "256\t\t\t3\t\t\t1\t\t\t40\t\t\t16\n",
      "20496/20496 [==============================] - 25s 1ms/step\n",
      "Time to Complete: 0:01:26.529401\n",
      "Loss: 0.96\n",
      "Accuracy: 0.63\n",
      "0:01:26.529401\n",
      "Convolution Dimensions\tWindow Size\tPool 1\t\tPool 2\t\tDensity\n",
      "256\t\t\t3\t\t\t2\t\t\t20\t\t\t4\n",
      "20496/20496 [==============================] - 16s 779us/step\n",
      "Time to Complete: 0:00:54.815245\n",
      "Loss: 0.90\n",
      "Accuracy: 0.62\n",
      "0:00:54.815245\n",
      "Convolution Dimensions\tWindow Size\tPool 1\t\tPool 2\t\tDensity\n",
      "256\t\t\t3\t\t\t2\t\t\t20\t\t\t16\n",
      "20496/20496 [==============================] - 16s 778us/step\n",
      "Time to Complete: 0:00:55.178215\n",
      "Loss: 1.00\n",
      "Accuracy: 0.62\n",
      "0:00:55.178215\n",
      "Convolution Dimensions\tWindow Size\tPool 1\t\tPool 2\t\tDensity\n",
      "256\t\t\t3\t\t\t2\t\t\t40\t\t\t4\n",
      "20496/20496 [==============================] - 15s 747us/step\n",
      "Time to Complete: 0:00:54.391382\n",
      "Loss: 0.81\n",
      "Accuracy: 0.62\n",
      "0:00:54.391382\n",
      "Convolution Dimensions\tWindow Size\tPool 1\t\tPool 2\t\tDensity\n",
      "256\t\t\t3\t\t\t2\t\t\t40\t\t\t16\n",
      "20496/20496 [==============================] - 16s 803us/step\n",
      "Time to Complete: 0:00:55.700600\n",
      "Loss: 0.97\n",
      "Accuracy: 0.62\n",
      "0:00:55.700600\n",
      "Convolution Dimensions\tWindow Size\tPool 1\t\tPool 2\t\tDensity\n",
      "512\t\t\t2\t\t\t1\t\t\t20\t\t\t4\n",
      "20496/20496 [==============================] - 57s 3ms/step\n",
      "Time to Complete: 0:03:13.461207\n",
      "Loss: 0.97\n",
      "Accuracy: 0.63\n",
      "0:03:13.461207\n",
      "Convolution Dimensions\tWindow Size\tPool 1\t\tPool 2\t\tDensity\n",
      "512\t\t\t2\t\t\t1\t\t\t20\t\t\t16\n",
      "20496/20496 [==============================] - 57s 3ms/step\n",
      "Time to Complete: 0:03:13.746340\n",
      "Loss: 1.01\n",
      "Accuracy: 0.62\n",
      "0:03:13.746340\n",
      "Convolution Dimensions\tWindow Size\tPool 1\t\tPool 2\t\tDensity\n",
      "512\t\t\t2\t\t\t1\t\t\t40\t\t\t4\n",
      "20496/20496 [==============================] - 56s 3ms/step\n",
      "Time to Complete: 0:03:09.361557\n",
      "Loss: 0.91\n",
      "Accuracy: 0.62\n",
      "0:03:09.361557\n",
      "Convolution Dimensions\tWindow Size\tPool 1\t\tPool 2\t\tDensity\n",
      "512\t\t\t2\t\t\t1\t\t\t40\t\t\t16\n",
      "20496/20496 [==============================] - 57s 3ms/step\n",
      "Time to Complete: 0:03:10.827336\n",
      "Loss: 1.10\n",
      "Accuracy: 0.62\n",
      "0:03:10.827336\n",
      "Convolution Dimensions\tWindow Size\tPool 1\t\tPool 2\t\tDensity\n",
      "512\t\t\t2\t\t\t2\t\t\t20\t\t\t4\n",
      "20496/20496 [==============================] - 29s 1ms/step\n",
      "Time to Complete: 0:01:40.838152\n",
      "Loss: 1.11\n",
      "Accuracy: 0.62\n",
      "0:01:40.838152\n",
      "Convolution Dimensions\tWindow Size\tPool 1\t\tPool 2\t\tDensity\n",
      "512\t\t\t2\t\t\t2\t\t\t20\t\t\t16\n",
      "20496/20496 [==============================] - 31s 2ms/step\n",
      "Time to Complete: 0:01:44.316388\n",
      "Loss: 1.15\n",
      "Accuracy: 0.62\n",
      "0:01:44.316388\n",
      "Convolution Dimensions\tWindow Size\tPool 1\t\tPool 2\t\tDensity\n",
      "512\t\t\t2\t\t\t2\t\t\t40\t\t\t4\n",
      "20496/20496 [==============================] - 31s 2ms/step\n",
      "Time to Complete: 0:01:44.781361\n",
      "Loss: 1.10\n",
      "Accuracy: 0.62\n",
      "0:01:44.781361\n",
      "Convolution Dimensions\tWindow Size\tPool 1\t\tPool 2\t\tDensity\n",
      "512\t\t\t2\t\t\t2\t\t\t40\t\t\t16\n",
      "20496/20496 [==============================] - 30s 1ms/step\n",
      "Time to Complete: 0:01:44.727160\n",
      "Loss: 1.14\n",
      "Accuracy: 0.62\n",
      "0:01:44.727160\n",
      "Convolution Dimensions\tWindow Size\tPool 1\t\tPool 2\t\tDensity\n",
      "512\t\t\t3\t\t\t1\t\t\t20\t\t\t4\n",
      "20496/20496 [==============================] - 72s 3ms/step\n",
      "Time to Complete: 0:03:54.499694\n",
      "Loss: 1.26\n",
      "Accuracy: 0.62\n",
      "0:03:54.499694\n",
      "Convolution Dimensions\tWindow Size\tPool 1\t\tPool 2\t\tDensity\n",
      "512\t\t\t3\t\t\t1\t\t\t20\t\t\t16\n",
      "20496/20496 [==============================] - 70s 3ms/step\n",
      "Time to Complete: 0:03:51.689710\n",
      "Loss: 1.47\n",
      "Accuracy: 0.62\n",
      "0:03:51.689710\n",
      "Convolution Dimensions\tWindow Size\tPool 1\t\tPool 2\t\tDensity\n",
      "512\t\t\t3\t\t\t1\t\t\t40\t\t\t4\n",
      "20496/20496 [==============================] - 69s 3ms/step\n",
      "Time to Complete: 0:03:50.740087\n",
      "Loss: 1.36\n",
      "Accuracy: 0.61\n",
      "0:03:50.740087\n",
      "Convolution Dimensions\tWindow Size\tPool 1\t\tPool 2\t\tDensity\n",
      "512\t\t\t3\t\t\t1\t\t\t40\t\t\t16\n",
      "20496/20496 [==============================] - 69s 3ms/step\n",
      "Time to Complete: 0:03:53.781532\n",
      "Loss: 1.67\n",
      "Accuracy: 0.61\n",
      "0:03:53.781532\n",
      "Convolution Dimensions\tWindow Size\tPool 1\t\tPool 2\t\tDensity\n",
      "512\t\t\t3\t\t\t2\t\t\t20\t\t\t4\n",
      "20496/20496 [==============================] - 38s 2ms/step\n",
      "Time to Complete: 0:02:03.751600\n",
      "Loss: 1.33\n",
      "Accuracy: 0.62\n",
      "0:02:03.751600\n",
      "Convolution Dimensions\tWindow Size\tPool 1\t\tPool 2\t\tDensity\n",
      "512\t\t\t3\t\t\t2\t\t\t20\t\t\t16\n",
      "20496/20496 [==============================] - 38s 2ms/step\n",
      "Time to Complete: 0:02:04.631813\n",
      "Loss: 1.33\n",
      "Accuracy: 0.62\n",
      "0:02:04.631813\n",
      "Convolution Dimensions\tWindow Size\tPool 1\t\tPool 2\t\tDensity\n",
      "512\t\t\t3\t\t\t2\t\t\t40\t\t\t4\n",
      "20496/20496 [==============================] - 38s 2ms/step\n",
      "Time to Complete: 0:02:04.806101\n",
      "Loss: 1.31\n",
      "Accuracy: 0.62\n",
      "0:02:04.806101\n",
      "Convolution Dimensions\tWindow Size\tPool 1\t\tPool 2\t\tDensity\n",
      "512\t\t\t3\t\t\t2\t\t\t40\t\t\t16\n",
      "20496/20496 [==============================] - 37s 2ms/step\n",
      "Time to Complete: 0:02:03.712903\n",
      "Loss: 1.48\n",
      "Accuracy: 0.62\n",
      "0:02:03.712903\n",
      "Time Elapsed:1:05:03.743610\t\n",
      "Time to Find Best Model:0:59:59.919420\t\n"
     ]
    }
   ],
   "source": [
    "# Display total time elapsed since program started\n",
    "t1 = datetime.datetime.now()\n",
    "print('Time Elapsed: {}' .format(t1 - t0))\n",
    "\n",
    "# Hyperparameter grid\n",
    "#cdims = [8, 16]\n",
    "#ksizes = [3, 5, 7]\n",
    "#pools1 = [3, 5, 7]\n",
    "#pools2 = [5, 10]\n",
    "#densities = [4, 8]\n",
    "# Hyperparameter grid\n",
    "cdims = [256,512]\n",
    "ksizes = [2,3]\n",
    "pools1 = [1, 2]\n",
    "pools2 = [20,40]\n",
    "densities = [4,16]\n",
    "\n",
    "\n",
    "# Create dictionary for tracking CNN results and hyperparameters\n",
    "cnn_results = {'Convolution Dimensions': [], \n",
    "               'Window Size': [], \n",
    "               'Pool 1': [], \n",
    "               'Pool 2': [], \n",
    "               'Density': [], \n",
    "               'Time': [], \n",
    "               'Loss': [], \n",
    "               'Accuracy': []}\n",
    "\n",
    "for cdim in cdims:\n",
    "    for ksize in ksizes:\n",
    "        for pool1 in pools1:\n",
    "            for pool2 in pools2:\n",
    "                for density in densities:\n",
    "                    \n",
    "                    try:\n",
    "                        #print('Before calling cnn')\n",
    "                        cnn_model, cnn_history, cnn_eval, cnn_time = create_cnn_model(cdim=cdim, \n",
    "                                                                                      ksize=ksize, \n",
    "                                                                                      pool1=pool1, \n",
    "                                                                                      pool2=pool2, \n",
    "                                                                                      density=density)\n",
    "                        #print('After calling cnn')\n",
    "                        cnn_results['Convolution Dimensions'].append(cdim)\n",
    "                        cnn_results['Window Size'].append(ksize)\n",
    "                        cnn_results['Pool 1'].append(pool1)\n",
    "                        cnn_results['Pool 2'].append(pool2)\n",
    "                        cnn_results['Density'].append(density)\n",
    "                        cnn_results['Loss'].append(cnn_eval[0])\n",
    "                        cnn_results['Accuracy'].append(cnn_eval[1])\n",
    "                        print(cnn_time)\n",
    "                        cnn_results['Time'].append(cnn_time)\n",
    "                        #print('CNN results should follow')\n",
    "                        #print(cnn_results)\n",
    "                    except:\n",
    "                        # If invalid hyperparameters, pass\n",
    "                        #print('?')\n",
    "                        pass\n",
    "                    \n",
    "t2 = datetime.datetime.now()\n",
    "print('Time Elapsed:{}\\t' .format(t2 - t0))\n",
    "print('Time to Find Best Model:{}\\t' .format(t2 - t1))"
   ]
  },
  {
   "cell_type": "code",
   "execution_count": 34,
   "metadata": {},
   "outputs": [
    {
     "name": "stdout",
     "output_type": "stream",
     "text": [
      "Convolution Dimensions\tWindow Size\tPool 1\t\tPool 2\t\tDensity\n",
      "256\t\t\t2\t\t\t2\t\t\t40\t\t\t4\n",
      "Train on 16396 samples, validate on 4100 samples\n",
      "Epoch 1/100\n",
      "16396/16396 [==============================] - 33s 2ms/step - loss: 0.3260 - accuracy: 0.8101 - val_loss: 1.2288 - val_accuracy: 0.6200\n",
      "Epoch 2/100\n",
      "16396/16396 [==============================] - 31s 2ms/step - loss: 0.2836 - accuracy: 0.8313 - val_loss: 1.6954 - val_accuracy: 0.6105\n",
      "Epoch 3/100\n",
      "16396/16396 [==============================] - 31s 2ms/step - loss: 0.2728 - accuracy: 0.8352 - val_loss: 1.3996 - val_accuracy: 0.6215\n",
      "Epoch 4/100\n",
      "16396/16396 [==============================] - 31s 2ms/step - loss: 0.2683 - accuracy: 0.8377 - val_loss: 1.5359 - val_accuracy: 0.6224\n",
      "Epoch 5/100\n",
      "16396/16396 [==============================] - 30s 2ms/step - loss: 0.2570 - accuracy: 0.8412 - val_loss: 1.7217 - val_accuracy: 0.6168\n",
      "Epoch 6/100\n",
      "16396/16396 [==============================] - 31s 2ms/step - loss: 0.2512 - accuracy: 0.8478 - val_loss: 2.3115 - val_accuracy: 0.6071\n",
      "20496/20496 [==============================] - 15s 743us/step\n",
      "Time to Complete: 0:03:26.573536\n",
      "Loss: 2.22\n",
      "Accuracy: 0.61\n",
      "Time Elapsed: 1:08:30.339490\n",
      "Time to Train Best Model: 0:03:26.595880\n"
     ]
    }
   ],
   "source": [
    "# Train Best CNN Model\n",
    "# Create dataframe from results dictionary\n",
    "cnn_results_df = pd.DataFrame.from_dict(cnn_results)\n",
    "\n",
    "# Get row values associated with highest accuracy\n",
    "best_cnn_model = cnn_results_df[cnn_results_df['Accuracy'] == cnn_results_df['Accuracy'].max()]\n",
    "\n",
    "# Save hyperparameters to variables\n",
    "cdim = best_cnn_model['Convolution Dimensions'].values[0]\n",
    "ksize = int(best_cnn_model['Window Size'].values[0])\n",
    "pool1 = int(best_cnn_model['Pool 1'].values[0])\n",
    "pool2 = int(best_cnn_model['Pool 2'].values[0])\n",
    "density = int(best_cnn_model['Density'].values[0])\n",
    "\n",
    "# Rebuild & retrain model with \n",
    "cnn_model, cnn_history, cnn_eval, cnn_time = create_cnn_model(cdim=cdim, \n",
    "                                                              ksize=ksize, \n",
    "                                                              pool1=pool1, \n",
    "                                                              pool2=pool2, \n",
    "                                                              density=density,\n",
    "                                                              lr=.001, \n",
    "                                                              epochs=100, \n",
    "                                                              patience=20, \n",
    "                                                              verbose=1)\n",
    "\n",
    "t3 = datetime.datetime.now()\n",
    "print('Time Elapsed:', (t3 - t0))\n",
    "print('Time to Train Best Model:', (t3 - t2))\n"
   ]
  },
  {
   "cell_type": "code",
   "execution_count": 35,
   "metadata": {},
   "outputs": [],
   "source": [
    "from tensorflow.core.protobuf import rewriter_config_pb2\n",
    "\n",
    "config_proto = tf.ConfigProto(log_device_placement=False, allow_soft_placement=True)\n",
    "\n",
    "off = rewriter_config_pb2.RewriterConfig.OFF\n",
    "\n",
    "config_proto.graph_options.rewrite_options.arithmetic_optimization = off\n",
    "\n",
    "session = tf.Session(config=config_proto)\n",
    "\n",
    "\n"
   ]
  },
  {
   "cell_type": "code",
   "execution_count": 36,
   "metadata": {},
   "outputs": [],
   "source": [
    "# RNN\n",
    "#def create_rnn_model(rnn_type='gru', units=50, drop=.5, density=50, lr=.001, epochs=100, batch_size=128, validation_split=.3, patience=5, verbose=0):\n",
    "def create_rnn_model(rnn_type='gru', units=50, drop=.5, density=50, lr=.001, epochs=1, batch_size=128, validation_split=.2, patience=20, verbose=0):\n",
    "    \n",
    "    # Start Timer\n",
    "    start = datetime.datetime.now()\n",
    "    \n",
    "    \n",
    "    # Display Hyperparameter Settings\n",
    "    model_type = 'GRU' if rnn_type == 'gru' else 'LSTM'\n",
    "    print('Model Type\\tUnits\\tDropout Rate\\tDensity')\n",
    "    print(rnn_type,units,drop,density, sep ='\\t\\t\\t')\n",
    "    \n",
    "    \n",
    "#    tf.logging.set_verbosity(tf.logging.ERROR)\n",
    "    \n",
    "    \n",
    "    # Build Model\n",
    "    input_ = Input(shape=(max_len,), dtype='int32')\n",
    "    embedded_sequences = embedding_layer(input_)\n",
    "    \n",
    "    if rnn_type == 'gru':\n",
    "        x = Bidirectional(GRU(units, return_sequences=True))(embedded_sequences)\n",
    "    else:\n",
    "        x = Bidirectional(LSTM(units, return_sequences=True))(embedded_sequences)\n",
    "        \n",
    "    x = GlobalMaxPool1D()(x)\n",
    "    x = Dropout(drop)(x)\n",
    "    x = Dense(density, activation='relu')(x)\n",
    "    x = Dropout(drop)(x)\n",
    "    #x = Dense(num_classes, activation='softmax')(x)\n",
    "    x = Dense(2, activation='softmax')(x)\n",
    "    \n",
    "    model = Model(inputs=input_, outputs=x)\n",
    "    \n",
    "    \n",
    "    # Compile Model\n",
    "    model.compile(loss='categorical_crossentropy', \n",
    "                  optimizer=Adam(lr=lr), \n",
    "                  metrics=['accuracy'])\n",
    "    \n",
    "    \n",
    "    # Create Checkpoints & Stopping Parameters\n",
    "    #checkpoints_path = f'models/rnn_best_{p1}_{p2}.hdf5'\n",
    "#    checkpoints_path = f'models/rnn_best_.hdf'\n",
    "#    checkpoint = ModelCheckpoint(checkpoints_path, \n",
    "#                                 monitor='val_loss', \n",
    "#                                 verbose=verbose, \n",
    "#                                 save_best_only=True, \n",
    "#                                 mode='min')\n",
    "    \n",
    "#    early_stopping = EarlyStopping(monitor='val_loss', \n",
    "#                                   mode='min', \n",
    "#                                   patience=patience)\n",
    "    \n",
    "#    callbacks = [checkpoint, early_stopping]\n",
    "    callbacks=[EarlyStopping(monitor='val_loss', patience=5, min_delta=0.001)]\n",
    "    \n",
    "    \n",
    "    # Fit Model\n",
    "    history = model.fit(X_train, y_train, \n",
    "                        epochs=epochs, \n",
    "                        batch_size=batch_size, \n",
    "                        validation_split=validation_split, \n",
    "                        callbacks=callbacks, \n",
    "                        verbose=verbose)\n",
    "    \n",
    "    # Evaluate Model\n",
    "    results = model.evaluate(X_test, y_test)\n",
    "    \n",
    "    # End Timer\n",
    "    end = datetime.datetime.now()\n",
    "    \n",
    "    # Display Results\n",
    "    print('Time to Complete:', end - start)\n",
    "    print('Loss:' ,\"%.2f\" %(results[0]))\n",
    "    print('Accuracy:' , \"%.2f\" %(results[1]))\n",
    "    \n",
    "    return model, history, results, end-start\n"
   ]
  },
  {
   "cell_type": "code",
   "execution_count": 37,
   "metadata": {
    "scrolled": true
   },
   "outputs": [
    {
     "name": "stdout",
     "output_type": "stream",
     "text": [
      "Model Type\tUnits\tDropout Rate\tDensity\n",
      "lstm\t\t\t25\t\t\t0.25\t\t\t100\n",
      "20496/20496 [==============================] - 50s 2ms/step\n",
      "Time to Complete: 0:02:55.143623\n",
      "Loss: 0.91\n",
      "Accuracy: 0.62\n",
      "Model Type\tUnits\tDropout Rate\tDensity\n",
      "lstm\t\t\t25\t\t\t0.25\t\t\t150\n",
      "20496/20496 [==============================] - 53s 3ms/step\n",
      "Time to Complete: 0:03:02.641757\n",
      "Loss: 0.96\n",
      "Accuracy: 0.62\n",
      "Model Type\tUnits\tDropout Rate\tDensity\n",
      "lstm\t\t\t25\t\t\t1\t\t\t100\n",
      "20496/20496 [==============================] - 52s 3ms/step\n",
      "Time to Complete: 0:02:53.723216\n",
      "Loss: 0.90\n",
      "Accuracy: 0.62\n",
      "Model Type\tUnits\tDropout Rate\tDensity\n",
      "lstm\t\t\t25\t\t\t1\t\t\t150\n",
      "20496/20496 [==============================] - 51s 2ms/step\n",
      "Time to Complete: 0:03:00.173409\n",
      "Loss: 0.91\n",
      "Accuracy: 0.62\n",
      "Model Type\tUnits\tDropout Rate\tDensity\n",
      "lstm\t\t\t50\t\t\t0.25\t\t\t100\n",
      "20496/20496 [==============================] - 68s 3ms/step\n",
      "Time to Complete: 0:03:45.238239\n",
      "Loss: 1.05\n",
      "Accuracy: 0.62\n",
      "Model Type\tUnits\tDropout Rate\tDensity\n",
      "lstm\t\t\t50\t\t\t0.25\t\t\t150\n",
      "20496/20496 [==============================] - 66s 3ms/step\n",
      "Time to Complete: 0:03:38.035908\n",
      "Loss: 1.05\n",
      "Accuracy: 0.63\n",
      "Model Type\tUnits\tDropout Rate\tDensity\n",
      "lstm\t\t\t50\t\t\t1\t\t\t100\n",
      "20496/20496 [==============================] - 67s 3ms/step\n",
      "Time to Complete: 0:03:39.846869\n",
      "Loss: 0.97\n",
      "Accuracy: 0.63\n",
      "Model Type\tUnits\tDropout Rate\tDensity\n",
      "lstm\t\t\t50\t\t\t1\t\t\t150\n",
      "20496/20496 [==============================] - 69s 3ms/step\n",
      "Time to Complete: 0:03:51.449221\n",
      "Loss: 1.03\n",
      "Accuracy: 0.62\n",
      "Model Type\tUnits\tDropout Rate\tDensity\n",
      "gru\t\t\t25\t\t\t0.25\t\t\t100\n",
      "20496/20496 [==============================] - 51s 2ms/step\n",
      "Time to Complete: 0:03:23.089257\n",
      "Loss: 0.92\n",
      "Accuracy: 0.62\n",
      "Model Type\tUnits\tDropout Rate\tDensity\n",
      "gru\t\t\t25\t\t\t0.25\t\t\t150\n",
      "20496/20496 [==============================] - 52s 3ms/step\n",
      "Time to Complete: 0:03:31.788957\n",
      "Loss: 0.97\n",
      "Accuracy: 0.63\n",
      "Model Type\tUnits\tDropout Rate\tDensity\n",
      "gru\t\t\t25\t\t\t1\t\t\t100\n",
      "20496/20496 [==============================] - 52s 3ms/step\n",
      "Time to Complete: 0:03:35.105031\n",
      "Loss: 0.93\n",
      "Accuracy: 0.62\n",
      "Model Type\tUnits\tDropout Rate\tDensity\n",
      "gru\t\t\t25\t\t\t1\t\t\t150\n",
      "20496/20496 [==============================] - 49s 2ms/step\n",
      "Time to Complete: 0:03:29.794326\n",
      "Loss: 0.92\n",
      "Accuracy: 0.62\n",
      "Model Type\tUnits\tDropout Rate\tDensity\n",
      "gru\t\t\t50\t\t\t0.25\t\t\t100\n",
      "20496/20496 [==============================] - 77s 4ms/step\n",
      "Time to Complete: 0:04:47.093922\n",
      "Loss: 1.04\n",
      "Accuracy: 0.63\n",
      "Model Type\tUnits\tDropout Rate\tDensity\n",
      "gru\t\t\t50\t\t\t0.25\t\t\t150\n",
      "20496/20496 [==============================] - 70s 3ms/step\n",
      "Time to Complete: 0:04:28.230486\n",
      "Loss: 1.10\n",
      "Accuracy: 0.62\n",
      "Model Type\tUnits\tDropout Rate\tDensity\n",
      "gru\t\t\t50\t\t\t1\t\t\t100\n",
      "20496/20496 [==============================] - 72s 4ms/step\n",
      "Time to Complete: 0:04:37.620031\n",
      "Loss: 0.99\n",
      "Accuracy: 0.62\n",
      "Model Type\tUnits\tDropout Rate\tDensity\n",
      "gru\t\t\t50\t\t\t1\t\t\t150\n",
      "20496/20496 [==============================] - 71s 3ms/step\n",
      "Time to Complete: 0:04:34.896674\n",
      "Loss: 1.04\n",
      "Accuracy: 0.62\n",
      "Time Elapsed: 2:07:44.309831\n",
      "Time to Find Best Model: 0:59:13.970341\n"
     ]
    }
   ],
   "source": [
    "#RNN grid search\n",
    "rnn_types = ['lstm', 'gru']\n",
    "units = [25, 50]\n",
    "drops = [.25, 1]\n",
    "densities = [100, 150]\n",
    "\n",
    "#units = [5, 10]\n",
    "#drops = [.25, .5]\n",
    "#densities = [10, 15]\n",
    "\n",
    "rnn_results = {'Model Type': [], 'Units': [], 'Dropout Rate': [], 'Density': [], 'Time': [], 'Loss': [], 'Accuracy': []}\n",
    "\n",
    "for rnn_type in rnn_types:\n",
    "    for unit in units:\n",
    "        for drop in drops:\n",
    "            for density in densities:\n",
    "                rnn_model, rnn_history, rnn_eval, rnn_time = create_rnn_model(rnn_type=rnn_type, \n",
    "                                                                              units=unit, \n",
    "                                                                              drop=drop, \n",
    "                                                                              density=density)\n",
    "                rnn_results['Model Type'].append(rnn_type)\n",
    "                rnn_results['Units'].append(unit)\n",
    "                rnn_results['Dropout Rate'].append(drop)\n",
    "                rnn_results['Density'].append(density)\n",
    "                rnn_results['Loss'].append(rnn_eval[0])\n",
    "                rnn_results['Accuracy'].append(rnn_eval[1])\n",
    "                rnn_results['Time'].append(rnn_time)\n",
    "                #print('RNN results should follow')\n",
    "                #print(rnn_results)\n",
    "                \n",
    "t4 = datetime.datetime.now()\n",
    "print('Time Elapsed:', (t4 - t0))\n",
    "print('Time to Find Best Model:', (t4 - t3))"
   ]
  },
  {
   "cell_type": "code",
   "execution_count": 38,
   "metadata": {},
   "outputs": [
    {
     "name": "stdout",
     "output_type": "stream",
     "text": [
      "Model Type\tUnits\tDropout Rate\tDensity\n",
      "gru\t\t\t50\t\t\t0.25\t\t\t100\n",
      "Train on 16396 samples, validate on 4100 samples\n",
      "Epoch 1/100\n",
      "16396/16396 [==============================] - 191s 12ms/step - loss: 0.3646 - accuracy: 0.8017 - val_loss: 1.1036 - val_accuracy: 0.6285\n",
      "Epoch 2/100\n",
      "16396/16396 [==============================] - 188s 11ms/step - loss: 0.3003 - accuracy: 0.8229 - val_loss: 1.2750 - val_accuracy: 0.6190\n",
      "Epoch 3/100\n",
      "16396/16396 [==============================] - 191s 12ms/step - loss: 0.2902 - accuracy: 0.8256 - val_loss: 1.3486 - val_accuracy: 0.6283\n",
      "Epoch 4/100\n",
      "16396/16396 [==============================] - 188s 11ms/step - loss: 0.2788 - accuracy: 0.8316 - val_loss: 1.5252 - val_accuracy: 0.6234\n",
      "Epoch 5/100\n",
      "16396/16396 [==============================] - 186s 11ms/step - loss: 0.2738 - accuracy: 0.8377 - val_loss: 1.6159 - val_accuracy: 0.6285\n",
      "Epoch 6/100\n",
      "16396/16396 [==============================] - 198s 12ms/step - loss: 0.2655 - accuracy: 0.8386 - val_loss: 1.7973 - val_accuracy: 0.6300\n",
      "20496/20496 [==============================] - 71s 3ms/step\n",
      "Time to Complete: 0:20:22.142227\n",
      "Loss: 1.78\n",
      "Accuracy: 0.63\n",
      "Time Elapsed: 2:28:06.486812\n"
     ]
    }
   ],
   "source": [
    "#Train best RNN model \n",
    "rnn_results_df = pd.DataFrame.from_dict(rnn_results)\n",
    "\n",
    "best_rnn_model = rnn_results_df[rnn_results_df['Accuracy'] == rnn_results_df['Accuracy'].max()]\n",
    "\n",
    "rnn_type = best_rnn_model['Model Type'].values[0]\n",
    "units = int(best_rnn_model['Units'].values[0])\n",
    "drop = float(best_rnn_model['Dropout Rate'].values[0])\n",
    "density = int(best_rnn_model['Density'].values[0])\n",
    "\n",
    "rnn_model, rnn_history, rnn_eval, rnn_time = create_rnn_model(rnn_type=rnn_type, \n",
    "                                                              units=units, \n",
    "                                                              drop=drop, \n",
    "                                                              density=density, \n",
    "                                                              lr=.001, \n",
    "                                                              epochs=100, \n",
    "                                                              patience=20, \n",
    "                                                              verbose=1)\n",
    "\n",
    "t5 = datetime.datetime.now()\n",
    "print('Time Elapsed:', (t5 - t0))\n",
    "#print('Time to Train Best Model:', (t5 - t4))"
   ]
  },
  {
   "cell_type": "code",
   "execution_count": 39,
   "metadata": {},
   "outputs": [
    {
     "data": {
      "text/plain": [
       "<Figure size 1080x720 with 0 Axes>"
      ]
     },
     "execution_count": 39,
     "metadata": {},
     "output_type": "execute_result"
    },
    {
     "data": {
      "text/plain": [
       "<BarContainer object of 3 artists>"
      ]
     },
     "execution_count": 39,
     "metadata": {},
     "output_type": "execute_result"
    },
    {
     "data": {
      "text/plain": [
       "Text(Benchmark:Naive Bayes, 0.48267564402810303, '46.27%')"
      ]
     },
     "execution_count": 39,
     "metadata": {},
     "output_type": "execute_result"
    },
    {
     "data": {
      "text/plain": [
       "Text(CNN, 0.6323145818710327, '61.23%')"
      ]
     },
     "execution_count": 39,
     "metadata": {},
     "output_type": "execute_result"
    },
    {
     "data": {
      "text/plain": [
       "Text(RNN, 0.6459757876396179, '62.60%')"
      ]
     },
     "execution_count": 39,
     "metadata": {},
     "output_type": "execute_result"
    },
    {
     "data": {
      "text/plain": [
       "Text(0, 0.5, 'Accuracy')"
      ]
     },
     "execution_count": 39,
     "metadata": {},
     "output_type": "execute_result"
    },
    {
     "data": {
      "text/plain": [
       "(0, 1)"
      ]
     },
     "execution_count": 39,
     "metadata": {},
     "output_type": "execute_result"
    },
    {
     "data": {
      "text/plain": [
       "([<matplotlib.axis.YTick at 0x7f4b64bfd198>,\n",
       "  <matplotlib.axis.YTick at 0x7f4b64bf9a90>,\n",
       "  <matplotlib.axis.YTick at 0x7f4b64ca19b0>,\n",
       "  <matplotlib.axis.YTick at 0x7f4b64b8a278>,\n",
       "  <matplotlib.axis.YTick at 0x7f4b64b8a710>,\n",
       "  <matplotlib.axis.YTick at 0x7f4b64b8abe0>],\n",
       " <a list of 6 Text yticklabel objects>)"
      ]
     },
     "execution_count": 39,
     "metadata": {},
     "output_type": "execute_result"
    },
    {
     "data": {
      "text/plain": [
       "Text(0.5, 1.0, 'Top Scores')"
      ]
     },
     "execution_count": 39,
     "metadata": {},
     "output_type": "execute_result"
    },
    {
     "data": {
      "image/png": "[encoded data removed]",
      "text/plain": [
       "<Figure size 1080x720 with 1 Axes>"
      ]
     },
     "metadata": {
      "needs_background": "light"
     },
     "output_type": "display_data"
    }
   ],
   "source": [
    "#Visualize results\n",
    "from operator import itemgetter\n",
    "best_benchmark = 'Benchmark:' + max(scores,key=itemgetter(1))[0]\n",
    "\n",
    "labels = [best_benchmark, 'CNN', 'RNN']\n",
    "acc = [max(scores,key=itemgetter(1))[1], cnn_eval[1], rnn_eval[1]]\n",
    "\n",
    "plt.figure(figsize = (15, 10))\n",
    "plt.bar(labels, acc)\n",
    "for i in range(3):\n",
    "    plt.text(labels[i], acc[i] + .02, (\"%.2f\" %(acc[i]*100)) +'%', ha='center')\n",
    "plt.ylabel('Accuracy')\n",
    "plt.ylim(0, 1)\n",
    "plt.yticks([i/10 for i in range(5, 11)], [i*10/100 for i in range(5, 11)])\n",
    "plt.title('Top Scores')\n",
    "plt.show()"
   ]
  },
  {
   "cell_type": "code",
   "execution_count": 40,
   "metadata": {},
   "outputs": [
    {
     "name": "stdout",
     "output_type": "stream",
     "text": [
      "Top Model Type: RNN\n",
      "Model: \"model_49\"\n",
      "_________________________________________________________________\n",
      "Layer (type)                 Output Shape              Param #   \n",
      "=================================================================\n",
      "input_50 (InputLayer)        (None, 220)               0         \n",
      "_________________________________________________________________\n",
      "embedding_1 (Embedding)      (None, 220, 100)          3356000   \n",
      "_________________________________________________________________\n",
      "bidirectional_17 (Bidirectio (None, 220, 100)          45300     \n",
      "_________________________________________________________________\n",
      "global_max_pooling1d_17 (Glo (None, 100)               0         \n",
      "_________________________________________________________________\n",
      "dropout_33 (Dropout)         (None, 100)               0         \n",
      "_________________________________________________________________\n",
      "dense_97 (Dense)             (None, 100)               10100     \n",
      "_________________________________________________________________\n",
      "dropout_34 (Dropout)         (None, 100)               0         \n",
      "_________________________________________________________________\n",
      "dense_98 (Dense)             (None, 2)                 202       \n",
      "=================================================================\n",
      "Total params: 3,411,602\n",
      "Trainable params: 3,411,602\n",
      "Non-trainable params: 0\n",
      "_________________________________________________________________\n"
     ]
    }
   ],
   "source": [
    "# Inspect Top model performance \n",
    "top_models = {'rnn': rnn_model, 'cnn': cnn_model}\n",
    "histories = {'rnn_hist': rnn_history, 'cnn_hist': cnn_history}\n",
    "best = 'c' if cnn_eval[1] > rnn_eval[1] else 'r'\n",
    "best_model = top_models[best+'nn']\n",
    "best_model_hist = histories[best + 'nn_hist']\n",
    "print('Top Model Type:' ,best.upper()+'NN')\n",
    "best_model.summary()"
   ]
  },
  {
   "cell_type": "code",
   "execution_count": 41,
   "metadata": {},
   "outputs": [
    {
     "data": {
      "text/plain": [
       "<Figure size 1080x720 with 0 Axes>"
      ]
     },
     "execution_count": 41,
     "metadata": {},
     "output_type": "execute_result"
    },
    {
     "data": {
      "text/plain": [
       "[<matplotlib.lines.Line2D at 0x7f4b64bacef0>]"
      ]
     },
     "execution_count": 41,
     "metadata": {},
     "output_type": "execute_result"
    },
    {
     "data": {
      "text/plain": [
       "[<matplotlib.lines.Line2D at 0x7f4b64bb0320>]"
      ]
     },
     "execution_count": 41,
     "metadata": {},
     "output_type": "execute_result"
    },
    {
     "data": {
      "text/plain": [
       "Text(0.5, 1.0, 'RNN Model Accuracy')"
      ]
     },
     "execution_count": 41,
     "metadata": {},
     "output_type": "execute_result"
    },
    {
     "data": {
      "text/plain": [
       "Text(0, 0.5, 'RNN Accuracy')"
      ]
     },
     "execution_count": 41,
     "metadata": {},
     "output_type": "execute_result"
    },
    {
     "data": {
      "text/plain": [
       "Text(0.5, 0, 'Epoch')"
      ]
     },
     "execution_count": 41,
     "metadata": {},
     "output_type": "execute_result"
    },
    {
     "data": {
      "text/plain": [
       "<matplotlib.legend.Legend at 0x7f4b64ba2860>"
      ]
     },
     "execution_count": 41,
     "metadata": {},
     "output_type": "execute_result"
    },
    {
     "data": {
      "image/png": "[encoded data removed]",
      "text/plain": [
       "<Figure size 1080x720 with 1 Axes>"
      ]
     },
     "metadata": {
      "needs_background": "light"
     },
     "output_type": "display_data"
    },
    {
     "data": {
      "text/plain": [
       "<Figure size 1080x720 with 0 Axes>"
      ]
     },
     "execution_count": 41,
     "metadata": {},
     "output_type": "execute_result"
    },
    {
     "data": {
      "text/plain": [
       "[<matplotlib.lines.Line2D at 0x7f4b64b58fd0>]"
      ]
     },
     "execution_count": 41,
     "metadata": {},
     "output_type": "execute_result"
    },
    {
     "data": {
      "text/plain": [
       "[<matplotlib.lines.Line2D at 0x7f4b64b5b390>]"
      ]
     },
     "execution_count": 41,
     "metadata": {},
     "output_type": "execute_result"
    },
    {
     "data": {
      "text/plain": [
       "Text(0.5, 1.0, 'RNN Model Loss / Error')"
      ]
     },
     "execution_count": 41,
     "metadata": {},
     "output_type": "execute_result"
    },
    {
     "data": {
      "text/plain": [
       "Text(0, 0.5, 'RNN Loss / Error')"
      ]
     },
     "execution_count": 41,
     "metadata": {},
     "output_type": "execute_result"
    },
    {
     "data": {
      "text/plain": [
       "Text(0.5, 0, 'Epoch')"
      ]
     },
     "execution_count": 41,
     "metadata": {},
     "output_type": "execute_result"
    },
    {
     "data": {
      "text/plain": [
       "<matplotlib.legend.Legend at 0x7f4b64b54a20>"
      ]
     },
     "execution_count": 41,
     "metadata": {},
     "output_type": "execute_result"
    },
    {
     "data": {
      "image/png": "[encoded data removed]",
      "text/plain": [
       "<Figure size 1080x720 with 1 Axes>"
      ]
     },
     "metadata": {
      "needs_background": "light"
     },
     "output_type": "display_data"
    }
   ],
   "source": [
    "#Results history\n",
    "# Display history for accuracy\n",
    "plt.figure(figsize=(15, 10))\n",
    "plt.plot(best_model_hist.history['accuracy'])\n",
    "plt.plot(best_model_hist.history['val_accuracy'])\n",
    "plt.title(best.upper()+'NN Model Accuracy')\n",
    "plt.ylabel(best.upper() + 'NN Accuracy')\n",
    "plt.xlabel('Epoch')\n",
    "plt.legend(['Train', 'Validation'], loc='upper left')\n",
    "plt.show()\n",
    "\n",
    "# Display history for loss\n",
    "plt.figure(figsize=(15, 10))\n",
    "plt.plot(best_model_hist.history['loss'])\n",
    "plt.plot(best_model_hist.history['val_loss'])\n",
    "plt.title(best.upper() + 'NN Model Loss / Error')\n",
    "plt.ylabel(best.upper() + 'NN Loss / Error')\n",
    "plt.xlabel('Epoch')\n",
    "plt.legend(['Train', 'Validation'], loc='upper left')\n",
    "plt.show()"
   ]
  },
  {
   "cell_type": "code",
   "execution_count": 42,
   "metadata": {},
   "outputs": [],
   "source": [
    "#Confusion matrix and prediction\n",
    "from sklearn.metrics import confusion_matrix, f1_score\n",
    "import itertools\n",
    "\n",
    "def plot_confusion_matrix(cm, classes,\n",
    "                          normalize=False,\n",
    "                          title='Confusion matrix',\n",
    "                          cmap=plt.cm.Blues):\n",
    "    \"\"\"\n",
    "    This function prints and plots the confusion matrix.\n",
    "    Normalization can be applied by setting `normalize=True`.\n",
    "    \"\"\"\n",
    "    if normalize:\n",
    "        cm = cm.astype('float') / cm.sum(axis=1)[:, np.newaxis]\n",
    "        print(\"Normalized confusion matrix\")\n",
    "    else:\n",
    "        print('Confusion matrix, without normalization')\n",
    "\n",
    "    plt.figure(figsize=(10, 10))\n",
    "    plt.imshow(cm, interpolation='nearest', cmap=cmap)\n",
    "    plt.title(title)\n",
    "    plt.colorbar()\n",
    "    tick_marks = np.arange(len(classes))\n",
    "    plt.xticks(tick_marks, classes, rotation=45)\n",
    "    plt.yticks(tick_marks, classes)\n",
    "\n",
    "    fmt = '.2f' if normalize else 'd'\n",
    "    thresh = cm.max() / 2.\n",
    "    for i, j in itertools.product(range(cm.shape[0]), range(cm.shape[1])):\n",
    "        plt.text(j, i, format(cm[i, j], fmt),\n",
    "                 horizontalalignment=\"center\",\n",
    "                 color=\"red\" if cm[i, j] > thresh else \"blue\")\n",
    "\n",
    "    plt.tight_layout()\n",
    "    plt.ylabel('True label')\n",
    "    plt.xlabel('Predicted label')"
   ]
  },
  {
   "cell_type": "code",
   "execution_count": 43,
   "metadata": {},
   "outputs": [
    {
     "name": "stdout",
     "output_type": "stream",
     "text": [
      "Confusion matrix, without normalization\n",
      "F1 Score: 60.44\n"
     ]
    },
    {
     "data": {
      "image/png": "[encoded data removed]",
      "text/plain": [
       "<Figure size 720x720 with 2 Axes>"
      ]
     },
     "metadata": {
      "needs_background": "light"
     },
     "output_type": "display_data"
    }
   ],
   "source": [
    "preds = np.argmax(best_model.predict(X_test), axis=1)\n",
    "actual = np.argmax(y_test, axis=1)\n",
    "\n",
    "cm = confusion_matrix(actual, preds)\n",
    "\n",
    "#[1,0] = 0;[0,1] =1\n",
    "#check y and target to confirm this\n",
    "#(1,0) = Democrat\n",
    "#(0,1) = Republican\n",
    "#p1 = Repub. P2 = Democ\n",
    "\n",
    "cm_plot_labels = ['Republican','Democrat']\n",
    "\n",
    "plot_confusion_matrix(cm, cm_plot_labels, normalize=False, title=best.title() +'NN Confusion Matrix')\n",
    "\n",
    "print('F1 Score: ' \"%.2f\" %(f1_score(actual, preds)*100))"
   ]
  },
  {
   "cell_type": "code",
   "execution_count": 44,
   "metadata": {},
   "outputs": [
    {
     "data": {
      "text/html": [
       "<div>\n",
       "<style scoped>\n",
       "    .dataframe tbody tr th:only-of-type {\n",
       "        vertical-align: middle;\n",
       "    }\n",
       "\n",
       "    .dataframe tbody tr th {\n",
       "        vertical-align: top;\n",
       "    }\n",
       "\n",
       "    .dataframe thead th {\n",
       "        text-align: right;\n",
       "    }\n",
       "</style>\n",
       "<table border=\"1\" class=\"dataframe\">\n",
       "  <thead>\n",
       "    <tr style=\"text-align: right;\">\n",
       "      <th></th>\n",
       "      <th>Actual</th>\n",
       "      <th>Predictions</th>\n",
       "      <th>text</th>\n",
       "      <th>bigrams</th>\n",
       "      <th>Accuracy</th>\n",
       "    </tr>\n",
       "  </thead>\n",
       "  <tbody>\n",
       "    <tr>\n",
       "      <th>0</th>\n",
       "      <td>1</td>\n",
       "      <td>1</td>\n",
       "      <td>[suggest, voice, vote, amendment]</td>\n",
       "      <td>[suggest, voice, vote, amendment]</td>\n",
       "      <td>True</td>\n",
       "    </tr>\n",
       "    <tr>\n",
       "      <th>1</th>\n",
       "      <td>0</td>\n",
       "      <td>0</td>\n",
       "      <td>[reinforcing, truth]</td>\n",
       "      <td>[reinforcing, truth]</td>\n",
       "      <td>True</td>\n",
       "    </tr>\n",
       "    <tr>\n",
       "      <th>2</th>\n",
       "      <td>1</td>\n",
       "      <td>1</td>\n",
       "      <td>[`, `, treasurers, relief, act]</td>\n",
       "      <td>[`, `, treasurers, relief, act]</td>\n",
       "      <td>True</td>\n",
       "    </tr>\n",
       "    <tr>\n",
       "      <th>3</th>\n",
       "      <td>0</td>\n",
       "      <td>0</td>\n",
       "      <td>[thank, leader]</td>\n",
       "      <td>[thank, leader]</td>\n",
       "      <td>True</td>\n",
       "    </tr>\n",
       "    <tr>\n",
       "      <th>4</th>\n",
       "      <td>1</td>\n",
       "      <td>0</td>\n",
       "      <td>[ask, unanimous, consent, order, quorum, call,...</td>\n",
       "      <td>[ask, unanimous, consent, order, quorum, call,...</td>\n",
       "      <td>False</td>\n",
       "    </tr>\n",
       "  </tbody>\n",
       "</table>\n",
       "</div>"
      ],
      "text/plain": [
       "   Actual  Predictions                                               text  \\\n",
       "0       1            1                  [suggest, voice, vote, amendment]   \n",
       "1       0            0                               [reinforcing, truth]   \n",
       "2       1            1                    [`, `, treasurers, relief, act]   \n",
       "3       0            0                                    [thank, leader]   \n",
       "4       1            0  [ask, unanimous, consent, order, quorum, call,...   \n",
       "\n",
       "                                             bigrams  Accuracy  \n",
       "0                  [suggest, voice, vote, amendment]      True  \n",
       "1                               [reinforcing, truth]      True  \n",
       "2                    [`, `, treasurers, relief, act]      True  \n",
       "3                                    [thank, leader]      True  \n",
       "4  [ask, unanimous, consent, order, quorum, call,...     False  "
      ]
     },
     "execution_count": 44,
     "metadata": {},
     "output_type": "execute_result"
    }
   ],
   "source": [
    "# Save all predictions to dataframe\n",
    "preds_df = pd.DataFrame.from_dict({'Predictions': preds, 'Actual': actual})\n",
    "preds_df = preds_df.join(X_test_text.reset_index(drop=True))\n",
    "\n",
    "# Create column to indicate if the prediction matches the actual\n",
    "# 0 = Clinton; 1 = Trump\n",
    "preds_df['Accuracy'] = preds_df['Predictions'] == preds_df['Actual']\n",
    "preds_df.head()"
   ]
  },
  {
   "cell_type": "code",
   "execution_count": 45,
   "metadata": {},
   "outputs": [
    {
     "data": {
      "text/html": [
       "<div>\n",
       "<style scoped>\n",
       "    .dataframe tbody tr th:only-of-type {\n",
       "        vertical-align: middle;\n",
       "    }\n",
       "\n",
       "    .dataframe tbody tr th {\n",
       "        vertical-align: top;\n",
       "    }\n",
       "\n",
       "    .dataframe thead th {\n",
       "        text-align: right;\n",
       "    }\n",
       "</style>\n",
       "<table border=\"1\" class=\"dataframe\">\n",
       "  <thead>\n",
       "    <tr style=\"text-align: right;\">\n",
       "      <th></th>\n",
       "      <th>Unnamed: 0</th>\n",
       "      <th>id</th>\n",
       "      <th>title</th>\n",
       "      <th>publication</th>\n",
       "      <th>author</th>\n",
       "      <th>date</th>\n",
       "      <th>year</th>\n",
       "      <th>month</th>\n",
       "      <th>url</th>\n",
       "      <th>content</th>\n",
       "    </tr>\n",
       "  </thead>\n",
       "  <tbody>\n",
       "    <tr>\n",
       "      <th>0</th>\n",
       "      <td>0</td>\n",
       "      <td>17283</td>\n",
       "      <td>House Republicans Fret About Winning Their Hea...</td>\n",
       "      <td>New York Times</td>\n",
       "      <td>Carl Hulse</td>\n",
       "      <td>2016-12-31</td>\n",
       "      <td>2016.0</td>\n",
       "      <td>12.0</td>\n",
       "      <td>NaN</td>\n",
       "      <td>WASHINGTON  —   Congressional Republicans have...</td>\n",
       "    </tr>\n",
       "    <tr>\n",
       "      <th>1</th>\n",
       "      <td>1</td>\n",
       "      <td>17284</td>\n",
       "      <td>Rift Between Officers and Residents as Killing...</td>\n",
       "      <td>New York Times</td>\n",
       "      <td>Benjamin Mueller and Al Baker</td>\n",
       "      <td>2017-06-19</td>\n",
       "      <td>2017.0</td>\n",
       "      <td>6.0</td>\n",
       "      <td>NaN</td>\n",
       "      <td>After the bullet shells get counted, the blood...</td>\n",
       "    </tr>\n",
       "    <tr>\n",
       "      <th>2</th>\n",
       "      <td>2</td>\n",
       "      <td>17285</td>\n",
       "      <td>Tyrus Wong, ‘Bambi’ Artist Thwarted by Racial ...</td>\n",
       "      <td>New York Times</td>\n",
       "      <td>Margalit Fox</td>\n",
       "      <td>2017-01-06</td>\n",
       "      <td>2017.0</td>\n",
       "      <td>1.0</td>\n",
       "      <td>NaN</td>\n",
       "      <td>When Walt Disney’s “Bambi” opened in 1942, cri...</td>\n",
       "    </tr>\n",
       "    <tr>\n",
       "      <th>3</th>\n",
       "      <td>3</td>\n",
       "      <td>17286</td>\n",
       "      <td>Among Deaths in 2016, a Heavy Toll in Pop Musi...</td>\n",
       "      <td>New York Times</td>\n",
       "      <td>William McDonald</td>\n",
       "      <td>2017-04-10</td>\n",
       "      <td>2017.0</td>\n",
       "      <td>4.0</td>\n",
       "      <td>NaN</td>\n",
       "      <td>Death may be the great equalizer, but it isn’t...</td>\n",
       "    </tr>\n",
       "    <tr>\n",
       "      <th>4</th>\n",
       "      <td>4</td>\n",
       "      <td>17287</td>\n",
       "      <td>Kim Jong-un Says North Korea Is Preparing to T...</td>\n",
       "      <td>New York Times</td>\n",
       "      <td>Choe Sang-Hun</td>\n",
       "      <td>2017-01-02</td>\n",
       "      <td>2017.0</td>\n",
       "      <td>1.0</td>\n",
       "      <td>NaN</td>\n",
       "      <td>SEOUL, South Korea  —   North Korea’s leader, ...</td>\n",
       "    </tr>\n",
       "  </tbody>\n",
       "</table>\n",
       "</div>"
      ],
      "text/plain": [
       "   Unnamed: 0     id                                              title  \\\n",
       "0           0  17283  House Republicans Fret About Winning Their Hea...   \n",
       "1           1  17284  Rift Between Officers and Residents as Killing...   \n",
       "2           2  17285  Tyrus Wong, ‘Bambi’ Artist Thwarted by Racial ...   \n",
       "3           3  17286  Among Deaths in 2016, a Heavy Toll in Pop Musi...   \n",
       "4           4  17287  Kim Jong-un Says North Korea Is Preparing to T...   \n",
       "\n",
       "      publication                         author        date    year  month  \\\n",
       "0  New York Times                     Carl Hulse  2016-12-31  2016.0   12.0   \n",
       "1  New York Times  Benjamin Mueller and Al Baker  2017-06-19  2017.0    6.0   \n",
       "2  New York Times                   Margalit Fox  2017-01-06  2017.0    1.0   \n",
       "3  New York Times               William McDonald  2017-04-10  2017.0    4.0   \n",
       "4  New York Times                  Choe Sang-Hun  2017-01-02  2017.0    1.0   \n",
       "\n",
       "   url                                            content  \n",
       "0  NaN  WASHINGTON  —   Congressional Republicans have...  \n",
       "1  NaN  After the bullet shells get counted, the blood...  \n",
       "2  NaN  When Walt Disney’s “Bambi” opened in 1942, cri...  \n",
       "3  NaN  Death may be the great equalizer, but it isn’t...  \n",
       "4  NaN  SEOUL, South Korea  —   North Korea’s leader, ...  "
      ]
     },
     "execution_count": 45,
     "metadata": {},
     "output_type": "execute_result"
    },
    {
     "data": {
      "text/plain": [
       "142570"
      ]
     },
     "execution_count": 45,
     "metadata": {},
     "output_type": "execute_result"
    }
   ],
   "source": [
    "df1=pd.read_csv('/home/asheshchoudhury/articles1.csv')\n",
    "df2=pd.read_csv('/home/asheshchoudhury/articles2.csv')\n",
    "df3=pd.read_csv('/home/asheshchoudhury/articles3.csv')\n",
    "allarticles_df = pd.concat([df1,df2,df3])\n",
    "allarticles_df.head(5)\n",
    "len(allarticles_df)\n"
   ]
  },
  {
   "cell_type": "code",
   "execution_count": 46,
   "metadata": {},
   "outputs": [],
   "source": [
    "# Take selected number of records to test\n",
    "no_of_records = 142570\n"
   ]
  },
  {
   "cell_type": "code",
   "execution_count": 47,
   "metadata": {},
   "outputs": [],
   "source": [
    "test_df = allarticles_df[['title','publication','date','month','year','content']].head(no_of_records)"
   ]
  },
  {
   "cell_type": "code",
   "execution_count": 48,
   "metadata": {},
   "outputs": [
    {
     "name": "stdout",
     "output_type": "stream",
     "text": [
      "Currently processing: 10000 of total 142570 records\n",
      "Currently processing: 20000 of total 142570 records\n",
      "Currently processing: 30000 of total 142570 records\n",
      "Currently processing: 40000 of total 142570 records\n",
      "Currently processing: 50000 of total 142570 records\n",
      "Currently processing: 60000 of total 142570 records\n",
      "Currently processing: 70000 of total 142570 records\n",
      "Currently processing: 80000 of total 142570 records\n",
      "Currently processing: 90000 of total 142570 records\n",
      "Currently processing: 100000 of total 142570 records\n",
      "Currently processing: 110000 of total 142570 records\n",
      "Currently processing: 120000 of total 142570 records\n",
      "Currently processing: 130000 of total 142570 records\n",
      "Currently processing: 140000 of total 142570 records\n"
     ]
    }
   ],
   "source": [
    "\n",
    "clean_text = []\n",
    "i = 0\n",
    "\n",
    "for text in test_df['content']:\n",
    "    i = i + 1\n",
    "    # Remove accent characters => Expand Contractions => Remove special characters => Lammatize Text => Remove Stop Words\n",
    "    no_accent_chars = unicodedata.normalize('NFKD', text).encode('ascii', 'ignore').decode('utf-8', 'ignore')\n",
    "    #expanded_text = expand_contractions(no_accent_chars)\n",
    "    expanded_text = no_accent_chars \n",
    "    no_special_chars = remove_special_characters(expanded_text, remove_digits=False)\n",
    "    #lem_text = lemmatize_text(no_special_chars)\n",
    "    #filtered_text = remove_stopwords(lem_text)\n",
    "    filtered_text = remove_stopwords(no_special_chars)\n",
    "    \n",
    "    # Make all text lowercase\n",
    "    lowercase_text = filtered_text.lower()\n",
    "    \n",
    "    # Split text into list of words\n",
    "    words = lowercase_text.split()\n",
    "    clean_text.append(words)\n",
    "    if (i%10000 == 0):\n",
    "        print('Currently processing: %s of total %s records' %(i,no_of_records))\n",
    "\n",
    "# Add cleaned text to dataframe\n",
    "test_df['clean_content'] = clean_text\n"
   ]
  },
  {
   "cell_type": "code",
   "execution_count": 49,
   "metadata": {},
   "outputs": [],
   "source": [
    "data = test_df['clean_content'].values\n",
    "bigrams_data = []\n",
    "\n",
    "\n",
    "for i in range(len(data)):\n",
    "#    bigrams_data.append(bigrams[data[i]])\n",
    "    bigrams_data.append([data[i]])\n",
    "    \n",
    "bigrams_data = np.array(bigrams_data)\n"
   ]
  },
  {
   "cell_type": "code",
   "execution_count": 50,
   "metadata": {},
   "outputs": [
    {
     "name": "stdout",
     "output_type": "stream",
     "text": [
      "Total Words in Vocabulary: 345508\n"
     ]
    }
   ],
   "source": [
    "bigrams_joined = []\n",
    "\n",
    "for a in bigrams_data:\n",
    "    for b in a:\n",
    "        bigrams_joined.append(' '.join(b))\n",
    "\n",
    "# Remove underscore from filters and no need to convert to lowercase\n",
    "#tokenizer = text.Tokenizer(filters='!\"#%&()*+,./:;<=>?@[\\\\]^`{|}~\\t\\n', lower=False)\n",
    "tokenizer.fit_on_texts(bigrams_joined)\n",
    "sequences = tokenizer.texts_to_sequences(bigrams_joined)\n",
    "\n",
    "word_index = tokenizer.word_index\n",
    "print('Total Words in Vocabulary: {}' .format(len(word_index)))"
   ]
  },
  {
   "cell_type": "code",
   "execution_count": 51,
   "metadata": {},
   "outputs": [
    {
     "data": {
      "text/plain": [
       "142570"
      ]
     },
     "execution_count": 51,
     "metadata": {},
     "output_type": "execute_result"
    }
   ],
   "source": [
    "X_t = pad_sequences(sequences, maxlen=max_len, padding='post')\n",
    "X_t_df = pd.DataFrame(X_t)\n",
    "#X_t_df['bigrams'] = bigrams_data\n",
    "#X_t_df['text'] = df.reset_index(drop=True)['clean_tweet']\n",
    "len(X_t_df)"
   ]
  },
  {
   "cell_type": "code",
   "execution_count": 52,
   "metadata": {},
   "outputs": [
    {
     "data": {
      "text/html": [
       "<div>\n",
       "<style scoped>\n",
       "    .dataframe tbody tr th:only-of-type {\n",
       "        vertical-align: middle;\n",
       "    }\n",
       "\n",
       "    .dataframe tbody tr th {\n",
       "        vertical-align: top;\n",
       "    }\n",
       "\n",
       "    .dataframe thead th {\n",
       "        text-align: right;\n",
       "    }\n",
       "</style>\n",
       "<table border=\"1\" class=\"dataframe\">\n",
       "  <thead>\n",
       "    <tr style=\"text-align: right;\">\n",
       "      <th></th>\n",
       "      <th>0</th>\n",
       "      <th>1</th>\n",
       "      <th>2</th>\n",
       "      <th>3</th>\n",
       "      <th>4</th>\n",
       "      <th>5</th>\n",
       "      <th>6</th>\n",
       "      <th>7</th>\n",
       "      <th>8</th>\n",
       "      <th>9</th>\n",
       "      <th>...</th>\n",
       "      <th>210</th>\n",
       "      <th>211</th>\n",
       "      <th>212</th>\n",
       "      <th>213</th>\n",
       "      <th>214</th>\n",
       "      <th>215</th>\n",
       "      <th>216</th>\n",
       "      <th>217</th>\n",
       "      <th>218</th>\n",
       "      <th>219</th>\n",
       "    </tr>\n",
       "  </thead>\n",
       "  <tbody>\n",
       "    <tr>\n",
       "      <th>142565</th>\n",
       "      <td>14912</td>\n",
       "      <td>83</td>\n",
       "      <td>108</td>\n",
       "      <td>58</td>\n",
       "      <td>1986</td>\n",
       "      <td>224</td>\n",
       "      <td>71</td>\n",
       "      <td>3205</td>\n",
       "      <td>1</td>\n",
       "      <td>16</td>\n",
       "      <td>...</td>\n",
       "      <td>1279</td>\n",
       "      <td>25560</td>\n",
       "      <td>819</td>\n",
       "      <td>532</td>\n",
       "      <td>83</td>\n",
       "      <td>188</td>\n",
       "      <td>57</td>\n",
       "      <td>28</td>\n",
       "      <td>881</td>\n",
       "      <td>382</td>\n",
       "    </tr>\n",
       "    <tr>\n",
       "      <th>142566</th>\n",
       "      <td>2652</td>\n",
       "      <td>582</td>\n",
       "      <td>6776</td>\n",
       "      <td>2983</td>\n",
       "      <td>12151</td>\n",
       "      <td>1464</td>\n",
       "      <td>232</td>\n",
       "      <td>1763</td>\n",
       "      <td>1553</td>\n",
       "      <td>4</td>\n",
       "      <td>...</td>\n",
       "      <td>205801</td>\n",
       "      <td>56732</td>\n",
       "      <td>1151</td>\n",
       "      <td>139</td>\n",
       "      <td>2710</td>\n",
       "      <td>96308</td>\n",
       "      <td>205802</td>\n",
       "      <td>860</td>\n",
       "      <td>470</td>\n",
       "      <td>94</td>\n",
       "    </tr>\n",
       "    <tr>\n",
       "      <th>142567</th>\n",
       "      <td>218</td>\n",
       "      <td>311</td>\n",
       "      <td>880</td>\n",
       "      <td>5712</td>\n",
       "      <td>36307</td>\n",
       "      <td>4592</td>\n",
       "      <td>8932</td>\n",
       "      <td>7678</td>\n",
       "      <td>4</td>\n",
       "      <td>2517</td>\n",
       "      <td>...</td>\n",
       "      <td>5712</td>\n",
       "      <td>36307</td>\n",
       "      <td>2</td>\n",
       "      <td>20272</td>\n",
       "      <td>18109</td>\n",
       "      <td>15764</td>\n",
       "      <td>553</td>\n",
       "      <td>5423</td>\n",
       "      <td>217</td>\n",
       "      <td>18683</td>\n",
       "    </tr>\n",
       "    <tr>\n",
       "      <th>142568</th>\n",
       "      <td>4234</td>\n",
       "      <td>4759</td>\n",
       "      <td>3257</td>\n",
       "      <td>122</td>\n",
       "      <td>12999</td>\n",
       "      <td>463</td>\n",
       "      <td>29597</td>\n",
       "      <td>1445</td>\n",
       "      <td>475</td>\n",
       "      <td>3762</td>\n",
       "      <td>...</td>\n",
       "      <td>513</td>\n",
       "      <td>664</td>\n",
       "      <td>637</td>\n",
       "      <td>161</td>\n",
       "      <td>812</td>\n",
       "      <td>3194</td>\n",
       "      <td>5062</td>\n",
       "      <td>387</td>\n",
       "      <td>24</td>\n",
       "      <td>139</td>\n",
       "    </tr>\n",
       "    <tr>\n",
       "      <th>142569</th>\n",
       "      <td>8614</td>\n",
       "      <td>2498</td>\n",
       "      <td>783</td>\n",
       "      <td>1718</td>\n",
       "      <td>1510</td>\n",
       "      <td>72156</td>\n",
       "      <td>2464</td>\n",
       "      <td>1636</td>\n",
       "      <td>13660</td>\n",
       "      <td>149</td>\n",
       "      <td>...</td>\n",
       "      <td>13</td>\n",
       "      <td>5</td>\n",
       "      <td>52</td>\n",
       "      <td>1853</td>\n",
       "      <td>10</td>\n",
       "      <td>2498</td>\n",
       "      <td>118</td>\n",
       "      <td>1421</td>\n",
       "      <td>1428</td>\n",
       "      <td>2739</td>\n",
       "    </tr>\n",
       "  </tbody>\n",
       "</table>\n",
       "<p>5 rows × 220 columns</p>\n",
       "</div>"
      ],
      "text/plain": [
       "          0     1     2     3      4      5      6     7      8     9    ...  \\\n",
       "142565  14912    83   108    58   1986    224     71  3205      1    16  ...   \n",
       "142566   2652   582  6776  2983  12151   1464    232  1763   1553     4  ...   \n",
       "142567    218   311   880  5712  36307   4592   8932  7678      4  2517  ...   \n",
       "142568   4234  4759  3257   122  12999    463  29597  1445    475  3762  ...   \n",
       "142569   8614  2498   783  1718   1510  72156   2464  1636  13660   149  ...   \n",
       "\n",
       "           210    211   212    213    214    215     216   217   218    219  \n",
       "142565    1279  25560   819    532     83    188      57    28   881    382  \n",
       "142566  205801  56732  1151    139   2710  96308  205802   860   470     94  \n",
       "142567    5712  36307     2  20272  18109  15764     553  5423   217  18683  \n",
       "142568     513    664   637    161    812   3194    5062   387    24    139  \n",
       "142569      13      5    52   1853     10   2498     118  1421  1428   2739  \n",
       "\n",
       "[5 rows x 220 columns]"
      ]
     },
     "execution_count": 52,
     "metadata": {},
     "output_type": "execute_result"
    }
   ],
   "source": [
    "X_t_df.tail()"
   ]
  },
  {
   "cell_type": "code",
   "execution_count": 53,
   "metadata": {},
   "outputs": [],
   "source": [
    "a = X_t_df.shape[0]\n",
    "b = X_t_df.shape[1]"
   ]
  },
  {
   "cell_type": "code",
   "execution_count": 54,
   "metadata": {},
   "outputs": [
    {
     "name": "stdout",
     "output_type": "stream",
     "text": [
      "Model: \"model_49\"\n",
      "_________________________________________________________________\n",
      "Layer (type)                 Output Shape              Param #   \n",
      "=================================================================\n",
      "input_50 (InputLayer)        (None, 220)               0         \n",
      "_________________________________________________________________\n",
      "embedding_1 (Embedding)      (None, 220, 100)          3356000   \n",
      "_________________________________________________________________\n",
      "bidirectional_17 (Bidirectio (None, 220, 100)          45300     \n",
      "_________________________________________________________________\n",
      "global_max_pooling1d_17 (Glo (None, 100)               0         \n",
      "_________________________________________________________________\n",
      "dropout_33 (Dropout)         (None, 100)               0         \n",
      "_________________________________________________________________\n",
      "dense_97 (Dense)             (None, 100)               10100     \n",
      "_________________________________________________________________\n",
      "dropout_34 (Dropout)         (None, 100)               0         \n",
      "_________________________________________________________________\n",
      "dense_98 (Dense)             (None, 2)                 202       \n",
      "=================================================================\n",
      "Total params: 3,411,602\n",
      "Trainable params: 3,411,602\n",
      "Non-trainable params: 0\n",
      "_________________________________________________________________\n"
     ]
    }
   ],
   "source": [
    "best_model.summary()"
   ]
  },
  {
   "cell_type": "code",
   "execution_count": 55,
   "metadata": {},
   "outputs": [],
   "source": [
    "#Print the lenght of embedding length\n",
    "embed_len = (best_model.get_weights()[0]).shape[0]"
   ]
  },
  {
   "cell_type": "code",
   "execution_count": 56,
   "metadata": {},
   "outputs": [],
   "source": [
    "#Ensure the maximun embedding lenght of training set retains in test set.\n",
    "X_t_df = np.where(X_t_df >= embed_len, embed_len-1, X_t_df) "
   ]
  },
  {
   "cell_type": "code",
   "execution_count": 57,
   "metadata": {},
   "outputs": [
    {
     "data": {
      "text/plain": [
       "array([0, 0, 0, ..., 1, 0, 0])"
      ]
     },
     "execution_count": 57,
     "metadata": {},
     "output_type": "execute_result"
    }
   ],
   "source": [
    "#Predict Political Afflication\n",
    "political_affliation_pred_D0_R1 = np.argmax(rnn_model.predict(X_t_df), axis=1)\n",
    "political_affliation_pred_D0_R1"
   ]
  },
  {
   "cell_type": "code",
   "execution_count": 58,
   "metadata": {},
   "outputs": [],
   "source": [
    "# Predict Political leaning (proxy of Bias)\n",
    "political_affliation_measure=rnn_model.predict(X_t_df)"
   ]
  },
  {
   "cell_type": "code",
   "execution_count": 59,
   "metadata": {},
   "outputs": [],
   "source": [
    "#Append Political Leaning in DF\n",
    "democrat_affliation = []\n",
    "republican_affliation = []\n",
    "for i in range(len(X_t_df)):\n",
    "    democrat_affliation.append(political_affliation_measure[i][0])\n",
    "    republican_affliation.append(political_affliation_measure[i][1])   "
   ]
  },
  {
   "cell_type": "code",
   "execution_count": 60,
   "metadata": {},
   "outputs": [],
   "source": [
    "test_df['political_affliation_pred_D0_R1'] = political_affliation_pred_D0_R1\n",
    "test_df['democrat_affliation'] = democrat_affliation\n",
    "test_df['republican_affliation'] = republican_affliation\n"
   ]
  },
  {
   "cell_type": "code",
   "execution_count": 61,
   "metadata": {
    "scrolled": true
   },
   "outputs": [
    {
     "data": {
      "text/html": [
       "<div>\n",
       "<style scoped>\n",
       "    .dataframe tbody tr th:only-of-type {\n",
       "        vertical-align: middle;\n",
       "    }\n",
       "\n",
       "    .dataframe tbody tr th {\n",
       "        vertical-align: top;\n",
       "    }\n",
       "\n",
       "    .dataframe thead th {\n",
       "        text-align: right;\n",
       "    }\n",
       "</style>\n",
       "<table border=\"1\" class=\"dataframe\">\n",
       "  <thead>\n",
       "    <tr style=\"text-align: right;\">\n",
       "      <th></th>\n",
       "      <th>title</th>\n",
       "      <th>publication</th>\n",
       "      <th>date</th>\n",
       "      <th>month</th>\n",
       "      <th>year</th>\n",
       "      <th>content</th>\n",
       "      <th>clean_content</th>\n",
       "      <th>political_affliation_pred_D0_R1</th>\n",
       "      <th>democrat_affliation</th>\n",
       "      <th>republican_affliation</th>\n",
       "    </tr>\n",
       "  </thead>\n",
       "  <tbody>\n",
       "    <tr>\n",
       "      <th>8</th>\n",
       "      <td>First, a Mixtape. Then a Romance. - The New Yo...</td>\n",
       "      <td>New York Times</td>\n",
       "      <td>2016-12-31</td>\n",
       "      <td>12.0</td>\n",
       "      <td>2016.0</td>\n",
       "      <td>Just how   is Hillary Kerr, the    founder of ...</td>\n",
       "      <td>[hillary, kerr, founder, digital, media, compa...</td>\n",
       "      <td>0</td>\n",
       "      <td>0.649083</td>\n",
       "      <td>0.350917</td>\n",
       "    </tr>\n",
       "    <tr>\n",
       "      <th>30</th>\n",
       "      <td>Tips for Your Post-Holiday Clutter Purge - The...</td>\n",
       "      <td>New York Times</td>\n",
       "      <td>2017-04-11</td>\n",
       "      <td>4.0</td>\n",
       "      <td>2017.0</td>\n",
       "      <td>With the year winding down and New Year’s reso...</td>\n",
       "      <td>[year, winding, new, years, resolutions, aroun...</td>\n",
       "      <td>0</td>\n",
       "      <td>0.675454</td>\n",
       "      <td>0.324546</td>\n",
       "    </tr>\n",
       "    <tr>\n",
       "      <th>48</th>\n",
       "      <td>Megyn Kelly’s Jump to NBC From Fox News Will T...</td>\n",
       "      <td>New York Times</td>\n",
       "      <td>2017-01-05</td>\n",
       "      <td>1.0</td>\n",
       "      <td>2017.0</td>\n",
       "      <td>For Megyn Kelly, the shift from Fox News to NB...</td>\n",
       "      <td>[megyn, kelly, shift, fox, news, nbc, she, hos...</td>\n",
       "      <td>1</td>\n",
       "      <td>0.468297</td>\n",
       "      <td>0.531703</td>\n",
       "    </tr>\n",
       "    <tr>\n",
       "      <th>59</th>\n",
       "      <td>In Republicans’ Ethics Office Gambit, a Specta...</td>\n",
       "      <td>New York Times</td>\n",
       "      <td>2017-01-05</td>\n",
       "      <td>1.0</td>\n",
       "      <td>2017.0</td>\n",
       "      <td>WASHINGTON  —   Majorities in Congress often o...</td>\n",
       "      <td>[washington, majorities, congress, often, over...</td>\n",
       "      <td>0</td>\n",
       "      <td>0.562474</td>\n",
       "      <td>0.437526</td>\n",
       "    </tr>\n",
       "  </tbody>\n",
       "</table>\n",
       "</div>"
      ],
      "text/plain": [
       "                                                title     publication  \\\n",
       "8   First, a Mixtape. Then a Romance. - The New Yo...  New York Times   \n",
       "30  Tips for Your Post-Holiday Clutter Purge - The...  New York Times   \n",
       "48  Megyn Kelly’s Jump to NBC From Fox News Will T...  New York Times   \n",
       "59  In Republicans’ Ethics Office Gambit, a Specta...  New York Times   \n",
       "\n",
       "          date  month    year  \\\n",
       "8   2016-12-31   12.0  2016.0   \n",
       "30  2017-04-11    4.0  2017.0   \n",
       "48  2017-01-05    1.0  2017.0   \n",
       "59  2017-01-05    1.0  2017.0   \n",
       "\n",
       "                                              content  \\\n",
       "8   Just how   is Hillary Kerr, the    founder of ...   \n",
       "30  With the year winding down and New Year’s reso...   \n",
       "48  For Megyn Kelly, the shift from Fox News to NB...   \n",
       "59  WASHINGTON  —   Majorities in Congress often o...   \n",
       "\n",
       "                                        clean_content  \\\n",
       "8   [hillary, kerr, founder, digital, media, compa...   \n",
       "30  [year, winding, new, years, resolutions, aroun...   \n",
       "48  [megyn, kelly, shift, fox, news, nbc, she, hos...   \n",
       "59  [washington, majorities, congress, often, over...   \n",
       "\n",
       "    political_affliation_pred_D0_R1  democrat_affliation  \\\n",
       "8                                 0             0.649083   \n",
       "30                                0             0.675454   \n",
       "48                                1             0.468297   \n",
       "59                                0             0.562474   \n",
       "\n",
       "    republican_affliation  \n",
       "8                0.350917  \n",
       "30               0.324546  \n",
       "48               0.531703  \n",
       "59               0.437526  "
      ]
     },
     "execution_count": 61,
     "metadata": {},
     "output_type": "execute_result"
    },
    {
     "data": {
      "text/plain": [
       "count    142570.000000\n",
       "mean          0.459697\n",
       "std           0.498375\n",
       "min           0.000000\n",
       "25%           0.000000\n",
       "50%           0.000000\n",
       "75%           1.000000\n",
       "max           1.000000\n",
       "Name: political_affliation_pred_D0_R1, dtype: float64"
      ]
     },
     "execution_count": 61,
     "metadata": {},
     "output_type": "execute_result"
    }
   ],
   "source": [
    "test_df.loc[(test_df['republican_affliation'] > 0.30) & (test_df['republican_affliation'] < 0.70)].head(4)\n",
    "test_df['political_affliation_pred_D0_R1'].describe()"
   ]
  },
  {
   "cell_type": "code",
   "execution_count": 62,
   "metadata": {},
   "outputs": [],
   "source": [
    "publications = test_df['publication'].unique()"
   ]
  },
  {
   "cell_type": "code",
   "execution_count": 63,
   "metadata": {},
   "outputs": [],
   "source": [
    "Republican_affliation =[]\n",
    "publicatation_house = []\n",
    "Republican_1_or_Democrat_0_classification =[]\n",
    "\n",
    "for i in publications:\n",
    "    publicatation_house.append(i)\n",
    "    Republican_affliation.append(\"%.1f\" %(test_df.loc[test_df['publication'] == i]['republican_affliation'].mean()*100))\n",
    "    Republican_1_or_Democrat_0_classification.append(\"%.1f\" %(test_df.loc[test_df['publication'] == i]['political_affliation_pred_D0_R1'].mean()*100))\n",
    "    #\"%.2f\" %(f1_score(actual, preds)*100))\n",
    "    #print(\"%.1f\" %(test_df.loc[test_df['publication'] == i]['republican_affliation'].mean()*100))"
   ]
  },
  {
   "cell_type": "code",
   "execution_count": 64,
   "metadata": {},
   "outputs": [
    {
     "data": {
      "text/plain": [
       "['New York Times',\n",
       " 'Breitbart',\n",
       " 'CNN',\n",
       " 'Business Insider',\n",
       " 'Atlantic',\n",
       " 'Fox News',\n",
       " 'Talking Points Memo',\n",
       " 'Buzzfeed News',\n",
       " 'National Review',\n",
       " 'New York Post',\n",
       " 'Guardian',\n",
       " 'NPR',\n",
       " 'Reuters',\n",
       " 'Vox',\n",
       " 'Washington Post']"
      ]
     },
     "execution_count": 64,
     "metadata": {},
     "output_type": "execute_result"
    }
   ],
   "source": [
    "publicatation_house"
   ]
  },
  {
   "cell_type": "code",
   "execution_count": 65,
   "metadata": {},
   "outputs": [
    {
     "data": {
      "text/html": [
       "<div>\n",
       "<style scoped>\n",
       "    .dataframe tbody tr th:only-of-type {\n",
       "        vertical-align: middle;\n",
       "    }\n",
       "\n",
       "    .dataframe tbody tr th {\n",
       "        vertical-align: top;\n",
       "    }\n",
       "\n",
       "    .dataframe thead th {\n",
       "        text-align: right;\n",
       "    }\n",
       "</style>\n",
       "<table border=\"1\" class=\"dataframe\">\n",
       "  <thead>\n",
       "    <tr style=\"text-align: right;\">\n",
       "      <th></th>\n",
       "      <th>title</th>\n",
       "      <th>publication</th>\n",
       "      <th>date</th>\n",
       "      <th>month</th>\n",
       "      <th>year</th>\n",
       "      <th>content</th>\n",
       "      <th>clean_content</th>\n",
       "      <th>political_affliation_pred_D0_R1</th>\n",
       "      <th>democrat_affliation</th>\n",
       "      <th>republican_affliation</th>\n",
       "    </tr>\n",
       "  </thead>\n",
       "  <tbody>\n",
       "    <tr>\n",
       "      <th>0</th>\n",
       "      <td>House Republicans Fret About Winning Their Hea...</td>\n",
       "      <td>New York Times</td>\n",
       "      <td>2016-12-31</td>\n",
       "      <td>12.0</td>\n",
       "      <td>2016.0</td>\n",
       "      <td>WASHINGTON  —   Congressional Republicans have...</td>\n",
       "      <td>[washington, congressional, republicans, new, ...</td>\n",
       "      <td>0</td>\n",
       "      <td>0.912569</td>\n",
       "      <td>8.743095e-02</td>\n",
       "    </tr>\n",
       "    <tr>\n",
       "      <th>1</th>\n",
       "      <td>Rift Between Officers and Residents as Killing...</td>\n",
       "      <td>New York Times</td>\n",
       "      <td>2017-06-19</td>\n",
       "      <td>6.0</td>\n",
       "      <td>2017.0</td>\n",
       "      <td>After the bullet shells get counted, the blood...</td>\n",
       "      <td>[bullet, shells, get, counted, blood, dries, v...</td>\n",
       "      <td>0</td>\n",
       "      <td>1.000000</td>\n",
       "      <td>4.278178e-07</td>\n",
       "    </tr>\n",
       "  </tbody>\n",
       "</table>\n",
       "</div>"
      ],
      "text/plain": [
       "                                               title     publication  \\\n",
       "0  House Republicans Fret About Winning Their Hea...  New York Times   \n",
       "1  Rift Between Officers and Residents as Killing...  New York Times   \n",
       "\n",
       "         date  month    year  \\\n",
       "0  2016-12-31   12.0  2016.0   \n",
       "1  2017-06-19    6.0  2017.0   \n",
       "\n",
       "                                             content  \\\n",
       "0  WASHINGTON  —   Congressional Republicans have...   \n",
       "1  After the bullet shells get counted, the blood...   \n",
       "\n",
       "                                       clean_content  \\\n",
       "0  [washington, congressional, republicans, new, ...   \n",
       "1  [bullet, shells, get, counted, blood, dries, v...   \n",
       "\n",
       "   political_affliation_pred_D0_R1  democrat_affliation  republican_affliation  \n",
       "0                                0             0.912569           8.743095e-02  \n",
       "1                                0             1.000000           4.278178e-07  "
      ]
     },
     "execution_count": 65,
     "metadata": {},
     "output_type": "execute_result"
    }
   ],
   "source": [
    "#Divide Publishing houses\n",
    "Breitbart_df = test_df.loc[test_df['publication'] == 'Breitbart']\n",
    "CNN_df = test_df.loc[test_df['publication'] == 'CNN']\n",
    "Fox_df = test_df.loc[test_df['publication'] == 'Fox News']\n",
    "Washington_Post_df = test_df.loc[test_df['publication'] == 'Washington Post']\n",
    "NYT_df = test_df.loc[test_df['publication'] == 'New York Times']\n",
    "NYT_republican_affliation_df = NYT_df['republican_affliation']\n",
    "NYT_df.head(2)"
   ]
  },
  {
   "cell_type": "code",
   "execution_count": 66,
   "metadata": {},
   "outputs": [],
   "source": [
    "Repub_affl_between_0_and_10= len(NYT_df.loc[(NYT_df['republican_affliation'] > 0) & (NYT_df['republican_affliation'] < 0.1)])\n",
    "Repub_affl_between_10_and_20=len(NYT_df.loc[(NYT_df['republican_affliation'] > .1) & (NYT_df['republican_affliation'] < 0.2)])\n",
    "Repub_affl_between_20_and_30=len(NYT_df.loc[(NYT_df['republican_affliation'] > .2) & (NYT_df['republican_affliation'] < 0.3)])\n",
    "Repub_affl_between_30_and_40=len(NYT_df.loc[(NYT_df['republican_affliation'] > .3) & (NYT_df['republican_affliation'] < 0.4)])\n",
    "Repub_affl_between_40_and_50=len(NYT_df.loc[(NYT_df['republican_affliation'] > .4) & (NYT_df['republican_affliation'] < 0.5)])\n",
    "Repub_affl_between_50_and_60=len(NYT_df.loc[(NYT_df['republican_affliation'] > .5) & (NYT_df['republican_affliation'] < 0.6)])\n",
    "Repub_affl_between_60_and_70=len(NYT_df.loc[(NYT_df['republican_affliation'] > .6) & (NYT_df['republican_affliation'] < 0.7)])\n",
    "Repub_affl_between_70_and_80=len(NYT_df.loc[(NYT_df['republican_affliation'] > .7) & (NYT_df['republican_affliation'] < 0.8)])\n",
    "Repub_affl_between_80_and_90=len(NYT_df.loc[(NYT_df['republican_affliation'] > .8) & (NYT_df['republican_affliation'] < 0.9)])\n",
    "Repub_affl_between_90_and_100=len(NYT_df.loc[(NYT_df['republican_affliation'] > .9) & (NYT_df['republican_affliation'] < 1.0)])"
   ]
  },
  {
   "cell_type": "code",
   "execution_count": 67,
   "metadata": {},
   "outputs": [
    {
     "data": {
      "text/plain": [
       "3352"
      ]
     },
     "execution_count": 67,
     "metadata": {},
     "output_type": "execute_result"
    },
    {
     "data": {
      "text/plain": [
       "285"
      ]
     },
     "execution_count": 67,
     "metadata": {},
     "output_type": "execute_result"
    },
    {
     "data": {
      "text/plain": [
       "220"
      ]
     },
     "execution_count": 67,
     "metadata": {},
     "output_type": "execute_result"
    },
    {
     "data": {
      "text/plain": [
       "172"
      ]
     },
     "execution_count": 67,
     "metadata": {},
     "output_type": "execute_result"
    },
    {
     "data": {
      "text/plain": [
       "157"
      ]
     },
     "execution_count": 67,
     "metadata": {},
     "output_type": "execute_result"
    },
    {
     "data": {
      "text/plain": [
       "152"
      ]
     },
     "execution_count": 67,
     "metadata": {},
     "output_type": "execute_result"
    },
    {
     "data": {
      "text/plain": [
       "137"
      ]
     },
     "execution_count": 67,
     "metadata": {},
     "output_type": "execute_result"
    },
    {
     "data": {
      "text/plain": [
       "207"
      ]
     },
     "execution_count": 67,
     "metadata": {},
     "output_type": "execute_result"
    },
    {
     "data": {
      "text/plain": [
       "263"
      ]
     },
     "execution_count": 67,
     "metadata": {},
     "output_type": "execute_result"
    },
    {
     "data": {
      "text/plain": [
       "2792"
      ]
     },
     "execution_count": 67,
     "metadata": {},
     "output_type": "execute_result"
    }
   ],
   "source": [
    "Repub_affl_between_0_and_10\n",
    "Repub_affl_between_10_and_20\n",
    "Repub_affl_between_20_and_30\n",
    "Repub_affl_between_30_and_40\n",
    "Repub_affl_between_40_and_50\n",
    "Repub_affl_between_50_and_60\n",
    "Repub_affl_between_60_and_70\n",
    "Repub_affl_between_70_and_80\n",
    "Repub_affl_between_80_and_90\n",
    "Repub_affl_between_90_and_100"
   ]
  },
  {
   "cell_type": "code",
   "execution_count": 108,
   "metadata": {},
   "outputs": [
    {
     "data": {
      "text/plain": [
       "<Figure size 1080x360 with 0 Axes>"
      ]
     },
     "execution_count": 108,
     "metadata": {},
     "output_type": "execute_result"
    },
    {
     "data": {
      "text/plain": [
       "Text(3353, 0.1, '3352')"
      ]
     },
     "execution_count": 108,
     "metadata": {},
     "output_type": "execute_result"
    },
    {
     "data": {
      "text/plain": [
       "Text(286, 1.1, '285')"
      ]
     },
     "execution_count": 108,
     "metadata": {},
     "output_type": "execute_result"
    },
    {
     "data": {
      "text/plain": [
       "Text(221, 2.1, '220')"
      ]
     },
     "execution_count": 108,
     "metadata": {},
     "output_type": "execute_result"
    },
    {
     "data": {
      "text/plain": [
       "Text(173, 3.1, '172')"
      ]
     },
     "execution_count": 108,
     "metadata": {},
     "output_type": "execute_result"
    },
    {
     "data": {
      "text/plain": [
       "Text(158, 4.1, '157')"
      ]
     },
     "execution_count": 108,
     "metadata": {},
     "output_type": "execute_result"
    },
    {
     "data": {
      "text/plain": [
       "Text(153, 5.1, '152')"
      ]
     },
     "execution_count": 108,
     "metadata": {},
     "output_type": "execute_result"
    },
    {
     "data": {
      "text/plain": [
       "Text(138, 6.1, '137')"
      ]
     },
     "execution_count": 108,
     "metadata": {},
     "output_type": "execute_result"
    },
    {
     "data": {
      "text/plain": [
       "Text(208, 7.1, '207')"
      ]
     },
     "execution_count": 108,
     "metadata": {},
     "output_type": "execute_result"
    },
    {
     "data": {
      "text/plain": [
       "Text(264, 8.1, '263')"
      ]
     },
     "execution_count": 108,
     "metadata": {},
     "output_type": "execute_result"
    },
    {
     "data": {
      "text/plain": [
       "Text(2793, 9.1, '2792')"
      ]
     },
     "execution_count": 108,
     "metadata": {},
     "output_type": "execute_result"
    },
    {
     "data": {
      "text/plain": [
       "<BarContainer object of 10 artists>"
      ]
     },
     "execution_count": 108,
     "metadata": {},
     "output_type": "execute_result"
    },
    {
     "data": {
      "text/plain": [
       "[<matplotlib.axis.YTick at 0x7f482f5f57b8>,\n",
       " <matplotlib.axis.YTick at 0x7f482f558d30>,\n",
       " <matplotlib.axis.YTick at 0x7f482f4f0cc0>,\n",
       " <matplotlib.axis.YTick at 0x7f482f715b70>,\n",
       " <matplotlib.axis.YTick at 0x7f4e290910b8>,\n",
       " <matplotlib.axis.YTick at 0x7f4e29091518>,\n",
       " <matplotlib.axis.YTick at 0x7f4e290919e8>,\n",
       " <matplotlib.axis.YTick at 0x7f4e29091e80>,\n",
       " <matplotlib.axis.YTick at 0x7f4e29091860>,\n",
       " <matplotlib.axis.YTick at 0x7f482f715c50>]"
      ]
     },
     "execution_count": 108,
     "metadata": {},
     "output_type": "execute_result"
    },
    {
     "data": {
      "text/plain": [
       "Text(0.5, 0, 'No. of NYT articles')"
      ]
     },
     "execution_count": 108,
     "metadata": {},
     "output_type": "execute_result"
    },
    {
     "data": {
      "text/plain": [
       "Text(0, 0.5, 'Republican affliciation scores')"
      ]
     },
     "execution_count": 108,
     "metadata": {},
     "output_type": "execute_result"
    },
    {
     "data": {
      "text/plain": [
       "Text(0.5, 1.0, 'No. of NYT articles in each Republican affiliation(D0,R1) score range')"
      ]
     },
     "execution_count": 108,
     "metadata": {},
     "output_type": "execute_result"
    },
    {
     "data": {
      "image/png": "[encoded data removed]",
      "text/plain": [
       "<Figure size 1080x360 with 1 Axes>"
      ]
     },
     "metadata": {
      "needs_background": "light"
     },
     "output_type": "display_data"
    },
    {
     "data": {
      "text/plain": [
       "<Figure size 1080x360 with 0 Axes>"
      ]
     },
     "metadata": {},
     "output_type": "display_data"
    }
   ],
   "source": [
    "Republican_affln = [Repub_affl_between_0_and_10,Repub_affl_between_10_and_20,Repub_affl_between_20_and_30,Repub_affl_between_30_and_40,Repub_affl_between_40_and_50,Repub_affl_between_50_and_60,Repub_affl_between_60_and_70,Repub_affl_between_70_and_80,Repub_affl_between_80_and_90,Repub_affl_between_90_and_100]\n",
    "Political_affln = ['D(0-.1)','D(0.1-0.2)','D(0.2-0.3)','D(0.3-0.4)','D(0.4-0.5)','R(0.5-0.6)','R(0.6-0.7)','R(0.7-0.8)','R(0.8-0.9)','R(0.9-1.0)']\n",
    "\n",
    "#N = 10\n",
    "#width = 0.1\n",
    "#ind = np.arange(N)  # the x locations for the groups\n",
    "\n",
    "fig = plt.figure(figsize = (15, 5))\n",
    "plt.figure(figsize = (15, 5))\n",
    "plt.rcParams.update({'font.size': 12})\n",
    "ax = fig.add_subplot(111)\n",
    "\n",
    "for i, v in enumerate(Republican_affln):\n",
    "    ax.text(v + 1, i + 0.1, str(v), color='red', fontweight='bold')\n",
    "\n",
    "ax.barh(Political_affln, Republican_affln, align='center',color = 'green')\n",
    "ax.set_yticks(Political_affln)\n",
    "ax.invert_yaxis()  # labels read top-to-bottom\n",
    "ax.set_xlabel('No. of NYT articles')\n",
    "ax.set_ylabel('Republican affliciation scores')\n",
    "ax.set_title('No. of NYT articles in each Republican affiliation(D0,R1) score range')\n",
    "\n",
    "plt.show()"
   ]
  },
  {
   "cell_type": "code",
   "execution_count": 109,
   "metadata": {},
   "outputs": [
    {
     "data": {
      "text/plain": [
       "<Figure size 1080x360 with 0 Axes>"
      ]
     },
     "execution_count": 109,
     "metadata": {},
     "output_type": "execute_result"
    },
    {
     "data": {
      "text/plain": [
       "Text(835, 0.1, '834')"
      ]
     },
     "execution_count": 109,
     "metadata": {},
     "output_type": "execute_result"
    },
    {
     "data": {
      "text/plain": [
       "Text(760, 1.1, '759')"
      ]
     },
     "execution_count": 109,
     "metadata": {},
     "output_type": "execute_result"
    },
    {
     "data": {
      "text/plain": [
       "<BarContainer object of 2 artists>"
      ]
     },
     "execution_count": 109,
     "metadata": {},
     "output_type": "execute_result"
    },
    {
     "data": {
      "text/plain": [
       "[<matplotlib.axis.YTick at 0x7f482f48f6d8>,\n",
       " <matplotlib.axis.YTick at 0x7f482f672fd0>]"
      ]
     },
     "execution_count": 109,
     "metadata": {},
     "output_type": "execute_result"
    },
    {
     "data": {
      "text/plain": [
       "Text(0.5, 0, 'No. of NYT articles')"
      ]
     },
     "execution_count": 109,
     "metadata": {},
     "output_type": "execute_result"
    },
    {
     "data": {
      "text/plain": [
       "Text(0, 0.5, 'Republican affliciation scores')"
      ]
     },
     "execution_count": 109,
     "metadata": {},
     "output_type": "execute_result"
    },
    {
     "data": {
      "text/plain": [
       "Text(0.5, 1.0, 'Democrat vs. Republican NYT articles in (0.1,0.9) score range')"
      ]
     },
     "execution_count": 109,
     "metadata": {},
     "output_type": "execute_result"
    },
    {
     "data": {
      "image/png": "[encoded data removed]",
      "text/plain": [
       "<Figure size 1080x360 with 1 Axes>"
      ]
     },
     "metadata": {
      "needs_background": "light"
     },
     "output_type": "display_data"
    },
    {
     "data": {
      "text/plain": [
       "<Figure size 1080x360 with 0 Axes>"
      ]
     },
     "metadata": {},
     "output_type": "display_data"
    }
   ],
   "source": [
    "Republican_affln = [Repub_affl_between_10_and_20 + Repub_affl_between_20_and_30 + Repub_affl_between_30_and_40 + Repub_affl_between_40_and_50,Repub_affl_between_50_and_60 + Repub_affl_between_60_and_70 + Repub_affl_between_70_and_80 + Repub_affl_between_80_and_90]\n",
    "Political_affln = ['D(0.1-0.5)','R(0.5-0.9)']\n",
    "\n",
    "#N = 10\n",
    "#width = 0.1\n",
    "#ind = np.arange(N)  # the x locations for the groups\n",
    "\n",
    "fig = plt.figure(figsize = (15, 5))\n",
    "plt.figure(figsize = (15, 5))\n",
    "plt.rcParams.update({'font.size': 12})\n",
    "ax = fig.add_subplot(111)\n",
    "\n",
    "for i, v in enumerate(Republican_affln):\n",
    "    ax.text(v + 1, i + 0.1, str(v), color='red', fontweight='bold')\n",
    "\n",
    "ax.barh(Political_affln, Republican_affln, align='center',color = 'green')\n",
    "ax.set_yticks(Political_affln)\n",
    "ax.invert_yaxis()  # labels read top-to-bottom\n",
    "ax.set_xlabel('No. of NYT articles')\n",
    "ax.set_ylabel('Republican affliciation scores')\n",
    "ax.set_title('Democrat vs. Republican NYT articles in (0.1,0.9) score range')\n",
    "\n",
    "plt.show()"
   ]
  },
  {
   "cell_type": "code",
   "execution_count": 104,
   "metadata": {},
   "outputs": [],
   "source": [
    "LL = 0.3\n",
    "UL = 0.7\n",
    "Breitbart_Republican_share = Breitbart_df.loc[(Breitbart_df['republican_affliation'] > LL) & (Breitbart_df['republican_affliation'] < UL)]['republican_affliation'].median()\n",
    "CNN_Republican_share = CNN_df.loc[(CNN_df['republican_affliation'] > LL) & (CNN_df['republican_affliation'] < UL)]['republican_affliation'].median()\n",
    "Fox_Republican_share = Fox_df.loc[(Fox_df['republican_affliation'] > LL) & (Fox_df['republican_affliation'] < UL)]['republican_affliation'].median()\n",
    "Washington_Post_Republican_share = Washington_Post_df.loc[(Washington_Post_df['republican_affliation'] > LL) & (Washington_Post_df['republican_affliation'] < UL)]['republican_affliation'].median()\n",
    "NYT_Republican_share = NYT_df.loc[(NYT_df['republican_affliation'] > LL) & (NYT_df['republican_affliation'] < UL)]['republican_affliation'].median()\n"
   ]
  },
  {
   "cell_type": "code",
   "execution_count": 105,
   "metadata": {},
   "outputs": [],
   "source": [
    "Breitbart_Republican_share = round(Breitbart_Republican_share*100,1)\n",
    "CNN_Republican_share = round(CNN_Republican_share*100,1)\n",
    "Fox_Republican_share = round(Fox_Republican_share*100,1)\n",
    "Washington_Post_Republican_share = round(Washington_Post_Republican_share*100,1)\n",
    "NYT_Republican_share = round(NYT_Republican_share*100,1)\n"
   ]
  },
  {
   "cell_type": "code",
   "execution_count": 106,
   "metadata": {},
   "outputs": [
    {
     "data": {
      "text/plain": [
       "<Figure size 864x432 with 0 Axes>"
      ]
     },
     "execution_count": 106,
     "metadata": {},
     "output_type": "execute_result"
    },
    {
     "data": {
      "text/plain": [
       "Text(50.900000000000006, 0.2, '50.7')"
      ]
     },
     "execution_count": 106,
     "metadata": {},
     "output_type": "execute_result"
    },
    {
     "data": {
      "text/plain": [
       "Text(49.0, 1.2, '48.8')"
      ]
     },
     "execution_count": 106,
     "metadata": {},
     "output_type": "execute_result"
    },
    {
     "data": {
      "text/plain": [
       "Text(48.7, 2.2, '48.5')"
      ]
     },
     "execution_count": 106,
     "metadata": {},
     "output_type": "execute_result"
    },
    {
     "data": {
      "text/plain": [
       "Text(49.900000000000006, 3.2, '49.7')"
      ]
     },
     "execution_count": 106,
     "metadata": {},
     "output_type": "execute_result"
    },
    {
     "data": {
      "text/plain": [
       "Text(49.900000000000006, 4.2, '49.7')"
      ]
     },
     "execution_count": 106,
     "metadata": {},
     "output_type": "execute_result"
    },
    {
     "data": {
      "text/plain": [
       "<BarContainer object of 5 artists>"
      ]
     },
     "execution_count": 106,
     "metadata": {},
     "output_type": "execute_result"
    },
    {
     "data": {
      "text/plain": [
       "[<matplotlib.axis.YTick at 0x7f482f514470>,\n",
       " <matplotlib.axis.YTick at 0x7f482f518d68>,\n",
       " <matplotlib.axis.YTick at 0x7f482f5062b0>,\n",
       " <matplotlib.axis.YTick at 0x7f482f525390>,\n",
       " <matplotlib.axis.YTick at 0x7f482f525860>]"
      ]
     },
     "execution_count": 106,
     "metadata": {},
     "output_type": "execute_result"
    },
    {
     "data": {
      "text/plain": [
       "Text(0.5, 0, 'Republican affiliation score')"
      ]
     },
     "execution_count": 106,
     "metadata": {},
     "output_type": "execute_result"
    },
    {
     "data": {
      "text/plain": [
       "Text(0.5, 1.0, 'Republican affiliation in balanced articles (score range :0.3-0.7) across publishers')"
      ]
     },
     "execution_count": 106,
     "metadata": {},
     "output_type": "execute_result"
    },
    {
     "data": {
      "image/png": "[encoded data removed]",
      "text/plain": [
       "<Figure size 864x432 with 1 Axes>"
      ]
     },
     "metadata": {
      "needs_background": "light"
     },
     "output_type": "display_data"
    },
    {
     "data": {
      "text/plain": [
       "<Figure size 864x432 with 0 Axes>"
      ]
     },
     "metadata": {},
     "output_type": "display_data"
    }
   ],
   "source": [
    "Republican_share = [Breitbart_Republican_share,NYT_Republican_share,Fox_Republican_share,CNN_Republican_share,Washington_Post_Republican_share]\n",
    "Publishing_house = ['Breitbart','NYT','Fox','CNN','Washington_Post']\n",
    "\n",
    "#N = 5\n",
    "#width = 0.1\n",
    "#ind = np.arange(N)  # the x locations for the groups\n",
    "\n",
    "fig = plt.figure(figsize = (12, 6))\n",
    "plt.figure(figsize = (12, 6))\n",
    "plt.rcParams.update({'font.size': 12})\n",
    "ax = fig.add_subplot(111)\n",
    "\n",
    "for i, v in enumerate(Republican_share):\n",
    "    ax.text(v + 0.2, i + .2, str(v), color='red', fontweight='bold')\n",
    "\n",
    "ax.barh(Publishing_house, Republican_share, align='center',color = 'blue')\n",
    "ax.set_yticks(Publishing_house)\n",
    "ax.invert_yaxis()  # labels read top-to-bottom\n",
    "ax.set_xlabel('Republican affiliation score')\n",
    "ax.set_title('Republican affiliation in balanced articles (score range :0.3-0.7) across publishers')\n",
    "\n",
    "plt.show()\n"
   ]
  },
  {
   "cell_type": "code",
   "execution_count": 72,
   "metadata": {},
   "outputs": [],
   "source": [
    "path_to_file = '/home/asheshchoudhury/outputfile.csv'\n",
    "export_csv = NYT_df.to_csv (path_to_file, index = None, header=True) \n"
   ]
  },
  {
   "cell_type": "code",
   "execution_count": 73,
   "metadata": {},
   "outputs": [
    {
     "data": {
      "text/html": [
       "<div>\n",
       "<style scoped>\n",
       "    .dataframe tbody tr th:only-of-type {\n",
       "        vertical-align: middle;\n",
       "    }\n",
       "\n",
       "    .dataframe tbody tr th {\n",
       "        vertical-align: top;\n",
       "    }\n",
       "\n",
       "    .dataframe thead th {\n",
       "        text-align: right;\n",
       "    }\n",
       "</style>\n",
       "<table border=\"1\" class=\"dataframe\">\n",
       "  <thead>\n",
       "    <tr style=\"text-align: right;\">\n",
       "      <th></th>\n",
       "      <th>republican_affliation</th>\n",
       "    </tr>\n",
       "    <tr>\n",
       "      <th>datetime</th>\n",
       "      <th></th>\n",
       "    </tr>\n",
       "  </thead>\n",
       "  <tbody>\n",
       "    <tr>\n",
       "      <th>2016-12-31</th>\n",
       "      <td>8.743095e-02</td>\n",
       "    </tr>\n",
       "    <tr>\n",
       "      <th>2017-06-19</th>\n",
       "      <td>4.278178e-07</td>\n",
       "    </tr>\n",
       "    <tr>\n",
       "      <th>2017-01-06</th>\n",
       "      <td>3.010485e-03</td>\n",
       "    </tr>\n",
       "    <tr>\n",
       "      <th>2017-04-10</th>\n",
       "      <td>2.797949e-05</td>\n",
       "    </tr>\n",
       "    <tr>\n",
       "      <th>2017-01-02</th>\n",
       "      <td>5.707177e-03</td>\n",
       "    </tr>\n",
       "  </tbody>\n",
       "</table>\n",
       "</div>"
      ],
      "text/plain": [
       "            republican_affliation\n",
       "datetime                         \n",
       "2016-12-31           8.743095e-02\n",
       "2017-06-19           4.278178e-07\n",
       "2017-01-06           3.010485e-03\n",
       "2017-04-10           2.797949e-05\n",
       "2017-01-02           5.707177e-03"
      ]
     },
     "execution_count": 73,
     "metadata": {},
     "output_type": "execute_result"
    }
   ],
   "source": [
    "NYT_all_coloumn_df = NYT_df\n",
    "NYT_df['datetime'] = pd.to_datetime(NYT_df['date'])\n",
    "NYT_df = NYT_df.set_index('datetime')\n",
    "NYT_df.drop(['title','publication','date','month','year','content','clean_content','political_affliation_pred_D0_R1','democrat_affliation'], axis=1, inplace=True)\n",
    "NYT_df.head()"
   ]
  },
  {
   "cell_type": "code",
   "execution_count": 74,
   "metadata": {},
   "outputs": [
    {
     "data": {
      "text/html": [
       "<div>\n",
       "<style scoped>\n",
       "    .dataframe tbody tr th:only-of-type {\n",
       "        vertical-align: middle;\n",
       "    }\n",
       "\n",
       "    .dataframe tbody tr th {\n",
       "        vertical-align: top;\n",
       "    }\n",
       "\n",
       "    .dataframe thead th {\n",
       "        text-align: right;\n",
       "    }\n",
       "</style>\n",
       "<table border=\"1\" class=\"dataframe\">\n",
       "  <thead>\n",
       "    <tr style=\"text-align: right;\">\n",
       "      <th></th>\n",
       "      <th>republican_affliation</th>\n",
       "    </tr>\n",
       "    <tr>\n",
       "      <th>datetime</th>\n",
       "      <th></th>\n",
       "    </tr>\n",
       "  </thead>\n",
       "  <tbody>\n",
       "    <tr>\n",
       "      <th>2014-05-31</th>\n",
       "      <td>0.903777</td>\n",
       "    </tr>\n",
       "    <tr>\n",
       "      <th>2014-06-30</th>\n",
       "      <td>NaN</td>\n",
       "    </tr>\n",
       "    <tr>\n",
       "      <th>2014-07-31</th>\n",
       "      <td>NaN</td>\n",
       "    </tr>\n",
       "    <tr>\n",
       "      <th>2014-08-31</th>\n",
       "      <td>NaN</td>\n",
       "    </tr>\n",
       "    <tr>\n",
       "      <th>2014-09-30</th>\n",
       "      <td>NaN</td>\n",
       "    </tr>\n",
       "  </tbody>\n",
       "</table>\n",
       "</div>"
      ],
      "text/plain": [
       "            republican_affliation\n",
       "datetime                         \n",
       "2014-05-31               0.903777\n",
       "2014-06-30                    NaN\n",
       "2014-07-31                    NaN\n",
       "2014-08-31                    NaN\n",
       "2014-09-30                    NaN"
      ]
     },
     "execution_count": 74,
     "metadata": {},
     "output_type": "execute_result"
    }
   ],
   "source": [
    "#Take monthly mean of Republican afflition\n",
    "NYT_monthlymean_df = NYT_df.resample('M').mean()\n",
    "NYT_monthlymean_df.head()"
   ]
  },
  {
   "cell_type": "code",
   "execution_count": 75,
   "metadata": {},
   "outputs": [
    {
     "data": {
      "text/html": [
       "<div>\n",
       "<style scoped>\n",
       "    .dataframe tbody tr th:only-of-type {\n",
       "        vertical-align: middle;\n",
       "    }\n",
       "\n",
       "    .dataframe tbody tr th {\n",
       "        vertical-align: top;\n",
       "    }\n",
       "\n",
       "    .dataframe thead th {\n",
       "        text-align: right;\n",
       "    }\n",
       "</style>\n",
       "<table border=\"1\" class=\"dataframe\">\n",
       "  <thead>\n",
       "    <tr style=\"text-align: right;\">\n",
       "      <th></th>\n",
       "      <th>Year_Month</th>\n",
       "      <th>NYT_republican_affliation</th>\n",
       "    </tr>\n",
       "    <tr>\n",
       "      <th>datetime</th>\n",
       "      <th></th>\n",
       "      <th></th>\n",
       "    </tr>\n",
       "  </thead>\n",
       "  <tbody>\n",
       "    <tr>\n",
       "      <th>2017-02-28</th>\n",
       "      <td>2017-2</td>\n",
       "      <td>0.453621</td>\n",
       "    </tr>\n",
       "    <tr>\n",
       "      <th>2017-03-31</th>\n",
       "      <td>2017-3</td>\n",
       "      <td>0.459944</td>\n",
       "    </tr>\n",
       "    <tr>\n",
       "      <th>2017-04-30</th>\n",
       "      <td>2017-4</td>\n",
       "      <td>0.476107</td>\n",
       "    </tr>\n",
       "    <tr>\n",
       "      <th>2017-05-31</th>\n",
       "      <td>2017-5</td>\n",
       "      <td>0.502551</td>\n",
       "    </tr>\n",
       "    <tr>\n",
       "      <th>2017-06-30</th>\n",
       "      <td>2017-6</td>\n",
       "      <td>0.391078</td>\n",
       "    </tr>\n",
       "  </tbody>\n",
       "</table>\n",
       "</div>"
      ],
      "text/plain": [
       "           Year_Month  NYT_republican_affliation\n",
       "datetime                                        \n",
       "2017-02-28     2017-2                   0.453621\n",
       "2017-03-31     2017-3                   0.459944\n",
       "2017-04-30     2017-4                   0.476107\n",
       "2017-05-31     2017-5                   0.502551\n",
       "2017-06-30     2017-6                   0.391078"
      ]
     },
     "execution_count": 75,
     "metadata": {},
     "output_type": "execute_result"
    }
   ],
   "source": [
    "NYT_monthlymean_df['Date'] = NYT_monthlymean_df.index.date\n",
    "NYT_monthlymean_df['Year'] = NYT_monthlymean_df.index.year\n",
    "NYT_monthlymean_df['Month'] = NYT_monthlymean_df.index.month\n",
    "NYT_monthlymean_df['Day'] = NYT_monthlymean_df.index.day\n",
    "NYT_monthlymean_df['Weekday']= NYT_monthlymean_df.index.weekday_name\n",
    "NYT_monthlymean_df['Year_Month']= NYT_monthlymean_df.Year.astype(str) + '-'+ NYT_monthlymean_df.Month.astype(str)  \n",
    "NYT_monthlymean_df['NYT_republican_affliation'] = NYT_monthlymean_df['republican_affliation']\n",
    "NYT_monthlymean_df.drop(['Date','Year','Month','Day','Weekday','republican_affliation'], axis=1, inplace=True)\n",
    "NYT_monthlymean_df.tail()"
   ]
  },
  {
   "cell_type": "code",
   "execution_count": 76,
   "metadata": {},
   "outputs": [
    {
     "data": {
      "text/plain": [
       "<Figure size 720x360 with 0 Axes>"
      ]
     },
     "execution_count": 76,
     "metadata": {},
     "output_type": "execute_result"
    },
    {
     "name": "stderr",
     "output_type": "stream",
     "text": [
      "/usr/local/lib/python3.5/dist-packages/pandas/plotting/_matplotlib/converter.py:103: FutureWarning:\n",
      "\n",
      "Using an implicitly registered datetime converter for a matplotlib plotting method. The converter was registered by pandas on import. Future versions of pandas will require you to explicitly register matplotlib converters.\n",
      "\n",
      "To register the converters:\n",
      "\t>>> from pandas.plotting import register_matplotlib_converters\n",
      "\t>>> register_matplotlib_converters()\n",
      "\n"
     ]
    },
    {
     "data": {
      "text/plain": [
       "[<matplotlib.lines.Line2D at 0x7f482f82fac8>]"
      ]
     },
     "execution_count": 76,
     "metadata": {},
     "output_type": "execute_result"
    },
    {
     "data": {
      "text/plain": [
       "Text(0.5, 1.0, 'Average Republican Affliation trend')"
      ]
     },
     "execution_count": 76,
     "metadata": {},
     "output_type": "execute_result"
    },
    {
     "data": {
      "text/plain": [
       "Text(0.5, 0, 'Time')"
      ]
     },
     "execution_count": 76,
     "metadata": {},
     "output_type": "execute_result"
    },
    {
     "data": {
      "text/plain": [
       "Text(0, 0.5, 'NYT monthly mean Republican Affliation')"
      ]
     },
     "execution_count": 76,
     "metadata": {},
     "output_type": "execute_result"
    },
    {
     "data": {
      "text/plain": [
       "<Figure size 720x360 with 0 Axes>"
      ]
     },
     "metadata": {},
     "output_type": "display_data"
    },
    {
     "data": {
      "image/png": "[encoded data removed]",
      "text/plain": [
       "<Figure size 720x360 with 1 Axes>"
      ]
     },
     "metadata": {
      "needs_background": "light"
     },
     "output_type": "display_data"
    }
   ],
   "source": [
    "start = '2016'\n",
    "end = '2018'\n",
    "fig = plt.figure(figsize = (10, 5))\n",
    "plt.figure(figsize = (10, 5))\n",
    "plt.rcParams.update({'font.size': 10})\n",
    "\n",
    "plt.plot(NYT_monthlymean_df.loc[start:end, 'NYT_republican_affliation'], marker='o', linestyle='-')\n",
    "plt.title('Average Republican Affliation trend')\n",
    "plt.xlabel('Time', fontsize=10)\n",
    "plt.ylabel('NYT monthly mean Republican Affliation', fontsize=10)\n",
    "\n",
    "#ax.xaxis.set_major_locator(mdates.WeekdayLocator(byweekday=mdates.MONDAY))\n",
    "\n"
   ]
  },
  {
   "cell_type": "code",
   "execution_count": 77,
   "metadata": {},
   "outputs": [
    {
     "data": {
      "text/html": [
       "<div>\n",
       "<style scoped>\n",
       "    .dataframe tbody tr th:only-of-type {\n",
       "        vertical-align: middle;\n",
       "    }\n",
       "\n",
       "    .dataframe tbody tr th {\n",
       "        vertical-align: top;\n",
       "    }\n",
       "\n",
       "    .dataframe thead th {\n",
       "        text-align: right;\n",
       "    }\n",
       "</style>\n",
       "<table border=\"1\" class=\"dataframe\">\n",
       "  <thead>\n",
       "    <tr style=\"text-align: right;\">\n",
       "      <th></th>\n",
       "      <th>Year_Month</th>\n",
       "      <th>CNN_republican_affliation</th>\n",
       "    </tr>\n",
       "    <tr>\n",
       "      <th>datetime</th>\n",
       "      <th></th>\n",
       "      <th></th>\n",
       "    </tr>\n",
       "  </thead>\n",
       "  <tbody>\n",
       "    <tr>\n",
       "      <th>2017-02-28</th>\n",
       "      <td>2017-2</td>\n",
       "      <td>0.516141</td>\n",
       "    </tr>\n",
       "    <tr>\n",
       "      <th>2017-03-31</th>\n",
       "      <td>2017-3</td>\n",
       "      <td>0.503509</td>\n",
       "    </tr>\n",
       "    <tr>\n",
       "      <th>2017-04-30</th>\n",
       "      <td>2017-4</td>\n",
       "      <td>0.498816</td>\n",
       "    </tr>\n",
       "    <tr>\n",
       "      <th>2017-05-31</th>\n",
       "      <td>2017-5</td>\n",
       "      <td>0.469251</td>\n",
       "    </tr>\n",
       "    <tr>\n",
       "      <th>2017-06-30</th>\n",
       "      <td>2017-6</td>\n",
       "      <td>0.505800</td>\n",
       "    </tr>\n",
       "  </tbody>\n",
       "</table>\n",
       "</div>"
      ],
      "text/plain": [
       "           Year_Month  CNN_republican_affliation\n",
       "datetime                                        \n",
       "2017-02-28     2017-2                   0.516141\n",
       "2017-03-31     2017-3                   0.503509\n",
       "2017-04-30     2017-4                   0.498816\n",
       "2017-05-31     2017-5                   0.469251\n",
       "2017-06-30     2017-6                   0.505800"
      ]
     },
     "execution_count": 77,
     "metadata": {},
     "output_type": "execute_result"
    }
   ],
   "source": [
    "CNN_df['datetime'] = pd.to_datetime(CNN_df['date'])\n",
    "CNN_df = CNN_df.set_index('datetime')\n",
    "CNN_df.drop(['title','publication','date','year','month','content','clean_content','political_affliation_pred_D0_R1','democrat_affliation'], axis=1, inplace=True)\n",
    "CNN_monthlymean_df = CNN_df.resample('M').mean()\n",
    "CNN_monthlymean_df['Year_Month'] = CNN_monthlymean_df.index.year.astype(str) + '-'+ CNN_monthlymean_df.index.month.astype(str)\n",
    "CNN_monthlymean_df['CNN_republican_affliation'] = CNN_monthlymean_df['republican_affliation']  \n",
    "CNN_monthlymean_df.drop(['republican_affliation'], axis=1, inplace=True)\n",
    "CNN_monthlymean_df.tail()\n"
   ]
  },
  {
   "cell_type": "code",
   "execution_count": 78,
   "metadata": {},
   "outputs": [
    {
     "data": {
      "text/html": [
       "<div>\n",
       "<style scoped>\n",
       "    .dataframe tbody tr th:only-of-type {\n",
       "        vertical-align: middle;\n",
       "    }\n",
       "\n",
       "    .dataframe tbody tr th {\n",
       "        vertical-align: top;\n",
       "    }\n",
       "\n",
       "    .dataframe thead th {\n",
       "        text-align: right;\n",
       "    }\n",
       "</style>\n",
       "<table border=\"1\" class=\"dataframe\">\n",
       "  <thead>\n",
       "    <tr style=\"text-align: right;\">\n",
       "      <th></th>\n",
       "      <th>Year_Month</th>\n",
       "      <th>Breitbart_republican_affliation</th>\n",
       "    </tr>\n",
       "    <tr>\n",
       "      <th>datetime</th>\n",
       "      <th></th>\n",
       "      <th></th>\n",
       "    </tr>\n",
       "  </thead>\n",
       "  <tbody>\n",
       "    <tr>\n",
       "      <th>2017-02-28</th>\n",
       "      <td>2017-2</td>\n",
       "      <td>0.524582</td>\n",
       "    </tr>\n",
       "    <tr>\n",
       "      <th>2017-03-31</th>\n",
       "      <td>2017-3</td>\n",
       "      <td>0.484721</td>\n",
       "    </tr>\n",
       "    <tr>\n",
       "      <th>2017-04-30</th>\n",
       "      <td>2017-4</td>\n",
       "      <td>0.492027</td>\n",
       "    </tr>\n",
       "    <tr>\n",
       "      <th>2017-05-31</th>\n",
       "      <td>2017-5</td>\n",
       "      <td>0.513879</td>\n",
       "    </tr>\n",
       "    <tr>\n",
       "      <th>2017-06-30</th>\n",
       "      <td>2017-6</td>\n",
       "      <td>0.467367</td>\n",
       "    </tr>\n",
       "  </tbody>\n",
       "</table>\n",
       "</div>"
      ],
      "text/plain": [
       "           Year_Month  Breitbart_republican_affliation\n",
       "datetime                                              \n",
       "2017-02-28     2017-2                         0.524582\n",
       "2017-03-31     2017-3                         0.484721\n",
       "2017-04-30     2017-4                         0.492027\n",
       "2017-05-31     2017-5                         0.513879\n",
       "2017-06-30     2017-6                         0.467367"
      ]
     },
     "execution_count": 78,
     "metadata": {},
     "output_type": "execute_result"
    }
   ],
   "source": [
    "Breitbart_df['datetime'] = pd.to_datetime(Breitbart_df['date'])\n",
    "Breitbart_df = Breitbart_df.set_index('datetime')\n",
    "Breitbart_df.drop(['title','publication','date','year','month','content','clean_content','political_affliation_pred_D0_R1','democrat_affliation'], axis=1, inplace=True)\n",
    "Breitbart_monthlymean_df = Breitbart_df.resample('M').mean()\n",
    "Breitbart_monthlymean_df['Year_Month'] = Breitbart_monthlymean_df.index.year.astype(str) + '-'+ Breitbart_monthlymean_df.index.month.astype(str)\n",
    "Breitbart_monthlymean_df['Breitbart_republican_affliation'] = Breitbart_monthlymean_df['republican_affliation']  \n",
    "Breitbart_monthlymean_df.drop(['republican_affliation'], axis=1, inplace=True)\n",
    "Breitbart_monthlymean_df.tail()\n"
   ]
  },
  {
   "cell_type": "code",
   "execution_count": 79,
   "metadata": {},
   "outputs": [
    {
     "data": {
      "text/html": [
       "<div>\n",
       "<style scoped>\n",
       "    .dataframe tbody tr th:only-of-type {\n",
       "        vertical-align: middle;\n",
       "    }\n",
       "\n",
       "    .dataframe tbody tr th {\n",
       "        vertical-align: top;\n",
       "    }\n",
       "\n",
       "    .dataframe thead th {\n",
       "        text-align: right;\n",
       "    }\n",
       "</style>\n",
       "<table border=\"1\" class=\"dataframe\">\n",
       "  <thead>\n",
       "    <tr style=\"text-align: right;\">\n",
       "      <th></th>\n",
       "      <th>Year_Month</th>\n",
       "      <th>Fox_republican_affliation</th>\n",
       "    </tr>\n",
       "    <tr>\n",
       "      <th>datetime</th>\n",
       "      <th></th>\n",
       "      <th></th>\n",
       "    </tr>\n",
       "  </thead>\n",
       "  <tbody>\n",
       "    <tr>\n",
       "      <th>2016-08-31</th>\n",
       "      <td>2016-8</td>\n",
       "      <td>0.415315</td>\n",
       "    </tr>\n",
       "    <tr>\n",
       "      <th>2016-09-30</th>\n",
       "      <td>2016-9</td>\n",
       "      <td>0.420108</td>\n",
       "    </tr>\n",
       "    <tr>\n",
       "      <th>2016-10-31</th>\n",
       "      <td>2016-10</td>\n",
       "      <td>0.449203</td>\n",
       "    </tr>\n",
       "    <tr>\n",
       "      <th>2016-11-30</th>\n",
       "      <td>2016-11</td>\n",
       "      <td>0.478792</td>\n",
       "    </tr>\n",
       "    <tr>\n",
       "      <th>2016-12-31</th>\n",
       "      <td>2016-12</td>\n",
       "      <td>0.472484</td>\n",
       "    </tr>\n",
       "  </tbody>\n",
       "</table>\n",
       "</div>"
      ],
      "text/plain": [
       "           Year_Month  Fox_republican_affliation\n",
       "datetime                                        \n",
       "2016-08-31     2016-8                   0.415315\n",
       "2016-09-30     2016-9                   0.420108\n",
       "2016-10-31    2016-10                   0.449203\n",
       "2016-11-30    2016-11                   0.478792\n",
       "2016-12-31    2016-12                   0.472484"
      ]
     },
     "execution_count": 79,
     "metadata": {},
     "output_type": "execute_result"
    }
   ],
   "source": [
    "Fox_df['datetime'] = pd.to_datetime(Fox_df['date'])\n",
    "Fox_df = Fox_df.set_index('datetime')\n",
    "Fox_df.drop(['title','publication','date','year','month','content','clean_content','political_affliation_pred_D0_R1','democrat_affliation'], axis=1, inplace=True)\n",
    "Fox_monthlymean_df = Fox_df.resample('M').mean()\n",
    "Fox_monthlymean_df['Year_Month'] = Fox_monthlymean_df.index.year.astype(str) + '-'+ Fox_monthlymean_df.index.month.astype(str)\n",
    "Fox_monthlymean_df['Fox_republican_affliation'] = Fox_monthlymean_df['republican_affliation']  \n",
    "Fox_monthlymean_df.drop(['republican_affliation'], axis=1, inplace=True)\n",
    "Fox_monthlymean_df.tail()\n"
   ]
  },
  {
   "cell_type": "code",
   "execution_count": 80,
   "metadata": {},
   "outputs": [
    {
     "data": {
      "text/html": [
       "<div>\n",
       "<style scoped>\n",
       "    .dataframe tbody tr th:only-of-type {\n",
       "        vertical-align: middle;\n",
       "    }\n",
       "\n",
       "    .dataframe tbody tr th {\n",
       "        vertical-align: top;\n",
       "    }\n",
       "\n",
       "    .dataframe thead th {\n",
       "        text-align: right;\n",
       "    }\n",
       "</style>\n",
       "<table border=\"1\" class=\"dataframe\">\n",
       "  <thead>\n",
       "    <tr style=\"text-align: right;\">\n",
       "      <th></th>\n",
       "      <th>Year_Month</th>\n",
       "      <th>Washington_Post_republican_affliation</th>\n",
       "    </tr>\n",
       "    <tr>\n",
       "      <th>datetime</th>\n",
       "      <th></th>\n",
       "      <th></th>\n",
       "    </tr>\n",
       "  </thead>\n",
       "  <tbody>\n",
       "    <tr>\n",
       "      <th>2017-03-31</th>\n",
       "      <td>2017-3</td>\n",
       "      <td>0.467325</td>\n",
       "    </tr>\n",
       "    <tr>\n",
       "      <th>2017-04-30</th>\n",
       "      <td>2017-4</td>\n",
       "      <td>0.465894</td>\n",
       "    </tr>\n",
       "    <tr>\n",
       "      <th>2017-05-31</th>\n",
       "      <td>2017-5</td>\n",
       "      <td>0.490286</td>\n",
       "    </tr>\n",
       "    <tr>\n",
       "      <th>2017-06-30</th>\n",
       "      <td>2017-6</td>\n",
       "      <td>0.492118</td>\n",
       "    </tr>\n",
       "    <tr>\n",
       "      <th>2017-07-31</th>\n",
       "      <td>2017-7</td>\n",
       "      <td>0.449642</td>\n",
       "    </tr>\n",
       "  </tbody>\n",
       "</table>\n",
       "</div>"
      ],
      "text/plain": [
       "           Year_Month  Washington_Post_republican_affliation\n",
       "datetime                                                    \n",
       "2017-03-31     2017-3                               0.467325\n",
       "2017-04-30     2017-4                               0.465894\n",
       "2017-05-31     2017-5                               0.490286\n",
       "2017-06-30     2017-6                               0.492118\n",
       "2017-07-31     2017-7                               0.449642"
      ]
     },
     "execution_count": 80,
     "metadata": {},
     "output_type": "execute_result"
    }
   ],
   "source": [
    "Washington_Post_df['datetime'] = pd.to_datetime(Washington_Post_df['date'])\n",
    "Washington_Post_df = Washington_Post_df.set_index('datetime')\n",
    "Washington_Post_df.drop(['title','publication','date','year','month','content','clean_content','political_affliation_pred_D0_R1','democrat_affliation'], axis=1, inplace=True)\n",
    "Washington_Post_monthlymean_df = Washington_Post_df.resample('M').mean()\n",
    "Washington_Post_monthlymean_df['Year_Month'] = Washington_Post_monthlymean_df.index.year.astype(str) + '-'+ Washington_Post_monthlymean_df.index.month.astype(str)\n",
    "Washington_Post_monthlymean_df['Washington_Post_republican_affliation'] = Washington_Post_monthlymean_df['republican_affliation']  \n",
    "Washington_Post_monthlymean_df.drop(['republican_affliation'], axis=1, inplace=True)\n",
    "Washington_Post_monthlymean_df.tail()\n"
   ]
  },
  {
   "cell_type": "code",
   "execution_count": 81,
   "metadata": {},
   "outputs": [],
   "source": [
    "d1_df  = pd.merge(NYT_monthlymean_df, CNN_monthlymean_df, on='Year_Month', how='outer')\n",
    "d2_df = pd.merge(Washington_Post_monthlymean_df,d1_df, on='Year_Month', how='outer')\n",
    "d3_df = pd.merge(Breitbart_monthlymean_df,d2_df, on='Year_Month', how='outer')\n",
    "News_monthlymean_df = pd.merge(Fox_monthlymean_df,d3_df, on='Year_Month', how='outer')\n",
    "News_monthlymean_df['datetime'] = pd.to_datetime(News_monthlymean_df['Year_Month'])\n",
    "News_monthlymean_df = News_monthlymean_df.set_index('datetime')"
   ]
  },
  {
   "cell_type": "code",
   "execution_count": 82,
   "metadata": {},
   "outputs": [
    {
     "data": {
      "text/html": [
       "<div>\n",
       "<style scoped>\n",
       "    .dataframe tbody tr th:only-of-type {\n",
       "        vertical-align: middle;\n",
       "    }\n",
       "\n",
       "    .dataframe tbody tr th {\n",
       "        vertical-align: top;\n",
       "    }\n",
       "\n",
       "    .dataframe thead th {\n",
       "        text-align: right;\n",
       "    }\n",
       "</style>\n",
       "<table border=\"1\" class=\"dataframe\">\n",
       "  <thead>\n",
       "    <tr style=\"text-align: right;\">\n",
       "      <th></th>\n",
       "      <th>Year_Month</th>\n",
       "      <th>Fox_republican_affliation</th>\n",
       "      <th>Breitbart_republican_affliation</th>\n",
       "      <th>Washington_Post_republican_affliation</th>\n",
       "      <th>NYT_republican_affliation</th>\n",
       "      <th>CNN_republican_affliation</th>\n",
       "    </tr>\n",
       "    <tr>\n",
       "      <th>datetime</th>\n",
       "      <th></th>\n",
       "      <th></th>\n",
       "      <th></th>\n",
       "      <th></th>\n",
       "      <th></th>\n",
       "      <th></th>\n",
       "    </tr>\n",
       "  </thead>\n",
       "  <tbody>\n",
       "    <tr>\n",
       "      <th>2004-06-01</th>\n",
       "      <td>2004-6</td>\n",
       "      <td>0.994073</td>\n",
       "      <td>NaN</td>\n",
       "      <td>NaN</td>\n",
       "      <td>NaN</td>\n",
       "      <td>NaN</td>\n",
       "    </tr>\n",
       "    <tr>\n",
       "      <th>2004-07-01</th>\n",
       "      <td>2004-7</td>\n",
       "      <td>NaN</td>\n",
       "      <td>NaN</td>\n",
       "      <td>NaN</td>\n",
       "      <td>NaN</td>\n",
       "      <td>NaN</td>\n",
       "    </tr>\n",
       "    <tr>\n",
       "      <th>2004-08-01</th>\n",
       "      <td>2004-8</td>\n",
       "      <td>NaN</td>\n",
       "      <td>NaN</td>\n",
       "      <td>NaN</td>\n",
       "      <td>NaN</td>\n",
       "      <td>NaN</td>\n",
       "    </tr>\n",
       "    <tr>\n",
       "      <th>2004-09-01</th>\n",
       "      <td>2004-9</td>\n",
       "      <td>NaN</td>\n",
       "      <td>NaN</td>\n",
       "      <td>NaN</td>\n",
       "      <td>NaN</td>\n",
       "      <td>NaN</td>\n",
       "    </tr>\n",
       "    <tr>\n",
       "      <th>2004-10-01</th>\n",
       "      <td>2004-10</td>\n",
       "      <td>NaN</td>\n",
       "      <td>NaN</td>\n",
       "      <td>NaN</td>\n",
       "      <td>NaN</td>\n",
       "      <td>NaN</td>\n",
       "    </tr>\n",
       "  </tbody>\n",
       "</table>\n",
       "</div>"
      ],
      "text/plain": [
       "           Year_Month  Fox_republican_affliation  \\\n",
       "datetime                                           \n",
       "2004-06-01     2004-6                   0.994073   \n",
       "2004-07-01     2004-7                        NaN   \n",
       "2004-08-01     2004-8                        NaN   \n",
       "2004-09-01     2004-9                        NaN   \n",
       "2004-10-01    2004-10                        NaN   \n",
       "\n",
       "            Breitbart_republican_affliation  \\\n",
       "datetime                                      \n",
       "2004-06-01                              NaN   \n",
       "2004-07-01                              NaN   \n",
       "2004-08-01                              NaN   \n",
       "2004-09-01                              NaN   \n",
       "2004-10-01                              NaN   \n",
       "\n",
       "            Washington_Post_republican_affliation  NYT_republican_affliation  \\\n",
       "datetime                                                                       \n",
       "2004-06-01                                    NaN                        NaN   \n",
       "2004-07-01                                    NaN                        NaN   \n",
       "2004-08-01                                    NaN                        NaN   \n",
       "2004-09-01                                    NaN                        NaN   \n",
       "2004-10-01                                    NaN                        NaN   \n",
       "\n",
       "            CNN_republican_affliation  \n",
       "datetime                               \n",
       "2004-06-01                        NaN  \n",
       "2004-07-01                        NaN  \n",
       "2004-08-01                        NaN  \n",
       "2004-09-01                        NaN  \n",
       "2004-10-01                        NaN  "
      ]
     },
     "execution_count": 82,
     "metadata": {},
     "output_type": "execute_result"
    }
   ],
   "source": [
    "News_monthlymean_df.head()"
   ]
  },
  {
   "cell_type": "code",
   "execution_count": 83,
   "metadata": {},
   "outputs": [
    {
     "data": {
      "text/plain": [
       "<Figure size 720x360 with 0 Axes>"
      ]
     },
     "execution_count": 83,
     "metadata": {},
     "output_type": "execute_result"
    },
    {
     "data": {
      "text/plain": [
       "[<matplotlib.lines.Line2D at 0x7f482f7886a0>]"
      ]
     },
     "execution_count": 83,
     "metadata": {},
     "output_type": "execute_result"
    },
    {
     "data": {
      "text/plain": [
       "Text(0.5, 0, 'Time')"
      ]
     },
     "execution_count": 83,
     "metadata": {},
     "output_type": "execute_result"
    },
    {
     "data": {
      "text/plain": [
       "Text(0, 0.5, 'NYT monthly mean Republican Affliation')"
      ]
     },
     "execution_count": 83,
     "metadata": {},
     "output_type": "execute_result"
    },
    {
     "data": {
      "text/plain": [
       "<Figure size 720x360 with 0 Axes>"
      ]
     },
     "metadata": {},
     "output_type": "display_data"
    },
    {
     "data": {
      "image/png": "[encoded data removed]",
      "text/plain": [
       "<Figure size 720x360 with 1 Axes>"
      ]
     },
     "metadata": {
      "needs_background": "light"
     },
     "output_type": "display_data"
    }
   ],
   "source": [
    "fig = plt.figure(figsize = (10, 5))\n",
    "plt.figure(figsize = (10, 5))\n",
    "plt.rcParams.update({'font.size': 10})\n",
    "ax = plt\n",
    "ax.plot(News_monthlymean_df.loc['2016-01':'2017-08', 'NYT_republican_affliation'], marker='o', linestyle='-')\n",
    "plt.xlabel('Time', fontsize=10)\n",
    "plt.ylabel('NYT monthly mean Republican Affliation', fontsize=10)\n",
    "\n"
   ]
  },
  {
   "cell_type": "code",
   "execution_count": 84,
   "metadata": {},
   "outputs": [
    {
     "data": {
      "text/plain": [
       "<Figure size 720x360 with 0 Axes>"
      ]
     },
     "execution_count": 84,
     "metadata": {},
     "output_type": "execute_result"
    },
    {
     "data": {
      "text/plain": [
       "Text(0.5, 0, 'Time')"
      ]
     },
     "execution_count": 84,
     "metadata": {},
     "output_type": "execute_result"
    },
    {
     "data": {
      "text/plain": [
       "Text(0, 0.5, 'Monthly mean Republican Affliation across different media publishers')"
      ]
     },
     "execution_count": 84,
     "metadata": {},
     "output_type": "execute_result"
    },
    {
     "data": {
      "text/plain": [
       "<Figure size 720x360 with 0 Axes>"
      ]
     },
     "metadata": {},
     "output_type": "display_data"
    },
    {
     "data": {
      "text/plain": [
       "<Figure size 720x360 with 0 Axes>"
      ]
     },
     "metadata": {},
     "output_type": "display_data"
    },
    {
     "data": {
      "image/png": "[encoded data removed]",
      "text/plain": [
       "<Figure size 1440x648 with 1 Axes>"
      ]
     },
     "metadata": {
      "needs_background": "light"
     },
     "output_type": "display_data"
    }
   ],
   "source": [
    "fig = plt.figure(figsize = (10, 5))\n",
    "plt.figure(figsize = (10, 5))\n",
    "plt.rcParams.update({'font.size': 15})\n",
    "cols_plot = ['Fox_republican_affliation', 'Breitbart_republican_affliation', 'Washington_Post_republican_affliation','NYT_republican_affliation','CNN_republican_affliation']\n",
    "axes = News_monthlymean_df.loc['2016':'2018'][cols_plot].plot(marker='o', linestyle='-', figsize=(20, 9), subplots=False)\n",
    "plt.xlabel('Time', fontsize=12)\n",
    "plt.ylabel('Monthly mean Republican Affliation across different media publishers', fontsize=12)\n",
    "\n"
   ]
  },
  {
   "cell_type": "code",
   "execution_count": 85,
   "metadata": {},
   "outputs": [
    {
     "data": {
      "text/plain": [
       "<Figure size 1440x720 with 0 Axes>"
      ]
     },
     "execution_count": 85,
     "metadata": {},
     "output_type": "execute_result"
    },
    {
     "data": {
      "text/html": [
       "<div>\n",
       "<style scoped>\n",
       "    .dataframe tbody tr th:only-of-type {\n",
       "        vertical-align: middle;\n",
       "    }\n",
       "\n",
       "    .dataframe tbody tr th {\n",
       "        vertical-align: top;\n",
       "    }\n",
       "\n",
       "    .dataframe thead th {\n",
       "        text-align: right;\n",
       "    }\n",
       "</style>\n",
       "<table border=\"1\" class=\"dataframe\">\n",
       "  <thead>\n",
       "    <tr style=\"text-align: right;\">\n",
       "      <th></th>\n",
       "      <th>republican_affliation</th>\n",
       "      <th>Date</th>\n",
       "      <th>Year</th>\n",
       "      <th>Month</th>\n",
       "      <th>Day</th>\n",
       "      <th>Weekday</th>\n",
       "      <th>Year_Month</th>\n",
       "    </tr>\n",
       "    <tr>\n",
       "      <th>datetime</th>\n",
       "      <th></th>\n",
       "      <th></th>\n",
       "      <th></th>\n",
       "      <th></th>\n",
       "      <th></th>\n",
       "      <th></th>\n",
       "      <th></th>\n",
       "    </tr>\n",
       "  </thead>\n",
       "  <tbody>\n",
       "    <tr>\n",
       "      <th>2017-06-15</th>\n",
       "      <td>0.024568</td>\n",
       "      <td>2017-06-15</td>\n",
       "      <td>2017</td>\n",
       "      <td>6</td>\n",
       "      <td>15</td>\n",
       "      <td>Thursday</td>\n",
       "      <td>2017-6</td>\n",
       "    </tr>\n",
       "    <tr>\n",
       "      <th>2017-06-16</th>\n",
       "      <td>0.863130</td>\n",
       "      <td>2017-06-16</td>\n",
       "      <td>2017</td>\n",
       "      <td>6</td>\n",
       "      <td>16</td>\n",
       "      <td>Friday</td>\n",
       "      <td>2017-6</td>\n",
       "    </tr>\n",
       "    <tr>\n",
       "      <th>2017-06-17</th>\n",
       "      <td>NaN</td>\n",
       "      <td>2017-06-17</td>\n",
       "      <td>2017</td>\n",
       "      <td>6</td>\n",
       "      <td>17</td>\n",
       "      <td>Saturday</td>\n",
       "      <td>2017-6</td>\n",
       "    </tr>\n",
       "    <tr>\n",
       "      <th>2017-06-18</th>\n",
       "      <td>NaN</td>\n",
       "      <td>2017-06-18</td>\n",
       "      <td>2017</td>\n",
       "      <td>6</td>\n",
       "      <td>18</td>\n",
       "      <td>Sunday</td>\n",
       "      <td>2017-6</td>\n",
       "    </tr>\n",
       "    <tr>\n",
       "      <th>2017-06-19</th>\n",
       "      <td>0.334028</td>\n",
       "      <td>2017-06-19</td>\n",
       "      <td>2017</td>\n",
       "      <td>6</td>\n",
       "      <td>19</td>\n",
       "      <td>Monday</td>\n",
       "      <td>2017-6</td>\n",
       "    </tr>\n",
       "  </tbody>\n",
       "</table>\n",
       "</div>"
      ],
      "text/plain": [
       "            republican_affliation        Date  Year  Month  Day   Weekday  \\\n",
       "datetime                                                                    \n",
       "2017-06-15               0.024568  2017-06-15  2017      6   15  Thursday   \n",
       "2017-06-16               0.863130  2017-06-16  2017      6   16    Friday   \n",
       "2017-06-17                    NaN  2017-06-17  2017      6   17  Saturday   \n",
       "2017-06-18                    NaN  2017-06-18  2017      6   18    Sunday   \n",
       "2017-06-19               0.334028  2017-06-19  2017      6   19    Monday   \n",
       "\n",
       "           Year_Month  \n",
       "datetime               \n",
       "2017-06-15     2017-6  \n",
       "2017-06-16     2017-6  \n",
       "2017-06-17     2017-6  \n",
       "2017-06-18     2017-6  \n",
       "2017-06-19     2017-6  "
      ]
     },
     "execution_count": 85,
     "metadata": {},
     "output_type": "execute_result"
    },
    {
     "data": {
      "text/plain": [
       "<matplotlib.axes._subplots.AxesSubplot at 0x7f482f733a90>"
      ]
     },
     "execution_count": 85,
     "metadata": {},
     "output_type": "execute_result"
    },
    {
     "data": {
      "text/plain": [
       "Text(0.5, 1.0, 'Range of Monthly Republican Affliations in NYT')"
      ]
     },
     "execution_count": 85,
     "metadata": {},
     "output_type": "execute_result"
    },
    {
     "data": {
      "text/plain": [
       "Text(0, 0.5, 'Monthly Republican Affliations in NYT ')"
      ]
     },
     "execution_count": 85,
     "metadata": {},
     "output_type": "execute_result"
    },
    {
     "data": {
      "text/plain": [
       "<Figure size 1440x720 with 0 Axes>"
      ]
     },
     "metadata": {},
     "output_type": "display_data"
    },
    {
     "data": {
      "text/plain": [
       "<Figure size 1440x720 with 0 Axes>"
      ]
     },
     "metadata": {},
     "output_type": "display_data"
    },
    {
     "data": {
      "image/png": "[encoded data removed]",
      "text/plain": [
       "<Figure size 1440x720 with 1 Axes>"
      ]
     },
     "metadata": {
      "needs_background": "light"
     },
     "output_type": "display_data"
    }
   ],
   "source": [
    "#Bar plot for monthly range of daily Republican affliations\n",
    "fig = plt.figure(figsize = (20, 10))\n",
    "plt.figure(figsize = (20, 10))\n",
    "plt.rcParams.update({'font.size': 15})\n",
    "NYT_dailymean_df = NYT_df.resample('D').mean()\n",
    "NYT_dailymean_df['Date'] = NYT_dailymean_df.index.date\n",
    "NYT_dailymean_df['Year'] = NYT_dailymean_df.index.year\n",
    "NYT_dailymean_df['Month'] = NYT_dailymean_df.index.month\n",
    "NYT_dailymean_df['Day'] = NYT_dailymean_df.index.day\n",
    "NYT_dailymean_df['Weekday']= NYT_dailymean_df.index.weekday_name\n",
    "NYT_dailymean_df['Year_Month']= df['var3'] = NYT_dailymean_df.Year.astype(str) + '-'+ NYT_dailymean_df.Month.astype(str)  \n",
    "NYT_dailymean_df['republican_affliation'] = NYT_dailymean_df['republican_affliation']\n",
    "NYT_dailymean_df.tail()\n",
    "ax = plt.figure(figsize=(20,10))\n",
    "sns.boxplot(data=NYT_dailymean_df.loc['2016-01':'2017-08'], x='Year_Month', y='republican_affliation');\n",
    "#ax.set_title('tt')\n",
    "plt.title('Range of Monthly Republican Affliations in NYT' , fontsize =18)\n",
    "#plt.xlabel('Time', fontsize=18)\n",
    "plt.ylabel('Monthly Republican Affliations in NYT ', fontsize=18)\n",
    "\n"
   ]
  },
  {
   "cell_type": "code",
   "execution_count": null,
   "metadata": {},
   "outputs": [],
   "source": []
  }
 ],
 "metadata": {
  "kernelspec": {
   "display_name": "Python 3",
   "language": "python",
   "name": "python3"
  },
  "language_info": {
   "codemirror_mode": {
    "name": "ipython",
    "version": 3
   },
   "file_extension": ".py",
   "mimetype": "text/x-python",
   "name": "python",
   "nbconvert_exporter": "python",
   "pygments_lexer": "ipython3",
   "version": "3.5.3"
  }
 },
 "nbformat": 4,
 "nbformat_minor": 2
}
